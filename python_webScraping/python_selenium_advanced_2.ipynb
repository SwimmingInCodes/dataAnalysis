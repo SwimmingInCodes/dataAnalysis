{
 "cells": [
  {
   "cell_type": "markdown",
   "id": "7b70501b",
   "metadata": {},
   "source": [
    "<h1>Selenium Advaced_2</h1>\n",
    "\n",
    "\n",
    "- Download all the photos by scrolling down the webpage"
   ]
  },
  {
   "cell_type": "code",
   "execution_count": 1,
   "id": "ddaf12b8",
   "metadata": {},
   "outputs": [],
   "source": [
    "import pandas as pd\n",
    "import time\n",
    "\n",
    "from selenium import webdriver\n",
    "from selenium.webdriver.common.keys import Keys\n",
    "from selenium.webdriver.common.by import By\n",
    "from selenium.webdriver.support.ui import WebDriverWait\n",
    "from selenium.webdriver.support import expected_conditions as EC\n",
    "from selenium.webdriver.support.ui import Select\n",
    "\n",
    "import urllib.request\n",
    "\n",
    "from webdriver_manager.chrome import ChromeDriverManager\n"
   ]
  },
  {
   "cell_type": "code",
   "execution_count": 2,
   "id": "a622795f",
   "metadata": {},
   "outputs": [
    {
     "name": "stdout",
     "output_type": "stream",
     "text": [
      "\n"
     ]
    },
    {
     "name": "stderr",
     "output_type": "stream",
     "text": [
      "[WDM] - ====== WebDriver manager ======\n"
     ]
    },
    {
     "name": "stdout",
     "output_type": "stream",
     "text": [
      "2022-07-09 22:03:16,216 INFO ====== WebDriver manager ======\n"
     ]
    },
    {
     "name": "stderr",
     "output_type": "stream",
     "text": [
      "[WDM] - Current google-chrome version is 103.0.5060\n"
     ]
    },
    {
     "name": "stdout",
     "output_type": "stream",
     "text": [
      "2022-07-09 22:03:16,221 INFO Current google-chrome version is 103.0.5060\n"
     ]
    },
    {
     "name": "stderr",
     "output_type": "stream",
     "text": [
      "[WDM] - Get LATEST chromedriver version for 103.0.5060 google-chrome\n"
     ]
    },
    {
     "name": "stdout",
     "output_type": "stream",
     "text": [
      "2022-07-09 22:03:16,223 INFO Get LATEST chromedriver version for 103.0.5060 google-chrome\n"
     ]
    },
    {
     "name": "stderr",
     "output_type": "stream",
     "text": [
      "[WDM] - Driver [C:\\Users\\Kwang-Chul Kwon\\.wdm\\drivers\\chromedriver\\win32\\103.0.5060.53\\chromedriver.exe] found in cache\n"
     ]
    },
    {
     "name": "stdout",
     "output_type": "stream",
     "text": [
      "2022-07-09 22:03:16,348 INFO Driver [C:\\Users\\Kwang-Chul Kwon\\.wdm\\drivers\\chromedriver\\win32\\103.0.5060.53\\chromedriver.exe] found in cache\n"
     ]
    },
    {
     "name": "stderr",
     "output_type": "stream",
     "text": [
      "C:\\Users\\Kwang-Chul Kwon\\AppData\\Local\\Temp\\ipykernel_9392\\365059496.py:1: DeprecationWarning: executable_path has been deprecated, please pass in a Service object\n",
      "  driver=webdriver.Chrome(ChromeDriverManager().install())\n"
     ]
    }
   ],
   "source": [
    "driver=webdriver.Chrome(ChromeDriverManager().install())"
   ]
  },
  {
   "cell_type": "code",
   "execution_count": 3,
   "id": "d4bcbe17",
   "metadata": {},
   "outputs": [],
   "source": [
    "driver.get('https://www.google.com/imghp?hl=en&ogbl')"
   ]
  },
  {
   "cell_type": "code",
   "execution_count": 4,
   "id": "ca3186a3",
   "metadata": {},
   "outputs": [],
   "source": [
    "# find the search window\n",
    "elem=driver.find_element(By.NAME, 'q')"
   ]
  },
  {
   "cell_type": "code",
   "execution_count": 5,
   "id": "dac86ac7",
   "metadata": {},
   "outputs": [],
   "source": [
    "# type in search keyword\n",
    "elem.send_keys(\"Son Heung-min\")"
   ]
  },
  {
   "cell_type": "code",
   "execution_count": 6,
   "id": "ce054b36",
   "metadata": {},
   "outputs": [],
   "source": [
    "# hit Enter key\n",
    "elem.send_keys(Keys.RETURN)"
   ]
  },
  {
   "cell_type": "code",
   "execution_count": 7,
   "id": "4198c114",
   "metadata": {},
   "outputs": [
    {
     "ename": "KeyboardInterrupt",
     "evalue": "",
     "output_type": "error",
     "traceback": [
      "\u001b[1;31m---------------------------------------------------------------------------\u001b[0m",
      "\u001b[1;31mKeyboardInterrupt\u001b[0m                         Traceback (most recent call last)",
      "Input \u001b[1;32mIn [7]\u001b[0m, in \u001b[0;36m<cell line: 14>\u001b[1;34m()\u001b[0m\n\u001b[0;32m     14\u001b[0m driver\u001b[38;5;241m.\u001b[39mexecute_script(\u001b[38;5;124m\"\u001b[39m\u001b[38;5;124mwindow.scrollTo(0, document.body.scrollHeight);\u001b[39m\u001b[38;5;124m\"\u001b[39m) \u001b[38;5;66;03m# scroll all the way down to the bottom of the browser\u001b[39;00m\n\u001b[0;32m     16\u001b[0m \u001b[38;5;66;03m# Wait to load page\u001b[39;00m\n\u001b[1;32m---> 17\u001b[0m \u001b[43mtime\u001b[49m\u001b[38;5;241;43m.\u001b[39;49m\u001b[43msleep\u001b[49m\u001b[43m(\u001b[49m\u001b[43mSCROLL_PAUSE_TIME\u001b[49m\u001b[43m)\u001b[49m\n\u001b[0;32m     19\u001b[0m \u001b[38;5;66;03m# Calculate new scroll height and compare with last scroll height\u001b[39;00m\n\u001b[0;32m     20\u001b[0m new_height \u001b[38;5;241m=\u001b[39m driver\u001b[38;5;241m.\u001b[39mexecute_script(\u001b[38;5;124m\"\u001b[39m\u001b[38;5;124mreturn document.body.scrollHeight\u001b[39m\u001b[38;5;124m\"\u001b[39m) \u001b[38;5;66;03m# assign the calculated value for browser height to the new_height variable\u001b[39;00m\n",
      "\u001b[1;31mKeyboardInterrupt\u001b[0m: "
     ]
    }
   ],
   "source": [
    "# if we scroll the page then more images show up so the downloading images no longer proceed without scrolling\n",
    "# we alson click the button \"Show more results\"\n",
    "\n",
    "# fisrt we collect all the phots by scrolling down\n",
    "\n",
    "\n",
    "SCROLL_PAUSE_TIME = 2\n",
    "\n",
    "# Get scroll height\n",
    "last_height = driver.execute_script(\"return document.body.scrollHeight\") # get the height of the browser\n",
    "\n",
    "while True:\n",
    "    # Scroll down to bottom\n",
    "    driver.execute_script(\"window.scrollTo(0, document.body.scrollHeight);\") # scroll all the way down to the bottom of the browser\n",
    "\n",
    "    # Wait to load page\n",
    "    time.sleep(SCROLL_PAUSE_TIME)\n",
    "\n",
    "    # Calculate new scroll height and compare with last scroll height\n",
    "    new_height = driver.execute_script(\"return document.body.scrollHeight\") # assign the calculated value for browser height to the new_height variable\n",
    "    if last_height == new_height:\n",
    "        # Then click the button \"Show more results\"\n",
    "        try:\n",
    "            driver.find_element(By.CLASS_NAME, 'mye4qd').click()\n",
    "        except:\n",
    "            break\n",
    "    last_height = new_height"
   ]
  },
  {
   "cell_type": "code",
   "execution_count": null,
   "id": "59c8553c",
   "metadata": {
    "scrolled": false
   },
   "outputs": [],
   "source": [
    "images=driver.find_elements(By.CLASS_NAME, \"rg_i.Q4LuWd\")\n",
    "\n",
    "print(len(images))\n",
    "\n",
    "for i in range(len(images)):\n",
    "    try:\n",
    "        images[i].click()\n",
    "    except:\n",
    "        continue\n",
    "    try:\n",
    "        image_url=driver.find_element(By.CLASS_NAME, \"n3VNCb.KAlRDb\").get_attribute('src')\n",
    "    except:\n",
    "        pass\n",
    "    \n",
    "    time.sleep(1)\n",
    "    try:\n",
    "        urllib.request.urlretrieve(image_url, f'{i}.png')\n",
    "        \n",
    "    except:\n",
    "        pass\n",
    "    \n",
    "    \n",
    "driver.close()"
   ]
  },
  {
   "cell_type": "code",
   "execution_count": null,
   "id": "b713e341",
   "metadata": {},
   "outputs": [],
   "source": []
  },
  {
   "cell_type": "code",
   "execution_count": null,
   "id": "bc1a01e7",
   "metadata": {},
   "outputs": [],
   "source": []
  },
  {
   "cell_type": "code",
   "execution_count": null,
   "id": "847ee4bf",
   "metadata": {},
   "outputs": [],
   "source": []
  },
  {
   "cell_type": "code",
   "execution_count": null,
   "id": "5c29e322",
   "metadata": {},
   "outputs": [],
   "source": []
  },
  {
   "cell_type": "code",
   "execution_count": null,
   "id": "15ca0f57",
   "metadata": {},
   "outputs": [],
   "source": []
  }
 ],
 "metadata": {
  "kernelspec": {
   "display_name": "Python 3",
   "language": "python",
   "name": "python3"
  },
  "language_info": {
   "codemirror_mode": {
    "name": "ipython",
    "version": 3
   },
   "file_extension": ".py",
   "mimetype": "text/x-python",
   "name": "python",
   "nbconvert_exporter": "python",
   "pygments_lexer": "ipython3",
   "version": "3.9.12"
  }
 },
 "nbformat": 4,
 "nbformat_minor": 5
}
