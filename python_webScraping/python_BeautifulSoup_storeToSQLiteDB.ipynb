{
 "cells": [
  {
   "cell_type": "markdown",
   "id": "08b81560",
   "metadata": {},
   "source": [
    "# Webscrpping ans storing to database"
   ]
  },
  {
   "cell_type": "markdown",
   "id": "72b76782",
   "metadata": {},
   "source": [
    "<h2> Web scrapping and store the info into our db </h2>"
   ]
  },
  {
   "cell_type": "code",
   "execution_count": 1,
   "id": "ec88d9b0",
   "metadata": {},
   "outputs": [],
   "source": [
    "import sqlite3\n",
    "import requests\n",
    "from bs4 import BeautifulSoup\n",
    "from pprint import pprint"
   ]
  },
  {
   "cell_type": "markdown",
   "id": "83624f3d",
   "metadata": {},
   "source": [
    "<h3> Create db and connect to it</h3>\n",
    "\n",
    "**Add the priamry key to 'title', which serves as a constriant and will prevent any repeated duplicate input when getting the code executed multiple times**"
   ]
  },
  {
   "cell_type": "code",
   "execution_count": 2,
   "id": "98c276bd",
   "metadata": {},
   "outputs": [
    {
     "data": {
      "text/plain": [
       "<sqlite3.Cursor at 0x2326a9c8f80>"
      ]
     },
     "execution_count": 2,
     "metadata": {},
     "output_type": "execute_result"
    }
   ],
   "source": [
    "con=sqlite3.connect('books.db') # if the db does not exist, then it will be automatically created\n",
    "\n",
    "cur=con.cursor()\n",
    "\n",
    "cur.execute(\"\"\" CREATE TABLE IF NOT EXISTS books\n",
    "                (title text PRIMARY KEY,\n",
    "                price real,\n",
    "                stock text)\"\"\")"
   ]
  },
  {
   "cell_type": "markdown",
   "id": "13bb8667",
   "metadata": {},
   "source": [
    "<h3> Collecting data from a single website </h3>"
   ]
  },
  {
   "cell_type": "code",
   "execution_count": 3,
   "id": "2d5989d7",
   "metadata": {},
   "outputs": [
    {
     "name": "stdout",
     "output_type": "stream",
     "text": [
      "[('A Light in the ...', 51.77, 'In stock'),\n",
      " ('Tipping the Velvet', 53.74, 'In stock'),\n",
      " ('Soumission', 50.1, 'In stock'),\n",
      " ('Sharp Objects', 47.82, 'In stock'),\n",
      " ('Sapiens: A Brief History ...', 54.23, 'In stock'),\n",
      " ('The Requiem Red', 22.65, 'In stock'),\n",
      " ('The Dirty Little Secrets ...', 33.34, 'In stock'),\n",
      " ('The Coming Woman: A ...', 17.93, 'In stock'),\n",
      " ('The Boys in the ...', 22.6, 'In stock'),\n",
      " ('The Black Maria', 52.15, 'In stock'),\n",
      " ('Starving Hearts (Triangular Trade ...', 13.99, 'In stock'),\n",
      " (\"Shakespeare's Sonnets\", 20.66, 'In stock'),\n",
      " ('Set Me Free', 17.46, 'In stock'),\n",
      " (\"Scott Pilgrim's Precious Little ...\", 52.29, 'In stock'),\n",
      " ('Rip it Up and ...', 35.02, 'In stock'),\n",
      " ('Our Band Could Be ...', 57.25, 'In stock'),\n",
      " ('Olio', 23.88, 'In stock'),\n",
      " ('Mesaerion: The Best Science ...', 37.59, 'In stock'),\n",
      " ('Libertarianism for Beginners', 51.33, 'In stock'),\n",
      " (\"It's Only the Himalayas\", 45.17, 'In stock')]\n"
     ]
    }
   ],
   "source": [
    "# no pagination in this example\n",
    "\n",
    "url = 'https://books.toscrape.com/'\n",
    "\n",
    "def clean (item):\n",
    "    return item.strip().replace('£', '').replace('Â', '')\n",
    "\n",
    "def get_page(url):\n",
    "    r=requests.get(url)\n",
    "    soup=BeautifulSoup(r.text, 'lxml')\n",
    "    return soup\n",
    "\n",
    "def parse_soup(soup):\n",
    "    book_list=[]\n",
    "    books=soup.find_all('article', class_='product_pod')\n",
    "\n",
    "    for book in books:\n",
    "        title=book.h3.a.text\n",
    "        price=float(clean(book.find('p', class_='price_color').text))\n",
    "        stock=clean(book.find('p', class_='instock availability').text)\n",
    "\n",
    "\n",
    "        book_list.append((title, price, stock))\n",
    "\n",
    "    return book_list\n",
    "\n",
    "\n",
    "soup=get_page(url)\n",
    "book_list=parse_soup(soup)\n",
    "\n",
    "pprint(book_list)"
   ]
  },
  {
   "cell_type": "markdown",
   "id": "6d512423",
   "metadata": {},
   "source": [
    "**Snippet for the test of above code**"
   ]
  },
  {
   "cell_type": "markdown",
   "id": "46c85c84",
   "metadata": {},
   "source": [
    "```python\n",
    "\n",
    "from pprint import pprint\n",
    "\n",
    "book_list=[]\n",
    "\n",
    "def clean (item):\n",
    "    return item.strip().replace('£', '').replace('Â', '')\n",
    "\n",
    "count=0\n",
    "for book in books:\n",
    "    title=book.h3.a.text\n",
    "    price=float(clean(book.find('p', class_='price_color').text))\n",
    "    stock=clean(book.find('p', class_='instock availability').text)\n",
    "    if count <5:\n",
    "        print(title)\n",
    "        print(price)\n",
    "        print(stock)\n",
    "        print()\n",
    "        book_list.append((title, price, stock))\n",
    "        \n",
    "    \n",
    "    count+=1\n",
    "    \n",
    "pprint(book_list)\n",
    "\n",
    "```"
   ]
  },
  {
   "cell_type": "markdown",
   "id": "9f8cfe5b",
   "metadata": {},
   "source": [
    "<h3> Store the extracted data into our db </h3>\n",
    "\n",
    "**INSERT OR IGNORE will not show Error messagen even if the same data try to be inserted**"
   ]
  },
  {
   "cell_type": "code",
   "execution_count": 4,
   "id": "0e8dd398",
   "metadata": {},
   "outputs": [],
   "source": [
    "cur.executemany(\"\"\"INSERT OR IGNORE INTO books VALUES (?, ?, ?)\"\"\", book_list)\n",
    "con.commit()"
   ]
  },
  {
   "cell_type": "markdown",
   "id": "d8eceeb5",
   "metadata": {},
   "source": [
    "**Confirmed the books database**"
   ]
  },
  {
   "cell_type": "markdown",
   "id": "704642a9",
   "metadata": {},
   "source": [
    "<img src='result.jpg' width=600 height=400>"
   ]
  },
  {
   "cell_type": "markdown",
   "id": "768a789d",
   "metadata": {},
   "source": [
    "<h2> Collecting all the data from 50 webpages </h2>"
   ]
  },
  {
   "cell_type": "markdown",
   "id": "45cae777",
   "metadata": {},
   "source": [
    "<h3> Analyse the web url </3>"
   ]
  },
  {
   "cell_type": "markdown",
   "id": "2019eb4f",
   "metadata": {},
   "source": [
    "- When webpage moves to next page, only the nubmer chanes so we can put that number into a variable\n",
    "\n",
    "https://books.toscrape.com/catalogue/page-1.html <br>\n",
    "https://books.toscrape.com/catalogue/page-2.html \n",
    "\n",
    "                    .\n",
    "\n",
    "                    . \n",
    "                    \n",
    "                    . \n",
    "                    \n",
    "https://books.toscrape.com/catalogue/page-50.html                    "
   ]
  },
  {
   "cell_type": "code",
   "execution_count": 5,
   "id": "00f2d729",
   "metadata": {
    "scrolled": false
   },
   "outputs": [
    {
     "name": "stdout",
     "output_type": "stream",
     "text": [
      "https://books.toscrape.com/catalogue/page-1.html\n",
      "https://books.toscrape.com/catalogue/page-2.html\n",
      "https://books.toscrape.com/catalogue/page-3.html\n",
      "https://books.toscrape.com/catalogue/page-4.html\n",
      "https://books.toscrape.com/catalogue/page-5.html\n",
      "https://books.toscrape.com/catalogue/page-6.html\n",
      "https://books.toscrape.com/catalogue/page-7.html\n",
      "https://books.toscrape.com/catalogue/page-8.html\n",
      "https://books.toscrape.com/catalogue/page-9.html\n",
      "https://books.toscrape.com/catalogue/page-10.html\n",
      "https://books.toscrape.com/catalogue/page-11.html\n",
      "https://books.toscrape.com/catalogue/page-12.html\n",
      "https://books.toscrape.com/catalogue/page-13.html\n",
      "https://books.toscrape.com/catalogue/page-14.html\n",
      "https://books.toscrape.com/catalogue/page-15.html\n",
      "https://books.toscrape.com/catalogue/page-16.html\n",
      "https://books.toscrape.com/catalogue/page-17.html\n",
      "https://books.toscrape.com/catalogue/page-18.html\n",
      "https://books.toscrape.com/catalogue/page-19.html\n",
      "https://books.toscrape.com/catalogue/page-20.html\n",
      "https://books.toscrape.com/catalogue/page-21.html\n",
      "https://books.toscrape.com/catalogue/page-22.html\n",
      "https://books.toscrape.com/catalogue/page-23.html\n",
      "https://books.toscrape.com/catalogue/page-24.html\n",
      "https://books.toscrape.com/catalogue/page-25.html\n",
      "https://books.toscrape.com/catalogue/page-26.html\n",
      "https://books.toscrape.com/catalogue/page-27.html\n",
      "https://books.toscrape.com/catalogue/page-28.html\n",
      "https://books.toscrape.com/catalogue/page-29.html\n",
      "https://books.toscrape.com/catalogue/page-30.html\n",
      "https://books.toscrape.com/catalogue/page-31.html\n",
      "https://books.toscrape.com/catalogue/page-32.html\n",
      "https://books.toscrape.com/catalogue/page-33.html\n",
      "https://books.toscrape.com/catalogue/page-34.html\n",
      "https://books.toscrape.com/catalogue/page-35.html\n",
      "https://books.toscrape.com/catalogue/page-36.html\n",
      "https://books.toscrape.com/catalogue/page-37.html\n",
      "https://books.toscrape.com/catalogue/page-38.html\n",
      "https://books.toscrape.com/catalogue/page-39.html\n",
      "https://books.toscrape.com/catalogue/page-40.html\n",
      "https://books.toscrape.com/catalogue/page-41.html\n",
      "https://books.toscrape.com/catalogue/page-42.html\n",
      "https://books.toscrape.com/catalogue/page-43.html\n",
      "https://books.toscrape.com/catalogue/page-44.html\n",
      "https://books.toscrape.com/catalogue/page-45.html\n",
      "https://books.toscrape.com/catalogue/page-46.html\n",
      "https://books.toscrape.com/catalogue/page-47.html\n",
      "https://books.toscrape.com/catalogue/page-48.html\n",
      "https://books.toscrape.com/catalogue/page-49.html\n",
      "https://books.toscrape.com/catalogue/page-50.html\n"
     ]
    }
   ],
   "source": [
    "# no pagination in this example\n",
    "\n",
    "# url = f'https://books.toscrape.com/catalogue/page-{i}.html'\n",
    "\n",
    "import time\n",
    "\n",
    "\n",
    "page_num=50\n",
    "\n",
    "def clean (item):\n",
    "    return item.strip().replace('£', '').replace('Â', '')\n",
    "\n",
    "def retrieve_all(page_num):\n",
    "    total_book_list=[]\n",
    "    for i in range(page_num):\n",
    "        url = f'https://books.toscrape.com/catalogue/page-{i+1}.html' # i starts with 0 so we shoudl add 1 to it\n",
    "        print(url)\n",
    "        \n",
    "        def get_page(url):\n",
    "            r=requests.get(url)\n",
    "            soup=BeautifulSoup(r.text, 'lxml')\n",
    "            return soup\n",
    "\n",
    "        soup=get_page(url)\n",
    "        \n",
    "        def parse_soup(soup):\n",
    "            book_list=[]\n",
    "            books=soup.find_all('article', class_='product_pod')\n",
    "            for book in books:\n",
    "                title=book.h3.a.text\n",
    "\n",
    "                price=float(clean(book.find('p', class_='price_color').text))\n",
    "\n",
    "                stock=clean(book.find('p', class_='instock availability').text)\n",
    "\n",
    "                book_list.append((title, price, stock))\n",
    "            return book_list\n",
    "    \n",
    "        total_book_list.append(parse_soup(soup)) \n",
    "\n",
    "        time.sleep(0.5)  \n",
    "    \n",
    "    return total_book_list\n",
    "\n",
    "results=retrieve_all(page_num)\n"
   ]
  },
  {
   "cell_type": "code",
   "execution_count": 6,
   "id": "5e22a689",
   "metadata": {},
   "outputs": [
    {
     "name": "stdout",
     "output_type": "stream",
     "text": [
      "('1,000 Places to See ...', 26.08, 'In stock')\n"
     ]
    }
   ],
   "source": [
    "pprint(results[49][19])"
   ]
  },
  {
   "cell_type": "markdown",
   "id": "f4cfa7cf",
   "metadata": {},
   "source": [
    "<h3> Store the extracted data into our db </h3>"
   ]
  },
  {
   "cell_type": "code",
   "execution_count": 7,
   "id": "3dfa66d6",
   "metadata": {},
   "outputs": [],
   "source": [
    "for result in results:\n",
    "    cur.executemany(\"\"\"INSERT OR IGNORE INTO books VALUES (?, ?, ?)\"\"\", result)\n",
    "con.commit()"
   ]
  },
  {
   "cell_type": "markdown",
   "id": "247f05fd",
   "metadata": {},
   "source": [
    "<img src='result1.jpg' width=600 height=800>"
   ]
  }
 ],
 "metadata": {
  "kernelspec": {
   "display_name": "Python 3",
   "language": "python",
   "name": "python3"
  },
  "language_info": {
   "codemirror_mode": {
    "name": "ipython",
    "version": 3
   },
   "file_extension": ".py",
   "mimetype": "text/x-python",
   "name": "python",
   "nbconvert_exporter": "python",
   "pygments_lexer": "ipython3",
   "version": "3.9.12"
  }
 },
 "nbformat": 4,
 "nbformat_minor": 5
}
