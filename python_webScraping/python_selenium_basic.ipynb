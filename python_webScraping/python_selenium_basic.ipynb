{
 "cells": [
  {
   "cell_type": "markdown",
   "id": "06c9bcea",
   "metadata": {},
   "source": [
    "<h1>python_selenium</h1>"
   ]
  },
  {
   "cell_type": "markdown",
   "id": "0cc8f775",
   "metadata": {},
   "source": [
    "**We will use `weddriver-mnanger` to aovid the installation and update hassal of ChromeDrive**"
   ]
  },
  {
   "cell_type": "markdown",
   "id": "e3db894a",
   "metadata": {},
   "source": [
    "Selenium is a browser automation software which is controlled by WebDriver which tell selenium how to specifically control chrome web browser\n",
    "\n",
    "- Selenum - broswer automation software\n",
    "- WebDriver - explain Chrome to selenium - ChromDriver\n",
    "- Chrome - a web browser\n",
    "\n",
    "So if we don't ChromDriver, Selenium is confused about how to talk to Chrome\n",
    "That is the reason we need to install WebDriver but the issue is that as Chrome is upgraded then the ChromDriver should be accordingly upgraded, othewise, Selenium get lost hos to talk to the upgraded Chrome\n",
    "\n"
   ]
  },
  {
   "cell_type": "code",
   "execution_count": 1,
   "id": "ca14d427",
   "metadata": {
    "scrolled": false
   },
   "outputs": [],
   "source": [
    "# pip install --user webdriver-manager"
   ]
  },
  {
   "cell_type": "code",
   "execution_count": 2,
   "id": "63ae446b",
   "metadata": {},
   "outputs": [],
   "source": [
    "# pip install selenium"
   ]
  },
  {
   "cell_type": "code",
   "execution_count": 3,
   "id": "ed0b9205",
   "metadata": {},
   "outputs": [],
   "source": [
    "import pandas as pd\n",
    "import time\n",
    "\n",
    "from selenium import webdriver\n",
    "from selenium.webdriver.common.by import By\n",
    "from selenium.webdriver.support.ui import WebDriverWait\n",
    "from selenium.webdriver.support import expected_conditions as EC\n",
    "from selenium.webdriver.support.ui import Select\n",
    "\n",
    "from webdriver_manager.chrome import ChromeDriverManager"
   ]
  },
  {
   "cell_type": "markdown",
   "id": "b9f05e7a",
   "metadata": {},
   "source": [
    "Previousely, we downloaded and  installed ChromeDrive in the PATH \n",
    "\n",
    "* Extract the downloaded file and copy-paste the .exe file to your PATH.\n",
    "* The PATH can be found using below codes. Run the code on Jupyter Lab to get it and paste the file into the directory you just found out.\n",
    "\n",
    "```python\n",
    "import os\n",
    "import sys\n",
    "os.getcwd()\n",
    "os.path.dirname(sys.executable)\n",
    "```\n",
    "`C:\\\\Users\\\\user_name\\\\Anaconda3`\n",
    "\n",
    "Then we execute the below code\n",
    "```python\n",
    "driver=webdriver.Chrome()\n",
    "```"
   ]
  },
  {
   "cell_type": "markdown",
   "id": "f3efdc2f",
   "metadata": {},
   "source": [
    "Now we can use the `ChromeDriverManger` and aovid the hassel"
   ]
  },
  {
   "cell_type": "code",
   "execution_count": 4,
   "id": "56fd57b7",
   "metadata": {
    "scrolled": true
   },
   "outputs": [
    {
     "name": "stdout",
     "output_type": "stream",
     "text": [
      "\n"
     ]
    },
    {
     "name": "stderr",
     "output_type": "stream",
     "text": [
      "[WDM] - ====== WebDriver manager ======\n"
     ]
    },
    {
     "name": "stdout",
     "output_type": "stream",
     "text": [
      "2022-07-09 19:20:33,210 INFO ====== WebDriver manager ======\n"
     ]
    },
    {
     "name": "stderr",
     "output_type": "stream",
     "text": [
      "[WDM] - Current google-chrome version is 103.0.5060\n"
     ]
    },
    {
     "name": "stdout",
     "output_type": "stream",
     "text": [
      "2022-07-09 19:20:33,214 INFO Current google-chrome version is 103.0.5060\n"
     ]
    },
    {
     "name": "stderr",
     "output_type": "stream",
     "text": [
      "[WDM] - Get LATEST chromedriver version for 103.0.5060 google-chrome\n"
     ]
    },
    {
     "name": "stdout",
     "output_type": "stream",
     "text": [
      "2022-07-09 19:20:33,216 INFO Get LATEST chromedriver version for 103.0.5060 google-chrome\n"
     ]
    },
    {
     "name": "stderr",
     "output_type": "stream",
     "text": [
      "[WDM] - Driver [C:\\Users\\Kwang-Chul Kwon\\.wdm\\drivers\\chromedriver\\win32\\103.0.5060.53\\chromedriver.exe] found in cache\n"
     ]
    },
    {
     "name": "stdout",
     "output_type": "stream",
     "text": [
      "2022-07-09 19:20:33,336 INFO Driver [C:\\Users\\Kwang-Chul Kwon\\.wdm\\drivers\\chromedriver\\win32\\103.0.5060.53\\chromedriver.exe] found in cache\n"
     ]
    },
    {
     "name": "stderr",
     "output_type": "stream",
     "text": [
      "C:\\Users\\Kwang-Chul Kwon\\AppData\\Local\\Temp\\ipykernel_17120\\365059496.py:1: DeprecationWarning: executable_path has been deprecated, please pass in a Service object\n",
      "  driver=webdriver.Chrome(ChromeDriverManager().install())\n"
     ]
    }
   ],
   "source": [
    "driver=webdriver.Chrome(ChromeDriverManager().install())"
   ]
  },
  {
   "cell_type": "markdown",
   "id": "691f3c5f",
   "metadata": {},
   "source": [
    "<h1> 1. Scraping by class</h1>"
   ]
  },
  {
   "cell_type": "code",
   "execution_count": 7,
   "id": "ab404f09",
   "metadata": {},
   "outputs": [],
   "source": [
    "driver.get('http://jonathansoma.com/lede/static/by-class.html')"
   ]
  },
  {
   "cell_type": "code",
   "execution_count": 9,
   "id": "cfac9e91",
   "metadata": {},
   "outputs": [
    {
     "data": {
      "text/plain": [
       "'How to Scrape Things'"
      ]
     },
     "execution_count": 9,
     "metadata": {},
     "output_type": "execute_result"
    }
   ],
   "source": [
    "# find only one element\n",
    "driver.find_element(By.CLASS_NAME, 'title').text"
   ]
  },
  {
   "cell_type": "code",
   "execution_count": 10,
   "id": "ffaf6c3c",
   "metadata": {},
   "outputs": [
    {
     "data": {
      "text/plain": [
       "'Some Supplemental Materials'"
      ]
     },
     "execution_count": 10,
     "metadata": {},
     "output_type": "execute_result"
    }
   ],
   "source": [
    "driver.find_element(By.CLASS_NAME, 'subhead').text"
   ]
  },
  {
   "cell_type": "code",
   "execution_count": 11,
   "id": "bf163c76",
   "metadata": {},
   "outputs": [
    {
     "data": {
      "text/plain": [
       "'By Jonathan Soma'"
      ]
     },
     "execution_count": 11,
     "metadata": {},
     "output_type": "execute_result"
    }
   ],
   "source": [
    "driver.find_element(By.CLASS_NAME, 'byline').text"
   ]
  },
  {
   "cell_type": "markdown",
   "id": "41e58649",
   "metadata": {},
   "source": [
    "<h1> 2. Scraping using tags</h1>"
   ]
  },
  {
   "cell_type": "code",
   "execution_count": 12,
   "id": "bc992f48",
   "metadata": {},
   "outputs": [],
   "source": [
    "driver.get('http://jonathansoma.com/lede/static/by-class.html')"
   ]
  },
  {
   "cell_type": "code",
   "execution_count": 13,
   "id": "d7da9045",
   "metadata": {},
   "outputs": [
    {
     "data": {
      "text/plain": [
       "'How to Scrape Things'"
      ]
     },
     "execution_count": 13,
     "metadata": {},
     "output_type": "execute_result"
    }
   ],
   "source": [
    "driver.find_element(By.TAG_NAME, 'h1').text"
   ]
  },
  {
   "cell_type": "code",
   "execution_count": 14,
   "id": "4610e5e9",
   "metadata": {},
   "outputs": [
    {
     "data": {
      "text/plain": [
       "'Some Supplemental Materials'"
      ]
     },
     "execution_count": 14,
     "metadata": {},
     "output_type": "execute_result"
    }
   ],
   "source": [
    "driver.find_element(By.TAG_NAME, 'h3').text"
   ]
  },
  {
   "cell_type": "code",
   "execution_count": 15,
   "id": "158c3a09",
   "metadata": {},
   "outputs": [
    {
     "data": {
      "text/plain": [
       "<selenium.webdriver.remote.webelement.WebElement (session=\"3dff67960babc08af97f819082c7b86b\", element=\"aef68e67-734d-4400-ba98-820b8a0c5480\")>"
      ]
     },
     "execution_count": 15,
     "metadata": {},
     "output_type": "execute_result"
    }
   ],
   "source": [
    "driver.find_element(By.TAG_NAME, 'p')"
   ]
  },
  {
   "cell_type": "markdown",
   "id": "fd2b4ace",
   "metadata": {},
   "source": [
    "<h1> 3. Scraping using a single tags</h1>\n",
    "\n",
    "If we scrape mulitples, we hav a list then we can use indexing method like [0], [1], [2]"
   ]
  },
  {
   "cell_type": "code",
   "execution_count": 16,
   "id": "f443bf02",
   "metadata": {},
   "outputs": [],
   "source": [
    "driver.get('http://jonathansoma.com/lede/static/by-list.html')"
   ]
  },
  {
   "cell_type": "markdown",
   "id": "7d627ba0",
   "metadata": {},
   "source": [
    "**We need to use plural \"elements\"**"
   ]
  },
  {
   "cell_type": "code",
   "execution_count": 17,
   "id": "f734126e",
   "metadata": {},
   "outputs": [
    {
     "data": {
      "text/plain": [
       "[<selenium.webdriver.remote.webelement.WebElement (session=\"3dff67960babc08af97f819082c7b86b\", element=\"30eeec07-20dd-462a-b380-61e0b7dcca6c\")>,\n",
       " <selenium.webdriver.remote.webelement.WebElement (session=\"3dff67960babc08af97f819082c7b86b\", element=\"2034f308-a311-47a8-8d71-bd798b8faecc\")>,\n",
       " <selenium.webdriver.remote.webelement.WebElement (session=\"3dff67960babc08af97f819082c7b86b\", element=\"0084d749-f9d7-4ec2-a2ba-c9ed84bb3670\")>]"
      ]
     },
     "execution_count": 17,
     "metadata": {},
     "output_type": "execute_result"
    }
   ],
   "source": [
    "p_tags=driver.find_elements(By.TAG_NAME, 'p')\n",
    "p_tags"
   ]
  },
  {
   "cell_type": "code",
   "execution_count": 18,
   "id": "fe7f7995",
   "metadata": {},
   "outputs": [
    {
     "data": {
      "text/plain": [
       "'How to Scrape Things'"
      ]
     },
     "execution_count": 18,
     "metadata": {},
     "output_type": "execute_result"
    }
   ],
   "source": [
    "title=p_tags[0].text\n",
    "title"
   ]
  },
  {
   "cell_type": "code",
   "execution_count": 19,
   "id": "501a2132",
   "metadata": {},
   "outputs": [
    {
     "data": {
      "text/plain": [
       "'Some Supplemental Materials'"
      ]
     },
     "execution_count": 19,
     "metadata": {},
     "output_type": "execute_result"
    }
   ],
   "source": [
    "subhead=p_tags[1].text\n",
    "subhead"
   ]
  },
  {
   "cell_type": "code",
   "execution_count": 20,
   "id": "cc5d25ee",
   "metadata": {},
   "outputs": [
    {
     "data": {
      "text/plain": [
       "'By Jonathan Soma'"
      ]
     },
     "execution_count": 20,
     "metadata": {},
     "output_type": "execute_result"
    }
   ],
   "source": [
    "author=p_tags[2].text\n",
    "author"
   ]
  },
  {
   "cell_type": "code",
   "execution_count": 21,
   "id": "f778027c",
   "metadata": {},
   "outputs": [
    {
     "name": "stdout",
     "output_type": "stream",
     "text": [
      "How to Scrape Things\n",
      "Some Supplemental Materials\n",
      "By Jonathan Soma\n"
     ]
    }
   ],
   "source": [
    "for p in p_tags:\n",
    "    print(p.text)"
   ]
  },
  {
   "cell_type": "markdown",
   "id": "4fee58b4",
   "metadata": {},
   "source": [
    "<h1> 4. Scraping a single table row</h1>"
   ]
  },
  {
   "cell_type": "code",
   "execution_count": 22,
   "id": "f9c2c0cd",
   "metadata": {},
   "outputs": [],
   "source": [
    "driver.get('http://jonathansoma.com/lede/static/single-table-row.html')"
   ]
  },
  {
   "cell_type": "code",
   "execution_count": 23,
   "id": "b2243c04",
   "metadata": {},
   "outputs": [
    {
     "data": {
      "text/plain": [
       "[<selenium.webdriver.remote.webelement.WebElement (session=\"3dff67960babc08af97f819082c7b86b\", element=\"9d38a472-84b5-46e3-a9e4-c168ec06cbad\")>,\n",
       " <selenium.webdriver.remote.webelement.WebElement (session=\"3dff67960babc08af97f819082c7b86b\", element=\"4aeff74f-5a93-4c6b-bbbf-d77c7a2cc668\")>,\n",
       " <selenium.webdriver.remote.webelement.WebElement (session=\"3dff67960babc08af97f819082c7b86b\", element=\"313bf904-4380-4728-a2a6-0fd78251b1b1\")>]"
      ]
     },
     "execution_count": 23,
     "metadata": {},
     "output_type": "execute_result"
    }
   ],
   "source": [
    "cells=driver.find_elements(By.TAG_NAME, 'td')\n",
    "cells"
   ]
  },
  {
   "cell_type": "code",
   "execution_count": 24,
   "id": "eb3cf387",
   "metadata": {},
   "outputs": [
    {
     "data": {
      "text/plain": [
       "'How to Scrape Things'"
      ]
     },
     "execution_count": 24,
     "metadata": {},
     "output_type": "execute_result"
    }
   ],
   "source": [
    "cells[0].text"
   ]
  },
  {
   "cell_type": "code",
   "execution_count": 25,
   "id": "a5bce221",
   "metadata": {},
   "outputs": [
    {
     "data": {
      "text/plain": [
       "'Some Supplemental Materials'"
      ]
     },
     "execution_count": 25,
     "metadata": {},
     "output_type": "execute_result"
    }
   ],
   "source": [
    "cells[1].text"
   ]
  },
  {
   "cell_type": "code",
   "execution_count": 26,
   "id": "6774895a",
   "metadata": {},
   "outputs": [
    {
     "data": {
      "text/plain": [
       "'By Jonathan Soma'"
      ]
     },
     "execution_count": 26,
     "metadata": {},
     "output_type": "execute_result"
    }
   ],
   "source": [
    "cells[2].text"
   ]
  },
  {
   "cell_type": "markdown",
   "id": "1d52cd47",
   "metadata": {},
   "source": [
    "<h1> 5. Saving into a dictionary</h1>"
   ]
  },
  {
   "cell_type": "code",
   "execution_count": 27,
   "id": "6491c2bb",
   "metadata": {},
   "outputs": [],
   "source": [
    "driver.get('http://jonathansoma.com/lede/static/single-table-row.html')"
   ]
  },
  {
   "cell_type": "code",
   "execution_count": 28,
   "id": "8d2e4efe",
   "metadata": {},
   "outputs": [
    {
     "data": {
      "text/plain": [
       "{'title': 'How to Scrape Things',\n",
       " 'subtitle': 'Some Supplemental Materials',\n",
       " 'byline': 'By Jonathan Soma'}"
      ]
     },
     "execution_count": 28,
     "metadata": {},
     "output_type": "execute_result"
    }
   ],
   "source": [
    "cells=driver.find_elements(By.TAG_NAME, 'td')\n",
    "book={}\n",
    "\n",
    "book['title']=cells[0].text\n",
    "book['subtitle']=cells[1].text\n",
    "book['byline']=cells[2].text\n",
    "\n",
    "book"
   ]
  },
  {
   "cell_type": "markdown",
   "id": "0371e41f",
   "metadata": {},
   "source": [
    "<h1> 6. Scraping multiple table rows</h1>"
   ]
  },
  {
   "cell_type": "code",
   "execution_count": 31,
   "id": "87cc25ce",
   "metadata": {},
   "outputs": [],
   "source": [
    "driver.get('http://jonathansoma.com/lede/static/multiple-table-row.html')"
   ]
  },
  {
   "cell_type": "code",
   "execution_count": 30,
   "id": "2e5bffa7",
   "metadata": {},
   "outputs": [
    {
     "ename": "NameError",
     "evalue": "name 'dataset' is not defined",
     "output_type": "error",
     "traceback": [
      "\u001b[1;31m---------------------------------------------------------------------------\u001b[0m",
      "\u001b[1;31mNameError\u001b[0m                                 Traceback (most recent call last)",
      "Input \u001b[1;32mIn [30]\u001b[0m, in \u001b[0;36m<cell line: 10>\u001b[1;34m()\u001b[0m\n\u001b[0;32m      7\u001b[0m     data[\u001b[38;5;124m'\u001b[39m\u001b[38;5;124msubhead\u001b[39m\u001b[38;5;124m'\u001b[39m]\u001b[38;5;241m=\u001b[39mcells[\u001b[38;5;241m1\u001b[39m]\u001b[38;5;241m.\u001b[39mtext\n\u001b[0;32m      8\u001b[0m     data[\u001b[38;5;124m'\u001b[39m\u001b[38;5;124mauthor\u001b[39m\u001b[38;5;124m'\u001b[39m]\u001b[38;5;241m=\u001b[39mcells[\u001b[38;5;241m2\u001b[39m]\u001b[38;5;241m.\u001b[39mtext\n\u001b[1;32m---> 10\u001b[0m \u001b[43mdataset\u001b[49m\n",
      "\u001b[1;31mNameError\u001b[0m: name 'dataset' is not defined"
     ]
    }
   ],
   "source": [
    "rows=driver.find_elements(By.TAG_NAME, 'tr')\n",
    "\n",
    "for row in rows:\n",
    "    data={}\n",
    "    cells=row.find_elements(By.TAG_NAME, 'td')\n",
    "    data['title']=cells[0].text\n",
    "    data['subhead']=cells[1].text\n",
    "    data['author']=cells[2].text\n",
    "    \n",
    "dataset"
   ]
  },
  {
   "cell_type": "markdown",
   "id": "1c67009b",
   "metadata": {},
   "source": [
    "<h1> 7. Scraping an actual table</h1>"
   ]
  },
  {
   "cell_type": "code",
   "execution_count": null,
   "id": "0eb7e509",
   "metadata": {},
   "outputs": [],
   "source": [
    "driver.get('http://jonathansoma.com/lede/static/the-actual-table-row.html')"
   ]
  },
  {
   "cell_type": "code",
   "execution_count": null,
   "id": "653b679a",
   "metadata": {},
   "outputs": [],
   "source": [
    "table=driver.find_element(By.ID, 'booklist') # specifiy the target table\n",
    "\n",
    "rows=table.find_elements(By.TAG_NAME, 'tr')\n",
    "\n",
    "dataset=[]\n",
    "\n",
    "for row in rows:\n",
    "    data={}\n",
    "    cells=row.find_elements(By.TAG_NAME, 'td')\n",
    "    data['title']=cells[0].text\n",
    "    data['subhead']=cells[1].text\n",
    "    data['author']=cells[2].text\n",
    "    \n",
    "    dataset.append(data)\n",
    "    \n",
    "dataset"
   ]
  },
  {
   "cell_type": "markdown",
   "id": "2115e4c7",
   "metadata": {},
   "source": [
    "<h1> 8. Scraping multiple table rows into a list of dictionaries</h1>"
   ]
  },
  {
   "cell_type": "code",
   "execution_count": null,
   "id": "1bd3c4c2",
   "metadata": {},
   "outputs": [],
   "source": [
    "driver.get('http://jonathansoma.com/lede/static/the-actual-table-row.html')"
   ]
  },
  {
   "cell_type": "code",
   "execution_count": null,
   "id": "88134188",
   "metadata": {
    "scrolled": true
   },
   "outputs": [],
   "source": [
    "table=driver.find_element(By.ID, 'booklist') # specifiy the target table\n",
    "\n",
    "rows=table.find_elements(By.TAG_NAME, 'tr')\n",
    "\n",
    "dataset=[]\n",
    "\n",
    "for row in rows:\n",
    "    data={}\n",
    "    cells=row.find_elements(By.TAG_NAME, 'td')\n",
    "    data['title']=cells[0].text\n",
    "    data['subhead']=cells[1].text\n",
    "    data['author']=cells[2].text\n",
    "    \n",
    "    dataset.append(data)\n",
    "    \n",
    "dataset"
   ]
  },
  {
   "cell_type": "code",
   "execution_count": null,
   "id": "58378b70",
   "metadata": {},
   "outputs": [],
   "source": [
    "import pandas as pd\n",
    "\n",
    "pd.DataFrame(dataset)"
   ]
  },
  {
   "cell_type": "code",
   "execution_count": null,
   "id": "0b8289c8",
   "metadata": {},
   "outputs": [],
   "source": [
    "tables=pd.read_html('http://jonathansoma.com/lede/static/the-actual-table-row.html')\n",
    "tabels[0].rename(columns={0:'title', \n",
    "                        1:'subhead',\n",
    "                        2:'author'})"
   ]
  },
  {
   "cell_type": "code",
   "execution_count": null,
   "id": "b193ea0a",
   "metadata": {},
   "outputs": [],
   "source": [
    "df=pd.DataFrame(dataset)\n",
    "df"
   ]
  },
  {
   "cell_type": "code",
   "execution_count": null,
   "id": "08ef4807",
   "metadata": {},
   "outputs": [],
   "source": [
    "df.to_csv('output.csv', index=False)"
   ]
  },
  {
   "cell_type": "code",
   "execution_count": null,
   "id": "ec2db3bd",
   "metadata": {},
   "outputs": [],
   "source": [
    "!cat output.csv"
   ]
  }
 ],
 "metadata": {
  "kernelspec": {
   "display_name": "Python 3",
   "language": "python",
   "name": "python3"
  },
  "language_info": {
   "codemirror_mode": {
    "name": "ipython",
    "version": 3
   },
   "file_extension": ".py",
   "mimetype": "text/x-python",
   "name": "python",
   "nbconvert_exporter": "python",
   "pygments_lexer": "ipython3",
   "version": "3.9.12"
  }
 },
 "nbformat": 4,
 "nbformat_minor": 5
}
