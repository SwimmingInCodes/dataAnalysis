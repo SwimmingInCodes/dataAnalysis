{
 "cells": [
  {
   "cell_type": "markdown",
   "id": "f1be1a67",
   "metadata": {},
   "source": [
    "<h1>Selenium Advaced</h1>\n",
    "\n",
    "\n",
    "- Go to goole image searche window\n",
    "- Type in then name of a popular soccer player, \"Son Heung-min\"\n",
    "- Dowonlod his photos"
   ]
  },
  {
   "cell_type": "code",
   "execution_count": 1,
   "id": "0db166f6",
   "metadata": {},
   "outputs": [],
   "source": [
    "import pandas as pd\n",
    "import time\n",
    "\n",
    "from selenium import webdriver\n",
    "from selenium.webdriver.common.keys import Keys\n",
    "from selenium.webdriver.common.by import By\n",
    "from selenium.webdriver.support.ui import WebDriverWait\n",
    "from selenium.webdriver.support import expected_conditions as EC\n",
    "from selenium.webdriver.support.ui import Select\n",
    "\n",
    "from webdriver_manager.chrome import ChromeDriverManager\n"
   ]
  },
  {
   "cell_type": "code",
   "execution_count": 2,
   "id": "ff26b8d0",
   "metadata": {},
   "outputs": [
    {
     "name": "stdout",
     "output_type": "stream",
     "text": [
      "\n"
     ]
    },
    {
     "name": "stderr",
     "output_type": "stream",
     "text": [
      "[WDM] - ====== WebDriver manager ======\n"
     ]
    },
    {
     "name": "stdout",
     "output_type": "stream",
     "text": [
      "2022-07-09 22:00:55,543 INFO ====== WebDriver manager ======\n"
     ]
    },
    {
     "name": "stderr",
     "output_type": "stream",
     "text": [
      "[WDM] - Current google-chrome version is 103.0.5060\n"
     ]
    },
    {
     "name": "stdout",
     "output_type": "stream",
     "text": [
      "2022-07-09 22:00:55,544 INFO Current google-chrome version is 103.0.5060\n"
     ]
    },
    {
     "name": "stderr",
     "output_type": "stream",
     "text": [
      "[WDM] - Get LATEST chromedriver version for 103.0.5060 google-chrome\n"
     ]
    },
    {
     "name": "stdout",
     "output_type": "stream",
     "text": [
      "2022-07-09 22:00:55,544 INFO Get LATEST chromedriver version for 103.0.5060 google-chrome\n"
     ]
    },
    {
     "name": "stderr",
     "output_type": "stream",
     "text": [
      "[WDM] - Driver [C:\\Users\\Kwang-Chul Kwon\\.wdm\\drivers\\chromedriver\\win32\\103.0.5060.53\\chromedriver.exe] found in cache\n"
     ]
    },
    {
     "name": "stdout",
     "output_type": "stream",
     "text": [
      "2022-07-09 22:00:55,654 INFO Driver [C:\\Users\\Kwang-Chul Kwon\\.wdm\\drivers\\chromedriver\\win32\\103.0.5060.53\\chromedriver.exe] found in cache\n"
     ]
    },
    {
     "name": "stderr",
     "output_type": "stream",
     "text": [
      "C:\\Users\\Kwang-Chul Kwon\\AppData\\Local\\Temp\\ipykernel_20880\\365059496.py:1: DeprecationWarning: executable_path has been deprecated, please pass in a Service object\n",
      "  driver=webdriver.Chrome(ChromeDriverManager().install())\n"
     ]
    }
   ],
   "source": [
    "driver=webdriver.Chrome(ChromeDriverManager().install())"
   ]
  },
  {
   "cell_type": "code",
   "execution_count": 3,
   "id": "1117090d",
   "metadata": {},
   "outputs": [],
   "source": [
    "driver.get('https://www.google.com/imghp?hl=en&ogbl')"
   ]
  },
  {
   "cell_type": "code",
   "execution_count": 4,
   "id": "a4d2acd9",
   "metadata": {},
   "outputs": [],
   "source": [
    "# find the search window\n",
    "elem=driver.find_element(By.NAME, 'q')"
   ]
  },
  {
   "cell_type": "code",
   "execution_count": 5,
   "id": "d1dba89b",
   "metadata": {},
   "outputs": [],
   "source": [
    "# type in search keyword\n",
    "elem.send_keys(\"Son Heung-min\")"
   ]
  },
  {
   "cell_type": "code",
   "execution_count": 6,
   "id": "44edb276",
   "metadata": {},
   "outputs": [],
   "source": [
    "# hit Enter key\n",
    "elem.send_keys(Keys.RETURN)"
   ]
  },
  {
   "cell_type": "code",
   "execution_count": 7,
   "id": "588fbece",
   "metadata": {},
   "outputs": [],
   "source": [
    "# download the photos\n",
    "# click the thumbnail photo, which leads to another photo with better resolution then we click the photo again to download\n",
    "# select all the thumbnail photos\n",
    "# click the first photo\n",
    "\n",
    "driver.find_elements(By.CLASS_NAME, \"rg_i.Q4LuWd\")[0].click()"
   ]
  },
  {
   "cell_type": "code",
   "execution_count": 10,
   "id": "4bfd4ec3",
   "metadata": {
    "scrolled": false
   },
   "outputs": [
    {
     "name": "stdout",
     "output_type": "stream",
     "text": [
      "https://encrypted-tbn0.gstatic.com/images?q=tbn:ANd9GcQ2NQbLU2rOK1HkRz1MQVI35IH3ZmRw3MNyJA&usqp=CAU\n"
     ]
    }
   ],
   "source": [
    "# download the clicked image\n",
    "\n",
    "image_url=driver.find_element(By.CLASS_NAME, \"n3VNCb\").get_attribute('src')\n",
    "print(image_url)\n",
    "time.sleep(1)"
   ]
  },
  {
   "cell_type": "code",
   "execution_count": 11,
   "id": "39e8b350",
   "metadata": {},
   "outputs": [
    {
     "data": {
      "text/plain": [
       "('1.png', <http.client.HTTPMessage at 0x199f5366e50>)"
      ]
     },
     "execution_count": 11,
     "metadata": {},
     "output_type": "execute_result"
    }
   ],
   "source": [
    "# download the image\n",
    "\n",
    "import urllib.request\n",
    "\n",
    "urllib.request.urlretrieve(image_url, '1.png')"
   ]
  },
  {
   "cell_type": "code",
   "execution_count": 12,
   "id": "85a9434a",
   "metadata": {},
   "outputs": [
    {
     "data": {
      "image/png": "[encoded data removed]",
      "text/plain": [
       "<IPython.core.display.Image object>"
      ]
     },
     "metadata": {},
     "output_type": "display_data"
    }
   ],
   "source": [
    "# display the downloaded image\n",
    "\n",
    "from IPython.display import display, Image\n",
    "\n",
    "listOfImageNames = ['1.png']\n",
    "\n",
    "for imageName in listOfImageNames:\n",
    "    display(Image(filename=imageName))"
   ]
  },
  {
   "cell_type": "markdown",
   "id": "50929569",
   "metadata": {},
   "source": [
    "<h3>So far, we have just downloaded only one photo. Now we are going to retrieve the remaining all the photos</h3>"
   ]
  },
  {
   "cell_type": "code",
   "execution_count": 13,
   "id": "6db23649",
   "metadata": {
    "scrolled": true
   },
   "outputs": [
    {
     "ename": "KeyboardInterrupt",
     "evalue": "",
     "output_type": "error",
     "traceback": [
      "\u001b[1;31m---------------------------------------------------------------------------\u001b[0m",
      "\u001b[1;31mKeyboardInterrupt\u001b[0m                         Traceback (most recent call last)",
      "Input \u001b[1;32mIn [13]\u001b[0m, in \u001b[0;36m<cell line: 3>\u001b[1;34m()\u001b[0m\n\u001b[0;32m     11\u001b[0m \u001b[38;5;28;01mexcept\u001b[39;00m:\n\u001b[0;32m     12\u001b[0m     \u001b[38;5;28;01mpass\u001b[39;00m\n\u001b[1;32m---> 14\u001b[0m \u001b[43mtime\u001b[49m\u001b[38;5;241;43m.\u001b[39;49m\u001b[43msleep\u001b[49m\u001b[43m(\u001b[49m\u001b[38;5;241;43m1\u001b[39;49m\u001b[43m)\u001b[49m\n\u001b[0;32m     16\u001b[0m \u001b[38;5;28;01mtry\u001b[39;00m:\n\u001b[0;32m     17\u001b[0m     urllib\u001b[38;5;241m.\u001b[39mrequest\u001b[38;5;241m.\u001b[39murlretrieve(image_url, \u001b[38;5;124mf\u001b[39m\u001b[38;5;124m'\u001b[39m\u001b[38;5;132;01m{\u001b[39;00mi\u001b[38;5;132;01m}\u001b[39;00m\u001b[38;5;124m.png\u001b[39m\u001b[38;5;124m'\u001b[39m)\n",
      "\u001b[1;31mKeyboardInterrupt\u001b[0m: "
     ]
    }
   ],
   "source": [
    "images=driver.find_elements(By.CLASS_NAME, \"rg_i.Q4LuWd\")\n",
    "\n",
    "for i in range(len(images)):\n",
    "    try:\n",
    "        images[i].click()\n",
    "    except:\n",
    "        continue\n",
    "        \n",
    "    try:\n",
    "        image_url=driver.find_element(By.CLASS_NAME, \"n3VNCb.KAlRDb\").get_attribute('src')\n",
    "    except:\n",
    "        pass\n",
    "\n",
    "    time.sleep(1)\n",
    "    \n",
    "    try:\n",
    "        urllib.request.urlretrieve(image_url, f'{i}.png')\n",
    "        \n",
    "    except:\n",
    "        pass\n",
    "    \n",
    "    \n",
    "# count=1\n",
    "# for image in images:\n",
    "#     image.click()\n",
    "#     try:\n",
    "#         image_url=driver.find_element(By.CLASS_NAME, \"n3VNCb\").get_attribute('src')\n",
    "#     except Exception as e:\n",
    "#         print(e)\n",
    "\n",
    "#     time.sleep(1)\n",
    "#     urllib.request.urlretrieve(image_url, f'{count}.png')\n",
    "    \n",
    "#     count=count+1"
   ]
  },
  {
   "cell_type": "markdown",
   "id": "6efead25",
   "metadata": {},
   "source": [
    "**If we scroll the page then more images show up so the downloading images no longer proceed without scrolling\n",
    "we also have to click the button \"Show more results\" to get all the photos**\n",
    "\n",
    "**Fisrt we collect all the photos by scrolling all the way down the webpages**\n",
    "\n",
    "**Refer to the advanced_2**"
   ]
  }
 ],
 "metadata": {
  "kernelspec": {
   "display_name": "Python 3",
   "language": "python",
   "name": "python3"
  },
  "language_info": {
   "codemirror_mode": {
    "name": "ipython",
    "version": 3
   },
   "file_extension": ".py",
   "mimetype": "text/x-python",
   "name": "python",
   "nbconvert_exporter": "python",
   "pygments_lexer": "ipython3",
   "version": "3.9.12"
  }
 },
 "nbformat": 4,
 "nbformat_minor": 5
}
