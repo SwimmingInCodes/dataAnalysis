{
 "cells": [
  {
   "cell_type": "markdown",
   "metadata": {},
   "source": [
    "employeeid should be inlcude<br>\n",
    "class method -- create instance <br>\n",
    "class constant -- raise_amnt<br>\n",
    "static method\n",
    "property -- getter, access function like attribute<br>\n",
    "setter<br>\n",
    "deleter<br>\n",
    "subclass -- Developer, Mangaer(empployees=[] or None)<br>\n",
    "logging- whenever creating a new employee<br>\n",
    "how many employees<br>\n",
    "dunder function -- __add__, __len__, __repr__, __str__(take preferenc over __repr__)<br>emp1.__dict__()"
   ]
  },
  {
   "cell_type": "code",
   "execution_count": 1,
   "metadata": {},
   "outputs": [],
   "source": [
    "from datetime import datetime\n",
    "\n",
    "class Employee:\n",
    "    raise_amt=1.04\n",
    "    num_of_emp=0\n",
    "    def __init__(self, employeeid, first, last, pay):\n",
    "        self.employeeid=employeeid\n",
    "        self.first=first\n",
    "        self.last=last\n",
    "        self.pay=pay\n",
    "        Employee.num_of_emp+=1\n",
    "    @property  \n",
    "    def email(self):\n",
    "        return f'{self.first}.{self.last}@gmail.com'\n",
    "    \n",
    "    @property\n",
    "    def fullname(self):\n",
    "        return f'{self.first} {self.last}'\n",
    "    \n",
    "    @fullname.setter\n",
    "    def fullname(self, name):\n",
    "        self.first, self.last=name.split()\n",
    "        return f'{self.first} {self.last}'\n",
    "    @fullname.deleter\n",
    "    def fullname(self):\n",
    "        self.first=None\n",
    "        self.last=None\n",
    "    \n",
    "    def raise_pay(self):\n",
    "        self.pay=int(self.pay*self.raise_amt)\n",
    "        \n",
    "    @staticmethod   \n",
    "    def is_workday():\n",
    "        date=input('Enter date (mm/dd/yyyy): ' )\n",
    "        date=datetime.strptime(date, '%m/%d/%Y')\n",
    "        result=date.weekday()\n",
    "        if result==5 or result==6:\n",
    "            return False\n",
    "        else:\n",
    "            return True\n",
    "    @classmethod    \n",
    "    def new_employee(cls, name, employeeid):\n",
    "        first, last, pay=name.split('-')\n",
    "        pay=int(pay)\n",
    "        return cls(employeeid, first, last, pay)\n",
    "    \n",
    "    @classmethod\n",
    "    def raise_amount(cls, amount):\n",
    "        cls.raise_amt=amount\n",
    "        \n",
    "    def __add__(self, other):\n",
    "        return self.pay + other.pay \n",
    "    \n",
    "    def __len__(self):\n",
    "        return len(self.fullname)\n",
    "    \n",
    "    \n",
    "        \n",
    "class Developer(Employee):\n",
    "    def __init__(self, employeeid, first, last, pay, lang):\n",
    "        Employee.__init__(self, employeeid, first, last, pay)\n",
    "#         super().__init__(employeeid, first, last, pay)\n",
    "        \n",
    "        self.lang=lang\n",
    "        \n",
    "class Manager(Employee):\n",
    "    man_list=[]\n",
    "    def __init__(self, employeeid, first, last, pay, employees=None):\n",
    "        super().__init__(employeeid, first, last, pay)\n",
    "        \n",
    "        if employees is None:\n",
    "            self.employees=[]\n",
    "        else:\n",
    "            self.employees=employees\n",
    "        \n",
    "#         self.employees=employees or []\n",
    "\n",
    "        Manager.man_list.append(self)\n",
    "        \n",
    "    def display_employees(self):\n",
    "        \n",
    "        for employee in self.employees:\n",
    "            print(employee.employeeid, employee.first, employee.last, employee.pay, employee.email)\n",
    "            \n",
    "    def add_employee(self, emp):\n",
    "        return self.employees.append(emp)\n",
    "        \n",
    "    \n",
    "    def add_new_employee(self):\n",
    "        employeeid=input('Enter employeeid: ')\n",
    "        first=input('Enter First Name: ')\n",
    "        last=input('Enter Last Name: ')\n",
    "        pay=input('Enter pay: ')\n",
    "        \n",
    "        emp=Employee(employeeid, first, last, pay)\n",
    "        return self.employees.append(emp)\n",
    "\n",
    "        \n",
    "    def get_employee(self, employeeid):\n",
    "        for emp in self.employees:\n",
    "            if emp.employeeid == employeeid:\n",
    "                return emp\n",
    "        \n",
    "    def update_employee(self, employeeid):\n",
    "        emp=self.get_employee(employeeid)\n",
    "        field=input('Enter the field to be changed: ')\n",
    "        new_value=input('Enter New Value: ')\n",
    "        \n",
    "        if field == 'pay':\n",
    "            new_value=int(new_value)\n",
    "            \n",
    "        else:\n",
    "            new_value=new_value\n",
    "        \n",
    "        emp.__dict__[field]=new_value\n",
    "        \n",
    "    def delete_employee(self, employeeid):\n",
    "        emp=self.get_employee(employeeid)\n",
    "        for emp in self.employees:\n",
    "            if emp.employeeid==employeeid:\n",
    "                return self.employees.remove(emp)\n",
    "            \n",
    "#     def man_list(cls)\n",
    "        \n",
    "#     def all_employees(cls):\n",
    "        "
   ]
  },
  {
   "cell_type": "code",
   "execution_count": 2,
   "metadata": {
    "scrolled": true
   },
   "outputs": [],
   "source": [
    "emp1=Employee(1, 'Kason', 'Kown', 90000)\n",
    "dev1=Developer(2, 'Lynn', 'Hong', 80000, 'Python')\n",
    "emp2=Employee(3, 'Chloe', 'Lee', 85000)"
   ]
  },
  {
   "cell_type": "code",
   "execution_count": 3,
   "metadata": {},
   "outputs": [],
   "source": [
    "man1=Manager(4, 'Jason', 'Bae', 89000, [emp1, dev1, emp2])"
   ]
  },
  {
   "cell_type": "code",
   "execution_count": 4,
   "metadata": {
    "scrolled": false
   },
   "outputs": [
    {
     "name": "stdout",
     "output_type": "stream",
     "text": [
      "1 Kason Kown 90000 Kason.Kown@gmail.com\n",
      "2 Lynn Hong 80000 Lynn.Hong@gmail.com\n",
      "3 Chloe Lee 85000 Chloe.Lee@gmail.com\n"
     ]
    }
   ],
   "source": [
    "man1.display_employees()"
   ]
  },
  {
   "cell_type": "code",
   "execution_count": 5,
   "metadata": {},
   "outputs": [],
   "source": [
    "man1.delete_employee(2)"
   ]
  },
  {
   "cell_type": "code",
   "execution_count": 6,
   "metadata": {},
   "outputs": [
    {
     "name": "stdout",
     "output_type": "stream",
     "text": [
      "1 Kason Kown 90000 Kason.Kown@gmail.com\n",
      "3 Chloe Lee 85000 Chloe.Lee@gmail.com\n"
     ]
    }
   ],
   "source": [
    "man1.display_employees()"
   ]
  },
  {
   "cell_type": "code",
   "execution_count": 7,
   "metadata": {
    "scrolled": true
   },
   "outputs": [
    {
     "name": "stdout",
     "output_type": "stream",
     "text": [
      "Enter the field to be changed: pay\n",
      "Enter New Value: 100000\n"
     ]
    }
   ],
   "source": [
    "man1.update_employee(1)"
   ]
  },
  {
   "cell_type": "code",
   "execution_count": 8,
   "metadata": {
    "scrolled": true
   },
   "outputs": [
    {
     "name": "stdout",
     "output_type": "stream",
     "text": [
      "1 Kason Kown 100000 Kason.Kown@gmail.com\n",
      "3 Chloe Lee 85000 Chloe.Lee@gmail.com\n"
     ]
    }
   ],
   "source": [
    "man1.display_employees()"
   ]
  },
  {
   "cell_type": "code",
   "execution_count": 9,
   "metadata": {
    "scrolled": false
   },
   "outputs": [
    {
     "name": "stdout",
     "output_type": "stream",
     "text": [
      "Enter employeeid: 4\n",
      "Enter First Name: John\n",
      "Enter Last Name: Stewart\n",
      "Enter pay: 80000\n"
     ]
    }
   ],
   "source": [
    "man1.add_new_employee()"
   ]
  },
  {
   "cell_type": "code",
   "execution_count": 10,
   "metadata": {},
   "outputs": [
    {
     "name": "stdout",
     "output_type": "stream",
     "text": [
      "1 Kason Kown 100000 Kason.Kown@gmail.com\n",
      "3 Chloe Lee 85000 Chloe.Lee@gmail.com\n",
      "4 John Stewart 80000 John.Stewart@gmail.com\n"
     ]
    }
   ],
   "source": [
    "man1.display_employees()"
   ]
  },
  {
   "cell_type": "code",
   "execution_count": 11,
   "metadata": {},
   "outputs": [],
   "source": [
    "emp1.fullname='Abie Gail'"
   ]
  },
  {
   "cell_type": "code",
   "execution_count": null,
   "metadata": {},
   "outputs": [],
   "source": []
  },
  {
   "cell_type": "code",
   "execution_count": 12,
   "metadata": {},
   "outputs": [
    {
     "name": "stdout",
     "output_type": "stream",
     "text": [
      "Abie Gail\n"
     ]
    }
   ],
   "source": [
    "print(emp1.fullname)"
   ]
  },
  {
   "cell_type": "code",
   "execution_count": 13,
   "metadata": {},
   "outputs": [],
   "source": [
    "del emp1.fullname"
   ]
  },
  {
   "cell_type": "code",
   "execution_count": 14,
   "metadata": {},
   "outputs": [
    {
     "name": "stdout",
     "output_type": "stream",
     "text": [
      "None None\n"
     ]
    }
   ],
   "source": [
    "print(emp1.fullname)"
   ]
  },
  {
   "cell_type": "code",
   "execution_count": 15,
   "metadata": {},
   "outputs": [
    {
     "name": "stdout",
     "output_type": "stream",
     "text": [
      "None None\n",
      "None\n",
      "None\n",
      "None.None@gmail.com\n",
      "100000\n"
     ]
    }
   ],
   "source": [
    "print(emp1.fullname)\n",
    "print(emp1.first)\n",
    "print(emp1.last)\n",
    "print(emp1.email)\n",
    "print(emp1.pay)"
   ]
  },
  {
   "cell_type": "code",
   "execution_count": 16,
   "metadata": {
    "scrolled": true
   },
   "outputs": [
    {
     "name": "stdout",
     "output_type": "stream",
     "text": [
      "Enter date (mm/dd/yyyy): 05/05/2030\n"
     ]
    },
    {
     "data": {
      "text/plain": [
       "False"
      ]
     },
     "execution_count": 16,
     "metadata": {},
     "output_type": "execute_result"
    }
   ],
   "source": [
    "emp1.is_workday()"
   ]
  },
  {
   "cell_type": "code",
   "execution_count": 17,
   "metadata": {},
   "outputs": [],
   "source": [
    "new_emp1='Lucas-Smith-70000'\n",
    "new1=Employee.new_employee(new_emp1,5)\n",
    "\n",
    "man2=Manager(7, 'Karl', 'Hammer', 90000)\n",
    "man2.add_employee(new1)"
   ]
  },
  {
   "cell_type": "code",
   "execution_count": 18,
   "metadata": {},
   "outputs": [
    {
     "name": "stdout",
     "output_type": "stream",
     "text": [
      "7\n"
     ]
    }
   ],
   "source": [
    "print(Employee.num_of_emp)"
   ]
  },
  {
   "cell_type": "code",
   "execution_count": 19,
   "metadata": {
    "scrolled": false
   },
   "outputs": [
    {
     "name": "stdout",
     "output_type": "stream",
     "text": [
      "<class 'int'>\n"
     ]
    }
   ],
   "source": [
    "print(type(new1.pay))"
   ]
  },
  {
   "cell_type": "code",
   "execution_count": 20,
   "metadata": {},
   "outputs": [],
   "source": [
    "emp2=Employee(6, 'Lynn', 'Hong', 80000)\n",
    "man2.add_employee(emp2)"
   ]
  },
  {
   "cell_type": "code",
   "execution_count": 21,
   "metadata": {},
   "outputs": [
    {
     "name": "stdout",
     "output_type": "stream",
     "text": [
      "5 Lucas Smith 70000 Lucas.Smith@gmail.com\n",
      "6 Lynn Hong 80000 Lynn.Hong@gmail.com\n"
     ]
    }
   ],
   "source": [
    "man2.display_employees()"
   ]
  },
  {
   "cell_type": "code",
   "execution_count": 22,
   "metadata": {
    "scrolled": true
   },
   "outputs": [
    {
     "name": "stdout",
     "output_type": "stream",
     "text": [
      "180000\n"
     ]
    }
   ],
   "source": [
    "print(emp1.__add__(emp2))"
   ]
  },
  {
   "cell_type": "code",
   "execution_count": 23,
   "metadata": {
    "scrolled": false
   },
   "outputs": [
    {
     "name": "stdout",
     "output_type": "stream",
     "text": [
      "170000\n"
     ]
    }
   ],
   "source": [
    "print(emp1.__add__(new1))"
   ]
  },
  {
   "cell_type": "code",
   "execution_count": 24,
   "metadata": {},
   "outputs": [
    {
     "name": "stdout",
     "output_type": "stream",
     "text": [
      "1 None None 100000 None.None@gmail.com\n",
      "3 Chloe Lee 85000 Chloe.Lee@gmail.com\n",
      "4 John Stewart 80000 John.Stewart@gmail.com\n"
     ]
    }
   ],
   "source": [
    "man1.display_employees()"
   ]
  },
  {
   "cell_type": "code",
   "execution_count": 30,
   "metadata": {},
   "outputs": [
    {
     "name": "stdout",
     "output_type": "stream",
     "text": [
      "[<__main__.Manager object at 0x000001D6373C8788>, <__main__.Manager object at 0x000001D6373D32C8>]\n",
      "1 None None 100000 None.None@gmail.com\n",
      "3 Chloe Lee 85000 Chloe.Lee@gmail.com\n",
      "4 John Stewart 80000 John.Stewart@gmail.com\n",
      "5 Lucas Smith 70000 Lucas.Smith@gmail.com\n",
      "6 Lynn Hong 80000 Lynn.Hong@gmail.com\n"
     ]
    }
   ],
   "source": [
    "print(Manager.man_list)\n",
    "for manager in Manager.man_list:\n",
    "    manager.display_employees()"
   ]
  },
  {
   "cell_type": "code",
   "execution_count": null,
   "metadata": {},
   "outputs": [],
   "source": []
  }
 ],
 "metadata": {
  "kernelspec": {
   "display_name": "Python 3",
   "language": "python",
   "name": "python3"
  },
  "language_info": {
   "codemirror_mode": {
    "name": "ipython",
    "version": 3
   },
   "file_extension": ".py",
   "mimetype": "text/x-python",
   "name": "python",
   "nbconvert_exporter": "python",
   "pygments_lexer": "ipython3",
   "version": "3.7.13"
  }
 },
 "nbformat": 4,
 "nbformat_minor": 4
}
