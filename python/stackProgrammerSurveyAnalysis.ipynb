{
 "cells": [
  {
   "cell_type": "markdown",
   "metadata": {},
   "source": [
    "# Data analysis of  \"2019 Stack Overflow Developer Survey\"\n",
    "\n",
    "Source explained how to analyze the survey data but I flet that it requires some background knowledges about setdefault and defaultdict, which I added here,  and also there need some deeper understanding of some trikcy codes used in the source, which I break down further here.\n",
    "\n",
    "<a src=\"https://www.youtube.com/watch?v=_P7X8tMplsw&t=1007s\"> code source</a> <br>\n",
    "<a src=\"https://insights.stackoverflow.com/survey\"> data source </a>"
   ]
  },
  {
   "cell_type": "markdown",
   "metadata": {},
   "source": [
    "## 1) Basic knowlege about setdefualt and defaultdict"
   ]
  },
  {
   "cell_type": "markdown",
   "metadata": {},
   "source": [
    "### setdefault & get()\n",
    "- Python dictionary method setdefault() is similar to get(), but will set dict[key]=default if key is not in the dict. \n",
    "- get() method returns the value of the key in the dictionary, however, if given key is not available then it will just return provided default value without setting the key in the dictionary\n",
    "\n",
    "`dict.setdefault(key, default=None)`\n",
    "\n",
    "- Parameters\n",
    "  - key − This is the key to be searched.\n",
    "  - default − This is the Value to be returned in case key is not found."
   ]
  },
  {
   "cell_type": "code",
   "execution_count": 1,
   "metadata": {},
   "outputs": [
    {
     "name": "stdout",
     "output_type": "stream",
     "text": [
      "Value : 7\n",
      "Value : None\n",
      "{'Name': 'Zara', 'Age': 7, 'Sex': None}\n",
      "\n",
      "Value : 7\n",
      "Value : None\n",
      "{'Name': 'Zara', 'Age': 7}\n"
     ]
    }
   ],
   "source": [
    "d1 = {'Name': 'Zara', 'Age': 7}\n",
    "\n",
    "print (\"Value : {}\".format(d1.setdefault('Age', None)))\n",
    "print (\"Value : {}\".format(d1.setdefault('Sex', None)))\n",
    "print(d1)\n",
    "print()\n",
    "\n",
    "d2 = {'Name': 'Zara', 'Age': 7}\n",
    "print (\"Value : {}\".format(d2.get('Age', None)))\n",
    "print (\"Value : {}\".format(d2.get('Sex', None)))\n",
    "print(d2)"
   ]
  },
  {
   "cell_type": "markdown",
   "metadata": {},
   "source": [
    "### defaultdict & setdefault\n",
    "**Using list as the default_factory, it is easy to group a sequence of key-value pairs into a dictionary of lists:**"
   ]
  },
  {
   "cell_type": "code",
   "execution_count": 2,
   "metadata": {},
   "outputs": [],
   "source": [
    "from collections import defaultdict\n",
    "\n",
    "s = [('yellow', 1), ('blue', 2), ('yellow', 3), ('blue', 4), ('red', 1)]"
   ]
  },
  {
   "cell_type": "markdown",
   "metadata": {},
   "source": [
    "**grouping using `defaultdict`**\n",
    "\n",
    "- define the type of value in advance"
   ]
  },
  {
   "cell_type": "code",
   "execution_count": 3,
   "metadata": {},
   "outputs": [
    {
     "data": {
      "text/plain": [
       "[('blue', [2, 4]), ('red', [1]), ('yellow', [1, 3])]"
      ]
     },
     "execution_count": 3,
     "metadata": {},
     "output_type": "execute_result"
    }
   ],
   "source": [
    "d = defaultdict(list)\n",
    "\n",
    "for k, v in s:\n",
    "    d[k].append(v)\n",
    "\n",
    "sorted(d.items())"
   ]
  },
  {
   "cell_type": "markdown",
   "metadata": {},
   "source": [
    "- When each key is encountered for the first time, it is not already in the mapping; so an entry is automatically created using the default_factory function which returns an empty list. \n",
    "- The list.append() operation then attaches the value to the new list. When keys are encountered again, the look-up proceeds normally (returning the list for that key) and the list.append() operation adds another value to the list. This technique is simpler and faster than an equivalent technique using dict.setdefault():"
   ]
  },
  {
   "cell_type": "markdown",
   "metadata": {},
   "source": [
    "**grouping using `setdefault`**"
   ]
  },
  {
   "cell_type": "code",
   "execution_count": 4,
   "metadata": {},
   "outputs": [
    {
     "data": {
      "text/plain": [
       "[('blue', [2, 4]), ('red', [1]), ('yellow', [1, 3])]"
      ]
     },
     "execution_count": 4,
     "metadata": {},
     "output_type": "execute_result"
    }
   ],
   "source": [
    "d = {}\n",
    "for k, v in s:\n",
    "    d.setdefault(k, []).append(v)\n",
    "\n",
    "sorted(d.items())"
   ]
  },
  {
   "cell_type": "markdown",
   "metadata": {},
   "source": [
    "**Setting the default_factory to int makes the defaultdict useful for counting (like a bag or multiset in other languages):**"
   ]
  },
  {
   "cell_type": "code",
   "execution_count": 5,
   "metadata": {},
   "outputs": [
    {
     "data": {
      "text/plain": [
       "[('i', 4), ('m', 1), ('p', 2), ('s', 4)]"
      ]
     },
     "execution_count": 5,
     "metadata": {},
     "output_type": "execute_result"
    }
   ],
   "source": [
    "# set default value to int\n",
    "\n",
    "s='mississippi'\n",
    "d=defaultdict(int)\n",
    "\n",
    "for k in s:\n",
    "    d[k]+=1\n",
    "    \n",
    "sorted(d.items())\n"
   ]
  },
  {
   "cell_type": "markdown",
   "metadata": {},
   "source": [
    "When a letter is first encountered, it is missing from the mapping, so the default_factory function calls int() to supply a default count of zero. The increment operation then builds up the count for each letter. <br>\n",
    "The function int() which always returns zero is just a special case of constant functions. A faster and more flexible way to create constant functions is to use a lambda function which can supply any constant value (not just zero):"
   ]
  },
  {
   "cell_type": "code",
   "execution_count": 6,
   "metadata": {},
   "outputs": [
    {
     "name": "stdout",
     "output_type": "stream",
     "text": [
      "John ran to <missing>\n",
      "John ran to <missing>\n"
     ]
    }
   ],
   "source": [
    "def constant_factory(value):\n",
    "    return lambda: value\n",
    "\n",
    "d=defaultdict(constant_factory('<missing>'))\n",
    "d.update(name='John', action='ran')\n",
    "d\n",
    "\n",
    "\n",
    "print('%(name)s %(action)s to %(object)s' % d)\n",
    "\n",
    "print(f\"{d['name']} {d['action']} to {d['object']}\")"
   ]
  },
  {
   "cell_type": "markdown",
   "metadata": {},
   "source": [
    "**using set as a default datatype**"
   ]
  },
  {
   "cell_type": "code",
   "execution_count": 7,
   "metadata": {},
   "outputs": [
    {
     "data": {
      "text/plain": [
       "[('blue', {2, 4}), ('red', {1, 3})]"
      ]
     },
     "execution_count": 7,
     "metadata": {},
     "output_type": "execute_result"
    }
   ],
   "source": [
    "# set default value to set\n",
    "\n",
    "s = [('red', 1), ('blue', 2), ('red', 3), ('blue', 4), ('red', 1), ('blue', 4)]\n",
    "d = defaultdict(set)\n",
    "\n",
    "for k, v in s:\n",
    "    d[k].add(v)\n",
    "\n",
    "sorted(d.items())\n",
    "\n",
    "e={}\n",
    "for k, v in s:\n",
    "    e.setdefault(k, set()).add(v)\n",
    "    \n",
    "sorted(e.items())"
   ]
  },
  {
   "cell_type": "code",
   "execution_count": 8,
   "metadata": {},
   "outputs": [
    {
     "data": {
      "text/plain": [
       "defaultdict(<function __main__.def_value()>, {'a': 1, 'b': 2})"
      ]
     },
     "execution_count": 8,
     "metadata": {},
     "output_type": "execute_result"
    }
   ],
   "source": [
    "from collections import defaultdict\n",
    "\n",
    "def def_value():\n",
    "    return \"Not present\"\n",
    "\n",
    "d=defaultdict(def_value)\n",
    "\n",
    "d['a']=1\n",
    "d['b']=2\n",
    "\n",
    "d"
   ]
  },
  {
   "cell_type": "code",
   "execution_count": 9,
   "metadata": {
    "scrolled": true
   },
   "outputs": [
    {
     "name": "stdout",
     "output_type": "stream",
     "text": [
      "Not present\n"
     ]
    }
   ],
   "source": [
    "print(d['c'])"
   ]
  },
  {
   "cell_type": "code",
   "execution_count": 10,
   "metadata": {},
   "outputs": [
    {
     "name": "stdout",
     "output_type": "stream",
     "text": [
      "Not present\n"
     ]
    }
   ],
   "source": [
    "d=defaultdict(lambda:'Not present')\n",
    "d['a']=1\n",
    "d['b']=2\n",
    "\n",
    "print(d['c'])"
   ]
  },
  {
   "cell_type": "code",
   "execution_count": 11,
   "metadata": {},
   "outputs": [
    {
     "name": "stdout",
     "output_type": "stream",
     "text": [
      "defaultdict(<class 'list'>, {0: [0], 1: [1], 2: [2], 3: [3], 4: [4]})\n"
     ]
    }
   ],
   "source": [
    "from collections import defaultdict\n",
    "\n",
    "d=defaultdict(list)\n",
    "\n",
    "for i in range(5):\n",
    "    d[i].append(i)\n",
    "print(d)"
   ]
  },
  {
   "cell_type": "code",
   "execution_count": 12,
   "metadata": {},
   "outputs": [
    {
     "name": "stdout",
     "output_type": "stream",
     "text": [
      "defaultdict(<class 'int'>, {1: 1, 2: 3, 3: 2, 4: 2})\n"
     ]
    }
   ],
   "source": [
    "from collections import defaultdict\n",
    "\n",
    "d=defaultdict(int)\n",
    "\n",
    "L=[1,2,3,4,2,3,4,2]\n",
    "\n",
    "for i in L:\n",
    "    d[i]+=1\n",
    "    \n",
    "print(d)"
   ]
  },
  {
   "cell_type": "code",
   "execution_count": 13,
   "metadata": {
    "scrolled": false
   },
   "outputs": [
    {
     "name": "stdout",
     "output_type": "stream",
     "text": [
      "Geeks\n",
      "{'A': 'Geeks', 'B': 'For'}\n",
      "None\n",
      "{'A': 'Geeks', 'B': 'For', 'C': None}\n",
      "Geeks\n",
      "{'A': 'Geeks', 'B': 'For', 'C': None, 'D': 'Geeks'}\n"
     ]
    }
   ],
   "source": [
    "dict1={'A':'Geeks', 'B':'For'}\n",
    "\n",
    "val=dict1.setdefault('A')\n",
    "print(val)\n",
    "print(dict1)\n",
    "val=dict1.setdefault('C')\n",
    "print(val)\n",
    "print(dict1)\n",
    "val=dict1.setdefault('D', 'Geeks')\n",
    "print(val)\n",
    "print(dict1)"
   ]
  },
  {
   "cell_type": "markdown",
   "metadata": {},
   "source": [
    "## 2) Data analysis of  \"2019 Stack Overflow Developer Survey\""
   ]
  },
  {
   "cell_type": "code",
   "execution_count": 14,
   "metadata": {
    "scrolled": false
   },
   "outputs": [
    {
     "name": "stdout",
     "output_type": "stream",
     "text": [
      "{'Age': '14',\n",
      " 'Age1stCode': '10',\n",
      " 'BetterLife': 'Yes',\n",
      " 'BlockchainIs': 'NA',\n",
      " 'BlockchainOrg': 'NA',\n",
      " 'CareerSat': 'NA',\n",
      " 'CodeRev': 'NA',\n",
      " 'CodeRevHrs': 'NA',\n",
      " 'CompFreq': 'NA',\n",
      " 'CompTotal': 'NA',\n",
      " 'Containers': 'I do not use containers',\n",
      " 'ConvertedComp': 'NA',\n",
      " 'Country': 'United Kingdom',\n",
      " 'CurrencyDesc': 'NA',\n",
      " 'CurrencySymbol': 'NA',\n",
      " 'DatabaseDesireNextYear': 'MySQL',\n",
      " 'DatabaseWorkedWith': 'SQLite',\n",
      " 'Dependents': 'No',\n",
      " 'DevEnviron': 'IntelliJ;Notepad++;PyCharm',\n",
      " 'DevType': 'NA',\n",
      " 'EdLevel': 'Primary/elementary school',\n",
      " 'EduOther': 'Taught yourself a new language, framework, or tool without '\n",
      "             'taking a formal course',\n",
      " 'Employment': 'Not employed, and not looking for work',\n",
      " 'EntTeams': \"No, and I don't know what those are\",\n",
      " 'Ethnicity': 'NA',\n",
      " 'Extraversion': 'Online',\n",
      " 'FizzBuzz': 'NA',\n",
      " 'Gender': 'Man',\n",
      " 'Hobbyist': 'Yes',\n",
      " 'ITperson': 'Fortunately, someone else has that title',\n",
      " 'ImpSyn': 'NA',\n",
      " 'JobFactors': 'NA',\n",
      " 'JobSat': 'NA',\n",
      " 'JobSeek': 'NA',\n",
      " 'LanguageDesireNextYear': 'C;C++;C#;Go;HTML/CSS;Java;JavaScript;Python;SQL',\n",
      " 'LanguageWorkedWith': 'HTML/CSS;Java;JavaScript;Python',\n",
      " 'LastHireDate': 'NA',\n",
      " 'LastInt': 'NA',\n",
      " 'MainBranch': 'I am a student who is learning to code',\n",
      " 'MgrIdiot': 'NA',\n",
      " 'MgrMoney': 'NA',\n",
      " 'MgrWant': 'NA',\n",
      " 'MiscTechDesireNextYear': 'Node.js',\n",
      " 'MiscTechWorkedWith': 'Node.js',\n",
      " 'OffOn': 'Yes',\n",
      " 'OpSys': 'Windows',\n",
      " 'OpenSource': 'The quality of OSS and closed source software is about the '\n",
      "               'same',\n",
      " 'OpenSourcer': 'Never',\n",
      " 'OrgSize': 'NA',\n",
      " 'PlatformDesireNextYear': 'Android;Arduino;Windows',\n",
      " 'PlatformWorkedWith': 'MacOS;Windows',\n",
      " 'PurchaseHow': 'NA',\n",
      " 'PurchaseWhat': 'NA',\n",
      " 'Respondent': '1',\n",
      " 'ResumeUpdate': 'NA',\n",
      " 'SOAccount': 'No',\n",
      " 'SOComm': 'Neutral',\n",
      " 'SOFindAnswer': '3-5 times per week',\n",
      " 'SOHowMuchTime': '31-60 minutes',\n",
      " 'SOJobs': \"No, I didn't know that Stack Overflow had a job board\",\n",
      " 'SONewContent': 'Tech articles written by other developers;Industry news '\n",
      "                 \"about technologies you're interested in;Courses on \"\n",
      "                 \"technologies you're interested in\",\n",
      " 'SOPartFreq': 'NA',\n",
      " 'SOTimeSaved': 'Stack Overflow was much faster',\n",
      " 'SOVisit1st': '2017',\n",
      " 'SOVisitFreq': 'A few times per month or weekly',\n",
      " 'SOVisitTo': 'Find answers to specific questions;Learn how to do things I '\n",
      "              'didn’t necessarily look for',\n",
      " 'ScreenName': 'Username',\n",
      " 'Sexuality': 'Straight / Heterosexual',\n",
      " 'SocialMedia': 'Twitter',\n",
      " 'Student': 'No',\n",
      " 'SurveyEase': 'Neither easy nor difficult',\n",
      " 'SurveyLength': 'Appropriate in length',\n",
      " 'Trans': 'No',\n",
      " 'UndergradMajor': 'NA',\n",
      " 'UnitTests': 'NA',\n",
      " 'WebFrameDesireNextYear': 'Flask;jQuery',\n",
      " 'WebFrameWorkedWith': 'Django;Flask',\n",
      " 'WelcomeChange': 'Just as welcome now as I felt last year',\n",
      " 'WorkChallenge': 'NA',\n",
      " 'WorkLoc': 'NA',\n",
      " 'WorkPlan': 'NA',\n",
      " 'WorkRemote': 'NA',\n",
      " 'WorkWeekHrs': 'NA',\n",
      " 'YearsCode': '4',\n",
      " 'YearsCodePro': 'NA'}\n"
     ]
    }
   ],
   "source": [
    "import csv\n",
    "from pprint import pprint\n",
    "\n",
    "with open('survey_results_public.csv', encoding='utf-8') as f:\n",
    "    reader=csv.DictReader(f)\n",
    "  \n",
    "    \n",
    "    for line in reader:\n",
    "        pprint(line)\n",
    "        break"
   ]
  },
  {
   "cell_type": "code",
   "execution_count": 15,
   "metadata": {},
   "outputs": [
    {
     "name": "stdout",
     "output_type": "stream",
     "text": [
      "'Yes'\n"
     ]
    }
   ],
   "source": [
    "import csv\n",
    "from pprint import pprint\n",
    "\n",
    "with open('survey_results_public.csv', encoding='utf-8') as f:\n",
    "    reader=csv.DictReader(f)\n",
    "    \n",
    "    for line in reader:\n",
    "        pprint(line['Hobbyist'])\n",
    "        break"
   ]
  },
  {
   "cell_type": "code",
   "execution_count": 16,
   "metadata": {},
   "outputs": [
    {
     "name": "stdout",
     "output_type": "stream",
     "text": [
      "Yes : 71257\n",
      "No  : 17626\n",
      "\n",
      "Yes : 80.17\n",
      "No  : 19.83\n"
     ]
    }
   ],
   "source": [
    "# calculate the number for both yes and no for 'Hobbyist' column\n",
    "\n",
    "with open('survey_results_public.csv', encoding='utf-8') as f:\n",
    "    reader=csv.DictReader(f)\n",
    "    yes_count=0\n",
    "    no_count=0\n",
    "    \n",
    "    for line in reader:\n",
    "        if line['Hobbyist']=='Yes':\n",
    "            yes_count+=1\n",
    "        elif line['Hobbyist']=='No':\n",
    "            no_count+=1\n",
    "total=yes_count + no_count\n",
    "yes_pct=round((yes_count/total)*100, 2)\n",
    "no_pct=round((no_count/total)*100, 2)\n",
    "\n",
    "\n",
    "print('Yes : {:}'.format(yes_count))\n",
    "print('No  : {:}'.format(no_count))\n",
    "print()\n",
    "print('Yes : {:}'.format(yes_pct))\n",
    "print('No  : {:}'.format(no_pct))"
   ]
  },
  {
   "cell_type": "code",
   "execution_count": 17,
   "metadata": {},
   "outputs": [
    {
     "name": "stdout",
     "output_type": "stream",
     "text": [
      "Yes : 71257\n",
      "No  : 17626\n",
      "\n",
      "Yes : 80.17%\n",
      "No  : 19.83%\n"
     ]
    }
   ],
   "source": [
    "# calculate the number for both yes and no for 'Hobbyist' column and store the results in dictionary\n",
    "\n",
    "\n",
    "with open('survey_results_public.csv', encoding='utf-8') as f:\n",
    "    reader=csv.DictReader(f)\n",
    "    counts={'Yes':0,\n",
    "           'No':0} # initialize the intial values to 0, keys are already in there\n",
    "    \n",
    "    for line in reader:\n",
    "        counts[line['Hobbyist']]+=1\n",
    "        \n",
    "total= counts['Yes'] + counts['No']\n",
    "\n",
    "yes_pct=round((counts['Yes']/total)*100, 2)\n",
    "no_pct=round((counts['No']/total)*100, 2)\n",
    "\n",
    "\n",
    "print('Yes : {:}'.format(counts['Yes']))\n",
    "print('No  : {:}'.format(counts['No']))\n",
    "print()\n",
    "print('Yes : {:}%'.format(yes_pct))\n",
    "print('No  : {:}%'.format(no_pct))"
   ]
  },
  {
   "cell_type": "code",
   "execution_count": 18,
   "metadata": {},
   "outputs": [
    {
     "name": "stdout",
     "output_type": "stream",
     "text": [
      "Yes : 71257\n",
      "No  : 17626\n",
      "\n",
      "Yes : 80.17%\n",
      "No  : 19.83%\n"
     ]
    }
   ],
   "source": [
    "# use defaultdict\n",
    "\n",
    "from collections import defaultdict # initialize values of keys by providing data type\n",
    "\n",
    "with open('survey_results_public.csv', encoding='utf-8') as f:\n",
    "    reader=csv.DictReader(f)\n",
    "    counts=defaultdict(int) # dictionary knows to expect integers as values to our keys and it will start at zero by default\n",
    "    \n",
    "    for line in reader:\n",
    "        counts[line['Hobbyist']]+=1\n",
    "total= counts['Yes'] + counts['No']\n",
    "yes_pct=round((counts['Yes']/total)*100, 2)\n",
    "no_pct=round((counts['No']/total)*100, 2)\n",
    "\n",
    "\n",
    "print('Yes : {:}'.format(counts['Yes']))\n",
    "print('No  : {:}'.format(counts['No']))\n",
    "print()\n",
    "print('Yes : {:}%'.format(yes_pct))\n",
    "print('No  : {:}%'.format(no_pct))"
   ]
  },
  {
   "cell_type": "code",
   "execution_count": 19,
   "metadata": {},
   "outputs": [
    {
     "name": "stdout",
     "output_type": "stream",
     "text": [
      "Yes : 71257\n",
      "No  : 17626\n",
      "\n",
      "Yes : 80.17%\n",
      "No  : 19.83%\n"
     ]
    }
   ],
   "source": [
    "# use defaultdict\n",
    "\n",
    "from collections import defaultdict, Counter\n",
    "\n",
    "with open('survey_results_public.csv', encoding='utf-8') as f:\n",
    "    reader=csv.DictReader(f)\n",
    "    counts=Counter()  # when simply counting certain values\n",
    "    \n",
    "    for line in reader:\n",
    "        counts[line['Hobbyist']]+=1\n",
    "total= counts['Yes'] + counts['No']\n",
    "yes_pct=round((counts['Yes']/total)*100, 2)\n",
    "no_pct=round((counts['No']/total)*100, 2)\n",
    "\n",
    "\n",
    "print('Yes : {:}'.format(counts['Yes']))\n",
    "print('No  : {:}'.format(counts['No']))\n",
    "print()\n",
    "print('Yes : {:}%'.format(yes_pct))\n",
    "print('No  : {:}%'.format(no_pct))"
   ]
  },
  {
   "cell_type": "code",
   "execution_count": 20,
   "metadata": {},
   "outputs": [
    {
     "name": "stdout",
     "output_type": "stream",
     "text": [
      "Counter({'HTML/CSS': 1, 'Java': 1, 'JavaScript': 1, 'Python': 1})\n"
     ]
    }
   ],
   "source": [
    "# find the most popular programming language using Counter\n",
    "\n",
    "from collections import defaultdict, Counter\n",
    "\n",
    "with open('survey_results_public.csv', encoding='utf-8') as f:\n",
    "    reader=csv.DictReader(f)\n",
    "    language_counter=Counter() \n",
    "        \n",
    "    for line in reader:\n",
    "        languages=line['LanguageWorkedWith'].split(';')\n",
    "        \n",
    "        for language in languages:\n",
    "            language_counter[language]+=1\n",
    "            \n",
    "        print(language_counter)\n",
    "        break\n"
   ]
  },
  {
   "cell_type": "code",
   "execution_count": 21,
   "metadata": {
    "scrolled": false
   },
   "outputs": [
    {
     "name": "stdout",
     "output_type": "stream",
     "text": [
      "Counter({'JavaScript': 59219,\n",
      "         'HTML/CSS': 55466,\n",
      "         'SQL': 47544,\n",
      "         'Python': 36443,\n",
      "         'Java': 35917,\n",
      "         'Bash/Shell/PowerShell': 31991,\n",
      "         'C#': 27097,\n",
      "         'PHP': 23030,\n",
      "         'C++': 20524,\n",
      "         'TypeScript': 18523,\n",
      "         'C': 18017,\n",
      "         'Other(s):': 7920,\n",
      "         'Ruby': 7331,\n",
      "         'Go': 7201,\n",
      "         'Assembly': 5833,\n",
      "         'Swift': 5744,\n",
      "         'Kotlin': 5620,\n",
      "         'R': 5048,\n",
      "         'VBA': 4781,\n",
      "         'Objective-C': 4191,\n",
      "         'Scala': 3309,\n",
      "         'Rust': 2794,\n",
      "         'Dart': 1683,\n",
      "         'NA': 1314,\n",
      "         'Elixir': 1260,\n",
      "         'Clojure': 1254,\n",
      "         'WebAssembly': 1015,\n",
      "         'F#': 973,\n",
      "         'Erlang': 777})\n",
      "\n",
      "taken 3.8947582999999995\n",
      "[('JavaScript', 59219),\n",
      " ('HTML/CSS', 55466),\n",
      " ('SQL', 47544),\n",
      " ('Python', 36443),\n",
      " ('Java', 35917),\n",
      " ('Bash/Shell/PowerShell', 31991),\n",
      " ('C#', 27097),\n",
      " ('PHP', 23030),\n",
      " ('C++', 20524),\n",
      " ('TypeScript', 18523)]\n"
     ]
    }
   ],
   "source": [
    "# use defaultdict\n",
    "import time\n",
    "from collections import defaultdict, Counter\n",
    "\n",
    "t1=time.perf_counter()\n",
    "with open('survey_results_public.csv', encoding='utf-8') as f:\n",
    "    reader=csv.DictReader(f)\n",
    "    language_counter=Counter() \n",
    "        \n",
    "    for line in reader:\n",
    "        languages=line['LanguageWorkedWith'].split(';')\n",
    "        language_counter.update(languages)\n",
    "        \n",
    "t2=time.perf_counter()\n",
    "\n",
    "pprint(language_counter)\n",
    "print()\n",
    "print(f'taken {t2 - t1}')\n",
    "pprint(language_counter.most_common(10))"
   ]
  },
  {
   "cell_type": "code",
   "execution_count": 22,
   "metadata": {
    "scrolled": false
   },
   "outputs": [
    {
     "name": "stdout",
     "output_type": "stream",
     "text": [
      "['Developer, desktop or enterprise applications', 'Developer, front-end']\n",
      "['Developer, desktop or enterprise applications', 'Developer, front-end']\n",
      "['Developer, desktop or enterprise applications', 'Developer, front-end']\n",
      "['Developer, desktop or enterprise applications', 'Developer, front-end']\n",
      "['Developer, desktop or enterprise applications', 'Developer, front-end']\n",
      "['Developer, desktop or enterprise applications', 'Developer, front-end']\n",
      "['Developer, desktop or enterprise applications', 'Developer, front-end']\n",
      "['Developer, desktop or enterprise applications', 'Developer, front-end']\n",
      "['Developer, desktop or enterprise applications', 'Developer, front-end']\n",
      "['Developer, desktop or enterprise applications', 'Developer, front-end']\n",
      "\n",
      "['HTML/CSS']\n",
      "['HTML/CSS']\n",
      "['HTML/CSS']\n",
      "['HTML/CSS']\n",
      "['HTML/CSS']\n",
      "['HTML/CSS']\n",
      "['HTML/CSS']\n",
      "['HTML/CSS']\n",
      "['HTML/CSS']\n",
      "['HTML/CSS']\n"
     ]
    }
   ],
   "source": [
    "import csv\n",
    "with open('survey_results_public.csv', encoding='utf-8') as f:\n",
    "    csv_reader = csv.DictReader(f)\n",
    "\n",
    "    dev_type_info = {}\n",
    "    \n",
    "\n",
    "\n",
    "    for line in csv_reader:\n",
    "        if line['DevType'] != 'NA':\n",
    "            count=0\n",
    "            while count <10:\n",
    "                print (line['DevType'].split(';'))\n",
    "                count+=1\n",
    "            break\n",
    "    print()        \n",
    "    for line in csv_reader:\n",
    "        if line['LanguageWorkedWith'] != 'NA':\n",
    "            count=0\n",
    "            while count <10:\n",
    "                print (line['LanguageWorkedWith'].split(';'))\n",
    "                count+=1\n",
    "            break"
   ]
  },
  {
   "cell_type": "code",
   "execution_count": 23,
   "metadata": {
    "scrolled": false
   },
   "outputs": [
    {
     "name": "stdout",
     "output_type": "stream",
     "text": [
      "{'NA': {'total': 1, 'language_counter': Counter({'HTML/CSS': 1, 'Java': 1, 'JavaScript': 1, 'Python': 1})}}\n",
      "NA\n",
      "\tHTML/CSS: 100.0%\n",
      "\tJava: 100.0%\n",
      "\tJavaScript: 100.0%\n",
      "\tPython: 100.0%\n"
     ]
    }
   ],
   "source": [
    "# Analyse further to get the info of developer types\n",
    "\n",
    "import csv\n",
    "from collections import defaultdict, Counter\n",
    "\n",
    "with open('survey_results_public.csv', encoding='utf-8') as f:\n",
    "    csv_reader = csv.DictReader(f)\n",
    "\n",
    "    dev_type_info = {}\n",
    "\n",
    "    for line in csv_reader:\n",
    "        dev_types = line['DevType'].split(';')\n",
    "        \n",
    "\n",
    "        for dev_type in dev_types:\n",
    "            dev_type_info.setdefault(dev_type, {\n",
    "                'total': 0,\n",
    "                'language_counter': Counter()\n",
    "            })\n",
    "\n",
    "            languages = line['LanguageWorkedWith'].split(';')\n",
    "            dev_type_info[dev_type]['language_counter'].update(languages)\n",
    "            dev_type_info[dev_type]['total'] += 1\n",
    "            break\n",
    "        break\n",
    "    print(dev_type_info)\n",
    "\n",
    "for dev_type, info in dev_type_info.items():\n",
    "    print(dev_type)\n",
    "\n",
    "    for language, value in info['language_counter'].most_common(5):\n",
    "        language_pct = (value / info['total']) * 100\n",
    "        language_pct = round(language_pct, 2)\n",
    "\n",
    "        print(f'\\t{language}: {language_pct}%')"
   ]
  },
  {
   "cell_type": "code",
   "execution_count": 24,
   "metadata": {
    "scrolled": false
   },
   "outputs": [
    {
     "name": "stdout",
     "output_type": "stream",
     "text": [
      "Developer, desktop or enterprise applications;Developer, front-end\n",
      "\n",
      "['Developer, desktop or enterprise applications', 'Developer, front-end']\n",
      "\n",
      "Developer, desktop or enterprise applications\n",
      "Developer, front-end\n",
      "{'Developer, desktop or enterprise applications': {'language_counter': Counter({'C++': 1,\n",
      "                                                                                'HTML/CSS': 1,\n",
      "                                                                                'Python': 1}),\n",
      "                                                   'total': 1},\n",
      " 'Developer, front-end': {'language_counter': Counter({'C++': 1,\n",
      "                                                       'HTML/CSS': 1,\n",
      "                                                       'Python': 1}),\n",
      "                          'total': 1}}\n",
      "\n",
      "Developer, desktop or enterprise applications\n",
      "\tC++: 100.0%\n",
      "\tHTML/CSS: 100.0%\n",
      "\tPython: 100.0%\n",
      "\n",
      "Developer, front-end\n",
      "\tC++: 100.0%\n",
      "\tHTML/CSS: 100.0%\n",
      "\tPython: 100.0%\n",
      "\n"
     ]
    }
   ],
   "source": [
    "# Analyse further to get the info of developer types\n",
    "\n",
    "import csv\n",
    "from collections import defaultdict, Counter\n",
    "from pprint import pprint\n",
    "\n",
    "with open('survey_results_public.csv', encoding='utf-8') as f:\n",
    "    csv_reader = csv.DictReader(f)\n",
    "\n",
    "    dev_type_info = {}\n",
    "    \n",
    "    for line in csv_reader:\n",
    "        if line['DevType'] != 'NA':\n",
    "            print(line['DevType'], end='\\n\\n')\n",
    "            \n",
    "            dev_types = line['DevType'].split(';')\n",
    "            print(dev_types, end='\\n\\n')\n",
    "         \n",
    "            for _ in range(2):\n",
    "                for dev_type in dev_types:\n",
    "                    print(dev_type, end='\\n')\n",
    "\n",
    "                    dev_type_info.setdefault(dev_type, {\n",
    "                        'total': 0,\n",
    "                        'language_counter': Counter()\n",
    "                    })\n",
    "\n",
    "                    languages = line['LanguageWorkedWith'].split(';')\n",
    "                    dev_type_info[dev_type]['language_counter'].update(languages)\n",
    "                    dev_type_info[dev_type]['total'] += 1\n",
    "                break\n",
    "            break\n",
    "    pprint(dev_type_info)\n",
    "    \n",
    "print()\n",
    "\n",
    "for dev_type, info in dev_type_info.items():\n",
    "    print(dev_type)\n",
    "\n",
    "    for language, value in info['language_counter'].most_common(5):\n",
    "        language_pct = (value / info['total']) * 100\n",
    "        language_pct = round(language_pct, 2)\n",
    "\n",
    "        print(f'\\t{language}: {language_pct}%')\n",
    "        \n",
    "    print(end='\\n')"
   ]
  },
  {
   "cell_type": "markdown",
   "metadata": {},
   "source": [
    "- Above, there is two dev_types: one is \"Developer, desktop or enterprise applications\"; the other one is \"Developer, front-end\"\n",
    "\n",
    "- So these two keys have the same values as below:\n",
    "        Counter({'C++': 1,\n",
    "                 'HTML/CSS': 1,\n",
    "                 'Python': 1}),\n",
    "        \n",
    "- And the total get 1 for each developer type"
   ]
  },
  {
   "cell_type": "code",
   "execution_count": 25,
   "metadata": {
    "scrolled": false
   },
   "outputs": [
    {
     "name": "stdout",
     "output_type": "stream",
     "text": [
      "NA\n",
      "\tHTML/CSS: 54.9%\n",
      "\tPython: 51.09%\n",
      "\tJavaScript: 50.58%\n",
      "\tJava: 42.71%\n",
      "\tC++: 35.02%\n",
      "\n",
      "Developer, desktop or enterprise applications\n",
      "\tSQL: 49.93%\n",
      "\tC#: 48.74%\n",
      "\tJavaScript: 39.57%\n",
      "\tJava: 37.65%\n",
      "\tHTML/CSS: 34.96%\n",
      "\n",
      "Developer, front-end\n",
      "\tJavaScript: 86.11%\n",
      "\tHTML/CSS: 82.25%\n",
      "\tSQL: 32.71%\n",
      "\tTypeScript: 30.12%\n",
      "\tPHP: 28.31%\n",
      "\n",
      "Designer\n",
      "\tHTML/CSS: 59.65%\n",
      "\tJavaScript: 44.44%\n",
      "\tPython: 25.15%\n",
      "\tSQL: 23.98%\n",
      "\tJava: 21.05%\n",
      "\n",
      "Developer, back-end\n",
      "\tSQL: 53.6%\n",
      "\tJavaScript: 48.27%\n",
      "\tJava: 45.16%\n",
      "\tPython: 38.62%\n",
      "\tHTML/CSS: 36.62%\n",
      "\n",
      "Developer, full-stack\n",
      "\tJavaScript: 86.82%\n",
      "\tHTML/CSS: 77.6%\n",
      "\tSQL: 63.58%\n",
      "\tC#: 37.44%\n",
      "\tJava: 35.86%\n",
      "\n",
      "Academic researcher\n",
      "\tPython: 59.04%\n",
      "\tC++: 36.52%\n",
      "\tBash/Shell/PowerShell: 33.79%\n",
      "\tC: 30.72%\n",
      "\tHTML/CSS: 30.03%\n",
      "\n",
      "Developer, mobile\n",
      "\tJavaScript: 59.85%\n",
      "\tJava: 55.21%\n",
      "\tHTML/CSS: 51.85%\n",
      "\tSQL: 41.15%\n",
      "\tC#: 29.43%\n",
      "\n",
      "Data or business analyst\n",
      "\tSQL: 65.75%\n",
      "\tPython: 54.34%\n",
      "\tR: 37.21%\n",
      "\tHTML/CSS: 35.84%\n",
      "\tVBA: 32.65%\n",
      "\n",
      "Data scientist or machine learning specialist\n",
      "\tPython: 84.6%\n",
      "\tSQL: 57.88%\n",
      "\tR: 55.08%\n",
      "\tBash/Shell/PowerShell: 31.39%\n",
      "\tHTML/CSS: 24.5%\n",
      "\n",
      "Database administrator\n",
      "\tSQL: 76.25%\n",
      "\tPython: 38.12%\n",
      "\tBash/Shell/PowerShell: 33.75%\n",
      "\tHTML/CSS: 31.87%\n",
      "\tJavaScript: 21.25%\n",
      "\n",
      "Engineer, data\n",
      "\tSQL: 67.52%\n",
      "\tPython: 64.12%\n",
      "\tJavaScript: 52.98%\n",
      "\tHTML/CSS: 46.44%\n",
      "\tBash/Shell/PowerShell: 46.0%\n",
      "\n",
      "Engineer, site reliability\n",
      "\tJavaScript: 65.34%\n",
      "\tBash/Shell/PowerShell: 61.46%\n",
      "\tPython: 58.25%\n",
      "\tHTML/CSS: 53.2%\n",
      "\tSQL: 53.11%\n",
      "\n",
      "Developer, QA or test\n",
      "\tJavaScript: 68.33%\n",
      "\tHTML/CSS: 63.42%\n",
      "\tSQL: 59.66%\n",
      "\tJava: 43.45%\n",
      "\tC#: 36.7%\n",
      "\n",
      "DevOps specialist\n",
      "\tJavaScript: 73.44%\n",
      "\tHTML/CSS: 63.96%\n",
      "\tSQL: 61.37%\n",
      "\tBash/Shell/PowerShell: 58.9%\n",
      "\tPython: 43.83%\n",
      "\n",
      "Developer, game or graphics\n",
      "\tJavaScript: 61.18%\n",
      "\tHTML/CSS: 55.55%\n",
      "\tC#: 52.4%\n",
      "\tC++: 49.91%\n",
      "\tSQL: 38.45%\n",
      "\n",
      "Educator\n",
      "\tJavaScript: 72.3%\n",
      "\tHTML/CSS: 68.77%\n",
      "\tSQL: 54.26%\n",
      "\tJava: 40.19%\n",
      "\tPython: 35.96%\n",
      "\n",
      "Student\n",
      "\tHTML/CSS: 66.9%\n",
      "\tJavaScript: 62.35%\n",
      "\tJava: 54.34%\n",
      "\tPython: 53.24%\n",
      "\tSQL: 50.16%\n",
      "\n",
      "Engineering manager\n",
      "\tJavaScript: 71.2%\n",
      "\tHTML/CSS: 60.9%\n",
      "\tSQL: 57.64%\n",
      "\tBash/Shell/PowerShell: 45.43%\n",
      "\tPython: 42.81%\n",
      "\n",
      "Senior executive/VP\n",
      "\tJavaScript: 74.57%\n",
      "\tHTML/CSS: 69.2%\n",
      "\tSQL: 61.46%\n",
      "\tPython: 44.34%\n",
      "\tBash/Shell/PowerShell: 43.34%\n",
      "\n",
      "System administrator\n",
      "\tJavaScript: 73.45%\n",
      "\tHTML/CSS: 72.57%\n",
      "\tSQL: 67.94%\n",
      "\tBash/Shell/PowerShell: 58.44%\n",
      "\tPython: 51.36%\n",
      "\n",
      "Developer, embedded applications or devices\n",
      "\tC: 69.57%\n",
      "\tC++: 65.59%\n",
      "\tPython: 59.65%\n",
      "\tBash/Shell/PowerShell: 50.19%\n",
      "\tJavaScript: 27.05%\n",
      "\n",
      "Product manager\n",
      "\tJavaScript: 72.93%\n",
      "\tHTML/CSS: 67.79%\n",
      "\tSQL: 59.32%\n",
      "\tPython: 36.19%\n",
      "\tBash/Shell/PowerShell: 33.04%\n",
      "\n",
      "Scientist\n",
      "\tPython: 68.37%\n",
      "\tBash/Shell/PowerShell: 44.9%\n",
      "\tHTML/CSS: 43.72%\n",
      "\tJavaScript: 43.32%\n",
      "\tSQL: 42.3%\n",
      "\n",
      "Marketing or sales professional\n",
      "\tHTML/CSS: 76.81%\n",
      "\tJavaScript: 70.18%\n",
      "\tSQL: 51.81%\n",
      "\tPHP: 38.55%\n",
      "\tPython: 35.24%\n",
      "\n"
     ]
    }
   ],
   "source": [
    "# Analyse further to get the info of developer types\n",
    "\n",
    "import csv\n",
    "from collections import defaultdict, Counter\n",
    "from pprint import pprint\n",
    "\n",
    "with open('survey_results_public.csv', encoding='utf-8') as f:\n",
    "    csv_reader = csv.DictReader(f)\n",
    "\n",
    "    dev_type_info = {}\n",
    "    \n",
    "    for line in csv_reader:\n",
    "        dev_types = line['DevType'].split(';')\n",
    "        for dev_type in dev_types:\n",
    "            dev_type_info.setdefault(dev_type, {\n",
    "                'total': 0,\n",
    "                'language_counter': Counter()\n",
    "            })\n",
    "\n",
    "        languages = line['LanguageWorkedWith'].split(';')\n",
    "        dev_type_info[dev_type]['language_counter'].update(languages)\n",
    "        dev_type_info[dev_type]['total'] += 1\n",
    "    \n",
    "\n",
    "for dev_type, info in dev_type_info.items():\n",
    "    print(dev_type)\n",
    "\n",
    "    for language, value in info['language_counter'].most_common(5):\n",
    "        language_pct = (value / info['total']) * 100\n",
    "        language_pct = round(language_pct, 2)\n",
    "\n",
    "        print(f'\\t{language}: {language_pct}%')\n",
    "        \n",
    "    print(end='\\n')"
   ]
  }
 ],
 "metadata": {
  "kernelspec": {
   "display_name": "Python 3",
   "language": "python",
   "name": "python3"
  },
  "language_info": {
   "codemirror_mode": {
    "name": "ipython",
    "version": 3
   },
   "file_extension": ".py",
   "mimetype": "text/x-python",
   "name": "python",
   "nbconvert_exporter": "python",
   "pygments_lexer": "ipython3",
   "version": "3.9.12"
  }
 },
 "nbformat": 4,
 "nbformat_minor": 2
}
