{
 "cells": [
  {
   "cell_type": "code",
   "execution_count": 6,
   "metadata": {
    "collapsed": true
   },
   "outputs": [
    {
     "name": "stdout",
     "output_type": "stream",
     "text": [
      "['John', 'Doe', 'johndoe@bogusemail.com', '10.00', '20.00', 'Ok', '', '2017-05-06 21:28:06.183108']\n",
      "['Dave', 'Smith', 'davesmith@bogusemail.com', '5.00', '10.00', 'Ok', '', '2017-05-29 16:13:58.318920']\n",
      "['Mary', 'Jacobs', 'maryjacobs@bogusemail.com', '5.00', '10.00', 'Ok', '', '2017-05-14 07:37:01.074648']\n",
      "['Jane', 'Stuart', 'janestuart@bogusemail.com', '5.00', '25.00', 'Ok', '', '2016-12-30 18:12:13']\n",
      "['Tom', 'Wright', 'tomwright@bogusemail.com', '5.00', '15.00', 'Ok', '', '2017-04-14 04:02:06.658439']\n",
      "['Steve', 'Robinson', 'steverobinson@bogusemail.com', '5.00', '20.00', 'Ok', '', '2017-03-17 02:20:14']\n",
      "['Nicole', 'Jacobs', 'nicolejacobs@bogusemail.com', '5.00', '20.00', 'Ok', '', '2017-03-12 17:07:29']\n",
      "['Jane', 'Wright', 'janewright@bogusemail.com', '5.00', '25.00', '', '', '2017-01-14 17:40:06']\n",
      "['Jane', 'Doe', 'janedoe@bogusemail.com', '2.50', '5.00', 'Ok', '', '2017-05-14 11:20:50.798440']\n",
      "['Kurt', 'Wright', 'kurtwright@bogusemail.com', '2.00', '2.00', 'Ok', '', '2017-06-23 21:12:15.662157']\n",
      "['Kurt', 'Robinson', 'kurtrobinson@bogusemail.com', '2.00', '4.00', 'Ok', '', '2017-05-03 03:18:54.877885']\n",
      "['Jane', 'Jenkins', 'janejenkins@bogusemail.com', '2.00', '8.00', 'Ok', '', '2017-03-23 16:37:47.708634']\n",
      "['Neil', 'Robinson', 'neilrobinson@bogusemail.com', '1.50', '3.00', 'Ok', '', '2017-05-26 19:59:51.013984']\n",
      "['Tom', 'Patterson', 'tompatterson@bogusemail.com', '1.34', '4.02', 'Ok', '', '2017-04-27 01:55:12.313799']\n",
      "['Sam', 'Jenkins', 'samjenkins@bogusemail.com', '1.00', '0.00', 'Ok', '', '2017-07-16 02:34:47.674287']\n",
      "['Steve', 'Stuart', 'stevestuart@bogusemail.com', '1.00', '1.00', 'Ok', '', '2017-06-12 03:32:00.706554']\n",
      "['Maggie', 'Patterson', 'maggiepatterson@bogusemail.com', '1.00', '2.00', 'Ok', '', '2017-05-26 01:23:14.097393']\n",
      "['Maggie', 'Stuart', 'maggiestuart@bogusemail.com', '1.00', '2.00', 'Ok', '', '2017-05-19 23:11:08.624354']\n",
      "['Jane', 'Doe', 'janedoe@bogusemail.com', '1.00', '3.00', 'Ok', '', '2017-04-15 19:40:17.044921']\n",
      "['Steve', 'Patterson', 'stevepatterson@bogusemail.com', '1.00', '3.00', 'Ok', '', '2017-04-09 17:14:23.591656']\n",
      "['Dave', 'Smith', 'davesmith@bogusemail.com', '1.00', '3.00', 'Ok', '', '2017-04-01 18:35:10.731005']\n",
      "['Sam', 'Wilks', 'samwilks@bogusemail.com', '1.00', '4.00', 'Ok', '', '2017-03-01 09:40:56']\n",
      "['Kurt', 'Jefferson', 'kurtjefferson@bogusemail.com', '1.00', '5.00', 'Ok', '', '2017-02-24 08:23:05']\n",
      "['Sam', 'Stuart', 'samstuart@bogusemail.com', '1.00', '5.00', 'Ok', '', '2017-02-12 00:14:31']\n",
      "['Jane', 'Stuart', 'janestuart@bogusemail.com', '1.00', '5.00', 'Ok', '', '2017-02-06 14:52:28']\n",
      "['Dave', 'Davis', 'davedavis@bogusemail.com', '1.00', '0.00', '', '', '2016-11-18 01:37:25']\n",
      "['Sam', 'Patterson', 'sampatterson@bogusemail.com', '1.00', '8.00', 'Ok', '', '2016-11-01 11:27:17']\n",
      "['Tom', 'Jefferson', 'tomjefferson@bogusemail.com', '1.00', '10.00', 'Ok', '', '2016-09-27 09:56:48']\n",
      "['Jane', 'Stuart', 'janestuart@bogusemail.com', '1.00', '7.00', '', '', '2016-08-09 14:42:25']\n",
      "['Maggie', 'Jefferson', 'maggiejefferson@bogusemail.com', '1.00', '12.00', 'Ok', '', '2016-07-26 05:02:16']\n",
      "['No Reward', 'Description: (None for No Reward)', '', '', '', '', '', '']\n",
      "['Mary', 'Wilks', 'marywilks@bogusemail.com', '20.00', '60.00', 'Ok', '', '2017-04-21 02:44:43.395224']\n",
      "['Neil', 'Patterson', 'neilpatterson@bogusemail.com', '10.00', '80.00', 'Ok', '', '2016-11-12 17:49:37']\n",
      "['Corey', 'Davis', 'coreydavis@bogusemail.com', '6.00', '90.00', 'Ok', '', '2016-04-01 15:19:52']\n",
      "['Steve', 'Jacobs', 'stevejacobs@bogusemail.com', '5.00', '21.00', 'Ok', '', '2017-01-04 19:38:44']\n",
      "['Jane', 'Jenkins', 'janejenkins@bogusemail.com', '5.00', '30.00', 'Ok', '', '2017-01-15 17:24:39']\n",
      "['John', 'Jacobs', 'johnjacobs@bogusemail.com', '3.14', '34.54', 'Ok', '', '2016-08-23 16:09:25']\n",
      "['Neil', 'Smith', 'neilsmith@bogusemail.com', '3.00', '24.00', 'Ok', '', '2016-11-28 02:57:48']\n",
      "['Corey', 'Wilks', 'coreywilks@bogusemail.com', '2.00', '8.00', 'Ok', '', '2017-03-26 20:13:08.207869']\n",
      "['Corey', 'Smith', 'coreysmith@bogusemail.com', '1.00', '0.00', 'Ok', '', '2017-07-05 01:50:35.171076']\n",
      "['Mary', 'Patterson', 'marypatterson@bogusemail.com', '1.00', '0.00', 'Ok', '', '2017-07-04 18:05:23.052059']\n",
      "['Jane', 'Stuart', 'janestuart@bogusemail.com', '1.00', '2.00', 'Ok', '', '2017-05-21 19:42:36.098523']\n",
      "['Travis', 'Arnold', 'travisarnold@bogusemail.com', '1.00', '3.00', 'Ok', '', '2017-04-19 08:04:33.428559']\n",
      "['John', 'Robinson', 'johnrobinson@bogusemail.com', '1.00', '4.00', 'Ok', '', '2017-03-30 14:59:33.850333']\n",
      "['Travis', 'Arnold', 'travisarnold@bogusemail.com', '1.00', '6.00', 'Ok', '', '2017-01-28 22:02:57']\n"
     ]
    }
   ],
   "source": [
    "import csv\n",
    "\n",
    "with open('data/patron.csv', 'r', encoding='utf-8',newline='') as f:\n",
    "    reader=csv.reader(f)\n",
    "    next(reader) # loop over first line\n",
    "    next(reader) # loop over second line\n",
    "    \n",
    "    for line in reader: # iterate from third line\n",
    "        print(line)\n",
    "#         print(line[1], end=' ')\n",
    "#         print(line[2])"
   ]
  },
  {
   "cell_type": "code",
   "execution_count": 12,
   "metadata": {},
   "outputs": [],
   "source": [
    "with open('data/patron.csv', 'r', encoding='utf-8', newline='') as file:\n",
    "    reader=csv.reader(file)\n",
    "    with open('data/patron_new1.csv', 'w', encoding='utf-8', newline='') as newfile:\n",
    "        writer=csv.writer(newfile, delimiter='\\t')\n",
    "        for line in reader:\n",
    "            writer.writerow(line)\n",
    "   "
   ]
  },
  {
   "cell_type": "code",
   "execution_count": 16,
   "metadata": {},
   "outputs": [
    {
     "name": "stdout",
     "output_type": "stream",
     "text": [
      "['John\\tDoe\\tjohndoe@bogusemail.com\\t10.00\\t20.00\\tOk\\t\\t2017-05-06 21:28:06.183108']\n",
      "['Dave\\tSmith\\tdavesmith@bogusemail.com\\t5.00\\t10.00\\tOk\\t\\t2017-05-29 16:13:58.318920']\n",
      "['Mary\\tJacobs\\tmaryjacobs@bogusemail.com\\t5.00\\t10.00\\tOk\\t\\t2017-05-14 07:37:01.074648']\n",
      "['Jane\\tStuart\\tjanestuart@bogusemail.com\\t5.00\\t25.00\\tOk\\t\\t2016-12-30 18:12:13']\n",
      "['Tom\\tWright\\ttomwright@bogusemail.com\\t5.00\\t15.00\\tOk\\t\\t2017-04-14 04:02:06.658439']\n",
      "['Steve\\tRobinson\\tsteverobinson@bogusemail.com\\t5.00\\t20.00\\tOk\\t\\t2017-03-17 02:20:14']\n",
      "['Nicole\\tJacobs\\tnicolejacobs@bogusemail.com\\t5.00\\t20.00\\tOk\\t\\t2017-03-12 17:07:29']\n",
      "['Jane\\tWright\\tjanewright@bogusemail.com\\t5.00\\t25.00\\t\\t\\t2017-01-14 17:40:06']\n",
      "['Jane\\tDoe\\tjanedoe@bogusemail.com\\t2.50\\t5.00\\tOk\\t\\t2017-05-14 11:20:50.798440']\n",
      "['Kurt\\tWright\\tkurtwright@bogusemail.com\\t2.00\\t2.00\\tOk\\t\\t2017-06-23 21:12:15.662157']\n",
      "['Kurt\\tRobinson\\tkurtrobinson@bogusemail.com\\t2.00\\t4.00\\tOk\\t\\t2017-05-03 03:18:54.877885']\n",
      "['Jane\\tJenkins\\tjanejenkins@bogusemail.com\\t2.00\\t8.00\\tOk\\t\\t2017-03-23 16:37:47.708634']\n",
      "['Neil\\tRobinson\\tneilrobinson@bogusemail.com\\t1.50\\t3.00\\tOk\\t\\t2017-05-26 19:59:51.013984']\n",
      "['Tom\\tPatterson\\ttompatterson@bogusemail.com\\t1.34\\t4.02\\tOk\\t\\t2017-04-27 01:55:12.313799']\n",
      "['Sam\\tJenkins\\tsamjenkins@bogusemail.com\\t1.00\\t0.00\\tOk\\t\\t2017-07-16 02:34:47.674287']\n",
      "['Steve\\tStuart\\tstevestuart@bogusemail.com\\t1.00\\t1.00\\tOk\\t\\t2017-06-12 03:32:00.706554']\n",
      "['Maggie\\tPatterson\\tmaggiepatterson@bogusemail.com\\t1.00\\t2.00\\tOk\\t\\t2017-05-26 01:23:14.097393']\n",
      "['Maggie\\tStuart\\tmaggiestuart@bogusemail.com\\t1.00\\t2.00\\tOk\\t\\t2017-05-19 23:11:08.624354']\n",
      "['Jane\\tDoe\\tjanedoe@bogusemail.com\\t1.00\\t3.00\\tOk\\t\\t2017-04-15 19:40:17.044921']\n",
      "['Steve\\tPatterson\\tstevepatterson@bogusemail.com\\t1.00\\t3.00\\tOk\\t\\t2017-04-09 17:14:23.591656']\n",
      "['Dave\\tSmith\\tdavesmith@bogusemail.com\\t1.00\\t3.00\\tOk\\t\\t2017-04-01 18:35:10.731005']\n",
      "['Sam\\tWilks\\tsamwilks@bogusemail.com\\t1.00\\t4.00\\tOk\\t\\t2017-03-01 09:40:56']\n",
      "['Kurt\\tJefferson\\tkurtjefferson@bogusemail.com\\t1.00\\t5.00\\tOk\\t\\t2017-02-24 08:23:05']\n",
      "['Sam\\tStuart\\tsamstuart@bogusemail.com\\t1.00\\t5.00\\tOk\\t\\t2017-02-12 00:14:31']\n",
      "['Jane\\tStuart\\tjanestuart@bogusemail.com\\t1.00\\t5.00\\tOk\\t\\t2017-02-06 14:52:28']\n",
      "['Dave\\tDavis\\tdavedavis@bogusemail.com\\t1.00\\t0.00\\t\\t\\t2016-11-18 01:37:25']\n",
      "['Sam\\tPatterson\\tsampatterson@bogusemail.com\\t1.00\\t8.00\\tOk\\t\\t2016-11-01 11:27:17']\n",
      "['Tom\\tJefferson\\ttomjefferson@bogusemail.com\\t1.00\\t10.00\\tOk\\t\\t2016-09-27 09:56:48']\n",
      "['Jane\\tStuart\\tjanestuart@bogusemail.com\\t1.00\\t7.00\\t\\t\\t2016-08-09 14:42:25']\n",
      "['Maggie\\tJefferson\\tmaggiejefferson@bogusemail.com\\t1.00\\t12.00\\tOk\\t\\t2016-07-26 05:02:16']\n",
      "['No Reward\\tDescription: (None for No Reward)\\t\\t\\t\\t\\t\\t']\n",
      "['Mary\\tWilks\\tmarywilks@bogusemail.com\\t20.00\\t60.00\\tOk\\t\\t2017-04-21 02:44:43.395224']\n",
      "['Neil\\tPatterson\\tneilpatterson@bogusemail.com\\t10.00\\t80.00\\tOk\\t\\t2016-11-12 17:49:37']\n",
      "['Corey\\tDavis\\tcoreydavis@bogusemail.com\\t6.00\\t90.00\\tOk\\t\\t2016-04-01 15:19:52']\n",
      "['Steve\\tJacobs\\tstevejacobs@bogusemail.com\\t5.00\\t21.00\\tOk\\t\\t2017-01-04 19:38:44']\n",
      "['Jane\\tJenkins\\tjanejenkins@bogusemail.com\\t5.00\\t30.00\\tOk\\t\\t2017-01-15 17:24:39']\n",
      "['John\\tJacobs\\tjohnjacobs@bogusemail.com\\t3.14\\t34.54\\tOk\\t\\t2016-08-23 16:09:25']\n",
      "['Neil\\tSmith\\tneilsmith@bogusemail.com\\t3.00\\t24.00\\tOk\\t\\t2016-11-28 02:57:48']\n",
      "['Corey\\tWilks\\tcoreywilks@bogusemail.com\\t2.00\\t8.00\\tOk\\t\\t2017-03-26 20:13:08.207869']\n",
      "['Corey\\tSmith\\tcoreysmith@bogusemail.com\\t1.00\\t0.00\\tOk\\t\\t2017-07-05 01:50:35.171076']\n",
      "['Mary\\tPatterson\\tmarypatterson@bogusemail.com\\t1.00\\t0.00\\tOk\\t\\t2017-07-04 18:05:23.052059']\n",
      "['Jane\\tStuart\\tjanestuart@bogusemail.com\\t1.00\\t2.00\\tOk\\t\\t2017-05-21 19:42:36.098523']\n",
      "['Travis\\tArnold\\ttravisarnold@bogusemail.com\\t1.00\\t3.00\\tOk\\t\\t2017-04-19 08:04:33.428559']\n",
      "['John\\tRobinson\\tjohnrobinson@bogusemail.com\\t1.00\\t4.00\\tOk\\t\\t2017-03-30 14:59:33.850333']\n",
      "['Travis\\tArnold\\ttravisarnold@bogusemail.com\\t1.00\\t6.00\\tOk\\t\\t2017-01-28 22:02:57']\n"
     ]
    }
   ],
   "source": [
    "         \n",
    "with open('data/patron_new1.csv', 'r', encoding='utf-8', newline='') as file:\n",
    "    reader=csv.reader(file)\n",
    "    next(reader)\n",
    "    next(reader)\n",
    "    next(reader)\n",
    "    next(reader)\n",
    "    for line in reader:\n",
    "        print(line)"
   ]
  },
  {
   "cell_type": "code",
   "execution_count": 17,
   "metadata": {
    "scrolled": true
   },
   "outputs": [
    {
     "name": "stdout",
     "output_type": "stream",
     "text": [
      "OrderedDict([('first_name', 'John'), ('last_name', 'Doe'), ('email', 'john-doe@bogusemail.com')])\n",
      "OrderedDict([('first_name', 'Mary'), ('last_name', 'Smith-Robinson'), ('email', 'maryjacobs@bogusemail.com')])\n",
      "OrderedDict([('first_name', 'Dave'), ('last_name', 'Smith'), ('email', 'davesmith@bogusemail.com')])\n",
      "OrderedDict([('first_name', 'Jane'), ('last_name', 'Stuart'), ('email', 'janestuart@bogusemail.com')])\n",
      "OrderedDict([('first_name', 'Tom'), ('last_name', 'Wright'), ('email', 'tomwright@bogusemail.com')])\n",
      "OrderedDict([('first_name', 'Steve'), ('last_name', 'Robinson'), ('email', 'steverobinson@bogusemail.com')])\n",
      "OrderedDict([('first_name', 'Nicole'), ('last_name', 'Jacobs'), ('email', 'nicolejacobs@bogusemail.com')])\n",
      "OrderedDict([('first_name', 'Jane'), ('last_name', 'Wright'), ('email', 'janewright@bogusemail.com')])\n",
      "OrderedDict([('first_name', 'Jane'), ('last_name', 'Doe'), ('email', 'janedoe@bogusemail.com')])\n",
      "OrderedDict([('first_name', 'Kurt'), ('last_name', 'Wright'), ('email', 'kurtwright@bogusemail.com')])\n",
      "OrderedDict([('first_name', 'Kurt'), ('last_name', 'Robinson'), ('email', 'kurtrobinson@bogusemail.com')])\n",
      "OrderedDict([('first_name', 'Jane'), ('last_name', 'Jenkins'), ('email', 'janejenkins@bogusemail.com')])\n",
      "OrderedDict([('first_name', 'Neil'), ('last_name', 'Robinson'), ('email', 'neilrobinson@bogusemail.com')])\n",
      "OrderedDict([('first_name', 'Tom'), ('last_name', 'Patterson'), ('email', 'tompatterson@bogusemail.com')])\n",
      "OrderedDict([('first_name', 'Sam'), ('last_name', 'Jenkins'), ('email', 'samjenkins@bogusemail.com')])\n",
      "OrderedDict([('first_name', 'Steve'), ('last_name', 'Stuart'), ('email', 'stevestuart@bogusemail.com')])\n",
      "OrderedDict([('first_name', 'Maggie'), ('last_name', 'Patterson'), ('email', 'maggiepatterson@bogusemail.com')])\n",
      "OrderedDict([('first_name', 'Maggie'), ('last_name', 'Stuart'), ('email', 'maggiestuart@bogusemail.com')])\n",
      "OrderedDict([('first_name', 'Jane'), ('last_name', 'Doe'), ('email', 'janedoe@bogusemail.com')])\n",
      "OrderedDict([('first_name', 'Steve'), ('last_name', 'Patterson'), ('email', 'stevepatterson@bogusemail.com')])\n",
      "OrderedDict([('first_name', 'Dave'), ('last_name', 'Smith'), ('email', 'davesmith@bogusemail.com')])\n",
      "OrderedDict([('first_name', 'Sam'), ('last_name', 'Wilks'), ('email', 'samwilks@bogusemail.com')])\n",
      "OrderedDict([('first_name', 'Kurt'), ('last_name', 'Jefferson'), ('email', 'kurtjefferson@bogusemail.com')])\n",
      "OrderedDict([('first_name', 'Sam'), ('last_name', 'Stuart'), ('email', 'samstuart@bogusemail.com')])\n",
      "OrderedDict([('first_name', 'Jane'), ('last_name', 'Stuart'), ('email', 'janestuart@bogusemail.com')])\n",
      "OrderedDict([('first_name', 'Dave'), ('last_name', 'Davis'), ('email', 'davedavis@bogusemail.com')])\n",
      "OrderedDict([('first_name', 'Sam'), ('last_name', 'Patterson'), ('email', 'sampatterson@bogusemail.com')])\n",
      "OrderedDict([('first_name', 'Tom'), ('last_name', 'Jefferson'), ('email', 'tomjefferson@bogusemail.com')])\n",
      "OrderedDict([('first_name', 'Jane'), ('last_name', 'Stuart'), ('email', 'janestuart@bogusemail.com')])\n",
      "OrderedDict([('first_name', 'Maggie'), ('last_name', 'Jefferson'), ('email', 'maggiejefferson@bogusemail.com')])\n",
      "OrderedDict([('first_name', 'Mary'), ('last_name', 'Wilks'), ('email', 'marywilks@bogusemail.com')])\n",
      "OrderedDict([('first_name', 'Neil'), ('last_name', 'Patterson'), ('email', 'neilpatterson@bogusemail.com')])\n",
      "OrderedDict([('first_name', 'Corey'), ('last_name', 'Davis'), ('email', 'coreydavis@bogusemail.com')])\n",
      "OrderedDict([('first_name', 'Steve'), ('last_name', 'Jacobs'), ('email', 'stevejacobs@bogusemail.com')])\n",
      "OrderedDict([('first_name', 'Jane'), ('last_name', 'Jenkins'), ('email', 'janejenkins@bogusemail.com')])\n",
      "OrderedDict([('first_name', 'John'), ('last_name', 'Jacobs'), ('email', 'johnjacobs@bogusemail.com')])\n",
      "OrderedDict([('first_name', 'Neil'), ('last_name', 'Smith'), ('email', 'neilsmith@bogusemail.com')])\n",
      "OrderedDict([('first_name', 'Corey'), ('last_name', 'Wilks'), ('email', 'coreywilks@bogusemail.com')])\n",
      "OrderedDict([('first_name', 'Corey'), ('last_name', 'Smith'), ('email', 'coreysmith@bogusemail.com')])\n",
      "OrderedDict([('first_name', 'Mary'), ('last_name', 'Patterson'), ('email', 'marypatterson@bogusemail.com')])\n",
      "OrderedDict([('first_name', 'Jane'), ('last_name', 'Stuart'), ('email', 'janestuart@bogusemail.com')])\n",
      "OrderedDict([('first_name', 'Travis'), ('last_name', 'Arnold'), ('email', 'travisarnold@bogusemail.com')])\n",
      "OrderedDict([('first_name', 'John'), ('last_name', 'Robinson'), ('email', 'johnrobinson@bogusemail.com')])\n",
      "OrderedDict([('first_name', 'Travis'), ('last_name', 'Arnold'), ('email', 'travisarnold@bogusemail.com')])\n"
     ]
    }
   ],
   "source": [
    "with open('data/names.csv', 'r', newline='') as file:\n",
    "    for line in csv.DictReader(file):\n",
    "        print(line)"
   ]
  },
  {
   "cell_type": "code",
   "execution_count": 21,
   "metadata": {},
   "outputs": [],
   "source": [
    "with open('data/names.csv', 'r', encoding='utf-8', newline='') as file:\n",
    "    reader=csv.DictReader(file)\n",
    "    \n",
    "    with open('data/names_new1.csv', 'w', encoding='utf-8', newline='') as new_file:\n",
    "        fieldnames=['first_name', 'last_name']\n",
    "        \n",
    "        writer=csv.DictWriter(new_file, fieldnames=fieldnames, delimiter='\\t')\n",
    "        writer.writeheader()\n",
    "        \n",
    "        for line in reader:\n",
    "            del line['email']\n",
    "            writer.writerow(line)"
   ]
  },
  {
   "cell_type": "code",
   "execution_count": 22,
   "metadata": {
    "scrolled": true
   },
   "outputs": [
    {
     "name": "stdout",
     "output_type": "stream",
     "text": [
      "OrderedDict([('first_name\\tlast_name', 'John\\tDoe')])\n",
      "OrderedDict([('first_name\\tlast_name', 'Mary\\tSmith-Robinson')])\n",
      "OrderedDict([('first_name\\tlast_name', 'Dave\\tSmith')])\n",
      "OrderedDict([('first_name\\tlast_name', 'Jane\\tStuart')])\n",
      "OrderedDict([('first_name\\tlast_name', 'Tom\\tWright')])\n",
      "OrderedDict([('first_name\\tlast_name', 'Steve\\tRobinson')])\n",
      "OrderedDict([('first_name\\tlast_name', 'Nicole\\tJacobs')])\n",
      "OrderedDict([('first_name\\tlast_name', 'Jane\\tWright')])\n",
      "OrderedDict([('first_name\\tlast_name', 'Jane\\tDoe')])\n",
      "OrderedDict([('first_name\\tlast_name', 'Kurt\\tWright')])\n",
      "OrderedDict([('first_name\\tlast_name', 'Kurt\\tRobinson')])\n",
      "OrderedDict([('first_name\\tlast_name', 'Jane\\tJenkins')])\n",
      "OrderedDict([('first_name\\tlast_name', 'Neil\\tRobinson')])\n",
      "OrderedDict([('first_name\\tlast_name', 'Tom\\tPatterson')])\n",
      "OrderedDict([('first_name\\tlast_name', 'Sam\\tJenkins')])\n",
      "OrderedDict([('first_name\\tlast_name', 'Steve\\tStuart')])\n",
      "OrderedDict([('first_name\\tlast_name', 'Maggie\\tPatterson')])\n",
      "OrderedDict([('first_name\\tlast_name', 'Maggie\\tStuart')])\n",
      "OrderedDict([('first_name\\tlast_name', 'Jane\\tDoe')])\n",
      "OrderedDict([('first_name\\tlast_name', 'Steve\\tPatterson')])\n",
      "OrderedDict([('first_name\\tlast_name', 'Dave\\tSmith')])\n",
      "OrderedDict([('first_name\\tlast_name', 'Sam\\tWilks')])\n",
      "OrderedDict([('first_name\\tlast_name', 'Kurt\\tJefferson')])\n",
      "OrderedDict([('first_name\\tlast_name', 'Sam\\tStuart')])\n",
      "OrderedDict([('first_name\\tlast_name', 'Jane\\tStuart')])\n",
      "OrderedDict([('first_name\\tlast_name', 'Dave\\tDavis')])\n",
      "OrderedDict([('first_name\\tlast_name', 'Sam\\tPatterson')])\n",
      "OrderedDict([('first_name\\tlast_name', 'Tom\\tJefferson')])\n",
      "OrderedDict([('first_name\\tlast_name', 'Jane\\tStuart')])\n",
      "OrderedDict([('first_name\\tlast_name', 'Maggie\\tJefferson')])\n",
      "OrderedDict([('first_name\\tlast_name', 'Mary\\tWilks')])\n",
      "OrderedDict([('first_name\\tlast_name', 'Neil\\tPatterson')])\n",
      "OrderedDict([('first_name\\tlast_name', 'Corey\\tDavis')])\n",
      "OrderedDict([('first_name\\tlast_name', 'Steve\\tJacobs')])\n",
      "OrderedDict([('first_name\\tlast_name', 'Jane\\tJenkins')])\n",
      "OrderedDict([('first_name\\tlast_name', 'John\\tJacobs')])\n",
      "OrderedDict([('first_name\\tlast_name', 'Neil\\tSmith')])\n",
      "OrderedDict([('first_name\\tlast_name', 'Corey\\tWilks')])\n",
      "OrderedDict([('first_name\\tlast_name', 'Corey\\tSmith')])\n",
      "OrderedDict([('first_name\\tlast_name', 'Mary\\tPatterson')])\n",
      "OrderedDict([('first_name\\tlast_name', 'Jane\\tStuart')])\n",
      "OrderedDict([('first_name\\tlast_name', 'Travis\\tArnold')])\n",
      "OrderedDict([('first_name\\tlast_name', 'John\\tRobinson')])\n",
      "OrderedDict([('first_name\\tlast_name', 'Travis\\tArnold')])\n"
     ]
    }
   ],
   "source": [
    "with open('data/names_new1.csv', 'r', newline='') as file:\n",
    "    reader=csv.DictReader(file)\n",
    "    for line in reader:\n",
    "        print(line)\n",
    "    "
   ]
  },
  {
   "cell_type": "code",
   "execution_count": 23,
   "metadata": {},
   "outputs": [
    {
     "name": "stdout",
     "output_type": "stream",
     "text": [
      "Writing python_csv_template.py\n"
     ]
    }
   ],
   "source": [
    "%%writefile python_csv_template.py\n",
    "\n",
    "import csv\n",
    "with open('data/patron.csv', 'r', encoding='utf-8', newline='') as file:\n",
    "    reader=csv.reader(file)\n",
    "    with open('data/patron_new1.csv', 'w', encoding='utf-8', newline='') as newfile:\n",
    "        writer=csv.writer(newfile, delimiter='\\t')\n",
    "        for line in reader:\n",
    "            writer.writerow(line)\n",
    "\n",
    "            \n",
    "          \n",
    "            \n",
    "with open('data/names.csv', 'r', encoding='utf-8', newline='') as file:\n",
    "    reader=csv.DictReader(file)\n",
    "    \n",
    "    with open('data/names_new1.csv', 'w', encoding='utf-8', newline='') as new_file:\n",
    "        fieldnames=['first_name', 'last_name']\n",
    "        \n",
    "        writer=csv.DictWriter(new_file, fieldnames=fieldnames, delimiter='\\t')\n",
    "        writer.writeheader()\n",
    "        \n",
    "        for line in reader:\n",
    "            del line['email']\n",
    "            writer.writerow(line)\n",
    "   "
   ]
  }
 ],
 "metadata": {
  "kernelspec": {
   "display_name": "Python 3",
   "language": "python",
   "name": "python3"
  },
  "language_info": {
   "codemirror_mode": {
    "name": "ipython",
    "version": 3
   },
   "file_extension": ".py",
   "mimetype": "text/x-python",
   "name": "python",
   "nbconvert_exporter": "python",
   "pygments_lexer": "ipython3",
   "version": "3.7.13"
  }
 },
 "nbformat": 4,
 "nbformat_minor": 4
}
