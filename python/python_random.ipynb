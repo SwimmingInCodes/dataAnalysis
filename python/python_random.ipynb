{
 "cells": [
  {
   "cell_type": "code",
   "execution_count": 1,
   "id": "f94108c1",
   "metadata": {},
   "outputs": [],
   "source": [
    "# %load command1.py\n",
    "\n",
    "from IPython.core.interactiveshell import InteractiveShell\n",
    "InteractiveShell.ast_node_interactivity='all'"
   ]
  },
  {
   "cell_type": "code",
   "execution_count": 2,
   "id": "7f74e160",
   "metadata": {},
   "outputs": [],
   "source": [
    "import random"
   ]
  },
  {
   "cell_type": "code",
   "execution_count": 3,
   "id": "418609c1",
   "metadata": {
    "scrolled": true
   },
   "outputs": [
    {
     "data": {
      "text/plain": [
       "0.9084632385914186"
      ]
     },
     "execution_count": 3,
     "metadata": {},
     "output_type": "execute_result"
    },
    {
     "data": {
      "text/plain": [
       "7.4167216387338435"
      ]
     },
     "execution_count": 3,
     "metadata": {},
     "output_type": "execute_result"
    },
    {
     "data": {
      "text/plain": [
       "5.8724147534484015"
      ]
     },
     "execution_count": 3,
     "metadata": {},
     "output_type": "execute_result"
    },
    {
     "data": {
      "text/plain": [
       "6"
      ]
     },
     "execution_count": 3,
     "metadata": {},
     "output_type": "execute_result"
    },
    {
     "data": {
      "text/plain": [
       "90"
      ]
     },
     "execution_count": 3,
     "metadata": {},
     "output_type": "execute_result"
    },
    {
     "data": {
      "text/plain": [
       "'win'"
      ]
     },
     "execution_count": 3,
     "metadata": {},
     "output_type": "execute_result"
    },
    {
     "data": {
      "text/plain": [
       "[40, 10, 30]"
      ]
     },
     "execution_count": 3,
     "metadata": {},
     "output_type": "execute_result"
    },
    {
     "data": {
      "text/plain": [
       "[30, 10, 30]"
      ]
     },
     "execution_count": 3,
     "metadata": {},
     "output_type": "execute_result"
    }
   ],
   "source": [
    "random.random() # Random float:  0.0 <= x < 1.0\n",
    "random.uniform(2.5, 10.0)  # Random float: 2.5 <= x <10\n",
    "random.expovariate(1/5) # Interval between arrivals averaging 5 seconds\n",
    "random.randrange(10) # Integer from 0 to 9 inclusive\n",
    "random.randrange(0, 101, 2) # Even integer from 0 to 100 inclusive \n",
    "random.choice(['win', 'lose', 'draw']) # Single random element from a sequence\n",
    "deck='ace two thre four'.split()\n",
    "random.shuffle(deck) # Shuffle a list\n",
    "random.sample([10, 20, 30 , 40, 50], k=3) # random sample without replacement\n",
    "random.choices([10, 20, 30, 40, 50], k=3) # random sample without replacement"
   ]
  },
  {
   "cell_type": "markdown",
   "id": "5aa1f67d",
   "metadata": {},
   "source": [
    "# random integer number\n",
    "- Generate random numbers using randint() and randrange()."
   ]
  },
  {
   "cell_type": "markdown",
   "id": "0b0f457b",
   "metadata": {},
   "source": [
    "|Function|\tDescription|\n",
    "|:--|:--|\n",
    "|random.randint(0, 9)|\tReturns any random integer from 0 to 9|\n",
    "|random.randrange(2, 20, 2)|\tReturns any random integer from 2 to 20 with step 2|\n",
    "|random.randrange(100, 1000, 3)|\tReturns any random integer of specific length 3|\n",
    "|random.randrange(-50, -5)\t|Returns any random negative integer between -50 to -6.|\n",
    "|random.sample(range(0, 1000), 10)|\tReturns a list of random numbers|\n",
    "|secrets.randbelow(10)|\tReturns a secure random number|\n",
    "\n",
    "- Use randint() when you want to generate a random number from an inclusive range.\n",
    "- Use randrange() when you want to generate a random number within a range by specifying the increment. It produces a random number from an exclusive range."
   ]
  },
  {
   "cell_type": "code",
   "execution_count": 4,
   "id": "6741dc5b",
   "metadata": {},
   "outputs": [
    {
     "name": "stdout",
     "output_type": "stream",
     "text": [
      "1\n",
      "27\n",
      "5645\n",
      "5645 4098\n",
      "-28\n",
      "1 -6 9 8 -10 \n",
      "\n",
      "\n",
      "-1\n"
     ]
    }
   ],
   "source": [
    "# random integer from 0 to 9\n",
    "num1 = random.randint(0, 9)\n",
    "print(num1)\n",
    "\n",
    "# Random integer from 10 to 100\n",
    "num2 = random.randint(10, 100)\n",
    "print(num2)\n",
    "\n",
    "\n",
    "# random number of length 4\n",
    "num1 = random.randint(1000, 9999)\n",
    "print(num1)\n",
    "\n",
    "# random number of length 4 with step 2\n",
    "num2 = random.randrange(1000, 10000, 2)\n",
    "print(num1, num2)\n",
    "\n",
    "# negative integer\n",
    "singed_int = random.randrange(-60, -6)\n",
    "print(singed_int)\n",
    "\n",
    "for i in range(5):\n",
    "    print(random.randint(-10, 10), end=' ')\n",
    "\n",
    "print('\\n\\n')\n",
    "num = random.choice([-1, 1])\n",
    "print(num)"
   ]
  },
  {
   "cell_type": "code",
   "execution_count": 5,
   "id": "57955e4c",
   "metadata": {},
   "outputs": [
    {
     "name": "stdout",
     "output_type": "stream",
     "text": [
      "[802, 874, 321, 248, 34, 464, 775, 251, 72, 346]\n"
     ]
    }
   ],
   "source": [
    "# Generate a list of random integer numbers\n",
    "\n",
    "random_list = []\n",
    "# Set a length of the list to 10\n",
    "for i in range(0, 10):\n",
    "    # any random numbers from 0 to 1000\n",
    "    random_list.append(random.randint(0, 1000))\n",
    "print(random_list)\n"
   ]
  },
  {
   "cell_type": "code",
   "execution_count": 6,
   "id": "3074680d",
   "metadata": {},
   "outputs": [
    {
     "name": "stdout",
     "output_type": "stream",
     "text": [
      "[722, 733, 105, 646, 288, 229, 199, 90, 188, 303]\n"
     ]
    }
   ],
   "source": [
    "# Create a list of random numbers without duplicates\n",
    "# Generate 10 unique random numbers within a range\n",
    "num_list = random.sample(range(0, 1000), 10)\n",
    "print(num_list)\n"
   ]
  },
  {
   "cell_type": "code",
   "execution_count": 7,
   "id": "41fe9afb",
   "metadata": {},
   "outputs": [
    {
     "name": "stdout",
     "output_type": "stream",
     "text": [
      "[120, 285, 250, 195, 410]\n",
      "[120, 195, 250, 285, 410]\n"
     ]
    }
   ],
   "source": [
    "# sort random numbers list\n",
    "\n",
    "sample_list = random.sample(range(50, 500, 5), 5)\n",
    "print(sample_list)\n",
    "\n",
    "sample_list.sort()\n",
    "print(sample_list)"
   ]
  },
  {
   "cell_type": "markdown",
   "id": "d0bb0e0b",
   "metadata": {},
   "source": [
    "**Generate a secure random integer**\n",
    "- Above all, examples are not cryptographically secure. The cryptographically secure random generator generates random numbers using synchronization methods to ensure that no two processes can obtain the same number simultaneously."
   ]
  },
  {
   "cell_type": "code",
   "execution_count": 8,
   "id": "ece9ea7e",
   "metadata": {},
   "outputs": [
    {
     "name": "stdout",
     "output_type": "stream",
     "text": [
      "0\n"
     ]
    }
   ],
   "source": [
    "import secrets\n",
    "\n",
    "# secure random integer\n",
    "# from 0 to 10\n",
    "secure_num = secrets.randbelow(10)\n",
    "print(secure_num)"
   ]
  },
  {
   "cell_type": "markdown",
   "id": "e2c609d6",
   "metadata": {},
   "source": [
    "**Create a multidimensional array of random integers**\n",
    "- Generate a 4 x 4 array of ints between 10 and 50, exclusive:"
   ]
  },
  {
   "cell_type": "code",
   "execution_count": 9,
   "id": "b893df50",
   "metadata": {},
   "outputs": [
    {
     "name": "stdout",
     "output_type": "stream",
     "text": [
      "[[43 29 24 33]\n",
      " [45 32 45 48]\n",
      " [48 37 12 21]\n",
      " [27 43 29 36]]\n"
     ]
    }
   ],
   "source": [
    "import numpy\n",
    "\n",
    "# 4 x 4 array\n",
    "newArray = numpy.random.randint(10, 50, size=(4, 4))\n",
    "print(newArray)"
   ]
  },
  {
   "cell_type": "markdown",
   "id": "e9df6257",
   "metadata": {},
   "source": [
    "- Generate a 5 x 3 array of random integers between 60 and 100, inclusive."
   ]
  },
  {
   "cell_type": "code",
   "execution_count": 10,
   "id": "91690096",
   "metadata": {},
   "outputs": [
    {
     "name": "stdout",
     "output_type": "stream",
     "text": [
      "[[94 83 76 60 69]\n",
      " [75 88 98 91 65]\n",
      " [71 89 79 63 74]]\n"
     ]
    },
    {
     "name": "stderr",
     "output_type": "stream",
     "text": [
      "C:\\Users\\Kwang-Chul Kwon\\Anaconda3\\lib\\site-packages\\ipykernel_launcher.py:2: DeprecationWarning: This function is deprecated. Please call randint(60, 100 + 1) instead\n",
      "  \n"
     ]
    }
   ],
   "source": [
    "# 3 x 5 array of ints\n",
    "newArray = numpy.random.random_integers(60, 100, size=(3, 5))\n",
    "print(newArray)"
   ]
  },
  {
   "cell_type": "markdown",
   "id": "7ef5009a",
   "metadata": {},
   "source": [
    "# random choice() function to select a random item from a List and Set"
   ]
  },
  {
   "cell_type": "markdown",
   "id": "83c97fd6",
   "metadata": {},
   "source": [
    "|Function|\tDescription|\n",
    "|:--|:--|\n",
    "|random.choice(list)|\tChoose a random item from a sequence. Here seq can be a list, tuple, string, or any iterable like range.|\n",
    "|random.choices(list, k=3)\t|Choose multiple random items from a list, set, or any data structure.|\n",
    "|random.choice(range(10, 101))|\tPick a single random number from range 1 to 100|\n",
    "|random.getrandbits(1)|\tReturns a random boolean|\n",
    "|random.choice(list(dict1))\t|Choose a random key from a dictioanry|\n",
    "|np.random.choice()|Return random choice from a multidimensional array|\n",
    "|secrets.choice(list1)\t|Choose a random item from the list securely|"
   ]
  },
  {
   "cell_type": "code",
   "execution_count": 11,
   "id": "c0054729",
   "metadata": {},
   "outputs": [
    {
     "name": "stdout",
     "output_type": "stream",
     "text": [
      "111\n"
     ]
    }
   ],
   "source": [
    "number_list = [111, 222, 333, 444, 555]\n",
    "# random item from list\n",
    "print(random.choice(number_list))"
   ]
  },
  {
   "cell_type": "code",
   "execution_count": 12,
   "id": "419bd7b3",
   "metadata": {},
   "outputs": [
    {
     "name": "stdout",
     "output_type": "stream",
     "text": [
      "The Shawshank Redemption\n",
      "The Godfather\n",
      "Pulp Fiction\n"
     ]
    }
   ],
   "source": [
    "movies_list = ['The Godfather', 'The Wizard of Oz', 'Citizen Kane', 'The Shawshank Redemption', 'Pulp Fiction']\n",
    "\n",
    "# pick a random choice from a list of strings.\n",
    "movie = random.choice(movies_list)\n",
    "print(movie)\n",
    "\n",
    "for i in range(2):\n",
    "    movie = random.choice(movies_list)\n",
    "    print(movie)"
   ]
  },
  {
   "cell_type": "markdown",
   "id": "3cecd19a",
   "metadata": {},
   "source": [
    "**The choice() function only returns a single item from a list. If you want to select more than one item from a list or set, use random sample() or choices() instead.**\n",
    "- The random.choices() method was introduced in Python version 3.6, and it can repeat the elements. It is a random sample with a <p style='color:red'>**replacement.**</p>\n",
    "- Using the random.choices(k) method we can specify the sampling size."
   ]
  },
  {
   "cell_type": "code",
   "execution_count": 13,
   "id": "11c736ac",
   "metadata": {},
   "outputs": [
    {
     "name": "stdout",
     "output_type": "stream",
     "text": [
      "[70, 80, 40]\n"
     ]
    }
   ],
   "source": [
    "# sampling with replacement\n",
    "original_list = [20, 30, 40, 50, 60, 70, 80]\n",
    "# k = number of items to select\n",
    "sample_list = random.choices(original_list, k=3)\n",
    "print(sample_list)"
   ]
  },
  {
   "cell_type": "markdown",
   "id": "7b8973a6",
   "metadata": {},
   "source": [
    "**Random choices without repetition**\n",
    "- Use the **random.sample()** function when you want to choose multiple random items from a list\\without repetition or duplicates.\n",
    "\n",
    "- The choices() was added in Python 3.6 to choose n elements from the list randomly, but this function can repeat items.\n",
    "- The choices() function is mainly used to implement **weighted** random choices to choose multiple elements from the list with different probabilities."
   ]
  },
  {
   "cell_type": "markdown",
   "id": "2258a6b2",
   "metadata": {},
   "source": [
    "**So we can’t choose random items directly from a set without copying them into a tuple.**\n",
    "\n",
    "To choose a random item from a set, first, copy it into a tuple and then pass the tuple to the choice() function"
   ]
  },
  {
   "cell_type": "code",
   "execution_count": 14,
   "id": "390ca97b",
   "metadata": {},
   "outputs": [
    {
     "name": "stdout",
     "output_type": "stream",
     "text": [
      "65\n"
     ]
    }
   ],
   "source": [
    "sample_set = {20, 35, 45, 65, 82}\n",
    "item = random.choice(tuple(sample_set))\n",
    "# random item from set\n",
    "print(item)"
   ]
  },
  {
   "cell_type": "code",
   "execution_count": 15,
   "id": "0c52c956",
   "metadata": {},
   "outputs": [
    {
     "name": "stdout",
     "output_type": "stream",
     "text": [
      "66\n",
      "True\n"
     ]
    }
   ],
   "source": [
    "# Choose randomly number from range of 10 to 100\n",
    "num = random.choice(range(10, 101))\n",
    "print(num)\n",
    "\n",
    "res = random.choice([True, False])\n",
    "print(res)\n"
   ]
  },
  {
   "cell_type": "code",
   "execution_count": 16,
   "id": "c10fa803",
   "metadata": {},
   "outputs": [
    {
     "name": "stdout",
     "output_type": "stream",
     "text": [
      "False\n"
     ]
    }
   ],
   "source": [
    "# Also, you can use the random.getrandbits() to generate random Boolean in Python fastly and efficiently.\n",
    "# get random boolean\n",
    "res = random.getrandbits(1)\n",
    "print(bool(res))"
   ]
  },
  {
   "cell_type": "code",
   "execution_count": 17,
   "id": "41dd4101",
   "metadata": {},
   "outputs": [
    {
     "name": "stdout",
     "output_type": "stream",
     "text": [
      "4\n"
     ]
    }
   ],
   "source": [
    "atuple = (20, 30, 4)\n",
    "# Random choice from a tuple\n",
    "num = random.choice(atuple)\n",
    "print(num)"
   ]
  },
  {
   "cell_type": "code",
   "execution_count": 18,
   "id": "9942754d",
   "metadata": {},
   "outputs": [
    {
     "name": "stdout",
     "output_type": "stream",
     "text": [
      "Random key-value pair is  Red : 68\n"
     ]
    }
   ],
   "source": [
    "weight_dict = {\n",
    "    \"Kelly\": 50,\n",
    "    \"Red\": 68,\n",
    "    \"Scott\": 70,\n",
    "    \"Emma\": 40\n",
    "}\n",
    "# random key\n",
    "key = random.choice(list(weight_dict))\n",
    "# fetch value using key name\n",
    "print(\"Random key-value pair is \", key, \":\", weight_dict[key])"
   ]
  },
  {
   "cell_type": "code",
   "execution_count": 19,
   "id": "aa706bc8",
   "metadata": {},
   "outputs": [
    {
     "name": "stdout",
     "output_type": "stream",
     "text": [
      "Randomly selected item The Godfather is present at index: 0\n"
     ]
    }
   ],
   "source": [
    "movie_list = ['The Godfather', 'The Wizard of Oz', 'Citizen Kane', 'The Shawshank Redemption', 'Pulp Fiction']\n",
    "\n",
    "# get random index number\n",
    "i = random.randrange(len(movie_list))\n",
    "item = movie_list[i]\n",
    "# Select item using index number\n",
    "print(\"Randomly selected item\", movie_list[i], \"is present at index:\", i)"
   ]
  },
  {
   "cell_type": "markdown",
   "id": "42cee401",
   "metadata": {},
   "source": [
    "**Pick a random value from multiple lists with equal probability**"
   ]
  },
  {
   "cell_type": "code",
   "execution_count": 20,
   "id": "750f3b36",
   "metadata": {},
   "outputs": [
    {
     "name": "stdout",
     "output_type": "stream",
     "text": [
      "(['Thomas', 'Liam', 'William'], ['Emma', 'Olivia', 'Isabella'])\n",
      "[3, 3]\n",
      "[['Thomas', 'Liam', 'William']]\n",
      "Olivia\n"
     ]
    }
   ],
   "source": [
    "list_one = [\"Thomas\", \"Liam\", \"William\"]\n",
    "list_two = [\"Emma\", \"Olivia\", \"Isabella\"]\n",
    "\n",
    "seqs = list_one, list_two\n",
    "print(seqs)\n",
    "print(list(map(len, seqs)))\n",
    "print(random.choices(seqs, weights=map(len, seqs)))\n",
    "\n",
    "# Random item  from two lists\n",
    "item = random.choice(random.choices(seqs, weights=map(len, seqs))[0]) # [0] is because double bracket\n",
    "print(item)"
   ]
  },
  {
   "cell_type": "markdown",
   "id": "55c06cc7",
   "metadata": {},
   "source": [
    "**Choose a random element from a multidimensional array**"
   ]
  },
  {
   "cell_type": "code",
   "execution_count": 21,
   "id": "1fb88ad3",
   "metadata": {},
   "outputs": [
    {
     "name": "stdout",
     "output_type": "stream",
     "text": [
      "Printing 2D Array\n",
      "[[11 22 33]\n",
      " [44 55 66]\n",
      " [77 88 99]]\n",
      "\n",
      "Choose random row from a 2D array\n",
      "[0]\n",
      "[11 22 33]\n",
      "[11 22 33]\n",
      "\n",
      "Random item from random row is\n",
      "22\n"
     ]
    }
   ],
   "source": [
    "import numpy as np\n",
    "\n",
    "array = np.array([[11, 22, 33], [44, 55, 66], [77, 88, 99]])\n",
    "print(\"Printing 2D Array\")\n",
    "print(array, end='\\n\\n')\n",
    "\n",
    "print(\"Choose random row from a 2D array\")\n",
    "randomRow = np.random.randint(3, size=1)\n",
    "print(randomRow)\n",
    "print(array[randomRow[0], :])\n",
    "print(array[randomRow[0]], end='\\n\\n')\n",
    "\n",
    "print(\"Random item from random row is\")\n",
    "print(np.random.choice(array[randomRow[0], :]))"
   ]
  },
  {
   "cell_type": "code",
   "execution_count": 22,
   "id": "b053f25f",
   "metadata": {},
   "outputs": [
    {
     "name": "stdout",
     "output_type": "stream",
     "text": [
      "single random choice from 1-D array [30]\n",
      "multiple random choice from numpy 1-D array without replacement  [50 20 20]\n",
      "multiple random choices from numpy 1-D array with replacement  [20 50 40]\n"
     ]
    }
   ],
   "source": [
    "array = [10, 20, 30, 40, 50, 20, 40]\n",
    "\n",
    "x = np.random.choice(array, size=1)\n",
    "print(\"single random choice from 1-D array\", x)\n",
    "\n",
    "items = np.random.choice(array, size=3, replace=False)\n",
    "print(\"multiple random choice from numpy 1-D array without replacement \", items)\n",
    "\n",
    "choices = np.random.choice(array, size=3, replace=True)\n",
    "print(\"multiple random choices from numpy 1-D array with replacement \", choices)"
   ]
  },
  {
   "cell_type": "markdown",
   "id": "eb115d96",
   "metadata": {},
   "source": [
    "**Secure random choice**\n",
    "- Note: Above all, examples are not cryptographically secure. If you are using it to pick a random item inside any security-sensitive application, then secure your random generator and use random.SystemRandom().choice() instead of random.choice()."
   ]
  },
  {
   "cell_type": "code",
   "execution_count": 23,
   "id": "df67b914",
   "metadata": {},
   "outputs": [
    {
     "name": "stdout",
     "output_type": "stream",
     "text": [
      "The Wizard of Oz\n"
     ]
    }
   ],
   "source": [
    "movie_list = ['The Godfather', 'The Wizard of Oz', 'Citizen Kane', 'The Shawshank Redemption', 'Pulp Fiction']\n",
    "# secure random generator\n",
    "secure_random = random.SystemRandom()\n",
    "item = secure_random.choice(movie_list)\n",
    "print (item)"
   ]
  },
  {
   "cell_type": "markdown",
   "id": "f9a5aa62",
   "metadata": {},
   "source": [
    "**Randomly choose the same element from the list every time**"
   ]
  },
  {
   "cell_type": "code",
   "execution_count": 24,
   "id": "f8f13010",
   "metadata": {},
   "outputs": [
    {
     "name": "stdout",
     "output_type": "stream",
     "text": [
      "45.5\n",
      "45.5\n",
      "45.5\n",
      "45.5\n",
      "45.5\n"
     ]
    }
   ],
   "source": [
    "float_list = [22.5, 45.5, 88.5, 92.5, 55.4]\n",
    "for i in range(5):\n",
    "    # seed the random number generator\n",
    "    random.seed(4)\n",
    "    # print random item\n",
    "    print(random.choice(float_list))"
   ]
  },
  {
   "cell_type": "markdown",
   "id": "6293f39b",
   "metadata": {},
   "source": [
    "**Randomly choose an object from the List of Custom Class Objects**"
   ]
  },
  {
   "cell_type": "code",
   "execution_count": 25,
   "id": "21f5dd69",
   "metadata": {},
   "outputs": [
    {
     "name": "stdout",
     "output_type": "stream",
     "text": [
      "Emma 19\n"
     ]
    }
   ],
   "source": [
    "# custom class\n",
    "class studentData:\n",
    "    def __init__(self, name, age):\n",
    "        self.name = name\n",
    "        self.age = age\n",
    "\n",
    "\n",
    "jhon = studentData(\"John\", 18)\n",
    "emma = studentData(\"Emma\", 19)\n",
    "\n",
    "object_list = [jhon, emma]\n",
    "\n",
    "# pick list index randomly using randint()\n",
    "i = random.randint(0, len(object_list) - 1)\n",
    "# Randomly select object from the given list of custom class objects\n",
    "obj = object_list[i]\n",
    "print(obj.name, obj.age)"
   ]
  },
  {
   "cell_type": "markdown",
   "id": "76082d21",
   "metadata": {},
   "source": [
    "# random.sample()"
   ]
  },
  {
   "cell_type": "markdown",
   "id": "e7ef947f",
   "metadata": {},
   "source": [
    "|Operation|\tDescription|\n",
    "|:--|:--|\n",
    "|random.sample(seq, n)|\tGenerate n unique samples (multiple items) from a sequence without repetition. Here, A seq can be a list, set, string, tuple. Sample without replacement.\n",
    "|random.choices(seq, n)|\tGenerate n samples from a sequence with the possibility of repetition. Sample with replacement|\n",
    "|random.sample(range(100), 5)|\tReturn the sampled list of unique random integers.|\n",
    "|random.sample(d1.items(), 2)|\tReturns two key-value pairs from Python dictionary.|"
   ]
  },
  {
   "cell_type": "code",
   "execution_count": 26,
   "id": "e6799c9e",
   "metadata": {},
   "outputs": [
    {
     "name": "stdout",
     "output_type": "stream",
     "text": [
      "[20, 100, 40]\n",
      "\n",
      "['Nadal', 'Roger', 'Novac']\n"
     ]
    }
   ],
   "source": [
    "aList = [20, 40, 80, 100, 120]\n",
    "sampled_list = random.sample(aList, 3)\n",
    "print(sampled_list)\n",
    "print()\n",
    "\n",
    "names = [\"Roger\", \"Nadal\", \"Novac\", \"Andre\", \"Sarena\", \"Mariya\", \"Martina\"]\n",
    "# choose three random sample with replacement to including repetition\n",
    "sample_list3 = random.choices(names, k=3)\n",
    "print(sample_list3)"
   ]
  },
  {
   "cell_type": "code",
   "execution_count": 29,
   "id": "9e41d14b",
   "metadata": {},
   "outputs": [
    {
     "name": "stdout",
     "output_type": "stream",
     "text": [
      "[68, 82, 60, 89, 43]\n",
      "\n",
      "[35, 8, 18, 25, 86, 52, 56, 23, 80, 81]\n",
      "\n",
      "['Jhon', 'kelly', 'Eric']\n",
      "\n",
      "[('jhon', 70), ('Kelly', 55)]\n",
      "jhon 70\n",
      "Kelly 55\n"
     ]
    }
   ],
   "source": [
    "# create list of 5 random numbers\n",
    "num_list = random.sample(range(100), 5)\n",
    "print(num_list)\n",
    "print()\n",
    "\n",
    "# create list of 5 numbers\n",
    "num_list = random.sample(range(100), 10)\n",
    "random.shuffle(num_list)\n",
    "print(num_list)\n",
    "print()\n",
    "\n",
    "aSet = {\"Jhon\", \"kelly\", \"Scoot\", \"Emma\", \"Eric\"}\n",
    "# random 3 samples from set\n",
    "sampled_set = random.sample(aSet, 3)\n",
    "print(sampled_set)\n",
    "print()\n",
    "\n",
    "marks_dict = {\n",
    "    \"Kelly\": 55,\n",
    "    \"jhon\": 70,\n",
    "    \"Donald\": 60,\n",
    "    \"Lennin\": 50\n",
    "}\n",
    "sampled_dict = random.sample(marks_dict.items(), 2)\n",
    "print(sampled_dict)\n",
    "\n",
    "# Access key-value from sample\n",
    "# First key:value\n",
    "print(sampled_dict[0][0], sampled_dict[0][1])\n",
    "\n",
    "# Second key:value\n",
    "print(sampled_dict[1][0], sampled_dict[1][1])"
   ]
  },
  {
   "cell_type": "code",
   "execution_count": 30,
   "id": "9eef1c4c",
   "metadata": {},
   "outputs": [
    {
     "name": "stdout",
     "output_type": "stream",
     "text": [
      "[40.5, 30.5, 20.5]\n",
      "[40.5, 30.5, 20.5]\n",
      "[40.5, 30.5, 20.5]\n"
     ]
    }
   ],
   "source": [
    "# Randomly select same sample list every time\n",
    "alist = [20.5, 40.5, 30.5, 50.5, 70.5]\n",
    "\n",
    "for i in range(3):\n",
    "    # use 4 as a seed value\n",
    "    random.seed(4)\n",
    "    # get sample list of three item\n",
    "    sample_list = random.sample(alist, 3)\n",
    "    print(sample_list)"
   ]
  },
  {
   "cell_type": "code",
   "execution_count": 31,
   "id": "b1434797",
   "metadata": {},
   "outputs": [
    {
     "name": "stdout",
     "output_type": "stream",
     "text": [
      "Printing 2D Array\n",
      "[[ 2  4  6]\n",
      " [ 5 10 15]\n",
      " [ 6 12 18]\n",
      " [ 7 14 21]\n",
      " [ 8 16 24]]\n",
      "Choose 3 sample rows from 2D array\n",
      "[ 6 12 18]\n",
      "[2 4 6]\n"
     ]
    }
   ],
   "source": [
    "array = numpy.array([[2, 4, 6], [5, 10, 15], [6, 12, 18], [7, 14, 21], [8, 16, 24]])\n",
    "print(\"Printing 2D Array\")\n",
    "print(array)\n",
    "\n",
    "print(\"Choose 3 sample rows from 2D array\")\n",
    "randomRows = numpy.random.randint(5, size=2)\n",
    "for i in randomRows:\n",
    "    print(array[i, :])"
   ]
  },
  {
   "cell_type": "markdown",
   "id": "112f9129",
   "metadata": {},
   "source": [
    "# weighted random choices"
   ]
  },
  {
   "cell_type": "code",
   "execution_count": 32,
   "id": "df0c2a41",
   "metadata": {},
   "outputs": [
    {
     "name": "stdout",
     "output_type": "stream",
     "text": [
      "40\n",
      "\n",
      "[444, 222, 111, 444, 333]\n",
      "\n",
      "['Jon', 'Kelly', 'Emma', 'Emma']\n"
     ]
    }
   ],
   "source": [
    "sampleList = [10, 20, 30, 40]\n",
    "x = random.choice(sampleList)\n",
    "print(x)\n",
    "print()\n",
    "\n",
    "numberList = [111, 222, 333, 444, 555]\n",
    "print(random.choices(numberList, weights=(10, 20, 30, 40, 50), k=5))\n",
    "print()\n",
    "\n",
    "nameList = [\"Kelly\", \"Scott\", \"Emma\", \"Jon\"]\n",
    "print(random.choices(nameList, cum_weights=(5, 15, 30, 50), k=4))"
   ]
  },
  {
   "cell_type": "markdown",
   "id": "0e5e05d2",
   "metadata": {},
   "source": [
    "**Choose a single element form list with different probability**"
   ]
  },
  {
   "cell_type": "code",
   "execution_count": 33,
   "id": "19ef0ac8",
   "metadata": {},
   "outputs": [
    {
     "name": "stdout",
     "output_type": "stream",
     "text": [
      "['Jon']\n",
      "Iteration: 0 Weighted Random choice is Jon\n",
      "\n",
      "['Jon']\n",
      "Iteration: 1 Weighted Random choice is Jon\n",
      "\n",
      "['Scott']\n",
      "Iteration: 2 Weighted Random choice is Scott\n",
      "\n"
     ]
    }
   ],
   "source": [
    "names = [\"Kelly\", \"Scott\", \"Emma\", \"Jon\"]\n",
    "for i in range(3):\n",
    "    item = random.choices(names, cum_weights=(5, 15, 30, 50), k=1)\n",
    "    print(item)\n",
    "    print(\"Iteration:\", i, \"Weighted Random choice is\", item[0])\n",
    "    print()"
   ]
  },
  {
   "cell_type": "markdown",
   "id": "cb04a4a5",
   "metadata": {},
   "source": [
    "**Probability of getting 6 or more heads from 10 spins**"
   ]
  },
  {
   "cell_type": "code",
   "execution_count": 34,
   "id": "541fa528",
   "metadata": {},
   "outputs": [
    {
     "name": "stdout",
     "output_type": "stream",
     "text": [
      "['T', 'H', 'T', 'H', 'H', 'H', 'H', 'T', 'T', 'T']\n",
      "['H', 'T', 'H', 'H', 'H', 'H', 'H', 'T', 'T', 'T']\n",
      "['T', 'H', 'H', 'T', 'H', 'T', 'H', 'H', 'H', 'H']\n"
     ]
    }
   ],
   "source": [
    "# we specified head and tail of a coin in string\n",
    "coin = \"HT\"\n",
    "# Execute 3 times to verify we are getting 6 or more heads in every 10 spins\n",
    "for i in range(3):\n",
    "    print(random.choices(coin, cum_weights=(0.61, 1.00), k=10))"
   ]
  },
  {
   "cell_type": "markdown",
   "id": "b81a59a7",
   "metadata": {},
   "source": [
    "**Generate weighted random numbers**"
   ]
  },
  {
   "cell_type": "code",
   "execution_count": 35,
   "id": "88ce1b0d",
   "metadata": {},
   "outputs": [
    {
     "name": "stdout",
     "output_type": "stream",
     "text": [
      "[25, 25, 35, 15, 30, 35]\n"
     ]
    }
   ],
   "source": [
    "# Generate 6 random numbers from a given range with weighted probability\n",
    "numbers = random.choices(range(10, 40, 5), cum_weights=(5, 15, 10, 25, 40, 65), k=6)\n",
    "print(numbers)"
   ]
  },
  {
   "cell_type": "markdown",
   "id": "75c572cc",
   "metadata": {},
   "source": [
    "**Numpy’s random.choice() to choose elements from the list with different probability**\n",
    "```python\n",
    "numpy.random.choice(a, size=None, replace=True, p=None)\n",
    "```"
   ]
  },
  {
   "cell_type": "code",
   "execution_count": 36,
   "id": "7cbdbd22",
   "metadata": {},
   "outputs": [
    {
     "name": "stdout",
     "output_type": "stream",
     "text": [
      "[400 200 100 300]\n"
     ]
    }
   ],
   "source": [
    "numberList = [100, 200, 300, 400]\n",
    "# Choose elements with different probabilities\n",
    "sampleNumbers = np.random.choice(numberList, 4, p=[0.10, 0.20, 0.30, 0.40])\n",
    "print(sampleNumbers)"
   ]
  },
  {
   "cell_type": "markdown",
   "id": "1bf97f8d",
   "metadata": {},
   "source": [
    "# random.seed() function to initialize the pseudo-random number generator"
   ]
  },
  {
   "cell_type": "code",
   "execution_count": 37,
   "id": "2d4ca3e4",
   "metadata": {
    "scrolled": true
   },
   "outputs": [
    {
     "name": "stdout",
     "output_type": "stream",
     "text": [
      "Random number with seed 30\n",
      "42\n",
      "42\n",
      "42\n"
     ]
    }
   ],
   "source": [
    "print('Random number with seed 30')\n",
    "for i in range(3):\n",
    "    # Random number with seed 30\n",
    "    random.seed(30)\n",
    "    print(random.randint(25, 50))"
   ]
  },
  {
   "cell_type": "code",
   "execution_count": 38,
   "id": "d34560fa",
   "metadata": {},
   "outputs": [
    {
     "name": "stdout",
     "output_type": "stream",
     "text": [
      "first Number 42\n",
      "Second Number  50\n",
      "Third Number 42\n"
     ]
    }
   ],
   "source": [
    "random.seed(30)\n",
    "print(\"first Number\", random.randint(25, 50))\n",
    "\n",
    "# generates a different random number\n",
    "print(\"Second Number \", random.randint(25, 50))\n",
    "\n",
    "# will generate a same random number as first one because seed value is same\n",
    "random.seed(30)\n",
    "print(\"Third Number\", random.randint(25, 50))"
   ]
  },
  {
   "cell_type": "markdown",
   "id": "38f4670b",
   "metadata": {},
   "source": [
    "**Set system time as a seed value instead of OS-specific randomness source**"
   ]
  },
  {
   "cell_type": "code",
   "execution_count": 39,
   "id": "8dd0dfd1",
   "metadata": {},
   "outputs": [
    {
     "name": "stdout",
     "output_type": "stream",
     "text": [
      "Random Number 26\n"
     ]
    }
   ],
   "source": [
    "from datetime import datetime\n",
    "\n",
    "# Random number with system time\n",
    "random.seed(datetime.now())\n",
    "print(\"Random Number\", random.randint(25, 50))"
   ]
  },
  {
   "cell_type": "markdown",
   "id": "8635f4b2",
   "metadata": {},
   "source": [
    "\n",
    "**Get a seed value used by a random generator**"
   ]
  },
  {
   "cell_type": "code",
   "execution_count": 40,
   "id": "752b64b6",
   "metadata": {},
   "outputs": [
    {
     "name": "stdout",
     "output_type": "stream",
     "text": [
      "Seed value: 5380278777295329594\n",
      "Random Number 392\n"
     ]
    }
   ],
   "source": [
    "import sys\n",
    "\n",
    "# create a seed\n",
    "seed_value = random.randrange(sys.maxsize)\n",
    "# save this seed somewhere. So if you like the result you can use this seed to reproduce it\n",
    "print('Seed value:', seed_value)\n",
    "\n",
    "\n",
    "# Now, Seed the random number generator\n",
    "random.seed(seed_value)\n",
    "num = random.randint(10, 500)\n",
    "print(\"Random Number\", num)"
   ]
  },
  {
   "cell_type": "code",
   "execution_count": 41,
   "id": "1261e96c",
   "metadata": {},
   "outputs": [
    {
     "name": "stdout",
     "output_type": "stream",
     "text": [
      "392\n",
      "392\n",
      "First random name from list  Scott\n",
      "Second random name from list  Scott\n",
      "First sample fruit list  ['Mango', 'Cherries', 'Grape']\n",
      "Second sample fruit list  ['Mango', 'Cherries', 'Grape']\n",
      "Original list:  [10, 20, 30, 40, 50, 60]\n",
      "Shuffled list  [40, 60, 50, 10, 30, 20]\n",
      "Reshuffled list  [10, 20, 30, 40, 50, 60]\n"
     ]
    }
   ],
   "source": [
    "# Random seed with randrange\n",
    "random.seed(350)\n",
    "print(random.randrange(300, 500))\n",
    "# output 336\n",
    "\n",
    "random.seed(350)\n",
    "print(random.randrange(300, 500))\n",
    "\n",
    "names = [\"Alex\", \"Emma\", \"Kelly\", \"Scott\", \"Jessa\"]\n",
    "random.seed(50)\n",
    "random_item = random.choice(names)\n",
    "print (\"First random name from list \", random_item)\n",
    "\n",
    "random.seed(50)\n",
    "random_item = random.choice(names)\n",
    "print (\"Second random name from list \", random_item)\n",
    "\n",
    "# using random.seed() and random.sample() together\n",
    "fruit_list = [\"Apple\", \"Mango\", \"Banana\", \"Apricot\", \"Cherries\", \"Grape\", \"Kiwi\"]\n",
    "\n",
    "random.seed(3)\n",
    "sample_list = random.sample(fruit_list, 3)\n",
    "print(\"First sample fruit list \", sample_list)\n",
    "\n",
    "random.seed(3)\n",
    "sample_list = random.sample(fruit_list, 3)\n",
    "print(\"Second sample fruit list \", sample_list)\n",
    "\n",
    "numbers = [10, 20, 30, 40, 50, 60]\n",
    "print(\"Original list: \", numbers)\n",
    "random.seed(4)\n",
    "random.shuffle(numbers)\n",
    "print(\"Shuffled list \", numbers)\n",
    "\n",
    "random.seed(4)\n",
    "random.shuffle(numbers)\n",
    "print(\"Reshuffled list \", numbers)"
   ]
  },
  {
   "cell_type": "code",
   "execution_count": null,
   "id": "d3d48f8f",
   "metadata": {},
   "outputs": [],
   "source": []
  },
  {
   "cell_type": "code",
   "execution_count": null,
   "id": "e22ec337",
   "metadata": {},
   "outputs": [],
   "source": []
  },
  {
   "cell_type": "code",
   "execution_count": null,
   "id": "da6b441e",
   "metadata": {},
   "outputs": [],
   "source": []
  },
  {
   "cell_type": "code",
   "execution_count": null,
   "id": "e093bf49",
   "metadata": {},
   "outputs": [],
   "source": []
  },
  {
   "cell_type": "markdown",
   "id": "37dc2794",
   "metadata": {},
   "source": [
    "- https://pynative.com/python-random-sample/"
   ]
  },
  {
   "cell_type": "code",
   "execution_count": 42,
   "id": "eea9877f",
   "metadata": {},
   "outputs": [
    {
     "name": "stdout",
     "output_type": "stream",
     "text": [
      "[61, 19, 11, 8, 2]\n"
     ]
    }
   ],
   "source": [
    "num_list = random.sample(range(100), 5)\n",
    "print(num_list)"
   ]
  },
  {
   "cell_type": "code",
   "execution_count": 43,
   "id": "0d73e27d",
   "metadata": {},
   "outputs": [
    {
     "name": "stdout",
     "output_type": "stream",
     "text": [
      "[('Lennin', 50), ('Donald', 60)]\n",
      "Lennin 50\n",
      "Donald 60\n"
     ]
    }
   ],
   "source": [
    "marks_dict = {\n",
    "    \"Kelly\": 55,\n",
    "    \"jhon\": 70,\n",
    "    \"Donald\": 60,\n",
    "    \"Lennin\": 50\n",
    "}\n",
    "sampled_dict = random.sample(marks_dict.items(), 2)\n",
    "print(sampled_dict)\n",
    "# Output [('Donald', 60), ('jhon', 70)]\n",
    "\n",
    "# Access key-value from sample\n",
    "# First key:value\n",
    "print(sampled_dict[0][0], sampled_dict[0][1])\n",
    "# Output jhon 70\n",
    "\n",
    "# Second key:value\n",
    "print(sampled_dict[1][0], sampled_dict[1][1])\n",
    "# output Kelly 55"
   ]
  },
  {
   "cell_type": "code",
   "execution_count": 44,
   "id": "2cb8eef1",
   "metadata": {},
   "outputs": [
    {
     "name": "stdout",
     "output_type": "stream",
     "text": [
      "Printing 2D Array\n",
      "[[ 2  4  6]\n",
      " [ 5 10 15]\n",
      " [ 6 12 18]\n",
      " [ 7 14 21]\n",
      " [ 8 16 24]]\n",
      "Choose 3 sample rows from 2D array\n",
      "[ 5 10 15]\n",
      "[ 5 10 15]\n"
     ]
    }
   ],
   "source": [
    "# Get a sample array from a multidimensional array\n",
    "\n",
    "import numpy\n",
    "\n",
    "array = numpy.array([[2, 4, 6], [5, 10, 15], [6, 12, 18], [7, 14, 21], [8, 16, 24]])\n",
    "print(\"Printing 2D Array\")\n",
    "print(array)\n",
    "\n",
    "print(\"Choose 3 sample rows from 2D array\")\n",
    "randomRows = numpy.random.randint(5, size=2)\n",
    "for i in randomRows:\n",
    "    print(array[i, :])"
   ]
  },
  {
   "cell_type": "markdown",
   "id": "52b1072a",
   "metadata": {},
   "source": [
    "- ```python\n",
    "random.choices(population, weights=None, *, cum_weights=None, k=1)\n",
    "```"
   ]
  },
  {
   "cell_type": "markdown",
   "id": "f5e844b2",
   "metadata": {},
   "source": [
    "# random.shuffle() function to shuffle list"
   ]
  },
  {
   "cell_type": "markdown",
   "id": "eab09d01",
   "metadata": {},
   "source": [
    "|Function|Description|\n",
    "|:--|:--|\n",
    "|random.shuffle(list1)|Shuffle list in-place (preferred way)|\n",
    "|random.sample(seq, len(seq))|Shuffle list not in place to return a new shuffled list. (non-preferred way) OR\n",
    "To shuffle an immutable sequence such as string or range.|\n",
    "|np.random.shuffle(array)|Shuffling multidimensional array|\n"
   ]
  },
  {
   "cell_type": "code",
   "execution_count": 45,
   "id": "b6469c1c",
   "metadata": {},
   "outputs": [
    {
     "name": "stdout",
     "output_type": "stream",
     "text": [
      "[7, 14, 21, 28, 35, 42, 49, 56, 63, 70]\n",
      "[14, 56, 63, 42, 21, 49, 70, 28, 7, 35]\n",
      "[56, 7, 28, 35, 63, 49, 70, 14, 42, 21]\n"
     ]
    }
   ],
   "source": [
    "import random\n",
    "\n",
    "number_list = [7, 14, 21, 28, 35, 42, 49, 56, 63, 70]\n",
    "# Original list\n",
    "print(number_list)\n",
    "\n",
    "# List after first shuffle\n",
    "random.shuffle(number_list)\n",
    "print(number_list)\n",
    "\n",
    "# List after second shuffle\n",
    "random.shuffle(number_list)\n",
    "print(number_list)"
   ]
  },
  {
   "cell_type": "markdown",
   "id": "e90e5208",
   "metadata": {},
   "source": [
    "**Randomly Shuffle Not in Place**"
   ]
  },
  {
   "cell_type": "code",
   "execution_count": 46,
   "id": "b0f3f4a4",
   "metadata": {},
   "outputs": [
    {
     "name": "stdout",
     "output_type": "stream",
     "text": [
      "Original list :  [33, 66, 99, 188, 256, 412, 748]\n",
      "List after shuffle [188, 66, 256, 33, 412, 748, 99]\n"
     ]
    }
   ],
   "source": [
    "# Option 1: Make a Copy of the Original List\n",
    "\n",
    "numbers = [33, 66, 99, 188, 256, 412, 748]\n",
    "# copy to new list\n",
    "new_list = numbers.copy()\n",
    "# shuffle the new list\n",
    "random.shuffle(new_list)\n",
    "\n",
    "print(\"Original list : \", numbers)\n",
    "print(\"List after shuffle\", new_list)"
   ]
  },
  {
   "cell_type": "code",
   "execution_count": 47,
   "id": "bf58eef0",
   "metadata": {},
   "outputs": [
    {
     "name": "stdout",
     "output_type": "stream",
     "text": [
      "Kelly 10000, Abigail 8000, Sampson 12000, Joe 7000, \n",
      "Printing new shuffled list of employee object\n",
      "Joe 7000, Sampson 12000, Kelly 10000, Abigail 8000, "
     ]
    }
   ],
   "source": [
    "# Option 2: Shuffle list not in Place using random.sample()\n",
    "\n",
    "import random\n",
    "\n",
    "# custom class\n",
    "class Employee:\n",
    "    def __init__(self, name, salary):\n",
    "        self.name = name\n",
    "        self.salary = salary\n",
    "\n",
    "emp1 = Employee(\"Kelly\", 10000)\n",
    "emp2 = Employee(\"Abigail\", 8000)\n",
    "emp3 = Employee(\"Sampson\", 12000)\n",
    "emp4 = Employee(\"Joe\", 7000)\n",
    "\n",
    "# list with 4 objects\n",
    "emp_list = [emp1, emp2, emp3, emp4]\n",
    "\n",
    "# print original list\n",
    "for emp in emp_list:\n",
    "    print(emp.name, emp.salary, end=', ')\n",
    "\n",
    "# shuffle list of objects\n",
    "# sample size (k) = length of a list\n",
    "shuffledList = random.sample(emp_list, k=len(emp_list))\n",
    "print(\"\\nPrinting new shuffled list of employee object\")\n",
    "\n",
    "for emp in shuffledList:\n",
    "    print(emp.name, emp.salary, end=', ')"
   ]
  },
  {
   "cell_type": "markdown",
   "id": "2b3eb889",
   "metadata": {},
   "source": [
    "**Shuffle Two Lists At Once With Same Order**"
   ]
  },
  {
   "cell_type": "code",
   "execution_count": 48,
   "id": "c35fd82a",
   "metadata": {},
   "outputs": [
    {
     "name": "stdout",
     "output_type": "stream",
     "text": [
      "Employee Names:  ['Jon', 'Emma', 'Kelly', 'Jason']\n",
      "Employee Salaries:  [7000, 6500, 9000, 10000]\n",
      "[('Jon', 7000), ('Emma', 6500), ('Kelly', 9000), ('Jason', 10000)]\n",
      "\n",
      "Employee Names:  ('Jon', 'Kelly', 'Jason', 'Emma')\n",
      "Employee Salary:  (7000, 9000, 10000, 6500)\n",
      "Emma 6500\n"
     ]
    }
   ],
   "source": [
    "import random\n",
    "\n",
    "# list of names\n",
    "employees = ['Jon', 'Emma', 'Kelly', 'Jason']\n",
    "# list of numbers\n",
    "salary = [7000, 6500, 9000, 10000]\n",
    "\n",
    "# Lists before Shuffling\n",
    "print(\"Employee Names: \", employees)\n",
    "print(\"Employee Salaries: \", salary)\n",
    "\n",
    "\n",
    "# To Shuffle two List at once with the same order\n",
    "mapIndexPosition = list(zip(employees, salary))\n",
    "print(mapIndexPosition)\n",
    "print()\n",
    "random.shuffle(mapIndexPosition)\n",
    "\n",
    "# make list separate\n",
    "list1_names, list2_salary = zip(*mapIndexPosition) # unpack first and then zip\n",
    "\n",
    "# Lists after Shuffling\n",
    "print(\"Employee Names: \", list1_names)\n",
    "print(\"Employee Salary: \", list2_salary)\n",
    "\n",
    "\n",
    "# Employee name and salary present index 3\n",
    "print(list1_names[3], list2_salary[3])\n"
   ]
  },
  {
   "cell_type": "markdown",
   "id": "da357191",
   "metadata": {},
   "source": [
    "**Shuffling NumPy Multidimensional Array**"
   ]
  },
  {
   "cell_type": "code",
   "execution_count": 49,
   "id": "b1d81be1",
   "metadata": {},
   "outputs": [
    {
     "name": "stdout",
     "output_type": "stream",
     "text": [
      "Before shuffling 2dimensional array\n",
      "[[100 110]\n",
      " [120 130]\n",
      " [140 150]\n",
      " [160 170]\n",
      " [180 190]\n",
      " [200 210]\n",
      " [220 230]]\n",
      "After shuffling 2dimensional array\n",
      "[[220 230]\n",
      " [140 150]\n",
      " [160 170]\n",
      " [200 210]\n",
      " [100 110]\n",
      " [120 130]\n",
      " [180 190]]\n"
     ]
    }
   ],
   "source": [
    "import numpy as np\n",
    "\n",
    "print('Before shuffling 2dimensional array')\n",
    "sample_array = np.arange(100, 240, 10)\n",
    "sample_array = sample_array.reshape(7, 2)\n",
    "print(sample_array)\n",
    "\n",
    "print('After shuffling 2dimensional array')\n",
    "np.random.shuffle(sample_array)\n",
    "print(sample_array)"
   ]
  },
  {
   "cell_type": "markdown",
   "id": "cd1b339a",
   "metadata": {},
   "source": [
    "**Shuffle a List to Get the Same Result Every time**"
   ]
  },
  {
   "cell_type": "code",
   "execution_count": 50,
   "id": "778cf692",
   "metadata": {},
   "outputs": [
    {
     "name": "stdout",
     "output_type": "stream",
     "text": [
      "Original list:  [10, 20, 30, 40, 50, 60]\n",
      "result list 1  [60, 10, 20, 30, 50, 40]\n",
      "result list 2  [40, 60, 10, 20, 50, 30]\n",
      "result list 3  [30, 40, 60, 10, 50, 20]\n",
      "result list 4  [20, 30, 40, 60, 50, 10]\n",
      "result list 5  [10, 20, 30, 40, 50, 60]\n",
      "result list 6  [60, 10, 20, 30, 50, 40]\n",
      "result list 7  [40, 60, 10, 20, 50, 30]\n",
      "result list 8  [30, 40, 60, 10, 50, 20]\n"
     ]
    }
   ],
   "source": [
    "import random\n",
    "\n",
    "numbers = [10, 20, 30, 40, 50, 60]\n",
    "print(\"Original list: \", numbers)\n",
    "\n",
    "# shuffle 8 times\n",
    "for i in range(8):\n",
    "    # seed PRNG\n",
    "    random.seed(9)\n",
    "    # shuffle list\n",
    "    random.shuffle(numbers)\n",
    "    print(f\"result list {i+1} \", numbers)"
   ]
  },
  {
   "cell_type": "markdown",
   "id": "e1045762",
   "metadata": {},
   "source": [
    "**Shuffle a String**"
   ]
  },
  {
   "cell_type": "code",
   "execution_count": 53,
   "id": "73ebba0f",
   "metadata": {},
   "outputs": [
    {
     "ename": "TypeError",
     "evalue": "'str' object does not support item assignment",
     "output_type": "error",
     "traceback": [
      "\u001b[1;31m---------------------------------------------------------------------------\u001b[0m",
      "\u001b[1;31mTypeError\u001b[0m                                 Traceback (most recent call last)",
      "\u001b[1;32m~\\AppData\\Local\\Temp\\ipykernel_6988\\253930343.py\u001b[0m in \u001b[0;36m<module>\u001b[1;34m\u001b[0m\n\u001b[0;32m      1\u001b[0m \u001b[0mstring_one\u001b[0m \u001b[1;33m=\u001b[0m \u001b[1;34m\"PYnative\"\u001b[0m\u001b[1;33m\u001b[0m\u001b[1;33m\u001b[0m\u001b[0m\n\u001b[1;32m----> 2\u001b[1;33m \u001b[0mshuffled\u001b[0m\u001b[1;33m=\u001b[0m\u001b[0mrandom\u001b[0m\u001b[1;33m.\u001b[0m\u001b[0mshuffle\u001b[0m\u001b[1;33m(\u001b[0m\u001b[0mstring_one\u001b[0m\u001b[1;33m)\u001b[0m\u001b[1;33m\u001b[0m\u001b[1;33m\u001b[0m\u001b[0m\n\u001b[0m\u001b[0;32m      3\u001b[0m \u001b[0mprint\u001b[0m\u001b[1;33m(\u001b[0m\u001b[0mshuffled\u001b[0m\u001b[1;33m)\u001b[0m\u001b[1;33m\u001b[0m\u001b[1;33m\u001b[0m\u001b[0m\n",
      "\u001b[1;32m~\\Anaconda3\\lib\\random.py\u001b[0m in \u001b[0;36mshuffle\u001b[1;34m(self, x, random)\u001b[0m\n\u001b[0;32m    276\u001b[0m                 \u001b[1;31m# pick an element in x[:i+1] with which to exchange x[i]\u001b[0m\u001b[1;33m\u001b[0m\u001b[1;33m\u001b[0m\u001b[1;33m\u001b[0m\u001b[0m\n\u001b[0;32m    277\u001b[0m                 \u001b[0mj\u001b[0m \u001b[1;33m=\u001b[0m \u001b[0mrandbelow\u001b[0m\u001b[1;33m(\u001b[0m\u001b[0mi\u001b[0m\u001b[1;33m+\u001b[0m\u001b[1;36m1\u001b[0m\u001b[1;33m)\u001b[0m\u001b[1;33m\u001b[0m\u001b[1;33m\u001b[0m\u001b[0m\n\u001b[1;32m--> 278\u001b[1;33m                 \u001b[0mx\u001b[0m\u001b[1;33m[\u001b[0m\u001b[0mi\u001b[0m\u001b[1;33m]\u001b[0m\u001b[1;33m,\u001b[0m \u001b[0mx\u001b[0m\u001b[1;33m[\u001b[0m\u001b[0mj\u001b[0m\u001b[1;33m]\u001b[0m \u001b[1;33m=\u001b[0m \u001b[0mx\u001b[0m\u001b[1;33m[\u001b[0m\u001b[0mj\u001b[0m\u001b[1;33m]\u001b[0m\u001b[1;33m,\u001b[0m \u001b[0mx\u001b[0m\u001b[1;33m[\u001b[0m\u001b[0mi\u001b[0m\u001b[1;33m]\u001b[0m\u001b[1;33m\u001b[0m\u001b[1;33m\u001b[0m\u001b[0m\n\u001b[0m\u001b[0;32m    279\u001b[0m         \u001b[1;32melse\u001b[0m\u001b[1;33m:\u001b[0m\u001b[1;33m\u001b[0m\u001b[1;33m\u001b[0m\u001b[0m\n\u001b[0;32m    280\u001b[0m             \u001b[0m_int\u001b[0m \u001b[1;33m=\u001b[0m \u001b[0mint\u001b[0m\u001b[1;33m\u001b[0m\u001b[1;33m\u001b[0m\u001b[0m\n",
      "\u001b[1;31mTypeError\u001b[0m: 'str' object does not support item assignment"
     ]
    }
   ],
   "source": [
    "string_one = \"PYnative\"\n",
    "shuffled=random.shuffle(string_one)\n",
    "print(shuffled)"
   ]
  },
  {
   "cell_type": "markdown",
   "id": "b4119eb8",
   "metadata": {},
   "source": [
    "**Shuffle a String by Converting it to a List**"
   ]
  },
  {
   "cell_type": "code",
   "execution_count": 54,
   "id": "957a1029",
   "metadata": {},
   "outputs": [
    {
     "name": "stdout",
     "output_type": "stream",
     "text": [
      "PYnative\n",
      "['P', 'Y', 'n', 'a', 't', 'i', 'v', 'e']\n",
      "aYvinPte\n"
     ]
    }
   ],
   "source": [
    "import random\n",
    "\n",
    "sample_str = \"PYnative\"\n",
    "# Original string\n",
    "print(sample_str)\n",
    "\n",
    "# convert string into list\n",
    "char_list = list(sample_str)\n",
    "print(char_list)\n",
    "\n",
    "# shuffle list\n",
    "random.shuffle(char_list)\n",
    "\n",
    "# convert list to string\n",
    "final_str = ''.join(char_list)\n",
    "\n",
    "# shuffled list\n",
    "print(final_str)"
   ]
  },
  {
   "cell_type": "markdown",
   "id": "8f9d6074",
   "metadata": {},
   "source": [
    "**Approach Two: Shuffling a String, not in place**"
   ]
  },
  {
   "cell_type": "code",
   "execution_count": 55,
   "id": "80093b7e",
   "metadata": {},
   "outputs": [
    {
     "name": "stdout",
     "output_type": "stream",
     "text": [
      "PYnative\n",
      "niavYPet\n"
     ]
    }
   ],
   "source": [
    "import random\n",
    "\n",
    "sample_str = \"PYnative\"\n",
    "print(sample_str)\n",
    "\n",
    "# shuffle string using random.sample()\n",
    "final_str = ''.join(random.sample(sample_str, len(sample_str)))\n",
    "print(final_str)"
   ]
  },
  {
   "cell_type": "markdown",
   "id": "8666cca5",
   "metadata": {},
   "source": [
    "### Shuffle Range of Integers"
   ]
  },
  {
   "cell_type": "code",
   "execution_count": 56,
   "id": "e7161926",
   "metadata": {},
   "outputs": [
    {
     "name": "stdout",
     "output_type": "stream",
     "text": [
      "[8, 4, 7, 0, 3, 5, 6, 9, 2, 1]\n"
     ]
    }
   ],
   "source": [
    "# Shuffle a range of numbers\n",
    "numbers = list(range(10))\n",
    "random.shuffle(numbers)\n",
    "print(numbers)"
   ]
  },
  {
   "cell_type": "markdown",
   "id": "485c51d8",
   "metadata": {},
   "source": [
    "### Shuffle a Dictionary in Python"
   ]
  },
  {
   "cell_type": "code",
   "execution_count": 57,
   "id": "277ff22e",
   "metadata": {},
   "outputs": [
    {
     "name": "stdout",
     "output_type": "stream",
     "text": [
      "Dictionary Before Shuffling\n",
      "{'Eric': 80, 'Scott': 75, 'Jessa': 95, 'Mike': 66}\n",
      "\n",
      "Dictionary after Shuffling\n",
      "{'Eric': 80, 'Mike': 66, 'Jessa': 95, 'Scott': 75}\n"
     ]
    }
   ],
   "source": [
    "student_dict = {'Eric': 80, 'Scott': 75, 'Jessa': 95, 'Mike': 66}\n",
    "print(\"Dictionary Before Shuffling\")\n",
    "print(student_dict)\n",
    "keys = list(student_dict.keys())\n",
    "random.shuffle(keys)\n",
    "\n",
    "ShuffledStudentDict = dict()\n",
    "for key in keys:\n",
    "    ShuffledStudentDict.update({key: student_dict[key]})\n",
    "\n",
    "print(\"\\nDictionary after Shuffling\")\n",
    "print(ShuffledStudentDict)"
   ]
  },
  {
   "cell_type": "markdown",
   "id": "8d727db5",
   "metadata": {},
   "source": [
    "### Shuffle a Python generator"
   ]
  },
  {
   "cell_type": "code",
   "execution_count": 58,
   "id": "59334e94",
   "metadata": {},
   "outputs": [
    {
     "name": "stdout",
     "output_type": "stream",
     "text": [
      "Generator\n",
      "25, 50, 75, 100, \n",
      "[75, 100, 50, 25]\n",
      "\n",
      "Print shuffled generator\n",
      "75, 100, 50, 25, "
     ]
    }
   ],
   "source": [
    "import random\n",
    "\n",
    "def sample_generator():\n",
    "    yield 25\n",
    "    yield 50\n",
    "    yield 75\n",
    "    yield 100\n",
    "\n",
    "print(\"Generator\")\n",
    "for i in sample_generator():\n",
    "    print(i, end=\", \")\n",
    "print()\n",
    "# Shuffle generator\n",
    "newList = list(sample_generator())\n",
    "random.shuffle(newList)\n",
    "print(newList)\n",
    "\n",
    "print(\"\\nPrint shuffled generator\")\n",
    "for i in newList:\n",
    "    print(i, end=\", \")"
   ]
  },
  {
   "cell_type": "code",
   "execution_count": null,
   "id": "b0f0bb1a",
   "metadata": {},
   "outputs": [],
   "source": []
  },
  {
   "cell_type": "code",
   "execution_count": null,
   "id": "07422525",
   "metadata": {},
   "outputs": [],
   "source": []
  },
  {
   "cell_type": "code",
   "execution_count": null,
   "id": "b84a94f5",
   "metadata": {},
   "outputs": [],
   "source": []
  },
  {
   "cell_type": "markdown",
   "id": "d496e834",
   "metadata": {},
   "source": [
    "# Generate Random Strings and Passwords"
   ]
  },
  {
   "cell_type": "markdown",
   "id": "66031c00",
   "metadata": {},
   "source": [
    "|Constant| Description|\n",
    "|:--|:--|\n",
    "|ascii_lowercase\t|Contain all lowercase letters|\n",
    "|ascii_uppercase|Contain all uppercase letters|\n",
    "|ascii_letters\t|Contain both lowercase and uppercase letters|\n",
    "|digits|Contain digits ‘0123456789’.|\n",
    "|punctuation\t|All special symbols !”#$%&'()*+,-./:;<=>?@[\\]^_`{|}~.|\n",
    "|whitespace\t|Includes the characters space, tab, linefeed, return, formfeed, and vertical tab [^ \\t\\n\\x0b\\r\\f]|\n",
    "|printable|characters that are considered printable. This is a combination of constants digits, letters, punctuation, and whitespace |"
   ]
  },
  {
   "cell_type": "code",
   "execution_count": 59,
   "id": "5dc3c566",
   "metadata": {},
   "outputs": [
    {
     "name": "stdout",
     "output_type": "stream",
     "text": [
      "Random string of length 8 is: mikzbgwa\n",
      "Random string of length 6 is: nbmpea\n",
      "Random string of length 4 is: hnxd\n"
     ]
    }
   ],
   "source": [
    "import random\n",
    "import string\n",
    "\n",
    "def get_random_string(length):\n",
    "    # choose from all lowercase letter\n",
    "    letters = string.ascii_lowercase\n",
    "    result_str = ''.join(random.choice(letters) for i in range(length))\n",
    "    print(\"Random string of length\", length, \"is:\", result_str)\n",
    "\n",
    "get_random_string(8)\n",
    "get_random_string(6)\n",
    "get_random_string(4)"
   ]
  },
  {
   "cell_type": "code",
   "execution_count": 60,
   "id": "36737fa1",
   "metadata": {},
   "outputs": [
    {
     "name": "stdout",
     "output_type": "stream",
     "text": [
      "MahWLmmv\n",
      "afiIbGfK\n"
     ]
    }
   ],
   "source": [
    "import random\n",
    "import string\n",
    "\n",
    "def get_random_string(length):\n",
    "    # With combination of lower and upper case\n",
    "    result_str = ''.join(random.choice(string.ascii_letters) for i in range(length))\n",
    "    # print random string\n",
    "    print(result_str)\n",
    "\n",
    "# string of length 8\n",
    "get_random_string(8)\n",
    "get_random_string(8)"
   ]
  },
  {
   "cell_type": "code",
   "execution_count": 61,
   "id": "b6221960",
   "metadata": {},
   "outputs": [
    {
     "name": "stdout",
     "output_type": "stream",
     "text": [
      "pqdzb\n"
     ]
    }
   ],
   "source": [
    "# Random string of specific letters\n",
    "import random\n",
    "\n",
    "# Random string of length 5\n",
    "result_str = ''.join((random.choice('abcdxyzpqr') for i in range(5)))\n",
    "print(result_str)"
   ]
  },
  {
   "cell_type": "code",
   "execution_count": 62,
   "id": "7b259772",
   "metadata": {},
   "outputs": [
    {
     "name": "stdout",
     "output_type": "stream",
     "text": [
      "mgucsefb\n",
      "birvteys\n",
      "bdwmhftq\n"
     ]
    }
   ],
   "source": [
    "# Random String without Repeating Characters\n",
    "import random\n",
    "import string\n",
    "\n",
    "for i in range(3):\n",
    "    # get random string of length 8 without repeating letters\n",
    "    result_str = ''.join(random.sample(string.ascii_lowercase, 8))\n",
    "    print(result_str)"
   ]
  },
  {
   "cell_type": "code",
   "execution_count": 63,
   "id": "abc8ecd0",
   "metadata": {},
   "outputs": [
    {
     "name": "stdout",
     "output_type": "stream",
     "text": [
      "Random password is: fU]%.+_l\n",
      "\n",
      "Random password is: Ie-KVqPp\n"
     ]
    }
   ],
   "source": [
    "# Create Random Password with Special characters, letters, and digits\n",
    "\n",
    "import random\n",
    "import string\n",
    "\n",
    "# get random password pf length 8 with letters, digits, and symbols\n",
    "characters = string.ascii_letters + string.digits + string.punctuation\n",
    "password = ''.join(random.choice(characters) for i in range(8))\n",
    "print(\"Random password is:\", password)\n",
    "print()\n",
    "\n",
    "password = ''.join(random.choice(string.printable) for i in range(8))\n",
    "print(\"Random password is:\", password)"
   ]
  },
  {
   "cell_type": "code",
   "execution_count": 64,
   "id": "f6d29a15",
   "metadata": {},
   "outputs": [
    {
     "name": "stdout",
     "output_type": "stream",
     "text": [
      "First Random Password is  :3Qo0sXa]B\n",
      "Second Random Password is  K?=Nnl%4Oh\n"
     ]
    }
   ],
   "source": [
    "# Random password with a fixed count of letters, digits, and symbols\n",
    "import random\n",
    "import string\n",
    "\n",
    "def get_random_password():\n",
    "    random_source = string.ascii_letters + string.digits + string.punctuation\n",
    "    # select 1 lowercase\n",
    "    password = random.choice(string.ascii_lowercase)\n",
    "    # select 1 uppercase\n",
    "    password += random.choice(string.ascii_uppercase)\n",
    "    # select 1 digit\n",
    "    password += random.choice(string.digits)\n",
    "    # select 1 special symbol\n",
    "    password += random.choice(string.punctuation)\n",
    "\n",
    "    # generate other characters\n",
    "    for i in range(6):\n",
    "        password += random.choice(random_source)\n",
    "\n",
    "    password_list = list(password)\n",
    "    # shuffle all characters\n",
    "    random.SystemRandom().shuffle(password_list)\n",
    "    password = ''.join(password_list)\n",
    "    return password\n",
    "\n",
    "print(\"First Random Password is \", get_random_password())\n",
    "print(\"Second Random Password is \", get_random_password())"
   ]
  },
  {
   "cell_type": "code",
   "execution_count": 65,
   "id": "c9f47b0b",
   "metadata": {},
   "outputs": [
    {
     "data": {
      "text/plain": [
       "'Above all, examples are not cryptographically secure. The cryptographically secure \\nrandom generator generates random data using synchronization methods to ensure that no \\ntwo processes can obtain the same data simultaneously.\\nIf you are producing random passwords or strings for a security-sensitive application, \\nthen you must use this approach.'"
      ]
     },
     "execution_count": 65,
     "metadata": {},
     "output_type": "execute_result"
    },
    {
     "name": "stdout",
     "output_type": "stream",
     "text": [
      "FzXbkCKu\n",
      "MPSjUAZA\n"
     ]
    }
   ],
   "source": [
    "# Generate a secure random string and password\n",
    "'''Above all, examples are not cryptographically secure. The cryptographically secure \n",
    "random generator generates random data using synchronization methods to ensure that no \n",
    "two processes can obtain the same data simultaneously.\n",
    "If you are producing random passwords or strings for a security-sensitive application, \n",
    "then you must use this approach.'''\n",
    "\n",
    "import secrets\n",
    "import string\n",
    "\n",
    "# secure random string\n",
    "secure_str = ''.join((secrets.choice(string.ascii_letters) for i in range(8)))\n",
    "print(secure_str)\n",
    "\n",
    "# secure password\n",
    "password = ''.join((secrets.choice(string.ascii_letters + string.digits + string.punctuation) for i in range(8)))\n",
    "print(password)"
   ]
  },
  {
   "cell_type": "code",
   "execution_count": 66,
   "id": "560509d4",
   "metadata": {},
   "outputs": [
    {
     "name": "stdout",
     "output_type": "stream",
     "text": [
      "YdbyXJZB\n"
     ]
    }
   ],
   "source": [
    "# Generate a random alphanumeric string of letters and digits\n",
    "import random\n",
    "import string\n",
    "\n",
    "# get random string of letters and digits\n",
    "source = string.ascii_letters + string.digits\n",
    "result_str = ''.join((random.choice(source) for i in range(8)))\n",
    "print(result_str)"
   ]
  },
  {
   "cell_type": "code",
   "execution_count": 67,
   "id": "044e590a",
   "metadata": {},
   "outputs": [
    {
     "name": "stdout",
     "output_type": "stream",
     "text": [
      "Random string with 5 letters and 3 digits is: 1w9Tp6FX\n",
      "Random string with 6 letters and 2 digits is: k0SqiQ0s\n"
     ]
    }
   ],
   "source": [
    "# Random alphanumeric string with a fixed count of letters and digits\n",
    "import random\n",
    "import string\n",
    "\n",
    "def get_string(letters_count, digits_count):\n",
    "    letters = ''.join((random.choice(string.ascii_letters) for i in range(letters_count)))\n",
    "    digits = ''.join((random.choice(string.digits) for i in range(digits_count)))\n",
    "\n",
    "    # Convert resultant string to list and shuffle it to mix letters and digits\n",
    "    sample_list = list(letters + digits)\n",
    "    random.shuffle(sample_list)\n",
    "    # convert list to string\n",
    "    final_string = ''.join(sample_list)\n",
    "    print('Random string with', letters_count, 'letters', 'and', digits_count, 'digits', 'is:', final_string)\n",
    "\n",
    "get_string(5, 3)\n",
    "get_string(6, 2)"
   ]
  },
  {
   "cell_type": "code",
   "execution_count": 68,
   "id": "fe5ede13",
   "metadata": {},
   "outputs": [
    {
     "name": "stdout",
     "output_type": "stream",
     "text": [
      "Secure hexadecimal string token bcf8b42c69811d39451cfbbbe889a5368c994e2bf0589b1e60f6a67c5f66c6cc\n"
     ]
    }
   ],
   "source": [
    "# Generate a random string token\n",
    "import secrets\n",
    "print(\"Secure hexadecimal string token\", secrets.token_hex(32)) # get a secure random text in hexadecimal format."
   ]
  },
  {
   "cell_type": "code",
   "execution_count": 69,
   "id": "b0d47245",
   "metadata": {},
   "outputs": [
    {
     "name": "stdout",
     "output_type": "stream",
     "text": [
      "Secure unique string id 4aed430b-2fe3-4ac7-b461-c19e1014c251\n"
     ]
    }
   ],
   "source": [
    "# Generate universally unique secure random string Id\n",
    "# The random string generated using a UUID module is suitable for the Cryptographically secure application. \n",
    "# The UUID module has various functions to do this. Here in this example, \n",
    "# we are using a uuid4() function to generate a random string Id.\n",
    "import uuid\n",
    "stringId  = uuid.uuid4()\n",
    "print(\"Secure unique string id\", stringId)"
   ]
  },
  {
   "cell_type": "code",
   "execution_count": 70,
   "id": "a5e43512",
   "metadata": {},
   "outputs": [
    {
     "name": "stdout",
     "output_type": "stream",
     "text": [
      "2T6BbqISa8\n",
      "1\"7{A3yh\n"
     ]
    }
   ],
   "source": [
    "# Use the StringGenerator module to generate a random string\n",
    "\n",
    "import strgen\n",
    "\n",
    "random_str = strgen.StringGenerator(\"[\\w\\d]{10}\").render()\n",
    "print(random_str)\n",
    "\n",
    "\n",
    "random_str2 = strgen.StringGenerator(\"[\\d]{3}&[\\w]{3}&[\\p]{2}\").render()\n",
    "print(random_str2)\n"
   ]
  },
  {
   "cell_type": "markdown",
   "id": "2e879a48",
   "metadata": {},
   "source": [
    "# Random Float numbers in Python using random() and Uniform()"
   ]
  },
  {
   "cell_type": "markdown",
   "id": "cb622774",
   "metadata": {},
   "source": [
    "|Function|\tDescription|\n",
    "|:--|:--|\n",
    "|random.random()\t|Returns a random float number between 0 and 1|\n",
    "|random.uniform(10.5, 75.5)\t|Returns a random float number between a range|\n",
    "|round(random.uniform(33.33, 66.66), 2)\t|Returns a random float number up to 2 decimal places|\n",
    "|random.SystemRandom().uniform(5, 10)\t|Returns a secure random float number|\n",
    "|numpy.random.uniform()\t|Returns a random array of floats|"
   ]
  },
  {
   "cell_type": "code",
   "execution_count": 71,
   "id": "cbb37b6d",
   "metadata": {},
   "outputs": [
    {
     "name": "stdout",
     "output_type": "stream",
     "text": [
      "0.20860185315146273\n",
      "0.3888786457049763\n",
      "0.6115486771970534\n",
      "73.31816402014044\n",
      "41.90779936053554\n",
      "0.14\n",
      "52.06\n",
      "0.1\n",
      "36.2\n"
     ]
    }
   ],
   "source": [
    "import random\n",
    "\n",
    "x = random.random()\n",
    "# Random float number\n",
    "for i in range(3):\n",
    "    print(random.random())\n",
    "\n",
    "# Random float number between range 10.5 to 75.5\n",
    "print(random.uniform(10.5, 75.5))\n",
    "\n",
    "# between 10 and 100\n",
    "print(random.uniform(10, 100))\n",
    "\n",
    "# Random float number with 2 decimal places\n",
    "print(round(random.random(), 2))\n",
    "print(round(random.uniform(33.33, 66.66), 2))\n",
    "\n",
    "# With 1 decimal places\n",
    "print(round(random.random(), 1))\n",
    "print(round(random.uniform(33.33, 66.66), 1))\n"
   ]
  },
  {
   "cell_type": "markdown",
   "id": "0bd10d0a",
   "metadata": {},
   "source": [
    "**Get random decimal**\n",
    "\n",
    "To get a random decimal.Decimal instance, you need explicitly convert it into decimal.Decimal."
   ]
  },
  {
   "cell_type": "code",
   "execution_count": 72,
   "id": "14ef88dd",
   "metadata": {},
   "outputs": [
    {
     "name": "stdout",
     "output_type": "stream",
     "text": [
      "600.3637601912715\n"
     ]
    }
   ],
   "source": [
    "import random\n",
    "import decimal\n",
    "\n",
    "# random decimal\n",
    "x = decimal.Decimal(str(random.uniform(100, 1000)))\n",
    "print(x)"
   ]
  },
  {
   "cell_type": "markdown",
   "id": "2b54450f",
   "metadata": {},
   "source": [
    "**Random float number with step**"
   ]
  },
  {
   "cell_type": "code",
   "execution_count": 73,
   "id": "cc2d0468",
   "metadata": {},
   "outputs": [
    {
     "name": "stdout",
     "output_type": "stream",
     "text": [
      "72.2\n"
     ]
    }
   ],
   "source": [
    "# random float from 1 to 99.9\n",
    "int_num = random.choice(range(10, 1000))\n",
    "float_num = int_num/10\n",
    "print(float_num)"
   ]
  },
  {
   "cell_type": "markdown",
   "id": "1ede277c",
   "metadata": {},
   "source": [
    "**Generate a list of random floats between a range**"
   ]
  },
  {
   "cell_type": "code",
   "execution_count": 74,
   "id": "caa10908",
   "metadata": {},
   "outputs": [
    {
     "name": "stdout",
     "output_type": "stream",
     "text": [
      "[103.57, 239.47, 114.63, 303.37, 408.2, 315.18, 411.74, 348.93, 173.87, 319.28]\n"
     ]
    }
   ],
   "source": [
    "import random\n",
    "\n",
    "random_float_list = []\n",
    "# Set a length of the list to 10\n",
    "for i in range(0, 10):\n",
    "    # any random float between 50.50 to 500.50\n",
    "    # don't use round() if you need number as it is\n",
    "    x = round(random.uniform(50.50, 500.50), 2)\n",
    "    random_float_list.append(x)\n",
    "\n",
    "print(random_float_list)"
   ]
  },
  {
   "cell_type": "markdown",
   "id": "a8be46eb",
   "metadata": {},
   "source": [
    "**Create a list of unique random float numbers**"
   ]
  },
  {
   "cell_type": "code",
   "execution_count": 75,
   "id": "0b6806cc",
   "metadata": {},
   "outputs": [
    {
     "name": "stdout",
     "output_type": "stream",
     "text": [
      "[63.3, 51.6, 36.7, 11.1, 95.5, 5.9, 29.3, 55.1, 14.1, 18.7]\n",
      "\n",
      "List of unique random numbers between 100, 1000\n",
      "[818.57, 838.34, 246.0, 810.68, 873.2, 282.6, 526.27, 632.37, 590.96, 174.88]\n"
     ]
    }
   ],
   "source": [
    "# Option 1: Use a list of integers to generate floats.\n",
    "\n",
    "list_Size = 10\n",
    "# random float from 1 to 99.9\n",
    "integer_list = random.sample(range(10, 1000), list_Size)\n",
    "float_list = [x/10 for x in integer_list]\n",
    "print(float_list)\n",
    "print()\n",
    "\n",
    "# Option 2: Avoid duplicates manually\n",
    "def get_float_list(start, stop, size):\n",
    "    result = []\n",
    "    unique_set = set()\n",
    "    for i in range(size):\n",
    "        x = round(random.uniform(start, stop),2)\n",
    "        while x in unique_set:\n",
    "            x = round(random.uniform(start, stop),2)\n",
    "        unique_set.add(x)\n",
    "        result.append(x)\n",
    "\n",
    "    return result\n",
    "\n",
    "print(\"List of unique random numbers between 100, 1000\")\n",
    "print(get_float_list(100, 1000, 10))"
   ]
  },
  {
   "cell_type": "markdown",
   "id": "b5e783cb",
   "metadata": {},
   "source": [
    "**Generate a secure random float number**"
   ]
  },
  {
   "cell_type": "code",
   "execution_count": 76,
   "id": "8b875b56",
   "metadata": {},
   "outputs": [
    {
     "name": "stdout",
     "output_type": "stream",
     "text": [
      "0.7916511739225813\n",
      "45.470893732038746\n"
     ]
    }
   ],
   "source": [
    "import random\n",
    "\n",
    "secure_random = random.SystemRandom()\n",
    "\n",
    "randomfloat = secure_random.random()\n",
    "print(randomfloat)\n",
    "\n",
    "randomfloat = secure_random.uniform(12.5, 77.5)\n",
    "print(randomfloat)"
   ]
  },
  {
   "cell_type": "markdown",
   "id": "e5eeeac3",
   "metadata": {},
   "source": [
    "### Use numpy.random to generate an array of random float numbers"
   ]
  },
  {
   "cell_type": "code",
   "execution_count": 77,
   "id": "d6bb27a6",
   "metadata": {},
   "outputs": [
    {
     "name": "stdout",
     "output_type": "stream",
     "text": [
      "1.0699045074288207\n",
      "56.44994399433493\n",
      "[[0.54884789 0.5038818  0.5078144 ]\n",
      " [0.35668912 0.47818464 0.87288496]] \n",
      "\n",
      "[[ 91.40950569 125.47727764]\n",
      " [123.6790643  116.47954727]]\n"
     ]
    }
   ],
   "source": [
    "import numpy as np\n",
    "\n",
    "random_float = np.random.randn()\n",
    "print(random_float)\n",
    "\n",
    "random_float_number = np.random.uniform(49.5, 99.5)\n",
    "print(random_float_number)\n",
    "\n",
    "# Create an n-dimensional array of float numbers\n",
    "\n",
    "random_float_array = numpy.random.rand(2, 3)\n",
    "# Random float array 2X3\n",
    "print(random_float_array,\"\\n\")\n",
    "\n",
    "#2X2 random float\n",
    "random_float_array = numpy.random.uniform(75.5, 125.5, size=(2, 2))\n",
    "print(random_float_array)\n"
   ]
  },
  {
   "cell_type": "markdown",
   "id": "efc0de6e",
   "metadata": {},
   "source": [
    "# Secrets Module to Generate secure random numbers for managing secrets\n",
    "\n",
    "The random generator provided by the Python random module is a pseudo-random number generator that is not cryptographically secure. As a result secrets module is added in Python 3.6 and onwards to secure the random number generator."
   ]
  },
  {
   "cell_type": "code",
   "execution_count": 78,
   "id": "a87266e1",
   "metadata": {},
   "outputs": [
    {
     "name": "stdout",
     "output_type": "stream",
     "text": [
      "20\n",
      "36\n",
      "6\n",
      "[6, 54, 12]\n",
      "2.7561443247343664\n"
     ]
    }
   ],
   "source": [
    "import secrets\n",
    "\n",
    "# Getting systemRandom class instance out of secrets module\n",
    "secretsGenerator = secrets.SystemRandom()\n",
    "\n",
    "# secure random integer numbers\n",
    "random_number = secretsGenerator.randint(0, 50)\n",
    "print(random_number)\n",
    "\n",
    "# secure random integer number within given\n",
    "random_number2 = secretsGenerator.randrange(4, 40, 4)\n",
    "print(random_number2)\n",
    "\n",
    "# Secure Random choice using secrets\n",
    "number_list = [6, 12, 18, 24, 30, 36, 42, 48, 54, 60]\n",
    "secure_choice = secretsGenerator.choice(number_list)\n",
    "print(secure_choice)\n",
    "\n",
    "# Secure Random sample\n",
    "secure_sample = secretsGenerator.sample(number_list, 3)\n",
    "print(secure_sample)\n",
    "\n",
    "# Secure Random float number\n",
    "secure_float = secretsGenerator.uniform(2.5, 25.5)\n",
    "print(secure_float)"
   ]
  },
  {
   "cell_type": "markdown",
   "id": "a13ebb87",
   "metadata": {},
   "source": [
    "|Function|\tDescription|\n",
    "|:--|:--|\n",
    "|secrets.SystemRandom()|\tGet an instance of the secure random generator|\n",
    "|secrets.randbelow(n)|\tGenerate a secure random integer number|\n",
    "|secrets.choice(seq)|\tReturns a secure random element from a non-empty sequence|\n",
    "|secrets.randbits(k)|\treturns a secure unsigned integer with k random bits|\n",
    "|secrets.token_bytes([nbytes=None])|\tReturn a secure random byte string|\n",
    "|secrets.token_hex([nbytes=None])\t|Return a secure random text string, in hexadecimal format|\n",
    "|secrets.token_urlsafe([nbytes=None])|\tReturn a secure random URL-safe text string|\n",
    "|secrets.compare_digest(a, b)|\tTo reduce the risk of timing attacks|"
   ]
  },
  {
   "cell_type": "code",
   "execution_count": 79,
   "id": "8b0f0afd",
   "metadata": {
    "scrolled": true
   },
   "outputs": [
    {
     "name": "stdout",
     "output_type": "stream",
     "text": [
      "1, 3, 0, \n",
      "i\n",
      "Guido Van Rossum\n",
      "\n",
      "7\n",
      "132\n",
      "20051\n",
      "2238865605\n",
      "\n",
      "b'k\\x15\\xd7\\x07 \\xcc\\xdd2\\xce_\\xeeo?Y\\xc1\\x9d'\n",
      "8e56435983657a189c51041a421963cd0b37f4dfdcc7318da1fc395ff797ac16\n",
      "demo.com/customer/eric/reset=ymTW8o9xewzFNISa9KMRTvCQ5GYGhtpPAN6r9ZNxicI\n"
     ]
    }
   ],
   "source": [
    "import secrets\n",
    "\n",
    "# secure Random integer number\n",
    "for i in range(3):\n",
    "    print(secrets.randbelow(10), end=', ')\n",
    "print()\n",
    "\n",
    "name = \"GuidoVanRossum\"\n",
    "# secrets choice from string is\n",
    "print(secrets.choice(name))\n",
    "\n",
    "name_list = [\"Guido Van Rossum\", \"Bjarne Stroustrup\", \"Dennis Ritchie\"]\n",
    "# secure choice from list\n",
    "print(secrets.choice(name_list))\n",
    "\n",
    "print()\n",
    "import secrets\n",
    "\n",
    "# using 4 bits\n",
    "print(secrets.randbits(4))\n",
    "\n",
    "# using 8 bits\n",
    "print(secrets.randbits(8))\n",
    "\n",
    "# using 16 bits\n",
    "print(secrets.randbits(16))\n",
    "\n",
    "# using 32 bits\n",
    "print(secrets.randbits(32))\n",
    "\n",
    "print()\n",
    "\n",
    "# The secrets module provides functions for generating the secure tokens, \n",
    "# useful for applications to generate reset password tokens and hard-to-guess URLs.\n",
    "\n",
    "# secure byte token\n",
    "print(secrets.token_bytes(16))\n",
    "\n",
    "# secure hexadecimal token\n",
    "print(secrets.token_hex(32))\n",
    "\n",
    "# generate secure URLs\n",
    "passwordResetLink = \"demo.com/customer/eric/reset=\"\n",
    "passwordResetLink += secrets.token_urlsafe(32)\n",
    "print(passwordResetLink)\n"
   ]
  },
  {
   "cell_type": "markdown",
   "id": "98027a3e",
   "metadata": {},
   "source": [
    "**Practical Example of secrets module**"
   ]
  },
  {
   "cell_type": "code",
   "execution_count": 80,
   "id": "d2bf35a6",
   "metadata": {},
   "outputs": [
    {
     "name": "stdout",
     "output_type": "stream",
     "text": [
      "Secure Password is  v4#y7LZ$tq\n",
      "Ppassword Reset URL Link\n",
      "https://demo.com/user/jhon/reset=I4joHa_TXXU5iGe7Wa1lylHCidKad5ILVnUDubNRybw\n"
     ]
    }
   ],
   "source": [
    "import secrets\n",
    "import string\n",
    "\n",
    "stringSource = string.ascii_letters + string.digits + string.punctuation\n",
    "password = secrets.choice(string.ascii_lowercase)\n",
    "password += secrets.choice(string.ascii_uppercase)\n",
    "password += secrets.choice(string.digits)\n",
    "password += secrets.choice(string.punctuation)\n",
    "\n",
    "for i in range(6):\n",
    "    password += secrets.choice(stringSource)\n",
    "\n",
    "char_list = list(password)\n",
    "secrets.SystemRandom().shuffle(char_list)\n",
    "password = ''.join(char_list)\n",
    "print(\"Secure Password is \", password)\n",
    "\n",
    "print(\"Ppassword Reset URL Link\")\n",
    "SecureURL = \"https://demo.com/user/jhon/reset=\"\n",
    "SecureURL += secrets.token_urlsafe(32)\n",
    "print(SecureURL)"
   ]
  },
  {
   "cell_type": "markdown",
   "id": "07aa0ce8",
   "metadata": {},
   "source": [
    "## **Simulations**"
   ]
  },
  {
   "cell_type": "markdown",
   "id": "0b652739",
   "metadata": {},
   "source": [
    "\n",
    "- Six roulete wheel spins (weighted sampling with replacement)"
   ]
  },
  {
   "cell_type": "code",
   "execution_count": 81,
   "id": "48003edd",
   "metadata": {},
   "outputs": [
    {
     "data": {
      "text/plain": [
       "['black', 'black', 'red', 'red', 'black', 'black']"
      ]
     },
     "execution_count": 81,
     "metadata": {},
     "output_type": "execute_result"
    }
   ],
   "source": [
    "random.choices(['red', 'black', 'green'], [9, 9, 1], k=6)"
   ]
  },
  {
   "cell_type": "markdown",
   "id": "9d683984",
   "metadata": {},
   "source": [
    "- Deal 20 cards without replacement from a deck of 52 playing cards, and determine the proportion of cards with a ten\\-value:  ten, jack, queen, or king.\n"
   ]
  },
  {
   "cell_type": "code",
   "execution_count": 101,
   "id": "e433bb1a",
   "metadata": {
    "scrolled": true
   },
   "outputs": [
    {
     "name": "stdout",
     "output_type": "stream",
     "text": [
      "0.4\n"
     ]
    }
   ],
   "source": [
    "tens=['tens']*16\n",
    "low_cards=['low cards']*36\n",
    "total_sample=tens+low_cards\n",
    "\n",
    "dealt=random.sample(total_sample, k=20)\n",
    "\n",
    "cnt=dealt.count('tens')\n",
    "cnt=cnt/20\n",
    "print(cnt)"
   ]
  },
  {
   "cell_type": "code",
   "execution_count": 105,
   "id": "094afeb2",
   "metadata": {},
   "outputs": [
    {
     "data": {
      "text/plain": [
       "0.2"
      ]
     },
     "execution_count": 105,
     "metadata": {},
     "output_type": "execute_result"
    }
   ],
   "source": [
    "# choices does random sampling with a replacement\n",
    "dealt=random.choices(['tens', 'low cards'], [16, 36], k=20)\n",
    "dealt.count('tens')/20"
   ]
  },
  {
   "cell_type": "markdown",
   "id": "e68c4955",
   "metadata": {},
   "source": [
    "- Estimate the probability of getting 5 or more heads from 7 spins  of a biased coin that settles on heads 60% of the time."
   ]
  },
  {
   "cell_type": "code",
   "execution_count": 124,
   "id": "48ddff04",
   "metadata": {},
   "outputs": [
    {
     "name": "stdout",
     "output_type": "stream",
     "text": [
      "0.4213\n"
     ]
    }
   ],
   "source": [
    "def trial():\n",
    "    return random.choices('HT', cum_weights=(0.6, 1), k=7).count('H')>=5\n",
    "\n",
    "print(sum(trial() for i in range(10000))/10000)"
   ]
  },
  {
   "cell_type": "markdown",
   "id": "56a28795",
   "metadata": {},
   "source": [
    "- Probability of the median of 5 samples being in middle two quartiles"
   ]
  },
  {
   "cell_type": "code",
   "execution_count": 133,
   "id": "66be1798",
   "metadata": {},
   "outputs": [
    {
     "name": "stdout",
     "output_type": "stream",
     "text": [
      "0.7912\n"
     ]
    }
   ],
   "source": [
    "def trial():\n",
    "    return 2_500 <= sorted(random.choices(range(10_000), k=5))[2] < 7_500\n",
    "\n",
    "print(sum(trial() for i in range(10_000))/10000)"
   ]
  },
  {
   "cell_type": "code",
   "execution_count": 132,
   "id": "f2bcb33a",
   "metadata": {},
   "outputs": [
    {
     "data": {
      "text/plain": [
       "5214"
      ]
     },
     "execution_count": 132,
     "metadata": {},
     "output_type": "execute_result"
    }
   ],
   "source": [
    "sorted(random.choices(range(10_000), k=5))[2]"
   ]
  },
  {
   "cell_type": "markdown",
   "id": "d7fd2b84",
   "metadata": {},
   "source": [
    "- Example of statistical bootstrapping using resampling with replacement to estimate a confidence interval for the mean of a sample:"
   ]
  },
  {
   "cell_type": "code",
   "execution_count": 12,
   "id": "ec1605c5",
   "metadata": {},
   "outputs": [
    {
     "name": "stdout",
     "output_type": "stream",
     "text": [
      "The sample mean of 49.0 has a 90% confidence interval from 40.1 to 59.9\n"
     ]
    }
   ],
   "source": [
    "\n",
    "from statistics import mean\n",
    "import random\n",
    "\n",
    "data = [41, 50, 29, 37, 81, 30, 73, 63, 20, 35, 68, 22, 60, 31, 95]\n",
    "means = sorted(mean(random.choices(data, k=len(data))) for i in range(100))\n",
    "# print(means)\n",
    "print(f'The sample mean of {mean(data):.1f} has a 90% confidence '\n",
    "      f'interval from {means[5]:.1f} to {means[94]:.1f}')"
   ]
  },
  {
   "cell_type": "markdown",
   "id": "31b06a91",
   "metadata": {},
   "source": [
    "* Example of a resampling permutation test to determine the statistical significance or p-value of an observed difference between the effects of a drug versus a placebo:"
   ]
  },
  {
   "cell_type": "code",
   "execution_count": 25,
   "id": "666c47c9",
   "metadata": {},
   "outputs": [
    {
     "name": "stdout",
     "output_type": "stream",
     "text": [
      "[54, 73, 53, 70, 73, 68, 52, 65, 65, 54, 51, 58, 44, 55, 52, 42, 47, 58, 46]\n",
      "[73, 44, 55, 70, 58, 52, 68, 65, 47, 42, 53, 65, 54, 58, 54, 46, 52, 73, 51]\n",
      "10000 label reshufflings produced only 12 instances with a difference\n",
      "at least as extreme as the observed difference of 13.0.\n",
      "The one-sided p-value of 0.0012 leads us to reject the null\n",
      "hypothesis that there is no difference between the drug and the placebo.\n"
     ]
    }
   ],
   "source": [
    "from statistics import mean\n",
    "import random\n",
    "\n",
    "drug = [54, 73, 53, 70, 73, 68, 52, 65, 65]\n",
    "placebo = [54, 51, 58, 44, 55, 52, 42, 47, 58, 46]\n",
    "observed_diff = mean(drug) - mean(placebo)\n",
    "combined = drug + placebo\n",
    "\n",
    "n = 10_000\n",
    "count = 0\n",
    "combined = drug + placebo\n",
    "for i in range(n):\n",
    "    random.shuffle(combined)\n",
    "    new_diff = mean(combined[:len(drug)]) - mean(combined[len(drug):])\n",
    "    count += (new_diff >= observed_diff)\n",
    "\n",
    "print(f'{n} label reshufflings produced only {count} instances with a difference')\n",
    "print(f'at least as extreme as the observed difference of {observed_diff:.1f}.')\n",
    "print(f'The one-sided p-value of {count / n:.4f} leads us to reject the null')\n",
    "print(f'hypothesis that there is no difference between the drug and the placebo.')"
   ]
  }
 ],
 "metadata": {
  "kernelspec": {
   "display_name": "Python 3",
   "language": "python",
   "name": "python3"
  },
  "language_info": {
   "codemirror_mode": {
    "name": "ipython",
    "version": 3
   },
   "file_extension": ".py",
   "mimetype": "text/x-python",
   "name": "python",
   "nbconvert_exporter": "python",
   "pygments_lexer": "ipython3",
   "version": "3.7.13"
  }
 },
 "nbformat": 4,
 "nbformat_minor": 5
}
