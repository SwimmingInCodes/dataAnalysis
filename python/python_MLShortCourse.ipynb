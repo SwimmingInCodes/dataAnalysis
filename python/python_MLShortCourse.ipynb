{
 "cells": [
  {
   "cell_type": "code",
   "execution_count": 1,
   "id": "8651b3e0",
   "metadata": {},
   "outputs": [],
   "source": [
    "# %load command1.py\n",
    "import pandas as pd\n",
    "import numpy as np\n",
    "import seaborn as sns\n",
    "import matplotlib.pyplot as plt\n",
    "\n",
    "from IPython.core.interactiveshell import InteractiveShell\n",
    "InteractiveShell.ast_node_interactivity='all'\n",
    "\n",
    "%config InlineBackend.figure_format='svg'\n",
    "plt.rcParams['figure.dpi']=120\n",
    "\n",
    "pd.options.display.float_format='{:,.2f}'.format\n",
    "pd.set_option('display.max_colwidth', None)\n"
   ]
  },
  {
   "cell_type": "markdown",
   "id": "28057d31",
   "metadata": {},
   "source": [
    "### Lesson 01: Manipulating lists\n",
    "https://machinelearningmastery.com/python-for-machine-learning-7-day-mini-course/"
   ]
  },
  {
   "cell_type": "code",
   "execution_count": 2,
   "id": "539a670c",
   "metadata": {},
   "outputs": [
    {
     "data": {
      "text/plain": [
       "[1, 2, 3, 'that\"s all']"
      ]
     },
     "execution_count": 2,
     "metadata": {},
     "output_type": "execute_result"
    },
    {
     "name": "stdout",
     "output_type": "stream",
     "text": [
      "[3, 'that\"s all']\n"
     ]
    }
   ],
   "source": [
    "x=[1,2,3]\n",
    "x.append('that\"s all')\n",
    "x\n",
    "\n",
    "print(x[-2:])"
   ]
  },
  {
   "cell_type": "code",
   "execution_count": 3,
   "id": "19b64f0b",
   "metadata": {},
   "outputs": [
    {
     "name": "stdout",
     "output_type": "stream",
     "text": [
      "[1, 2, 3, 4, 5, 6, 7, 8, 9, 10]\n",
      "[1, 3, 5, 7, 9]\n",
      "[2, 4, 6, 8, 10]\n"
     ]
    }
   ],
   "source": [
    "x=[num for num in range(1, 11)]\n",
    "print(x)\n",
    "\n",
    "odd=x[::2]\n",
    "even=x[1::2]\n",
    "print(odd)\n",
    "print(even)"
   ]
  },
  {
   "cell_type": "markdown",
   "id": "e6399ba5",
   "metadata": {},
   "source": [
    "Your Task <br>\n",
    "In the above example of getting odd numbers from a list of 1 to 10, you can make a step size of -2 to ask the list go backward. How can you use the slicing syntax to print [9,7,5,3,1]? How about [7,5,3]?"
   ]
  },
  {
   "cell_type": "code",
   "execution_count": 4,
   "id": "377a8848",
   "metadata": {},
   "outputs": [
    {
     "name": "stdout",
     "output_type": "stream",
     "text": [
      "[9, 7, 5, 3, 1]\n",
      "[7, 5, 3]\n"
     ]
    }
   ],
   "source": [
    "print(x[-2::-2])\n",
    "print(x[-4:-9:-2])"
   ]
  },
  {
   "cell_type": "markdown",
   "id": "4dae16ac",
   "metadata": {},
   "source": [
    "### Lesson 02: Dictionaries"
   ]
  },
  {
   "cell_type": "code",
   "execution_count": 5,
   "id": "07e977bf",
   "metadata": {},
   "outputs": [
    {
     "name": "stdout",
     "output_type": "stream",
     "text": [
      "apple costs $ 1.5\n",
      "lemon costs $ 0.6\n",
      "\n",
      "strawberry costs $1\n",
      "strawberry costs $ 1\n",
      "strawberry costs $ None\n"
     ]
    }
   ],
   "source": [
    "price={'apple':1.5,\n",
    "      'arange':1.25,\n",
    "      'banana':0.5}\n",
    "\n",
    "print('apple costs $', price['apple'])\n",
    "\n",
    "price[\"lemon\"] = 0.6\n",
    "print(\"lemon costs $\", price[\"lemon\"])\n",
    "print()\n",
    "\n",
    "\n",
    "if 'strawberry' in price:\n",
    "    print('strawberry costs $', price['strawberry'])\n",
    "    \n",
    "else:\n",
    "    print('strawberry costs $1')\n",
    "    \n",
    "print('strawberry costs $', price.get('strawberry',1))\n",
    "\n",
    "print(\"strawberry costs $\", price.get(\"strawberry\"))"
   ]
  },
  {
   "cell_type": "code",
   "execution_count": 6,
   "id": "1389c594",
   "metadata": {},
   "outputs": [
    {
     "name": "stdout",
     "output_type": "stream",
     "text": [
      "['apple', 'arange', 'banana', 'lemon']\n",
      "[1.5, 1.25, 0.5, 0.6]\n",
      "[('apple', 1.5), ('arange', 1.25), ('banana', 0.5), ('lemon', 0.6)]\n"
     ]
    }
   ],
   "source": [
    "fruits=list(price.keys())\n",
    "numbers=list(price.values())\n",
    "\n",
    "print(fruits)\n",
    "print(numbers)\n",
    "\n",
    "pairs=list(price.items())\n",
    "print(pairs)\n",
    "\n"
   ]
  },
  {
   "cell_type": "code",
   "execution_count": 7,
   "id": "844bd7a6",
   "metadata": {},
   "outputs": [
    {
     "name": "stdout",
     "output_type": "stream",
     "text": [
      "{'apple': 1.5, 'orange': 1.25, 'strawberry': 1.0, 'banana': 0.5}\n"
     ]
    }
   ],
   "source": [
    "price1 = {\n",
    "    \"apple\": 1.5,\n",
    "    \"orange\": 1.25,\n",
    "    \"strawberry\": 1.0\n",
    "}\n",
    "price2 = {\n",
    "    \"banana\": 0.5\n",
    "}\n",
    "pairs1 = list(price1.items())\n",
    "pairs2 = list(price2.items())\n",
    "price = dict(pairs1 + pairs2)\n",
    "print(price)"
   ]
  },
  {
   "cell_type": "markdown",
   "id": "49feac4a",
   "metadata": {},
   "source": [
    "Your Task\n",
    "Depending on your version of Python, the last example above can have a simplified syntax:\n",
    "```python\n",
    "price = price1 | price2\n",
    "price = {**price1, **price2}\n",
    "```\n",
    "Check in your installation if you can reproduce the same result as the last example."
   ]
  },
  {
   "cell_type": "code",
   "execution_count": 8,
   "id": "5be33f24",
   "metadata": {},
   "outputs": [
    {
     "name": "stdout",
     "output_type": "stream",
     "text": [
      "{'apple': 1.5, 'orange': 1.25, 'strawberry': 1.0}\n",
      "{'apple': 1.5, 'orange': 1.25, 'strawberry': 1.0}\n",
      "{'apple': 1.5, 'orange': 1.25, 'strawberry': 1.0, 'banana': 0.5}\n"
     ]
    }
   ],
   "source": [
    "# price=price1|price2\n",
    "# print(price)\n",
    "\n",
    "print({**price1})\n",
    "print(price1)\n",
    "price={**price1, **price2}\n",
    "print(price)"
   ]
  },
  {
   "cell_type": "markdown",
   "id": "3553b87c",
   "metadata": {},
   "source": [
    "### Lesson 03: Tuples"
   ]
  },
  {
   "cell_type": "code",
   "execution_count": 2,
   "id": "dac2b856",
   "metadata": {},
   "outputs": [
    {
     "name": "stdout",
     "output_type": "stream",
     "text": [
      "(2, 4, 8)\n",
      "2 4 8\n",
      "0\n",
      "[]\n"
     ]
    }
   ],
   "source": [
    "x=(1,2,3)\n",
    "\n",
    "def powers(n):\n",
    "    return n, n**2, n**3\n",
    "x=powers(2)\n",
    "print(x)\n",
    "\n",
    "\n",
    "# we can use unpacking syntax:\n",
    "itself, squared, cubed=powers(2)\n",
    "print(itself, squared, cubed)\n",
    "\n",
    "count, elements=0, []\n",
    "print(count)\n",
    "print(elements)\n",
    "\n",
    "# this is the Pythonic way of swapping the value of two variables:\n",
    "# a, b=b, a\n",
    "\n",
    "# print(a)"
   ]
  },
  {
   "cell_type": "markdown",
   "id": "54f90025",
   "metadata": {},
   "source": [
    "Your Task\n",
    "Consider a list of tuples:\n",
    "```python\n",
    "x = [(\"alpha\", 0.5), (\"gamma\", 0.1), (\"beta\", 1.1), (\"alpha\", -3)]\n",
    "```\n",
    "\n",
    "You can sort this list using sorted(x). What is the result? From the result of comparing tuples, how does Python understand which tuple is less than or greater than another? Which is greater, the tuple (\"alpha\", 0.5) or the tuple (\"alpha\", 0.5, 1)?"
   ]
  },
  {
   "cell_type": "code",
   "execution_count": 20,
   "id": "e1f04ac3",
   "metadata": {},
   "outputs": [
    {
     "name": "stdout",
     "output_type": "stream",
     "text": [
      "[('alpha', -3), ('alpha', 0.5), ('beta', 1.1), ('gamma', 0.1)]\n",
      "[('alpha', -3), ('gamma', 0.1), ('alpha', 0.5), ('beta', 1.1)]\n",
      "[('beta', 1.1), ('alpha', 0.5), ('gamma', 0.1), ('alpha', -3)]\n"
     ]
    }
   ],
   "source": [
    "x = [(\"alpha\", 0.5), (\"gamma\", 0.1), (\"beta\", 1.1), (\"alpha\", -3)]\n",
    "y=sorted(x)\n",
    "print(y)\n",
    "\n",
    "\n",
    "y=sorted(x, key=lambda x: x[1])\n",
    "print(y)\n",
    "\n",
    "y=sorted(x, key=lambda x: x[1], reverse=True)\n",
    "print(y)"
   ]
  },
  {
   "cell_type": "markdown",
   "id": "4c5a106d",
   "metadata": {},
   "source": [
    "### Lesson 04: Strings"
   ]
  },
  {
   "cell_type": "code",
   "execution_count": 23,
   "id": "8227264e",
   "metadata": {},
   "outputs": [
    {
     "name": "stdout",
     "output_type": "stream",
     "text": [
      "Hello 😀\n",
      "x starts with Hello\n",
      "x does not end with World\n",
      "x contains double - l\n"
     ]
    }
   ],
   "source": [
    "x = \"Hello 😀\"\n",
    "print(x)\n",
    "\n",
    "if x.startswith(\"Hello\"):  \n",
    "    print(\"x starts with Hello\")\n",
    "if not x.endswith(\"World\"):\n",
    "    print(\"x does not end with World\")\n",
    "    \n",
    "if 'll' in x:\n",
    "    print('x contains double - l')"
   ]
  },
  {
   "cell_type": "code",
   "execution_count": 25,
   "id": "c52f943b",
   "metadata": {},
   "outputs": [
    {
     "name": "stdout",
     "output_type": "stream",
     "text": [
      "hello wolrd\n",
      "hello world\n",
      "hello world\n"
     ]
    }
   ],
   "source": [
    "# One special property of Python strings is the implicit concatenation. \n",
    "# All of the following produce the string \"hello world\":\n",
    "\n",
    "x='hel' \\\n",
    "'lo wolrd'\n",
    "print(x)\n",
    "x='hello' ' world'\n",
    "print(x)\n",
    "x=('hello '\n",
    "  'world')\n",
    "print(x)"
   ]
  },
  {
   "cell_type": "code",
   "execution_count": 27,
   "id": "9b8cc316",
   "metadata": {},
   "outputs": [
    {
     "name": "stdout",
     "output_type": "stream",
     "text": [
      "hello world\n",
      "hello world\n",
      "hello world\n"
     ]
    }
   ],
   "source": [
    "x='world'\n",
    "y='hello %s' %x\n",
    "print(y)\n",
    "y='hello {}'.format(x)\n",
    "print(y)\n",
    "y=f'hello {x}'\n",
    "print(y)"
   ]
  },
  {
   "cell_type": "markdown",
   "id": "71a43891",
   "metadata": {},
   "source": [
    "### Your Task\n",
    "Try to run this code:\n",
    "```python\n",
    "coord = {\"lat\": 51.5072, \"lon\": -0.1276}\n",
    "print(\"latitude %(lat)f, longitude %(lon)f\" % coord)\n",
    "print(\"latitude {lat}, longitude {lon}\".format(**coord))\n",
    "```\n",
    "\n",
    "This is to fill a template using a dictionary. The first uses the %-syntax while the second uses format syntax. Can you modify the code above to print only 2 decimal places? Hints: Check out https://docs.python.org/3/library/string.html!"
   ]
  },
  {
   "cell_type": "code",
   "execution_count": 3,
   "id": "236e5586",
   "metadata": {},
   "outputs": [
    {
     "name": "stdout",
     "output_type": "stream",
     "text": [
      "latitude 51.51, longitude -0.13\n",
      "latitude 51.51, longitude -0.13\n"
     ]
    }
   ],
   "source": [
    "coord = {\"lat\": 51.5072, \"lon\": -0.1276}\n",
    "print('latitude %(lat).2f, longitude %(lon).2f' % coord)\n",
    "print('latitude {lat:.2f}, longitude {lon:.2f}'.format(**coord))"
   ]
  },
  {
   "cell_type": "markdown",
   "id": "463bef78",
   "metadata": {},
   "source": [
    "### Lesson 05: List Comprehension"
   ]
  },
  {
   "cell_type": "code",
   "execution_count": 40,
   "id": "ba891cf5",
   "metadata": {
    "collapsed": true
   },
   "outputs": [
    {
     "name": "stdout",
     "output_type": "stream",
     "text": [
      "['1', '2', 'fizz', '4', 'buzz', 'fizz', '7', '8', 'fizz', 'buzz', '11', 'fizz', '13', '14', 'fizzbuzz', '16', '17', 'fizz', '19', 'buzz', 'fizz', '22', '23', 'fizz', 'buzz', '26', 'fizz', '28', '29', 'fizzbuzz', '31', '32', 'fizz', '34', 'buzz', 'fizz', '37', '38', 'fizz', 'buzz', '41', 'fizz', '43', '44', 'fizzbuzz', '46', '47', 'fizz', '49', 'buzz', 'fizz', '52', '53', 'fizz', 'buzz', '56', 'fizz', '58', '59', 'fizzbuzz', '61', '62', 'fizz', '64', 'buzz', 'fizz', '67', '68', 'fizz', 'buzz', '71', 'fizz', '73', '74', 'fizzbuzz', '76', '77', 'fizz', '79', 'buzz', 'fizz', '82', '83', 'fizz', 'buzz', '86', 'fizz', '88', '89', 'fizzbuzz', '91', '92', 'fizz', '94', 'buzz', 'fizz', '97', '98', 'fizz', 'buzz']\n",
      "1\n",
      "2\n",
      "fizz\n",
      "4\n",
      "buzz\n",
      "fizz\n",
      "7\n",
      "8\n",
      "fizz\n",
      "buzz\n",
      "11\n",
      "fizz\n",
      "13\n",
      "14\n",
      "fizzbuzz\n",
      "16\n",
      "17\n",
      "fizz\n",
      "19\n",
      "buzz\n",
      "fizz\n",
      "22\n",
      "23\n",
      "fizz\n",
      "buzz\n",
      "26\n",
      "fizz\n",
      "28\n",
      "29\n",
      "fizzbuzz\n",
      "31\n",
      "32\n",
      "fizz\n",
      "34\n",
      "buzz\n",
      "fizz\n",
      "37\n",
      "38\n",
      "fizz\n",
      "buzz\n",
      "41\n",
      "fizz\n",
      "43\n",
      "44\n",
      "fizzbuzz\n",
      "46\n",
      "47\n",
      "fizz\n",
      "49\n",
      "buzz\n",
      "fizz\n",
      "52\n",
      "53\n",
      "fizz\n",
      "buzz\n",
      "56\n",
      "fizz\n",
      "58\n",
      "59\n",
      "fizzbuzz\n",
      "61\n",
      "62\n",
      "fizz\n",
      "64\n",
      "buzz\n",
      "fizz\n",
      "67\n",
      "68\n",
      "fizz\n",
      "buzz\n",
      "71\n",
      "fizz\n",
      "73\n",
      "74\n",
      "fizzbuzz\n",
      "76\n",
      "77\n",
      "fizz\n",
      "79\n",
      "buzz\n",
      "fizz\n",
      "82\n",
      "83\n",
      "fizz\n",
      "buzz\n",
      "86\n",
      "fizz\n",
      "88\n",
      "89\n",
      "fizzbuzz\n",
      "91\n",
      "92\n",
      "fizz\n",
      "94\n",
      "buzz\n",
      "fizz\n",
      "97\n",
      "98\n",
      "fizz\n",
      "buzz\n",
      "\n",
      "['1', '2', 'fizz', '4', 'buzz', 'fizz', '7', '8', 'fizz', 'buzz', '11', 'fizz', '13', '14', 'fizzbuzz', '16', '17', 'fizz', '19', 'buzz', 'fizz', '22', '23', 'fizz', 'buzz', '26', 'fizz', '28', '29', 'fizzbuzz', '31', '32', 'fizz', '34', 'buzz', 'fizz', '37', '38', 'fizz', 'buzz', '41', 'fizz', '43', '44', 'fizzbuzz', '46', '47', 'fizz', '49', 'buzz', 'fizz', '52', '53', 'fizz', 'buzz', '56', 'fizz', '58', '59', 'fizzbuzz', '61', '62', 'fizz', '64', 'buzz', 'fizz', '67', '68', 'fizz', 'buzz', '71', 'fizz', '73', '74', 'fizzbuzz', '76', '77', 'fizz', '79', 'buzz', 'fizz', '82', '83', 'fizz', 'buzz', '86', 'fizz', '88', '89', 'fizzbuzz', '91', '92', 'fizz', '94', 'buzz', 'fizz', '97', '98', 'fizz', 'buzz']\n"
     ]
    }
   ],
   "source": [
    "numbers=['fizzbuzz' if n%15==0 else 'fizz' if n%3==0 else 'buzz' if n%5==0 else str(n) for n in range(1, 101)]\n",
    "print(numbers)\n",
    "print('\\n'.join(numbers))\n",
    "print()\n",
    "\n",
    "results=[]\n",
    "for n in range(1, 101):\n",
    "    if n%15==0:\n",
    "        results.append('fizzbuzz')\n",
    "    elif n%5==0:\n",
    "        results.append('buzz')\n",
    "    elif n%3==0:\n",
    "        results.append('fizz')   \n",
    "    else:\n",
    "        results.append(str(n))\n",
    "        \n",
    "print(results)"
   ]
  },
  {
   "cell_type": "code",
   "execution_count": 41,
   "id": "51da7da8",
   "metadata": {},
   "outputs": [
    {
     "name": "stdout",
     "output_type": "stream",
     "text": [
      "[3, 6, 9, 12, 15, 18, 21, 24, 27, 30, 33, 36, 39, 42, 45, 48, 51, 54, 57, 60, 63, 66, 69, 72, 75, 78, 81, 84, 87, 90, 93, 96, 99]\n"
     ]
    }
   ],
   "source": [
    "mul3=[ n for n in range(1, 101) if n%3==0]\n",
    "print(mul3)"
   ]
  },
  {
   "cell_type": "code",
   "execution_count": 43,
   "id": "747c056f",
   "metadata": {},
   "outputs": [
    {
     "name": "stdout",
     "output_type": "stream",
     "text": [
      "[[1, 2, 3, 4, 5, 6, 7, 8, 9, 10], [2, 4, 6, 8, 10, 12, 14, 16, 18, 20], [3, 6, 9, 12, 15, 18, 21, 24, 27, 30], [4, 8, 12, 16, 20, 24, 28, 32, 36, 40], [5, 10, 15, 20, 25, 30, 35, 40, 45, 50], [6, 12, 18, 24, 30, 36, 42, 48, 54, 60], [7, 14, 21, 28, 35, 42, 49, 56, 63, 70], [8, 16, 24, 32, 40, 48, 56, 64, 72, 80], [9, 18, 27, 36, 45, 54, 63, 72, 81, 90], [10, 20, 30, 40, 50, 60, 70, 80, 90, 100]]\n",
      "\n",
      "[1, 2, 3, 4, 5, 6, 7, 8, 9, 10]\n",
      "[2, 4, 6, 8, 10, 12, 14, 16, 18, 20]\n",
      "[3, 6, 9, 12, 15, 18, 21, 24, 27, 30]\n",
      "[4, 8, 12, 16, 20, 24, 28, 32, 36, 40]\n",
      "[5, 10, 15, 20, 25, 30, 35, 40, 45, 50]\n",
      "[6, 12, 18, 24, 30, 36, 42, 48, 54, 60]\n",
      "[7, 14, 21, 28, 35, 42, 49, 56, 63, 70]\n",
      "[8, 16, 24, 32, 40, 48, 56, 64, 72, 80]\n",
      "[9, 18, 27, 36, 45, 54, 63, 72, 81, 90]\n",
      "[10, 20, 30, 40, 50, 60, 70, 80, 90, 100]\n"
     ]
    }
   ],
   "source": [
    "table=[[i*j for j in range (1, 11)]for i in range(1, 11)]\n",
    "print(table)\n",
    "print()\n",
    "\n",
    "for row in table:\n",
    "    print(row)"
   ]
  },
  {
   "cell_type": "code",
   "execution_count": 44,
   "id": "3559c547",
   "metadata": {},
   "outputs": [
    {
     "name": "stdout",
     "output_type": "stream",
     "text": [
      "['northeast', 'northwest', 'north', 'southeast', 'southwest', 'south', 'east', 'west']\n"
     ]
    }
   ],
   "source": [
    "directions = [a+b for a in [\"north\", \"south\", \"\"] for b in [\"east\", \"west\", \"\"] if not (a==\"\" and b==\"\")]\n",
    "print(directions)"
   ]
  },
  {
   "cell_type": "code",
   "execution_count": 48,
   "id": "81789ed9",
   "metadata": {},
   "outputs": [
    {
     "name": "stdout",
     "output_type": "stream",
     "text": [
      "['northeast', 'northwest', 'north', 'southeast', 'southwest', 'south', 'east', 'west']\n"
     ]
    }
   ],
   "source": [
    "result=[]\n",
    "for a in ['north', 'south', '']:\n",
    "    for b in ['east', 'west', '']:\n",
    "        if not (a=='' and b==''):\n",
    "            result.append(a+b)\n",
    "        else:\n",
    "            continue\n",
    "print(result)"
   ]
  },
  {
   "cell_type": "markdown",
   "id": "a31712cd",
   "metadata": {},
   "source": [
    "Your Task <br>\n",
    "Python also has a dictionary comprehension. The syntax is:\n",
    "```python\n",
    "double = {n: 2*n for n in range(1,11)}\n",
    "```\n",
    "\n",
    "Now try to create a dictionary mapping using dictionary comprehension that maps a string x to its length len(x) for these strings <br>\n",
    "\n",
    "```python\n",
    "keys = [\"one\", \"two\", \"three\", \"four\", \"five\", \"six\", \"seven\", \"eight\", \"nine\", \"ten\"]\n",
    "mapping = {...}\n",
    "```"
   ]
  },
  {
   "cell_type": "code",
   "execution_count": 49,
   "id": "e3624b2d",
   "metadata": {},
   "outputs": [
    {
     "name": "stdout",
     "output_type": "stream",
     "text": [
      "{'one': 3, 'two': 3, 'three': 5, 'four': 4, 'five': 4, 'six': 3, 'seven': 5, 'eight': 5, 'nine': 4, 'ten': 3}\n"
     ]
    }
   ],
   "source": [
    "keys = [\"one\", \"two\", \"three\", \"four\", \"five\", \"six\", \"seven\", \"eight\", \"nine\", \"ten\"]\n",
    "mapping = {n:len(n) for n in keys}\n",
    "\n",
    "print(mapping)"
   ]
  },
  {
   "cell_type": "markdown",
   "id": "d1de9ca4",
   "metadata": {},
   "source": [
    "### Lesson 06: Enumerate and Zip"
   ]
  },
  {
   "cell_type": "code",
   "execution_count": 4,
   "id": "f60fc8d5",
   "metadata": {},
   "outputs": [
    {
     "name": "stdout",
     "output_type": "stream",
     "text": [
      "0: alpha\n",
      "1: beta\n",
      "2: gamma\n",
      "3: delta\n",
      "\n",
      "0: alpha\n",
      "1: beta\n",
      "2: gamma\n",
      "3: delta\n"
     ]
    }
   ],
   "source": [
    "x = [\"alpha\", \"beta\", \"gamma\", \"delta\"]\n",
    "for n in range(len(x)):\n",
    "    print(\"{}: {}\".format(n, x[n]))\n",
    "    \n",
    "print()\n",
    "x = [\"alpha\", \"beta\", \"gamma\", \"delta\"]\n",
    "for n, string in enumerate(x):\n",
    "    print(\"{}: {}\".format(n, string))"
   ]
  },
  {
   "cell_type": "code",
   "execution_count": 53,
   "id": "3959c0de",
   "metadata": {},
   "outputs": [
    {
     "name": "stdout",
     "output_type": "stream",
     "text": [
      "blue cheese\n",
      "red apple\n",
      "green pea\n",
      "yellow mustard\n",
      "\n",
      "blue cheese\n",
      "red apple\n",
      "green pea\n",
      "yellow mustard\n"
     ]
    }
   ],
   "source": [
    "x = [\"blue\", \"red\", \"green\", \"yellow\"]\n",
    "y = [\"cheese\", \"apple\", \"pea\", \"mustard\"]\n",
    "for n in range(len(x)):\n",
    "    print(\"{} {}\".format(x[n], y[n]))\n",
    "    \n",
    "print()\n",
    "\n",
    "x = [\"blue\", \"red\", \"green\", \"yellow\"]\n",
    "y = [\"cheese\", \"apple\", \"pea\", \"mustard\"]\n",
    "for a, b in zip(x, y): # put them together then upack them\n",
    "    print(\"{} {}\".format(a, b))"
   ]
  },
  {
   "cell_type": "markdown",
   "id": "0594207a",
   "metadata": {},
   "source": [
    "Your task\n",
    "```python\n",
    "\n",
    "results = []\n",
    "for n in range(1, 11):\n",
    "    squared, cubed = n**2, n**3\n",
    "    results.append([n, squared, cubed])\n",
    "```\n",
    "Then, we can get the list of 1 to 10, the square of them, and the cube of them using zip() (note the * before results in the argument):\n",
    "\n",
    "```python\n",
    "numbers, squares, cubes = zip(*results)\n",
    "```\n",
    "Try this out. Can you recombine numbers, squares, and cubes back to results? Hints: Just use zip().\n",
    "\n"
   ]
  },
  {
   "cell_type": "code",
   "execution_count": 8,
   "id": "d71f0569",
   "metadata": {},
   "outputs": [
    {
     "name": "stdout",
     "output_type": "stream",
     "text": [
      "[[1, 1, 1], [2, 4, 8], [3, 9, 27], [4, 16, 64], [5, 25, 125], [6, 36, 216], [7, 49, 343], [8, 64, 512], [9, 81, 729], [10, 100, 1000]] \n",
      "\n",
      "[1, 1, 1]\n",
      "[2, 4, 8]\n",
      "[3, 9, 27]\n",
      "[4, 16, 64]\n",
      "[5, 25, 125]\n",
      "[6, 36, 216]\n",
      "[7, 49, 343]\n",
      "[8, 64, 512]\n",
      "[9, 81, 729]\n",
      "[10, 100, 1000]\n",
      "\n",
      "(1, 2, 3, 4, 5, 6, 7, 8, 9, 10) (1, 4, 9, 16, 25, 36, 49, 64, 81, 100) (1, 8, 27, 64, 125, 216, 343, 512, 729, 1000)\n"
     ]
    }
   ],
   "source": [
    "results = []\n",
    "for n in range(1, 11):\n",
    "    squared, cubed = n**2, n**3\n",
    "    results.append([n, squared, cubed])\n",
    "print(results, '\\n')\n",
    "for row in results:\n",
    "    print(row)\n",
    "print()\n",
    "\n",
    "numbers, squares, cubes = zip(*results) # unpack and zip \n",
    "print(numbers, squares, cubes)"
   ]
  },
  {
   "cell_type": "code",
   "execution_count": 57,
   "id": "50825da0",
   "metadata": {
    "scrolled": true
   },
   "outputs": [
    {
     "name": "stdout",
     "output_type": "stream",
     "text": [
      "[(1, 1, 1), (2, 4, 8), (3, 9, 27), (4, 16, 64), (5, 25, 125), (6, 36, 216), (7, 49, 343), (8, 64, 512), (9, 81, 729), (10, 100, 1000)]\n"
     ]
    }
   ],
   "source": [
    "print(list(zip(numbers, squares, cubes)))"
   ]
  },
  {
   "cell_type": "markdown",
   "id": "75d588b2",
   "metadata": {},
   "source": [
    "### Lesson 07: Map, Filter, and Reduce"
   ]
  },
  {
   "cell_type": "code",
   "execution_count": 11,
   "id": "0d519cd8",
   "metadata": {},
   "outputs": [
    {
     "name": "stdout",
     "output_type": "stream",
     "text": [
      "1 2 buzz 4 buzz buzz 7 8 buzz buzz 11 buzz 13 14 fizzbuzz 16 17 buzz 19 buzz buzz 22 23 buzz buzz 26 buzz 28 29 fizzbuzz 31 32 buzz 34 buzz buzz 37 38 buzz buzz 41 buzz 43 44 fizzbuzz 46 47 buzz 49 buzz buzz 52 53 buzz buzz 56 buzz 58 59 fizzbuzz 61 62 buzz 64 buzz buzz 67 68 buzz buzz 71 buzz 73 74 fizzbuzz 76 77 buzz 79 buzz buzz 82 83 buzz buzz 86 buzz 88 89 fizzbuzz 91 92 buzz 94 buzz buzz 97 98 buzz buzz\n"
     ]
    }
   ],
   "source": [
    "def fizzbuzz(n):\n",
    "    if n%15==0:\n",
    "        return 'fizzbuzz'\n",
    "    if n%3==0:\n",
    "        return 'buzz'\n",
    "    if n%5==0:\n",
    "        return 'buzz'\n",
    "    return str(n)\n",
    "\n",
    "numbers=map(fizzbuzz, range(1, 101))\n",
    "print(' '.join(numbers))"
   ]
  },
  {
   "cell_type": "code",
   "execution_count": 12,
   "id": "7ba61062",
   "metadata": {},
   "outputs": [
    {
     "name": "stdout",
     "output_type": "stream",
     "text": [
      "[3, 6, 9, 12, 15, 18, 21, 24, 27, 30, 33, 36, 39, 42, 45, 48, 51, 54, 57, 60, 63, 66, 69, 72, 75, 78, 81, 84, 87, 90, 93, 96, 99]\n"
     ]
    }
   ],
   "source": [
    "def multiple3(n):\n",
    "    return n%3 ==0\n",
    "mul3=filter(multiple3, range(1, 101))\n",
    "print(list(mul3))"
   ]
  },
  {
   "cell_type": "code",
   "execution_count": 14,
   "id": "e1238c66",
   "metadata": {},
   "outputs": [
    {
     "name": "stdout",
     "output_type": "stream",
     "text": [
      "12\n",
      "12\n"
     ]
    }
   ],
   "source": [
    "from functools import reduce\n",
    "def maximum(a, b):\n",
    "    if a > b:\n",
    "        return a\n",
    "    else:\n",
    "        return b\n",
    "    \n",
    "x=[-3, 10, 2, 5, -6, 12, 0, 1]\n",
    "max_x=reduce(maximum, x)\n",
    "print(max_x)\n",
    "\n",
    "x = [-3, 10, 2, 5, -6, 12, 0, 1]\n",
    "max_x = reduce(maximum, x, -float(\"inf\")) # the first call to the function uses the default value (-float(\"inf\") \n",
    "                                          # in this case, which is negative infinity) and the first element of the list. \n",
    "print(max_x)"
   ]
  },
  {
   "cell_type": "code",
   "execution_count": null,
   "id": "51dd198e",
   "metadata": {},
   "outputs": [],
   "source": []
  },
  {
   "cell_type": "markdown",
   "id": "34b96d61",
   "metadata": {},
   "source": [
    "Your Task <br>\n",
    "Let’s consider a way to convert a bitmap to an integer. If a list [6,2,0,3] is provided, we should consider the list as which bit to assert, and the result should be in binary, 1001101, or in decimal, 77. In this case, bit 0 is defined to be the least significant bit or the right most bit.\n",
    "\n",
    "We can use reduce to do this and print 77:"
   ]
  },
  {
   "cell_type": "code",
   "execution_count": 16,
   "id": "65b6db44",
   "metadata": {},
   "outputs": [
    {
     "name": "stdout",
     "output_type": "stream",
     "text": [
      "77\n"
     ]
    }
   ],
   "source": [
    "def setbit(bitmap, bit):\n",
    "    return bitmap | (2**bit)\n",
    "\n",
    "assertbits = [6, 2, 0, 3]\n",
    "bitmap = reduce(setbit, assertbits, 0)\n",
    "print(bitmap)"
   ]
  },
  {
   "cell_type": "markdown",
   "id": "5f9d418b",
   "metadata": {},
   "source": [
    "## What does ** (double star/asterisk) and * (star/asterisk) do for parameters? <br>\n",
    "https://stackoverflow.com/questions/36901/what-does-double-star-asterisk-and-star-asterisk-do-for-parameters"
   ]
  }
 ],
 "metadata": {
  "kernelspec": {
   "display_name": "Python 3",
   "language": "python",
   "name": "python3"
  },
  "language_info": {
   "codemirror_mode": {
    "name": "ipython",
    "version": 3
   },
   "file_extension": ".py",
   "mimetype": "text/x-python",
   "name": "python",
   "nbconvert_exporter": "python",
   "pygments_lexer": "ipython3",
   "version": "3.7.13"
  }
 },
 "nbformat": 4,
 "nbformat_minor": 5
}
