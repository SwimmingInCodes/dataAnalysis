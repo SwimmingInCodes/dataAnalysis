{
 "cells": [
  {
   "attachments": {},
   "cell_type": "markdown",
   "id": "f5b6cdfe",
   "metadata": {},
   "source": [
    "### CLOSURES - How to Use Them and Why They Are Useful\n",
    "\n",
    "A Closure is a function object that remembers values in enclosing scopes even if they are not present in memory.  <br><br> Operationally, a closure is a record storing function together with an environment. The environment is a mapping associating each free variable of the function (variables that are used locally, but defined in an enclosing scope) with the value or reference to which the name was bound when the closure was created. <br><br> Unlike a plain function, a closure allows the function to access those captured variables through the closure's copies of their values or references, even when the function is invoked outside their scope."
   ]
  },
  {
   "cell_type": "code",
   "execution_count": 1,
   "id": "6b716ede",
   "metadata": {},
   "outputs": [
    {
     "name": "stdout",
     "output_type": "stream",
     "text": [
      "Hi\n"
     ]
    }
   ],
   "source": [
    "def outer_func():\n",
    "    message='Hi'\n",
    "    def inner_func():\n",
    "        print(message)\n",
    "    return inner_func() # parenthesis makes function executed \n",
    "\n",
    "outer_func() # run outer_func then return inner_func\n"
   ]
  },
  {
   "cell_type": "code",
   "execution_count": 2,
   "id": "99a7e566",
   "metadata": {},
   "outputs": [
    {
     "name": "stdout",
     "output_type": "stream",
     "text": [
      "inner_func\n",
      "Hi\n"
     ]
    }
   ],
   "source": [
    "def outer_func():\n",
    "    message='Hi'\n",
    "    def inner_func():\n",
    "        print(message)\n",
    "    return inner_func # If there is no parenthesis, then function just remember its stored values \n",
    "\n",
    "my_func=outer_func() # Now my_func is the inner_func but it just remebers the stored value\n",
    "\n",
    "print(my_func.__name__)\n",
    "\n",
    "my_func() # Now execute the inner_func\n"
   ]
  },
  {
   "cell_type": "code",
   "execution_count": 3,
   "id": "afbb42ed",
   "metadata": {
    "scrolled": true
   },
   "outputs": [
    {
     "name": "stdout",
     "output_type": "stream",
     "text": [
      "Hi\n",
      "Hello\n"
     ]
    }
   ],
   "source": [
    "def outer_func(msg):\n",
    "    message=msg\n",
    "    def inner_func():\n",
    "        print(message)\n",
    "    return inner_func \n",
    "\n",
    "hi_func=outer_func('Hi') \n",
    "hello_func=outer_func('Hello')\n",
    "\n",
    "hi_func()\n",
    "hello_func()"
   ]
  },
  {
   "attachments": {},
   "cell_type": "markdown",
   "id": "4dad4d8e",
   "metadata": {},
   "source": [
    "### Decorators - Dynamically Alter The Functionality Of Your Functions\n",
    "Let wrapper_function (inner_function) execute function we pass in, which is what decorator does. Add a functionality to an existing function without modifying the existing function\n",
    "\n",
    "```python\n",
    "def decorator_function(original_function):\n",
    "\tdef wrapper_function():\n",
    "\t\treturn original_function()\n",
    "\treturn wrapper_function\n",
    "\n",
    "```"
   ]
  },
  {
   "cell_type": "code",
   "execution_count": 4,
   "id": "c186bc2a",
   "metadata": {},
   "outputs": [
    {
     "name": "stdout",
     "output_type": "stream",
     "text": [
      "6\n",
      "3\n",
      "\n",
      "INFO:root:Running \"add\" with arguments (3, 3)\n",
      "INFO:root:Running \"sub\" with arguments (5, 2)\n",
      "INFO:root:Running \"add\" with arguments (3, 3)\n",
      "INFO:root:Running \"sub\" with arguments (5, 2)\n",
      "INFO:root:Running \"add\" with arguments (3, 3)\n",
      "INFO:root:Running \"sub\" with arguments (5, 2)\n",
      "INFO:root:Running \"add\" with arguments (3, 3)\n",
      "INFO:root:Running \"sub\" with arguments (5, 2)\n",
      "INFO:root:Running \"add\" with arguments (3, 3)\n",
      "INFO:root:Running \"sub\" with arguments (5, 2)\n",
      "\n"
     ]
    }
   ],
   "source": [
    "import logging\n",
    "logging.basicConfig(filename='example.log', level=logging.INFO)\n",
    "\n",
    "def logger(func):\n",
    "    def log_func(*args):\n",
    "        logging.info('Running \"{}\" with arguments {}'.format(func.__name__, args))\n",
    "        print(func(*args))\n",
    "    return log_func\n",
    "\n",
    "def add(x,y):\n",
    "    return x+y\n",
    "\n",
    "def sub(x,y):\n",
    "    return x-y\n",
    "\n",
    "# creating inner functions by supplying function as an argument\n",
    "add_logger=logger(add)\n",
    "sub_logger=logger(sub)\n",
    "\n",
    "# run inner functions\n",
    "add_logger(3,3)\n",
    "sub_logger(5,2)\n",
    "\n",
    "print()\n",
    "\n",
    "with open('example.log', 'r') as file:\n",
    "    content=file.read()\n",
    "    print(content)\n"
   ]
  },
  {
   "cell_type": "code",
   "execution_count": 7,
   "id": "fc4d018e",
   "metadata": {},
   "outputs": [
    {
     "name": "stdout",
     "output_type": "stream",
     "text": [
      "wrapper executed this before display\n",
      "display function ran\n"
     ]
    }
   ],
   "source": [
    "def decorator_func(original_func):\n",
    "    def wrapper_func():\n",
    "        print('wrapper executed this before {}'.format(original_func.__name__))\n",
    "        return original_func()\n",
    "    return wrapper_func\n",
    "\n",
    "def display():\n",
    "    print('display function ran')\n",
    "    \n",
    "\n",
    "decorated_display=decorator_func(display)\n",
    "decorated_display()\n"
   ]
  },
  {
   "cell_type": "code",
   "execution_count": 9,
   "id": "13b68c0d",
   "metadata": {},
   "outputs": [
    {
     "name": "stdout",
     "output_type": "stream",
     "text": [
      "wrapper executed this before display\n",
      "display function ran\n"
     ]
    }
   ],
   "source": [
    "@decorator_func\n",
    "def display():\n",
    "    print('display function ran')\n",
    "    \n",
    "display()"
   ]
  },
  {
   "cell_type": "code",
   "execution_count": 10,
   "id": "8877435c",
   "metadata": {},
   "outputs": [
    {
     "name": "stdout",
     "output_type": "stream",
     "text": [
      "wrapper executed this before display_info\n",
      "display_info ran with arguments (John, 25)\n"
     ]
    }
   ],
   "source": [
    "def decorator_func(original_func):\n",
    "    def wrapper_func(*args, **kwargs):\n",
    "        print('wrapper executed this before {}'.format(original_func.__name__))\n",
    "        return original_func(*args, **kwargs)\n",
    "    return wrapper_func\n",
    "\n",
    "@decorator_func\n",
    "def display_info(name, age):\n",
    "    print('display_info ran with arguments ({}, {})'.format(name, age))\n",
    "    \n",
    "display_info('John', 25)"
   ]
  },
  {
   "cell_type": "markdown",
   "id": "2277e55a",
   "metadata": {},
   "source": [
    "**Decorator_class**"
   ]
  },
  {
   "cell_type": "code",
   "execution_count": 12,
   "id": "16a4e60c",
   "metadata": {},
   "outputs": [
    {
     "name": "stdout",
     "output_type": "stream",
     "text": [
      "call method execute this before display_info\n",
      "disaply_info ran with argumetns (John 25)\n"
     ]
    }
   ],
   "source": [
    "class decorator_class(object):\n",
    "    def __init__(self, original_func):\n",
    "        self.original_func=original_func\n",
    "        \n",
    "    def __call__(self, *args, **kwargs):\n",
    "        print('call method execute this before {}'.format(self.original_func.__name__))\n",
    "        return self.original_func(*args, **kwargs)\n",
    "\n",
    "    \n",
    "    \n",
    "@decorator_class\n",
    "def display_info(name, age):\n",
    "    print('disaply_info ran with argumetns ({} {})'.format(name, age))\n",
    "    \n",
    "display_info('John', 25)"
   ]
  },
  {
   "cell_type": "code",
   "execution_count": 20,
   "id": "69e33178",
   "metadata": {},
   "outputs": [
    {
     "name": "stdout",
     "output_type": "stream",
     "text": [
      "display_info ran with argumetns (John, 25)\n",
      "display_info ran in: 1.004129409790039sec\n"
     ]
    }
   ],
   "source": [
    "from functools import wraps\n",
    "import time\n",
    "\n",
    "\n",
    "def my_logger(original_func):\n",
    "    import logging\n",
    "    logging.basicConfig(filename=f'{original_func.__name__}.log', level=logging.INFO)\n",
    "    \n",
    "    @wraps(original_func)\n",
    "    def wrapper(*args, **kwargs):\n",
    "        logging.info('Ran with args:{}, and kwargs:{}'.format(args, kwargs))\n",
    "        return original_func(*args, **kwargs)\n",
    "    return wrapper\n",
    "\n",
    "\n",
    "def my_timer(original_func):\n",
    "    import time\n",
    "    \n",
    "    @wraps(original_func)\n",
    "    def wrapper(*args, **kwargs):\n",
    "        t1=time.time()\n",
    "        result=original_func(*args, **kwargs)\n",
    "        t2=time.time()-t1\n",
    "        print(f'{original_func.__name__} ran in: {t2}sec')\n",
    "        \n",
    "        return result\n",
    "    return wrapper\n",
    "\n",
    "@my_logger\n",
    "@my_timer\n",
    "def display_info(name, age):\n",
    "    time.sleep(1)\n",
    "    print(f'display_info ran with argumetns ({name}, {age})')\n",
    "    \n",
    "\n",
    "    \n",
    "display_info('John', 25)"
   ]
  },
  {
   "cell_type": "code",
   "execution_count": null,
   "id": "9b66a6fc",
   "metadata": {},
   "outputs": [],
   "source": []
  },
  {
   "cell_type": "code",
   "execution_count": null,
   "id": "e6214a48",
   "metadata": {},
   "outputs": [],
   "source": []
  },
  {
   "cell_type": "code",
   "execution_count": null,
   "id": "013c3c9d",
   "metadata": {},
   "outputs": [],
   "source": []
  }
 ],
 "metadata": {
  "kernelspec": {
   "display_name": "Python 3",
   "language": "python",
   "name": "python3"
  },
  "language_info": {
   "codemirror_mode": {
    "name": "ipython",
    "version": 3
   },
   "file_extension": ".py",
   "mimetype": "text/x-python",
   "name": "python",
   "nbconvert_exporter": "python",
   "pygments_lexer": "ipython3",
   "version": "3.7.13"
  }
 },
 "nbformat": 4,
 "nbformat_minor": 5
}
