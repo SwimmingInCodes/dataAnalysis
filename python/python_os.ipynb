{
 "cells": [
  {
   "cell_type": "markdown",
   "id": "98d2d7d2",
   "metadata": {},
   "source": [
    "# python os module"
   ]
  },
  {
   "cell_type": "code",
   "execution_count": null,
   "id": "4ba10332",
   "metadata": {},
   "outputs": [],
   "source": [
    "from IPython.core.interactiveshell import InteractiveShell\n",
    "InteractiveShell.ast_node_interactivity='all'"
   ]
  },
  {
   "cell_type": "code",
   "execution_count": null,
   "id": "2e5a61cb",
   "metadata": {},
   "outputs": [],
   "source": [
    "import os"
   ]
  },
  {
   "cell_type": "markdown",
   "id": "e24cb866",
   "metadata": {},
   "source": [
    "**Show current directory**"
   ]
  },
  {
   "cell_type": "code",
   "execution_count": null,
   "id": "da0b3a17",
   "metadata": {},
   "outputs": [],
   "source": [
    "print(os.getcwd())"
   ]
  },
  {
   "cell_type": "code",
   "execution_count": null,
   "id": "793d119a",
   "metadata": {},
   "outputs": [],
   "source": [
    "%pwd"
   ]
  },
  {
   "cell_type": "markdown",
   "id": "06c3a4c5",
   "metadata": {},
   "source": [
    "**Change directory**"
   ]
  },
  {
   "cell_type": "code",
   "execution_count": null,
   "id": "d74daea8",
   "metadata": {},
   "outputs": [],
   "source": [
    "os.chdir('C:/Users/Kwang-Chul Kwon/Desktop')"
   ]
  },
  {
   "cell_type": "markdown",
   "id": "01be4e8f",
   "metadata": {},
   "source": [
    "We can also use jupyter magic command"
   ]
  },
  {
   "cell_type": "code",
   "execution_count": null,
   "id": "9ba631ae",
   "metadata": {},
   "outputs": [],
   "source": [
    "%cd D:\\A_EverydayPractice\\A_dataAnalysis\\python"
   ]
  },
  {
   "cell_type": "code",
   "execution_count": null,
   "id": "ef61e511",
   "metadata": {},
   "outputs": [],
   "source": [
    "print(os.getcwd())"
   ]
  },
  {
   "cell_type": "code",
   "execution_count": null,
   "id": "06a3b5ec",
   "metadata": {},
   "outputs": [],
   "source": [
    "os.chdir('C:/Users/Kwang-Chul Kwon/Desktop')"
   ]
  },
  {
   "cell_type": "markdown",
   "id": "c4daec5d",
   "metadata": {},
   "source": [
    "**List directory**"
   ]
  },
  {
   "cell_type": "code",
   "execution_count": null,
   "id": "c49c12da",
   "metadata": {},
   "outputs": [],
   "source": [
    "# list current directory\n",
    "print(os.listdir()) "
   ]
  },
  {
   "cell_type": "markdown",
   "id": "a46a5dc8",
   "metadata": {},
   "source": [
    "**Make directory**"
   ]
  },
  {
   "cell_type": "code",
   "execution_count": null,
   "id": "33bd5dab",
   "metadata": {},
   "outputs": [],
   "source": [
    "os.mkdir('demo_1') # create a single folder"
   ]
  },
  {
   "cell_type": "code",
   "execution_count": null,
   "id": "bda3c23f",
   "metadata": {
    "scrolled": true
   },
   "outputs": [],
   "source": [
    "os.makedirs('demo_2/sub_1') # can create any intermedieate level of directories"
   ]
  },
  {
   "cell_type": "markdown",
   "id": "c227ef84",
   "metadata": {},
   "source": [
    "**Remove directory**"
   ]
  },
  {
   "cell_type": "code",
   "execution_count": null,
   "id": "112a68e8",
   "metadata": {
    "scrolled": false
   },
   "outputs": [],
   "source": [
    "os.rmdir('demo_1')"
   ]
  },
  {
   "cell_type": "code",
   "execution_count": null,
   "id": "0c5907a8",
   "metadata": {},
   "outputs": [],
   "source": [
    "os.removedirs('demo_2/sub_1') # remove all inside folder recursively"
   ]
  },
  {
   "cell_type": "markdown",
   "id": "efedc018",
   "metadata": {},
   "source": [
    "**Rename directory**"
   ]
  },
  {
   "cell_type": "markdown",
   "id": "c27fc8d3",
   "metadata": {},
   "source": [
    "Create dummy file using jupyter magic command (%%writefile)"
   ]
  },
  {
   "cell_type": "code",
   "execution_count": null,
   "id": "f0d91bf7",
   "metadata": {},
   "outputs": [],
   "source": [
    "%%writefile test.txt\n",
    "Mercury\n",
    "Venus\n",
    "Earth\n",
    "Mars\n",
    "Jupiter\n",
    "Saturn\n",
    "Uranus\n",
    "Neptune"
   ]
  },
  {
   "cell_type": "code",
   "execution_count": null,
   "id": "8e3f992e",
   "metadata": {
    "scrolled": true
   },
   "outputs": [],
   "source": [
    "with open('test.txt') as f:\n",
    "    content=f.read()\n",
    "    print(content)"
   ]
  },
  {
   "cell_type": "markdown",
   "id": "ae43f94f",
   "metadata": {},
   "source": [
    "**Rename**"
   ]
  },
  {
   "cell_type": "code",
   "execution_count": null,
   "id": "702cf274",
   "metadata": {},
   "outputs": [],
   "source": [
    "os.rename('test.txt', 'demo.txt')"
   ]
  },
  {
   "cell_type": "code",
   "execution_count": null,
   "id": "f7c5ca3a",
   "metadata": {},
   "outputs": [],
   "source": [
    "'demo.txt'  in os.listdir()\n",
    "'test.txt'  in os.listdir()"
   ]
  },
  {
   "cell_type": "markdown",
   "id": "9cdd932c",
   "metadata": {},
   "source": [
    "**Get the infor of the file**"
   ]
  },
  {
   "cell_type": "code",
   "execution_count": null,
   "id": "7cd7ac90",
   "metadata": {},
   "outputs": [],
   "source": [
    "print(os.stat('demo.txt'))\n",
    "print()\n",
    "print(os.stat('demo.txt').st_size)\n",
    "print()\n",
    "print(os.stat('demo.txt').st_mtime) # shows when a modication made to the file\n"
   ]
  },
  {
   "cell_type": "code",
   "execution_count": null,
   "id": "a6c6ca36",
   "metadata": {},
   "outputs": [],
   "source": [
    "from datetime import datetime\n",
    "\n",
    "mod_time = os.stat('demo.txt').st_mtime\n",
    "datetime.fromtimestamp(mod_time)"
   ]
  },
  {
   "cell_type": "markdown",
   "id": "b67ec743",
   "metadata": {},
   "source": [
    "**Retrieve all the entire directory tree**\n",
    "\n",
    "```python\n",
    "os.walk() # create a tuple of three values: dirpath, dirnames, filenames\n",
    "```"
   ]
  },
  {
   "cell_type": "code",
   "execution_count": null,
   "id": "71440d4a",
   "metadata": {
    "scrolled": false
   },
   "outputs": [],
   "source": [
    "for dirpath, dirnames, filenames in os.walk(os.getcwd()):\n",
    "    print('Current Path: ', dirpath)\n",
    "    print('Directoire: ', dirnames)\n",
    "    print('Fiels: ', filenames)\n",
    "    print()\n"
   ]
  },
  {
   "cell_type": "markdown",
   "id": "d910282c",
   "metadata": {},
   "source": [
    "**Get environment variables**"
   ]
  },
  {
   "cell_type": "code",
   "execution_count": null,
   "id": "96c10306",
   "metadata": {},
   "outputs": [],
   "source": [
    "print(os.environ)"
   ]
  },
  {
   "cell_type": "code",
   "execution_count": null,
   "id": "1ccdb4e3",
   "metadata": {
    "scrolled": true
   },
   "outputs": [],
   "source": [
    "print(os.environ.get('USERPROFILE'))"
   ]
  },
  {
   "cell_type": "markdown",
   "id": "9b9a3826",
   "metadata": {},
   "source": [
    "**Create a filepath**\n",
    "\n",
    "```python\n",
    "os.path.join(path1, path2)\n",
    "```"
   ]
  },
  {
   "cell_type": "code",
   "execution_count": null,
   "id": "722dc3ff",
   "metadata": {},
   "outputs": [],
   "source": [
    "file_path=os.path.join(os.environ.get('USERPROFILE'), 'test.txt')\n",
    "print(file_path)"
   ]
  },
  {
   "cell_type": "code",
   "execution_count": null,
   "id": "ca35daa4",
   "metadata": {},
   "outputs": [],
   "source": [
    "with open(file_path, 'w') as f:\n",
    "    f.write('Solar System')"
   ]
  },
  {
   "cell_type": "code",
   "execution_count": null,
   "id": "ca6f8492",
   "metadata": {},
   "outputs": [],
   "source": [
    "'test.txt' in os.listdir('C:/Users/Kwang-Chul Kwon/')"
   ]
  },
  {
   "cell_type": "code",
   "execution_count": null,
   "id": "c4501b45",
   "metadata": {},
   "outputs": [],
   "source": [
    "with open(file_path) as f:\n",
    "    print(f.read())"
   ]
  },
  {
   "cell_type": "markdown",
   "id": "5b1cae2e",
   "metadata": {},
   "source": [
    "**Other methods of os.path**"
   ]
  },
  {
   "cell_type": "code",
   "execution_count": null,
   "id": "270f6693",
   "metadata": {},
   "outputs": [],
   "source": [
    "print(os.path.dirname('/tmp/test.txt'))\n",
    "print(os.path.basename('/tmp/test.txt'))\n",
    "print(os.path.split('/tmp/test.txt'))\n",
    "print(os.path.exists('/tmp/test.txt'))\n",
    "print(os.path.isdir('/tmp/test.txt'))\n",
    "print(os.path.isfile('/tmp/test.txt'))\n",
    "print(os.path.splitext('/tmp/test.txt')) # separate root from extenstion"
   ]
  },
  {
   "cell_type": "code",
   "execution_count": null,
   "id": "94e02d16",
   "metadata": {},
   "outputs": [],
   "source": [
    "print(dir(os.path))"
   ]
  },
  {
   "cell_type": "code",
   "execution_count": null,
   "id": "9226c9c3",
   "metadata": {},
   "outputs": [],
   "source": []
  },
  {
   "cell_type": "code",
   "execution_count": null,
   "id": "b8b1e251",
   "metadata": {},
   "outputs": [],
   "source": []
  },
  {
   "cell_type": "code",
   "execution_count": null,
   "id": "d989f207",
   "metadata": {},
   "outputs": [],
   "source": []
  }
 ],
 "metadata": {
  "kernelspec": {
   "display_name": "Python 3",
   "language": "python",
   "name": "python3"
  },
  "language_info": {
   "codemirror_mode": {
    "name": "ipython",
    "version": 3
   },
   "file_extension": ".py",
   "mimetype": "text/x-python",
   "name": "python",
   "nbconvert_exporter": "python",
   "pygments_lexer": "ipython3",
   "version": "3.9.12"
  }
 },
 "nbformat": 4,
 "nbformat_minor": 5
}
