{
 "cells": [
  {
   "cell_type": "code",
   "execution_count": 1,
   "id": "8651b3e0",
   "metadata": {},
   "outputs": [],
   "source": [
    "# %load command1.py\n",
    "import pandas as pd\n",
    "import numpy as np\n",
    "import seaborn as sns\n",
    "import matplotlib.pyplot as plt\n",
    "\n",
    "from IPython.core.interactiveshell import InteractiveShell\n",
    "InteractiveShell.ast_node_interactivity='all'\n",
    "\n",
    "%config InlineBackend.figure_format='svg'\n",
    "plt.rcParams['figure.dpi']=120\n",
    "\n",
    "pd.options.display.float_format='{:,.2f}'.format\n",
    "pd.set_option('display.max_colwidth', None)\n"
   ]
  },
  {
   "cell_type": "markdown",
   "id": "5f9d418b",
   "metadata": {},
   "source": [
    "## What does ** (double star/asterisk) and * (star/asterisk) do for parameters? <br>\n",
    "https://stackoverflow.com/questions/36901/what-does-double-star-asterisk-and-star-asterisk-do-for-parameters <br\n",
    "                                                                                                                 \n",
    "**The \\*args and \\*\\*kwargs is a common idiom to allow arbitrary number of arguments to functions as described in the section more on defining functions in the Python documentation.** <br>\n",
    "**The \\*\\*kwargs will give you all keyword arguments except for those corresponding to a formal parameter as a dictionary.**"
   ]
  },
  {
   "cell_type": "code",
   "execution_count": 3,
   "id": "731d5e5d",
   "metadata": {},
   "outputs": [
    {
     "name": "stdout",
     "output_type": "stream",
     "text": [
      "1\n",
      "2\n",
      "3\n",
      "\n",
      "name John\n",
      "age 37\n",
      "\n",
      "100 10 Lee\n"
     ]
    }
   ],
   "source": [
    "def foo(*args):\n",
    "    for a in args:\n",
    "        print(a)\n",
    "        \n",
    "foo(1,2,3)\n",
    "print()\n",
    "\n",
    "\n",
    "def bar(**kwargs):\n",
    "    for a in kwargs:\n",
    "        print(a, kwargs[a])\n",
    "        \n",
    "bar(name='John', age=37)\n",
    "print()\n",
    "\n",
    "def foo(a, b, c):\n",
    "    print(a, b, c)\n",
    "    \n",
    "obj={'b':10, 'c':'Lee'}\n",
    "\n",
    "foo(100, **obj)"
   ]
  },
  {
   "cell_type": "markdown",
   "id": "b2a64ab6",
   "metadata": {},
   "source": [
    "**Another usage is to unpack argument lists when calling a function.**"
   ]
  },
  {
   "cell_type": "code",
   "execution_count": 6,
   "id": "1aef3c01",
   "metadata": {},
   "outputs": [
    {
     "name": "stdout",
     "output_type": "stream",
     "text": [
      "1 2\n",
      "\n",
      "1\n",
      "[2, 3, 4]\n",
      "\n",
      "1\n",
      "[2, 3]\n",
      "4\n"
     ]
    }
   ],
   "source": [
    "def foo(bar, lee):\n",
    "    print(bar, lee)\n",
    "    \n",
    "    \n",
    "l=[1,2]\n",
    "\n",
    "foo(*l)\n",
    "print()\n",
    "\n",
    "first, *rest=[1,2,3,4]\n",
    "print(first)\n",
    "print(rest)\n",
    "print()\n",
    "\n",
    "first, *l, rest=[1,2,3,4]\n",
    "print(first)\n",
    "print(l)\n",
    "print(rest)"
   ]
  },
  {
   "cell_type": "code",
   "execution_count": 10,
   "id": "1114d65c",
   "metadata": {},
   "outputs": [
    {
     "name": "stdout",
     "output_type": "stream",
     "text": [
      "[1, 2]\n",
      "[1, 2, 3, 4]\n",
      "\n",
      "{1: 1, 2: 2, 3: 3, 4: 4}\n"
     ]
    }
   ],
   "source": [
    "def func(arg1, arg2, arg3, *, kwarg1, kwarg2):\n",
    "    pass\n",
    "\n",
    "x=[1,2]\n",
    "print([*x])\n",
    "print([*x, 3, 4])\n",
    "print()\n",
    "\n",
    "y={1:1, 2:2}\n",
    "print({**y, 3:3, 4:4})"
   ]
  },
  {
   "cell_type": "markdown",
   "id": "86b638c6",
   "metadata": {},
   "source": [
    "**It's also worth noting that you can use \\* and \\*\\* when calling functions as well. This is a shortcut that allows you to pass multiple arguments to a function directly using either a list/tuple or a dictionary.**"
   ]
  },
  {
   "cell_type": "code",
   "execution_count": 15,
   "id": "732e1b50",
   "metadata": {},
   "outputs": [
    {
     "name": "stdout",
     "output_type": "stream",
     "text": [
      "x=1\n",
      "y=2\n",
      "z=3\n",
      "\n",
      "x=1\n",
      "y=2\n",
      "z=3\n",
      "\n",
      "x=1\n",
      "y=2\n",
      "z=3\n"
     ]
    }
   ],
   "source": [
    "def foo(x, y, z):\n",
    "    print('x=' + str(x))\n",
    "    print('y=' + str(y))\n",
    "    print('z=' + str(z))\n",
    "    \n",
    "    \n",
    "mylist=[1,2,3]\n",
    "foo(*mylist)\n",
    "print()\n",
    "mydict={'x':1, 'y':2, 'z':3}\n",
    "foo(**mydict)\n",
    "print()\n",
    "mytuple=(1,2,3)\n",
    "foo(*mytuple)"
   ]
  },
  {
   "cell_type": "code",
   "execution_count": 16,
   "id": "b670a73c",
   "metadata": {},
   "outputs": [
    {
     "name": "stdout",
     "output_type": "stream",
     "text": [
      "1\n",
      "(2, 3, 4, 5)\n",
      "1\n",
      "{'a': 2, 'b': 3}\n"
     ]
    }
   ],
   "source": [
    "def foo(param1, *param2):\n",
    "    print(param1)\n",
    "    print(param2)\n",
    "\n",
    "def bar(param1, **param2):\n",
    "    print(param1)\n",
    "    print(param2)\n",
    "\n",
    "foo(1,2,3,4,5)\n",
    "bar(1,a=2,b=3)"
   ]
  },
  {
   "cell_type": "code",
   "execution_count": null,
   "id": "8009a10f",
   "metadata": {},
   "outputs": [],
   "source": []
  },
  {
   "cell_type": "code",
   "execution_count": null,
   "id": "1242d3c7",
   "metadata": {},
   "outputs": [],
   "source": []
  },
  {
   "cell_type": "code",
   "execution_count": null,
   "id": "0ef1524d",
   "metadata": {},
   "outputs": [],
   "source": []
  }
 ],
 "metadata": {
  "kernelspec": {
   "display_name": "Python 3",
   "language": "python",
   "name": "python3"
  },
  "language_info": {
   "codemirror_mode": {
    "name": "ipython",
    "version": 3
   },
   "file_extension": ".py",
   "mimetype": "text/x-python",
   "name": "python",
   "nbconvert_exporter": "python",
   "pygments_lexer": "ipython3",
   "version": "3.7.13"
  }
 },
 "nbformat": 4,
 "nbformat_minor": 5
}
