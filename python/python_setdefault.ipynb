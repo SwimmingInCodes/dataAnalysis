{
 "cells": [
  {
   "attachments": {},
   "cell_type": "markdown",
   "id": "14988f55",
   "metadata": {},
   "source": [
    "#### setdefault() method returns the value of a key (if the key is in dictionary). If not, it inserts key with a value to the dictionary.\n",
    "\n",
    "You could say `defaultdict` is useful for settings defaults before filling the dict and `setdefault` is useful for setting defaults while or after filling the dict.\n",
    "\n",
    "Probably the most common use case: Grouping items (in unsorted data, else use itertools.groupby)"
   ]
  },
  {
   "cell_type": "code",
   "execution_count": 1,
   "id": "dba75086",
   "metadata": {},
   "outputs": [
    {
     "name": "stdout",
     "output_type": "stream",
     "text": [
      "Geeks\n"
     ]
    }
   ],
   "source": [
    "dict1={'A':'Geeks', 'B':'For', 'C':'Geeks'}\n",
    "\n",
    "print(dict1.setdefault('C'))"
   ]
  },
  {
   "cell_type": "code",
   "execution_count": 7,
   "id": "ba85578b",
   "metadata": {},
   "outputs": [
    {
     "name": "stdout",
     "output_type": "stream",
     "text": [
      "None\n",
      "{'A': 'Geeks', 'B': 'For', 'C': None}\n",
      "\n",
      "Geeks\n",
      "{'A': 'Geeks', 'B': 'For', 'C': None, 'D': 'Geeks'}\n"
     ]
    }
   ],
   "source": [
    "dict1={'A':'Geeks', 'B':'For'}\n",
    "value=dict1.setdefault('C')\n",
    "print(value)\n",
    "print(dict1)\n",
    "print()\n",
    "value=dict1.setdefault('D', 'Geeks')\n",
    "print(value)\n",
    "print(dict1)"
   ]
  },
  {
   "cell_type": "code",
   "execution_count": 35,
   "id": "0ce31bb4",
   "metadata": {},
   "outputs": [
    {
     "name": "stdout",
     "output_type": "stream",
     "text": [
      "{'a': [1], 'b': [1, 2]}\n",
      "{'a': [1], 'b': [1, 2]}\n"
     ]
    }
   ],
   "source": [
    "data = [('a', 1), ('b', 1), ('b', 2)]\n",
    "\n",
    "d1 = {}\n",
    "d2 = {}\n",
    "\n",
    "for key, val in data:\n",
    "    # variant 1)\n",
    "    d1[key] = d1.get(key, []) + [val]\n",
    "    # variant 2)\n",
    "    d2.setdefault(key, []).append(val)\n",
    "    \n",
    "print(d1)\n",
    "print(d2)"
   ]
  },
  {
   "cell_type": "code",
   "execution_count": 19,
   "id": "f5abdc78",
   "metadata": {},
   "outputs": [
    {
     "name": "stdout",
     "output_type": "stream",
     "text": [
      "{'A': []}\n",
      "{}\n"
     ]
    }
   ],
   "source": [
    "root = {}\n",
    "root.setdefault('A', [])\n",
    "print(root)\n",
    "\n",
    "root = {}\n",
    "root.get('A', [])\n",
    "print(root)\n",
    "\n",
    "# So setdefault() sets absent keys in the dict \n",
    "# while get() only provides you default value but it does not modify the dictionary."
   ]
  },
  {
   "cell_type": "markdown",
   "id": "259af783",
   "metadata": {},
   "source": [
    "**Now let come where this will be useful- Suppose you are searching an element in a dict whose value is a list and you want to modify that list if found otherwise create a new key with that list.\n",
    "`using setdefault()`** <br>\n",
    "```python\n",
    "def fn1(dic, key, lst):\n",
    "    dic.setdefault(key, []).extend(lst)\n",
    "```\n",
    "\n",
    "**using `get()`**\n",
    "```python\n",
    "def fn2(dic, key, lst):\n",
    "    dic[key] = dic.get(key, []) + (lst) #Explicit assigning happening here\n",
    "```"
   ]
  },
  {
   "cell_type": "code",
   "execution_count": 25,
   "id": "a1ba695d",
   "metadata": {},
   "outputs": [],
   "source": [
    "def fn1(dic, key, lst):\n",
    "    dic.setdefault(key, []).extend(lst)\n",
    "    \n",
    "dic={}"
   ]
  },
  {
   "cell_type": "code",
   "execution_count": 26,
   "id": "a76cd579",
   "metadata": {},
   "outputs": [
    {
     "name": "stdout",
     "output_type": "stream",
     "text": [
      "{'A': [1, 2, 3]}\n"
     ]
    }
   ],
   "source": [
    "# %%timeit -n 1000 -r 4\n",
    "fn1(dic, 'A', [1,2,3])\n",
    "print(dic)"
   ]
  },
  {
   "cell_type": "code",
   "execution_count": 33,
   "id": "5dff2fa3",
   "metadata": {},
   "outputs": [],
   "source": [
    "dic1={}\n",
    "def fn2(dic1, key, lst):\n",
    "    dic1[key] = dic1.get(key, []) + (lst)"
   ]
  },
  {
   "cell_type": "code",
   "execution_count": 34,
   "id": "9d8052d9",
   "metadata": {},
   "outputs": [
    {
     "name": "stdout",
     "output_type": "stream",
     "text": [
      "{'A': [1, 2, 3]}\n"
     ]
    }
   ],
   "source": [
    "# %%timeit -n 10000 -r 4\n",
    "fn2(dic1, 'A', [1,2,3])\n",
    "print(dic1)"
   ]
  },
  {
   "cell_type": "code",
   "execution_count": null,
   "id": "ab11e076",
   "metadata": {},
   "outputs": [],
   "source": []
  },
  {
   "cell_type": "code",
   "execution_count": null,
   "id": "ee69a6c1",
   "metadata": {},
   "outputs": [],
   "source": []
  }
 ],
 "metadata": {
  "kernelspec": {
   "display_name": "Python 3",
   "language": "python",
   "name": "python3"
  },
  "language_info": {
   "codemirror_mode": {
    "name": "ipython",
    "version": 3
   },
   "file_extension": ".py",
   "mimetype": "text/x-python",
   "name": "python",
   "nbconvert_exporter": "python",
   "pygments_lexer": "ipython3",
   "version": "3.7.13"
  }
 },
 "nbformat": 4,
 "nbformat_minor": 5
}
