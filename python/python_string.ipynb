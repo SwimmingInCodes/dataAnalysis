{
 "cells": [
  {
   "cell_type": "markdown",
   "metadata": {},
   "source": [
    "## string"
   ]
  },
  {
   "cell_type": "code",
   "execution_count": 1,
   "metadata": {},
   "outputs": [
    {
     "name": "stdout",
     "output_type": "stream",
     "text": [
      "HELLO WORLD\n",
      "hello world\n",
      "Hello World\n",
      "4\n",
      "Hello Universe\n",
      "3\n",
      "['Hello', 'World']\n",
      "Hello World\n",
      "True\n",
      "True\n",
      "Hello World\n"
     ]
    }
   ],
   "source": [
    "my_string=\"Hello World\"\n",
    "\n",
    "print(my_string.upper())\n",
    "print(my_string.lower())\n",
    "print(my_string.title())\n",
    "print(my_string.find('o'))\n",
    "print(my_string.replace('World', 'Universe'))\n",
    "print(my_string.count('l'))\n",
    "print(my_string.split())\n",
    "str_list=my_string.split()\n",
    "print(' '.join(str_list))\n",
    "print(my_string.startswith(\"Hello\"))\n",
    "print(my_string.endswith(\"d\"))\n",
    "\n",
    "\n",
    "my_string=\"   Hello World   \"\n",
    "print(my_string.strip())"
   ]
  },
  {
   "cell_type": "code",
   "execution_count": 2,
   "metadata": {},
   "outputs": [
    {
     "name": "stdout",
     "output_type": "stream",
     "text": [
      "0.0315976\n",
      "0.001004800000000028\n"
     ]
    }
   ],
   "source": [
    "from timeit import default_timer as timer\n",
    "\n",
    "my_list=['a']*100000\n",
    "\n",
    "\n",
    "start=timer()\n",
    "my_string=''\n",
    "for i in my_list:\n",
    "    my_string+=i\n",
    "stop=timer()\n",
    "print(stop-start)\n",
    "\n",
    "start=timer()\n",
    "my_string=''.join(my_list)\n",
    "stop=timer()\n",
    "print(stop-start)"
   ]
  },
  {
   "cell_type": "code",
   "execution_count": 3,
   "metadata": {},
   "outputs": [
    {
     "name": "stdout",
     "output_type": "stream",
     "text": [
      "the vaiable is Tom\n",
      "the vaiable is 3\n",
      "the vaiable is 3.123456\n",
      "the vaiable is 3.12\n",
      "the vaiable is 3.12\n",
      "the vaiable is 3.12 and 7\n",
      "the vaiable is 3.12 and 7\n",
      "the vaiable is 6.25 and 7\n"
     ]
    }
   ],
   "source": [
    "var='Tom'\n",
    "my_string='the vaiable is %s' %var\n",
    "print(my_string)\n",
    "\n",
    "var=3.14\n",
    "my_string='the vaiable is %d' %var\n",
    "print(my_string)\n",
    "\n",
    "\n",
    "var=3.123456\n",
    "my_string='the vaiable is %f' %var\n",
    "print(my_string)\n",
    "\n",
    "var=3.123456\n",
    "my_string='the vaiable is %.2f' %var\n",
    "print(my_string)\n",
    "\n",
    "var=3.123456\n",
    "my_string='the vaiable is {:.2f}'.format(var)\n",
    "print(my_string)\n",
    "\n",
    "var=3.123456\n",
    "var2=7\n",
    "my_string='the vaiable is {:.2f} and {}'.format(var, var2)\n",
    "print(my_string)\n",
    "\n",
    "my_string=f'the vaiable is {var:.2f} and {var2}'\n",
    "print(my_string)\n",
    "\n",
    "my_string=f'the vaiable is {var*2:.2f} and {var2}'\n",
    "print(my_string)"
   ]
  },
  {
   "cell_type": "code",
   "execution_count": null,
   "metadata": {},
   "outputs": [],
   "source": []
  },
  {
   "cell_type": "code",
   "execution_count": 4,
   "metadata": {
    "scrolled": true
   },
   "outputs": [
    {
     "name": "stdout",
     "output_type": "stream",
     "text": [
      "00123\n",
      "12300\n",
      "**123\n",
      "123**\n"
     ]
    }
   ],
   "source": [
    "text=123\n",
    "print('{0:>05d}'.format(text))\n",
    "print('{0:<05d}'.format(text))\n",
    "print('{0:*>5d}'.format(text))\n",
    "print('{0:*<5d}'.format(text))"
   ]
  },
  {
   "cell_type": "code",
   "execution_count": 5,
   "metadata": {},
   "outputs": [
    {
     "name": "stdout",
     "output_type": "stream",
     "text": [
      "00fun\n",
      "fun\n",
      "0000fun\n",
      "-0000290\n",
      "+0000290\n",
      "-0000000-random+text\n"
     ]
    }
   ],
   "source": [
    "text='fun'\n",
    "print(text.zfill(5))\n",
    "print(text.zfill(2))\n",
    "print(text.zfill(7))\n",
    "number='-290'\n",
    "print(number.zfill(8))\n",
    "number='+290'\n",
    "print(number.zfill(8))\n",
    "text = \"--random+text\"\n",
    "print(text.zfill(20))"
   ]
  },
  {
   "cell_type": "code",
   "execution_count": 6,
   "metadata": {},
   "outputs": [
    {
     "name": "stdout",
     "output_type": "stream",
     "text": [
      "('Python', ' is ', 'fun')\n",
      "('Python ', 'is', \" fun, isn't it\")\n"
     ]
    }
   ],
   "source": [
    "string = \"Python is fun\"\n",
    "print(string.partition(' is '))\n",
    "string = \"Python is fun, isn't it\"  # partition occures at the first occurrence\n",
    "print(string.partition('is'))"
   ]
  },
  {
   "cell_type": "code",
   "execution_count": 7,
   "metadata": {},
   "outputs": [
    {
     "name": "stdout",
     "output_type": "stream",
     "text": [
      "('Python ', 'is', ' fun')\n",
      "('', '', 'Python is fun')\n",
      "('Python is fun, ', 'is', \"n't it\")\n"
     ]
    }
   ],
   "source": [
    "string = \"Python is fun\"\n",
    "print(string.rpartition('is'))\n",
    "print(string.rpartition('not'))\n",
    "string = \"Python is fun, isn't it\"\n",
    "print(string.rpartition('is'))"
   ]
  },
  {
   "cell_type": "code",
   "execution_count": 8,
   "metadata": {},
   "outputs": [
    {
     "name": "stdout",
     "output_type": "stream",
     "text": [
      "['Milk', ' Chicken, Bread, Butter']\n",
      "['Milk', ' Chicken', ' Bread', ' Butter']\n",
      "['Milk, Chicken, Bread, Butter']\n",
      "['Milk, Chicken, Bread', ' Butter']\n"
     ]
    }
   ],
   "source": [
    "grocery = 'Milk, Chicken, Bread, Butter'\n",
    "print(grocery.split(',', 1))\n",
    "print(grocery.split(',', 5))\n",
    "print(grocery.split(',', 0))\n",
    "\n",
    "print(grocery.rsplit(',', 1))"
   ]
  },
  {
   "cell_type": "code",
   "execution_count": 4,
   "metadata": {},
   "outputs": [
    {
     "name": "stdout",
     "output_type": "stream",
     "text": [
      "He'S An Engineer, Isn'T He?\n",
      "\n",
      "He's\n",
      "He's\n",
      "'s\n",
      "\n",
      "H\n",
      "e\n",
      "'\n",
      "s\n"
     ]
    }
   ],
   "source": [
    "import re\n",
    "\n",
    "text = \"He's an engineer, isn't he?\"\n",
    "print(text.title())\n",
    "print()\n",
    "\n",
    "p=re.compile(r\"[A-Za-z]+('[a-z]+)?\")\n",
    "m=p.search(text)\n",
    "if m:\n",
    "    print(m.group())\n",
    "    print(m.group(0))\n",
    "    print(m.group(1))\n",
    "    print()\n",
    "    print(m.group()[0])\n",
    "    print(m.group()[1])\n",
    "    print(m.group()[2])\n",
    "    print(m.group()[3])"
   ]
  },
  {
   "cell_type": "code",
   "execution_count": 17,
   "metadata": {},
   "outputs": [
    {
     "name": "stdout",
     "output_type": "stream",
     "text": [
      "He'S An Engineer, Isn'T He?\n",
      "\n",
      "He's An Engineer, Isn't He?\n"
     ]
    }
   ],
   "source": [
    "import re\n",
    "\n",
    "text = \"He's an engineer, isn't he?\"\n",
    "print(text.title())\n",
    "print()\n",
    "\n",
    "def titlecase():\n",
    "    p=re.compile(r\"[A-Za-z]+('[a-z]+)?\")\n",
    "    result=p.sub(lambda m:m.group(0)[0].upper()+m.group(0)[1:].lower(), text)\n",
    "    print(result)\n",
    "titlecase()"
   ]
  },
  {
   "cell_type": "code",
   "execution_count": 14,
   "metadata": {},
   "outputs": [
    {
     "name": "stdout",
     "output_type": "stream",
     "text": [
      "She is wearing green skirt and green browse\n"
     ]
    }
   ],
   "source": [
    "text='She is wearing blue skirt and blue browse'\n",
    "\n",
    "result=re.sub('blue', 'green', text)\n",
    "\n",
    "print(result)"
   ]
  },
  {
   "cell_type": "code",
   "execution_count": null,
   "metadata": {},
   "outputs": [],
   "source": []
  }
 ],
 "metadata": {
  "kernelspec": {
   "display_name": "Python 3",
   "language": "python",
   "name": "python3"
  },
  "language_info": {
   "codemirror_mode": {
    "name": "ipython",
    "version": 3
   },
   "file_extension": ".py",
   "mimetype": "text/x-python",
   "name": "python",
   "nbconvert_exporter": "python",
   "pygments_lexer": "ipython3",
   "version": "3.7.13"
  }
 },
 "nbformat": 4,
 "nbformat_minor": 4
}
