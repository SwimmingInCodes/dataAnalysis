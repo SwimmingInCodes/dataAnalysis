{
 "cells": [
  {
   "cell_type": "code",
   "execution_count": 9,
   "metadata": {},
   "outputs": [],
   "source": [
    "# point is how to get next value\n",
    "# set start value to current value and then increase the number the start by one\n",
    "# MyRange is used to iterate instance given start and stop\n",
    "class MyRange:\n",
    "    def __init__(self, start, stop):\n",
    "        self.start=start\n",
    "        self.stop=stop\n",
    "    def __iter__(self):\n",
    "        return self\n",
    "    \n",
    "    def __next__(self):\n",
    "        if self.start>=self.stop:\n",
    "            raise StopIteration\n",
    "        self.current=self.start\n",
    "        self.start+=1\n",
    "        return self.current\n"
   ]
  },
  {
   "cell_type": "code",
   "execution_count": 10,
   "metadata": {},
   "outputs": [
    {
     "name": "stdout",
     "output_type": "stream",
     "text": [
      "1 2 3 4 5 6 7 8 9 10 "
     ]
    }
   ],
   "source": [
    "myrange=MyRange(1, 11) \n",
    "for i in myrange:\n",
    "    print(i, end=' ')"
   ]
  },
  {
   "cell_type": "code",
   "execution_count": 3,
   "metadata": {},
   "outputs": [
    {
     "name": "stdout",
     "output_type": "stream",
     "text": [
      "1 2 3 4 5 6 7 8 9 10 "
     ]
    }
   ],
   "source": [
    "def myrange(start, stop):\n",
    "    while start <stop:\n",
    "        current=start\n",
    "        yield current\n",
    "        start+=1\n",
    "        \n",
    "range=myrange(1,11)\n",
    "\n",
    "for num in range:\n",
    "    print(num, end=' ')"
   ]
  },
  {
   "cell_type": "code",
   "execution_count": 4,
   "metadata": {},
   "outputs": [],
   "source": [
    "str_object='This is book'\n",
    "\n",
    "class Sentence:\n",
    "    def __init__(self, string):\n",
    "        self.string=string.split()\n",
    "        self.start=0\n",
    "        self.end=len(self.string)\n",
    "        \n",
    "    def __iter__(self):\n",
    "        return self\n",
    "    \n",
    "    def __next__(self):\n",
    "        if self.start>= self.end:\n",
    "            raise StopIteration\n",
    "        current=self.start\n",
    "        self.start+=1\n",
    "        return self.string[current]\n",
    "               "
   ]
  },
  {
   "cell_type": "code",
   "execution_count": 5,
   "metadata": {},
   "outputs": [
    {
     "name": "stdout",
     "output_type": "stream",
     "text": [
      "This\n",
      "is\n",
      "book\n"
     ]
    }
   ],
   "source": [
    "sentence=Sentence(str_object)\n",
    "for i in sentence:\n",
    "    print(i)"
   ]
  },
  {
   "cell_type": "code",
   "execution_count": 6,
   "metadata": {},
   "outputs": [
    {
     "name": "stdout",
     "output_type": "stream",
     "text": [
      "wolrd "
     ]
    }
   ],
   "source": [
    "string=\"wolrd\"\n",
    "\n",
    "def sentence_iter(string):\n",
    "    for i in string.split():\n",
    "        yield i\n",
    "        \n",
    "sen=sentence_iter(string)\n",
    "for i in sen:\n",
    "    print(i, end=' ')"
   ]
  },
  {
   "cell_type": "markdown",
   "metadata": {},
   "source": [
    "### reverse words"
   ]
  },
  {
   "cell_type": "code",
   "execution_count": 7,
   "metadata": {},
   "outputs": [
    {
     "name": "stdout",
     "output_type": "stream",
     "text": [
      "drlow\n"
     ]
    }
   ],
   "source": [
    "string=\"wolrd\"\n",
    "\n",
    "def reverse_st(string):\n",
    "    empty=\"\"\n",
    "    \n",
    "    for i in string:\n",
    "        empty = i + empty\n",
    "    return empty\n",
    "\n",
    "print(reverse_st(string))"
   ]
  },
  {
   "cell_type": "code",
   "execution_count": 8,
   "metadata": {},
   "outputs": [
    {
     "name": "stdout",
     "output_type": "stream",
     "text": [
      "book my is This "
     ]
    }
   ],
   "source": [
    "text='This is my book'\n",
    "\n",
    "def sentence_iter(text):\n",
    "    l=' '\n",
    "    for i in text.split():\n",
    "        l= i + ' ' +l\n",
    "    \n",
    "    l_split=l.split()\n",
    "    for i in l_split:\n",
    "        yield i\n",
    "        \n",
    "sen=sentence_iter(text)\n",
    "for i in sen:\n",
    "    print(i, end=' ', sep=' ')"
   ]
  },
  {
   "cell_type": "code",
   "execution_count": null,
   "metadata": {},
   "outputs": [],
   "source": []
  },
  {
   "cell_type": "code",
   "execution_count": null,
   "metadata": {},
   "outputs": [],
   "source": []
  },
  {
   "cell_type": "code",
   "execution_count": null,
   "metadata": {},
   "outputs": [],
   "source": []
  }
 ],
 "metadata": {
  "kernelspec": {
   "display_name": "Python 3",
   "language": "python",
   "name": "python3"
  },
  "language_info": {
   "codemirror_mode": {
    "name": "ipython",
    "version": 3
   },
   "file_extension": ".py",
   "mimetype": "text/x-python",
   "name": "python",
   "nbconvert_exporter": "python",
   "pygments_lexer": "ipython3",
   "version": "3.7.13"
  }
 },
 "nbformat": 4,
 "nbformat_minor": 4
}
