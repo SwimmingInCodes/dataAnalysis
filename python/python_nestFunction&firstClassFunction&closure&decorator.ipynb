{
 "cells": [
  {
   "cell_type": "markdown",
   "id": "d5b3d8a1",
   "metadata": {},
   "source": [
    "### Nest function"
   ]
  },
  {
   "cell_type": "code",
   "execution_count": 44,
   "id": "b124399b",
   "metadata": {},
   "outputs": [
    {
     "name": "stdout",
     "output_type": "stream",
     "text": [
      "Hello\n",
      "World\n",
      "\n",
      "3\n",
      "\n",
      "1\n",
      "6\n"
     ]
    }
   ],
   "source": [
    "def f1():\n",
    "    print('Hello')\n",
    "    def f2():\n",
    "        print('World')\n",
    "    f2()\n",
    "\n",
    "f1()\n",
    "\n",
    "print()\n",
    "\n",
    "#-----------------------------------------------------------------\n",
    "\n",
    "def f1():\n",
    "    x=1 # variable is defined in f1 function (outer function)\n",
    "    def f2(a):\n",
    "        print(a + x) # able to access the variable of the outer function\n",
    "    f2(2)\n",
    "   \n",
    "f1()\n",
    "\n",
    "print()\n",
    "#-----------------------------------------------------------------\n",
    "\n",
    "def f1():\n",
    "    x=1\n",
    "    def f2(a):\n",
    "        x=4\n",
    "        print(a+x)\n",
    "    print(x) # print the value of x of outer function which can't access a variable in inner funciton\n",
    "    f2(2)\n",
    "    \n",
    "f1()"
   ]
  },
  {
   "cell_type": "code",
   "execution_count": 47,
   "id": "7bba2b1c",
   "metadata": {},
   "outputs": [
    {
     "ename": "NameError",
     "evalue": "name 'a' is not defined",
     "output_type": "error",
     "traceback": [
      "\u001b[1;31m---------------------------------------------------------------------------\u001b[0m",
      "\u001b[1;31mNameError\u001b[0m                                 Traceback (most recent call last)",
      "\u001b[1;32m~\\AppData\\Local\\Temp\\ipykernel_12000\\477596371.py\u001b[0m in \u001b[0;36m<module>\u001b[1;34m\u001b[0m\n\u001b[0;32m      2\u001b[0m     \u001b[0ma\u001b[0m\u001b[1;33m=\u001b[0m\u001b[1;36m5\u001b[0m\u001b[1;33m\u001b[0m\u001b[1;33m\u001b[0m\u001b[0m\n\u001b[0;32m      3\u001b[0m \u001b[1;33m\u001b[0m\u001b[0m\n\u001b[1;32m----> 4\u001b[1;33m \u001b[0mprint\u001b[0m\u001b[1;33m(\u001b[0m\u001b[0ma\u001b[0m\u001b[1;33m)\u001b[0m \u001b[1;31m# a can't be accessed from the outside of the function f1\u001b[0m\u001b[1;33m\u001b[0m\u001b[1;33m\u001b[0m\u001b[0m\n\u001b[0m",
      "\u001b[1;31mNameError\u001b[0m: name 'a' is not defined"
     ]
    }
   ],
   "source": [
    "def f1():\n",
    "    a=5\n",
    "    \n",
    "print(a) # a can't be accessed from the outside of the function f1"
   ]
  },
  {
   "cell_type": "code",
   "execution_count": 48,
   "id": "bc350b7b",
   "metadata": {},
   "outputs": [],
   "source": [
    "a=5\n",
    "def f1():\n",
    "    print(a) # we can access from a function the variables which are defined outside that function but can't modify them.\n"
   ]
  },
  {
   "cell_type": "code",
   "execution_count": 50,
   "id": "68f78b7e",
   "metadata": {},
   "outputs": [
    {
     "name": "stdout",
     "output_type": "stream",
     "text": [
      "1\n",
      "5\n"
     ]
    }
   ],
   "source": [
    "a=1\n",
    "def f1():\n",
    "    a=5\n",
    "    print(a)\n",
    "print(a) # we can't access local variable from outside\n",
    "\n",
    "f1()"
   ]
  },
  {
   "cell_type": "code",
   "execution_count": 51,
   "id": "f794b05e",
   "metadata": {},
   "outputs": [
    {
     "name": "stdout",
     "output_type": "stream",
     "text": [
      "5\n",
      "5\n"
     ]
    }
   ],
   "source": [
    "a=1\n",
    "\n",
    "def f1():\n",
    "    global a\n",
    "    a=5\n",
    "    print(a)\n",
    "f1()\n",
    "print(a)"
   ]
  },
  {
   "cell_type": "code",
   "execution_count": 52,
   "id": "308fc327",
   "metadata": {},
   "outputs": [
    {
     "name": "stdout",
     "output_type": "stream",
     "text": [
      "2\n",
      "2\n"
     ]
    }
   ],
   "source": [
    "def f1():\n",
    "    a=[1]\n",
    "    def f2():\n",
    "        a[0]=2\n",
    "        print(a[0])\n",
    "    f2()\n",
    "    print(a[0])\n",
    "f1()"
   ]
  },
  {
   "cell_type": "code",
   "execution_count": 53,
   "id": "7004adb5",
   "metadata": {},
   "outputs": [
    {
     "name": "stdout",
     "output_type": "stream",
     "text": [
      "2\n",
      "2\n"
     ]
    }
   ],
   "source": [
    "# We can use the nonlocal keyword to change the value of the variable of the outer function similar to \n",
    "# using global keyword to change the value of global variables. \n",
    "\n",
    "def f1():\n",
    "    a=1\n",
    "    def f2():\n",
    "        nonlocal a\n",
    "        a=2\n",
    "        print(a)\n",
    "    f2()\n",
    "    print(a)\n",
    "f1()\n"
   ]
  },
  {
   "attachments": {},
   "cell_type": "markdown",
   "id": "fcf51091",
   "metadata": {},
   "source": [
    "### First-Class Functions:\n",
    "“A Programming language is said to have first-class functions if it treats functions as first-class citizens.”\n",
    "\n",
    "### First-Class Citizen:\n",
    "“A first-class citizen (sometimes called first-class objects) in a programming language is an entity which supports all the operations generally available to other entities. These operations typically include being passed as an argument, returned from a function, and assigned to a variable.”"
   ]
  },
  {
   "cell_type": "code",
   "execution_count": 32,
   "id": "b9a8aead",
   "metadata": {},
   "outputs": [],
   "source": [
    "# %load command1.py\n",
    "import pandas as pd\n",
    "import numpy as np\n",
    "import seaborn as sns\n",
    "import matplotlib.pyplot as plt\n",
    "\n",
    "from IPython.core.interactiveshell import InteractiveShell\n",
    "InteractiveShell.ast_node_interactivity='all'\n",
    "\n",
    "%config InlineBackend.figure_format='svg'\n",
    "plt.rcParams['figure.dpi']=120\n",
    "\n",
    "pd.options.display.float_format='{:,.2f}'.format\n",
    "pd.set_option('display.max_colwidth', None)\n"
   ]
  },
  {
   "cell_type": "code",
   "execution_count": 39,
   "id": "b5bf85b6",
   "metadata": {},
   "outputs": [
    {
     "name": "stdout",
     "output_type": "stream",
     "text": [
      "<function square at 0x000001BE46753288>\n",
      "25\n",
      "[1, 4, 9, 16, 25]\n"
     ]
    }
   ],
   "source": [
    "# function is passed in as an argument\n",
    "def square(x):\n",
    "    return x*x\n",
    "\n",
    "def cube(x):\n",
    "    return x*x*x\n",
    "    \n",
    "f=square(5)\n",
    "print(square)\n",
    "print(f)\n",
    "\n",
    "def my_map(func, arg_list):\n",
    "    result=[]\n",
    "    for i in arg_list:\n",
    "        result.append(func(i))\n",
    "    return result\n",
    "squares=my_map(square, [1,2,3,4,5])\n",
    "print(squares)"
   ]
  },
  {
   "cell_type": "code",
   "execution_count": 36,
   "id": "e8f55ca6",
   "metadata": {},
   "outputs": [
    {
     "name": "stdout",
     "output_type": "stream",
     "text": [
      "<function square at 0x000001BE46753E58>\n",
      "<function square at 0x000001BE46753E58>\n",
      "25\n"
     ]
    }
   ],
   "source": [
    "# function is assigned to a variable\n",
    "\n",
    "def square(x):\n",
    "    return x*x\n",
    "\n",
    "f=square\n",
    "\n",
    "print(square)\n",
    "print(f)\n",
    "print(f(5))"
   ]
  },
  {
   "cell_type": "code",
   "execution_count": 38,
   "id": "d9fd2e9e",
   "metadata": {},
   "outputs": [
    {
     "name": "stdout",
     "output_type": "stream",
     "text": [
      "Log: Hi\n",
      "\n",
      "<h1>Test Headline<h1>\n",
      "<h1>Another Headline<h1>\n",
      "<p>Test Paragraph!<p>\n"
     ]
    }
   ],
   "source": [
    "# function returns another function\n",
    "\n",
    "def logger(msg):\n",
    "    def log_message():\n",
    "        print('Log:', msg)\n",
    "    return log_message\n",
    "\n",
    "hi_log=logger('Hi')\n",
    "hi_log()\n",
    "print()\n",
    "\n",
    "def html_tag(tag):\n",
    "    def wrap_text(msg):\n",
    "        print(f'<{tag}>{msg}<{tag}>')\n",
    "    return wrap_text\n",
    "h1=html_tag('h1')\n",
    "h1('Test Headline')\n",
    "h1('Another Headline')\n",
    "\n",
    "p=html_tag('p')\n",
    "p('Test Paragraph!')"
   ]
  },
  {
   "cell_type": "markdown",
   "id": "f5b6cdfe",
   "metadata": {},
   "source": [
    "### CLOSURES - How to Use Them and Why They Are Useful\n",
    "\n",
    "A Closure is a function object that remembers values in enclosing scopes even if they are not present in memory.  <br><br> Operationally, a closure is a record storing function together with an environment. The environment is a mapping associating each free variable of the function (variables that are used locally, but defined in an enclosing scope) with the value or reference to which the name was bound when the closure was created. <br><br> Unlike a plain function, a closure allows the function to access those captured variables through the closure's copies of their values or references, even when the function is invoked outside their scope."
   ]
  },
  {
   "cell_type": "code",
   "execution_count": 1,
   "id": "6b716ede",
   "metadata": {},
   "outputs": [
    {
     "name": "stdout",
     "output_type": "stream",
     "text": [
      "Hi\n"
     ]
    }
   ],
   "source": [
    "def outer_func():\n",
    "    message='Hi'\n",
    "    def inner_func():\n",
    "        print(message)\n",
    "    return inner_func() # parenthesis makes function executed \n",
    "\n",
    "outer_func() # run outer_func then return inner_func\n"
   ]
  },
  {
   "cell_type": "code",
   "execution_count": 2,
   "id": "99a7e566",
   "metadata": {},
   "outputs": [
    {
     "name": "stdout",
     "output_type": "stream",
     "text": [
      "inner_func\n",
      "Hi\n"
     ]
    }
   ],
   "source": [
    "def outer_func():\n",
    "    message='Hi'\n",
    "    def inner_func():\n",
    "        print(message)\n",
    "    return inner_func # If there is no parenthesis, then function just remember its stored values \n",
    "\n",
    "my_func=outer_func() # Now my_func is the inner_func but it just remebers the stored value\n",
    "\n",
    "print(my_func.__name__)\n",
    "\n",
    "my_func() # Now execute the inner_func\n"
   ]
  },
  {
   "cell_type": "code",
   "execution_count": 3,
   "id": "afbb42ed",
   "metadata": {
    "scrolled": true
   },
   "outputs": [
    {
     "name": "stdout",
     "output_type": "stream",
     "text": [
      "Hi\n",
      "Hello\n"
     ]
    }
   ],
   "source": [
    "def outer_func(msg):\n",
    "    message=msg\n",
    "    def inner_func():\n",
    "        print(message)\n",
    "    return inner_func \n",
    "\n",
    "hi_func=outer_func('Hi') \n",
    "hello_func=outer_func('Hello')\n",
    "\n",
    "hi_func()\n",
    "hello_func()"
   ]
  },
  {
   "cell_type": "markdown",
   "id": "4dad4d8e",
   "metadata": {},
   "source": [
    "### Decorators - Dynamically Alter The Functionality Of Your Functions\n",
    "Let wrapper_function (inner_function) execute function we pass in, which is what decorator does. Add a functionality to an existing function without modifying the existing function\n",
    "\n",
    "```python\n",
    "def decorator_function(original_function):\n",
    "\tdef wrapper_function():\n",
    "\t\treturn original_function()\n",
    "\treturn wrapper_function\n",
    "\n",
    "```"
   ]
  },
  {
   "cell_type": "code",
   "execution_count": 4,
   "id": "c186bc2a",
   "metadata": {},
   "outputs": [
    {
     "name": "stdout",
     "output_type": "stream",
     "text": [
      "6\n",
      "3\n",
      "\n",
      "INFO:root:Running \"add\" with arguments (3, 3)\n",
      "INFO:root:Running \"sub\" with arguments (5, 2)\n",
      "INFO:root:Running \"add\" with arguments (3, 3)\n",
      "INFO:root:Running \"sub\" with arguments (5, 2)\n",
      "INFO:root:Running \"add\" with arguments (3, 3)\n",
      "INFO:root:Running \"sub\" with arguments (5, 2)\n",
      "INFO:root:Running \"add\" with arguments (3, 3)\n",
      "INFO:root:Running \"sub\" with arguments (5, 2)\n",
      "INFO:root:Running \"add\" with arguments (3, 3)\n",
      "INFO:root:Running \"sub\" with arguments (5, 2)\n",
      "\n"
     ]
    }
   ],
   "source": [
    "import logging\n",
    "logging.basicConfig(filename='example.log', level=logging.INFO)\n",
    "\n",
    "def logger(func):\n",
    "    def log_func(*args):\n",
    "        logging.info('Running \"{}\" with arguments {}'.format(func.__name__, args))\n",
    "        print(func(*args))\n",
    "    return log_func\n",
    "\n",
    "def add(x,y):\n",
    "    return x+y\n",
    "\n",
    "def sub(x,y):\n",
    "    return x-y\n",
    "\n",
    "# creating inner functions by supplying function as an argument\n",
    "add_logger=logger(add)\n",
    "sub_logger=logger(sub)\n",
    "\n",
    "# run inner functions\n",
    "add_logger(3,3)\n",
    "sub_logger(5,2)\n",
    "\n",
    "print()\n",
    "\n",
    "with open('example.log', 'r') as file:\n",
    "    content=file.read()\n",
    "    print(content)\n"
   ]
  },
  {
   "cell_type": "code",
   "execution_count": 7,
   "id": "fc4d018e",
   "metadata": {},
   "outputs": [
    {
     "name": "stdout",
     "output_type": "stream",
     "text": [
      "wrapper executed this before display\n",
      "display function ran\n"
     ]
    }
   ],
   "source": [
    "def decorator_func(original_func):\n",
    "    def wrapper_func():\n",
    "        print('wrapper executed this before {}'.format(original_func.__name__))\n",
    "        return original_func()\n",
    "    return wrapper_func\n",
    "\n",
    "def display():\n",
    "    print('display function ran')\n",
    "    \n",
    "\n",
    "decorated_display=decorator_func(display)\n",
    "decorated_display()\n"
   ]
  },
  {
   "cell_type": "code",
   "execution_count": 9,
   "id": "13b68c0d",
   "metadata": {},
   "outputs": [
    {
     "name": "stdout",
     "output_type": "stream",
     "text": [
      "wrapper executed this before display\n",
      "display function ran\n"
     ]
    }
   ],
   "source": [
    "@decorator_func\n",
    "def display():\n",
    "    print('display function ran')\n",
    "    \n",
    "display()"
   ]
  },
  {
   "cell_type": "code",
   "execution_count": 10,
   "id": "8877435c",
   "metadata": {},
   "outputs": [
    {
     "name": "stdout",
     "output_type": "stream",
     "text": [
      "wrapper executed this before display_info\n",
      "display_info ran with arguments (John, 25)\n"
     ]
    }
   ],
   "source": [
    "def decorator_func(original_func):\n",
    "    def wrapper_func(*args, **kwargs):\n",
    "        print('wrapper executed this before {}'.format(original_func.__name__))\n",
    "        return original_func(*args, **kwargs)\n",
    "    return wrapper_func\n",
    "\n",
    "@decorator_func\n",
    "def display_info(name, age):\n",
    "    print('display_info ran with arguments ({}, {})'.format(name, age))\n",
    "    \n",
    "display_info('John', 25)"
   ]
  },
  {
   "cell_type": "markdown",
   "id": "2277e55a",
   "metadata": {},
   "source": [
    "**Decorator_class**"
   ]
  },
  {
   "cell_type": "code",
   "execution_count": 12,
   "id": "16a4e60c",
   "metadata": {},
   "outputs": [
    {
     "name": "stdout",
     "output_type": "stream",
     "text": [
      "call method execute this before display_info\n",
      "disaply_info ran with argumetns (John 25)\n"
     ]
    }
   ],
   "source": [
    "class decorator_class(object):\n",
    "    def __init__(self, original_func):\n",
    "        self.original_func=original_func\n",
    "        \n",
    "    def __call__(self, *args, **kwargs):\n",
    "        print('call method execute this before {}'.format(self.original_func.__name__))\n",
    "        return self.original_func(*args, **kwargs)\n",
    "\n",
    "    \n",
    "    \n",
    "@decorator_class\n",
    "def display_info(name, age):\n",
    "    print('disaply_info ran with argumetns ({} {})'.format(name, age))\n",
    "    \n",
    "display_info('John', 25)"
   ]
  },
  {
   "cell_type": "code",
   "execution_count": 20,
   "id": "69e33178",
   "metadata": {},
   "outputs": [
    {
     "name": "stdout",
     "output_type": "stream",
     "text": [
      "display_info ran with argumetns (John, 25)\n",
      "display_info ran in: 1.004129409790039sec\n"
     ]
    }
   ],
   "source": [
    "from functools import wraps\n",
    "import time\n",
    "\n",
    "\n",
    "def my_logger(original_func):\n",
    "    import logging\n",
    "    logging.basicConfig(filename=f'{original_func.__name__}.log', level=logging.INFO)\n",
    "    \n",
    "    @wraps(original_func)\n",
    "    def wrapper(*args, **kwargs):\n",
    "        logging.info('Ran with args:{}, and kwargs:{}'.format(args, kwargs))\n",
    "        return original_func(*args, **kwargs)\n",
    "    return wrapper\n",
    "\n",
    "\n",
    "def my_timer(original_func):\n",
    "    import time\n",
    "    \n",
    "    @wraps(original_func)\n",
    "    def wrapper(*args, **kwargs):\n",
    "        t1=time.time()\n",
    "        result=original_func(*args, **kwargs)\n",
    "        t2=time.time()-t1\n",
    "        print(f'{original_func.__name__} ran in: {t2}sec')\n",
    "        \n",
    "        return result\n",
    "    return wrapper\n",
    "\n",
    "@my_logger\n",
    "@my_timer\n",
    "def display_info(name, age):\n",
    "    time.sleep(1)\n",
    "    print(f'display_info ran with argumetns ({name}, {age})')\n",
    "    \n",
    "\n",
    "    \n",
    "display_info('John', 25)"
   ]
  },
  {
   "cell_type": "code",
   "execution_count": null,
   "id": "9b66a6fc",
   "metadata": {},
   "outputs": [],
   "source": []
  },
  {
   "cell_type": "code",
   "execution_count": null,
   "id": "e6214a48",
   "metadata": {},
   "outputs": [],
   "source": []
  },
  {
   "cell_type": "code",
   "execution_count": null,
   "id": "013c3c9d",
   "metadata": {},
   "outputs": [],
   "source": []
  }
 ],
 "metadata": {
  "kernelspec": {
   "display_name": "Python 3",
   "language": "python",
   "name": "python3"
  },
  "language_info": {
   "codemirror_mode": {
    "name": "ipython",
    "version": 3
   },
   "file_extension": ".py",
   "mimetype": "text/x-python",
   "name": "python",
   "nbconvert_exporter": "python",
   "pygments_lexer": "ipython3",
   "version": "3.7.13"
  }
 },
 "nbformat": 4,
 "nbformat_minor": 5
}
