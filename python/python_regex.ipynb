{
 "cells": [
  {
   "cell_type": "markdown",
   "id": "85c6dd34",
   "metadata": {},
   "source": [
    "# Regular Expression in Python"
   ]
  },
  {
   "cell_type": "markdown",
   "id": "b7e1216b",
   "metadata": {},
   "source": [
    "<h3 style='color:blue'> Use raw string to define a regex</h3>\n",
    "\n",
    "- As you may already know, the backslash has a special meaning in some cases because it may indicate an escape character or escape sequence. To avoid that always use a raw string.\n",
    "\n",
    "- For example, let's say that in Python we are defining a string that is actually a path to an exercise folder like this `path = \"c:\\example\\task\\new\"`.\n",
    "\n",
    "- So 'r' means that we are going to use all the special sequences, metacharactes and other options, which are provided 're' library\n",
    "\n",
    "[python_regex](https://pynative.com/python/regex/)"
   ]
  },
  {
   "cell_type": "code",
   "execution_count": 6,
   "id": "34548b0b",
   "metadata": {},
   "outputs": [
    {
     "name": "stdout",
     "output_type": "stream",
     "text": [
      "without raw string:\n"
     ]
    }
   ],
   "source": [
    "import re\n",
    "\n",
    "print(\"without raw string:\")\n",
    "\n",
    "# path_to_search = \"c:\\example\\task\\new\"\n",
    "target_string = r\"c:\\example\\task\\new\\exercises\\session1\" # this is target sequence, just put r in front of it which tells\n",
    "# it is what it is"
   ]
  },
  {
   "cell_type": "markdown",
   "id": "ffa285fa",
   "metadata": {},
   "source": [
    "**But when creating regex pattern, `\\t` and `\\n` have their own special meanings so we need to escape the special meaning of `\\` by adding another `\\` in front of them but our program doesn't tell the `\\` is being escaped by another `\\` \n",
    "so to tell the program clearly we put `r` so the program knows that we are using regex to escape the `\\` using another`\\`, by regex the special meaning of `\\` can be escaped by another `\\`**"
   ]
  },
  {
   "cell_type": "code",
   "execution_count": 10,
   "id": "24e541bf",
   "metadata": {
    "scrolled": false
   },
   "outputs": [
    {
     "ename": "error",
     "evalue": "bad escape \\e at position 3",
     "output_type": "error",
     "traceback": [
      "\u001b[1;31m---------------------------------------------------------------------------\u001b[0m",
      "\u001b[1;31merror\u001b[0m                                     Traceback (most recent call last)",
      "Input \u001b[1;32mIn [10]\u001b[0m, in \u001b[0;36m<cell line: 10>\u001b[1;34m()\u001b[0m\n\u001b[0;32m      5\u001b[0m pattern \u001b[38;5;241m=\u001b[39m \u001b[38;5;124m\"\u001b[39m\u001b[38;5;124m^c:\u001b[39m\u001b[38;5;130;01m\\\\\u001b[39;00m\u001b[38;5;124mexample\u001b[39m\u001b[38;5;130;01m\\\\\u001b[39;00m\u001b[38;5;124mtask\u001b[39m\u001b[38;5;130;01m\\\\\u001b[39;00m\u001b[38;5;124mnew\u001b[39m\u001b[38;5;124m\"\u001b[39m\n\u001b[0;32m      7\u001b[0m \u001b[38;5;66;03m# \\n and \\t has a special meaning in Python\u001b[39;00m\n\u001b[0;32m      8\u001b[0m \u001b[38;5;66;03m# Python will treat them differently\u001b[39;00m\n\u001b[1;32m---> 10\u001b[0m res \u001b[38;5;241m=\u001b[39m \u001b[43mre\u001b[49m\u001b[38;5;241;43m.\u001b[39;49m\u001b[43msearch\u001b[49m\u001b[43m(\u001b[49m\u001b[43mpattern\u001b[49m\u001b[43m,\u001b[49m\u001b[43m \u001b[49m\u001b[43mtarget_string\u001b[49m\u001b[43m)\u001b[49m\n\u001b[0;32m     11\u001b[0m \u001b[38;5;28mprint\u001b[39m(res\u001b[38;5;241m.\u001b[39mgroup())\n",
      "File \u001b[1;32m~\\Anaconda3\\lib\\re.py:201\u001b[0m, in \u001b[0;36msearch\u001b[1;34m(pattern, string, flags)\u001b[0m\n\u001b[0;32m    198\u001b[0m \u001b[38;5;28;01mdef\u001b[39;00m \u001b[38;5;21msearch\u001b[39m(pattern, string, flags\u001b[38;5;241m=\u001b[39m\u001b[38;5;241m0\u001b[39m):\n\u001b[0;32m    199\u001b[0m     \u001b[38;5;124;03m\"\"\"Scan through string looking for a match to the pattern, returning\u001b[39;00m\n\u001b[0;32m    200\u001b[0m \u001b[38;5;124;03m    a Match object, or None if no match was found.\"\"\"\u001b[39;00m\n\u001b[1;32m--> 201\u001b[0m     \u001b[38;5;28;01mreturn\u001b[39;00m \u001b[43m_compile\u001b[49m\u001b[43m(\u001b[49m\u001b[43mpattern\u001b[49m\u001b[43m,\u001b[49m\u001b[43m \u001b[49m\u001b[43mflags\u001b[49m\u001b[43m)\u001b[49m\u001b[38;5;241m.\u001b[39msearch(string)\n",
      "File \u001b[1;32m~\\Anaconda3\\lib\\re.py:304\u001b[0m, in \u001b[0;36m_compile\u001b[1;34m(pattern, flags)\u001b[0m\n\u001b[0;32m    302\u001b[0m \u001b[38;5;28;01mif\u001b[39;00m \u001b[38;5;129;01mnot\u001b[39;00m sre_compile\u001b[38;5;241m.\u001b[39misstring(pattern):\n\u001b[0;32m    303\u001b[0m     \u001b[38;5;28;01mraise\u001b[39;00m \u001b[38;5;167;01mTypeError\u001b[39;00m(\u001b[38;5;124m\"\u001b[39m\u001b[38;5;124mfirst argument must be string or compiled pattern\u001b[39m\u001b[38;5;124m\"\u001b[39m)\n\u001b[1;32m--> 304\u001b[0m p \u001b[38;5;241m=\u001b[39m \u001b[43msre_compile\u001b[49m\u001b[38;5;241;43m.\u001b[39;49m\u001b[43mcompile\u001b[49m\u001b[43m(\u001b[49m\u001b[43mpattern\u001b[49m\u001b[43m,\u001b[49m\u001b[43m \u001b[49m\u001b[43mflags\u001b[49m\u001b[43m)\u001b[49m\n\u001b[0;32m    305\u001b[0m \u001b[38;5;28;01mif\u001b[39;00m \u001b[38;5;129;01mnot\u001b[39;00m (flags \u001b[38;5;241m&\u001b[39m DEBUG):\n\u001b[0;32m    306\u001b[0m     \u001b[38;5;28;01mif\u001b[39;00m \u001b[38;5;28mlen\u001b[39m(_cache) \u001b[38;5;241m>\u001b[39m\u001b[38;5;241m=\u001b[39m _MAXCACHE:\n\u001b[0;32m    307\u001b[0m         \u001b[38;5;66;03m# Drop the oldest item\u001b[39;00m\n",
      "File \u001b[1;32m~\\Anaconda3\\lib\\sre_compile.py:764\u001b[0m, in \u001b[0;36mcompile\u001b[1;34m(p, flags)\u001b[0m\n\u001b[0;32m    762\u001b[0m \u001b[38;5;28;01mif\u001b[39;00m isstring(p):\n\u001b[0;32m    763\u001b[0m     pattern \u001b[38;5;241m=\u001b[39m p\n\u001b[1;32m--> 764\u001b[0m     p \u001b[38;5;241m=\u001b[39m \u001b[43msre_parse\u001b[49m\u001b[38;5;241;43m.\u001b[39;49m\u001b[43mparse\u001b[49m\u001b[43m(\u001b[49m\u001b[43mp\u001b[49m\u001b[43m,\u001b[49m\u001b[43m \u001b[49m\u001b[43mflags\u001b[49m\u001b[43m)\u001b[49m\n\u001b[0;32m    765\u001b[0m \u001b[38;5;28;01melse\u001b[39;00m:\n\u001b[0;32m    766\u001b[0m     pattern \u001b[38;5;241m=\u001b[39m \u001b[38;5;28;01mNone\u001b[39;00m\n",
      "File \u001b[1;32m~\\Anaconda3\\lib\\sre_parse.py:950\u001b[0m, in \u001b[0;36mparse\u001b[1;34m(str, flags, state)\u001b[0m\n\u001b[0;32m    947\u001b[0m state\u001b[38;5;241m.\u001b[39mstr \u001b[38;5;241m=\u001b[39m \u001b[38;5;28mstr\u001b[39m\n\u001b[0;32m    949\u001b[0m \u001b[38;5;28;01mtry\u001b[39;00m:\n\u001b[1;32m--> 950\u001b[0m     p \u001b[38;5;241m=\u001b[39m \u001b[43m_parse_sub\u001b[49m\u001b[43m(\u001b[49m\u001b[43msource\u001b[49m\u001b[43m,\u001b[49m\u001b[43m \u001b[49m\u001b[43mstate\u001b[49m\u001b[43m,\u001b[49m\u001b[43m \u001b[49m\u001b[43mflags\u001b[49m\u001b[43m \u001b[49m\u001b[38;5;241;43m&\u001b[39;49m\u001b[43m \u001b[49m\u001b[43mSRE_FLAG_VERBOSE\u001b[49m\u001b[43m,\u001b[49m\u001b[43m \u001b[49m\u001b[38;5;241;43m0\u001b[39;49m\u001b[43m)\u001b[49m\n\u001b[0;32m    951\u001b[0m \u001b[38;5;28;01mexcept\u001b[39;00m Verbose:\n\u001b[0;32m    952\u001b[0m     \u001b[38;5;66;03m# the VERBOSE flag was switched on inside the pattern.  to be\u001b[39;00m\n\u001b[0;32m    953\u001b[0m     \u001b[38;5;66;03m# on the safe side, we'll parse the whole thing again...\u001b[39;00m\n\u001b[0;32m    954\u001b[0m     state \u001b[38;5;241m=\u001b[39m State()\n",
      "File \u001b[1;32m~\\Anaconda3\\lib\\sre_parse.py:443\u001b[0m, in \u001b[0;36m_parse_sub\u001b[1;34m(source, state, verbose, nested)\u001b[0m\n\u001b[0;32m    441\u001b[0m start \u001b[38;5;241m=\u001b[39m source\u001b[38;5;241m.\u001b[39mtell()\n\u001b[0;32m    442\u001b[0m \u001b[38;5;28;01mwhile\u001b[39;00m \u001b[38;5;28;01mTrue\u001b[39;00m:\n\u001b[1;32m--> 443\u001b[0m     itemsappend(\u001b[43m_parse\u001b[49m\u001b[43m(\u001b[49m\u001b[43msource\u001b[49m\u001b[43m,\u001b[49m\u001b[43m \u001b[49m\u001b[43mstate\u001b[49m\u001b[43m,\u001b[49m\u001b[43m \u001b[49m\u001b[43mverbose\u001b[49m\u001b[43m,\u001b[49m\u001b[43m \u001b[49m\u001b[43mnested\u001b[49m\u001b[43m \u001b[49m\u001b[38;5;241;43m+\u001b[39;49m\u001b[43m \u001b[49m\u001b[38;5;241;43m1\u001b[39;49m\u001b[43m,\u001b[49m\n\u001b[0;32m    444\u001b[0m \u001b[43m                       \u001b[49m\u001b[38;5;129;43;01mnot\u001b[39;49;00m\u001b[43m \u001b[49m\u001b[43mnested\u001b[49m\u001b[43m \u001b[49m\u001b[38;5;129;43;01mand\u001b[39;49;00m\u001b[43m \u001b[49m\u001b[38;5;129;43;01mnot\u001b[39;49;00m\u001b[43m \u001b[49m\u001b[43mitems\u001b[49m\u001b[43m)\u001b[49m)\n\u001b[0;32m    445\u001b[0m     \u001b[38;5;28;01mif\u001b[39;00m \u001b[38;5;129;01mnot\u001b[39;00m sourcematch(\u001b[38;5;124m\"\u001b[39m\u001b[38;5;124m|\u001b[39m\u001b[38;5;124m\"\u001b[39m):\n\u001b[0;32m    446\u001b[0m         \u001b[38;5;28;01mbreak\u001b[39;00m\n",
      "File \u001b[1;32m~\\Anaconda3\\lib\\sre_parse.py:525\u001b[0m, in \u001b[0;36m_parse\u001b[1;34m(source, state, verbose, nested, first)\u001b[0m\n\u001b[0;32m    522\u001b[0m         \u001b[38;5;28;01mcontinue\u001b[39;00m\n\u001b[0;32m    524\u001b[0m \u001b[38;5;28;01mif\u001b[39;00m this[\u001b[38;5;241m0\u001b[39m] \u001b[38;5;241m==\u001b[39m \u001b[38;5;124m\"\u001b[39m\u001b[38;5;130;01m\\\\\u001b[39;00m\u001b[38;5;124m\"\u001b[39m:\n\u001b[1;32m--> 525\u001b[0m     code \u001b[38;5;241m=\u001b[39m \u001b[43m_escape\u001b[49m\u001b[43m(\u001b[49m\u001b[43msource\u001b[49m\u001b[43m,\u001b[49m\u001b[43m \u001b[49m\u001b[43mthis\u001b[49m\u001b[43m,\u001b[49m\u001b[43m \u001b[49m\u001b[43mstate\u001b[49m\u001b[43m)\u001b[49m\n\u001b[0;32m    526\u001b[0m     subpatternappend(code)\n\u001b[0;32m    528\u001b[0m \u001b[38;5;28;01melif\u001b[39;00m this \u001b[38;5;129;01mnot\u001b[39;00m \u001b[38;5;129;01min\u001b[39;00m SPECIAL_CHARS:\n",
      "File \u001b[1;32m~\\Anaconda3\\lib\\sre_parse.py:426\u001b[0m, in \u001b[0;36m_escape\u001b[1;34m(source, escape, state)\u001b[0m\n\u001b[0;32m    424\u001b[0m     \u001b[38;5;28;01mif\u001b[39;00m \u001b[38;5;28mlen\u001b[39m(escape) \u001b[38;5;241m==\u001b[39m \u001b[38;5;241m2\u001b[39m:\n\u001b[0;32m    425\u001b[0m         \u001b[38;5;28;01mif\u001b[39;00m c \u001b[38;5;129;01min\u001b[39;00m ASCIILETTERS:\n\u001b[1;32m--> 426\u001b[0m             \u001b[38;5;28;01mraise\u001b[39;00m source\u001b[38;5;241m.\u001b[39merror(\u001b[38;5;124m\"\u001b[39m\u001b[38;5;124mbad escape \u001b[39m\u001b[38;5;132;01m%s\u001b[39;00m\u001b[38;5;124m\"\u001b[39m \u001b[38;5;241m%\u001b[39m escape, \u001b[38;5;28mlen\u001b[39m(escape))\n\u001b[0;32m    427\u001b[0m         \u001b[38;5;28;01mreturn\u001b[39;00m LITERAL, \u001b[38;5;28mord\u001b[39m(escape[\u001b[38;5;241m1\u001b[39m])\n\u001b[0;32m    428\u001b[0m \u001b[38;5;28;01mexcept\u001b[39;00m \u001b[38;5;167;01mValueError\u001b[39;00m:\n",
      "\u001b[1;31merror\u001b[0m: bad escape \\e at position 3"
     ]
    }
   ],
   "source": [
    "\n",
    "\n",
    "pattern = \"^c:\\\\example\\\\task\\\\new\"\n",
    "\n",
    "# \\n and \\t has a special meaning in Python\n",
    "# Python will treat them differently\n",
    "\n",
    "res = re.search(pattern, target_string)\n",
    "print(res.group())"
   ]
  },
  {
   "cell_type": "markdown",
   "id": "22ff6fb6",
   "metadata": {},
   "source": [
    "Notice that inside the pattern we have two escape characters `\\t` and `\\n`. If you execute the above code you will the re.error: bad escape error because `\\`n and `\\t`has a special meaning in Python.\n",
    "\n",
    "To avoid such issues, always write a regex pattern using a raw string. The character r denotes the raw string.\n",
    "\n",
    "Now replace the existing pattern with `pattern = r\"^c:\\\\example\\\\task\\\\new\"` and execute our code again. Now you can get the following output."
   ]
  },
  {
   "cell_type": "code",
   "execution_count": 9,
   "id": "8d342b4b",
   "metadata": {},
   "outputs": [
    {
     "name": "stdout",
     "output_type": "stream",
     "text": [
      "c:\\example\\task\\new\n"
     ]
    }
   ],
   "source": [
    "pattern = r\"^c:\\\\example\\\\task\\\\new\"\n",
    "\n",
    "res = re.search(pattern, target_string)\n",
    "print(res.group())"
   ]
  },
  {
   "cell_type": "markdown",
   "id": "69a779cb",
   "metadata": {},
   "source": [
    "### Python regex methods\n",
    "\n",
    "|Method|Description|\n",
    "|:--|:--|\n",
    "|re.compile('pattern')\t|Compile a regular expression pattern provided as a string into a re.Pattern object.|\n",
    "|re.search(pattern, str)\t|Search for occurrences of the regex pattern inside the target string and return **only the first match.**|\n",
    "|re.match(pattern, str)|Try to match the regex pattern **at the start of the string.** It returns a match only if the pattern is located at the beginning of the string.|\n",
    "|re.fullmatch(pattern, str)\t|Match the regular expression pattern to the entire string from the first to the last character.|\n",
    "|re.findall(pattern, str)|Scans the regex pattern through the entire string and **returns all matches.**|\n",
    "|re.finditer(pattern, str)|Scans the regex pattern through the entire string and returns an iterator yielding match objects.|\n",
    "|re.split(pattern, str)|It breaks a string into a list of matches as per the given regular expression pattern.|\n",
    "|re.sub(pattern, replacement, str)|Replace one or more occurrences of a pattern in the string with a replacement.|\n",
    "|re.subn(pattern, replacement, str)|Same as re.sub(). The difference is it will return a tuple of two elements. First, a new string after all replacement, and second the number of replacements it has made.|\n"
   ]
  },
  {
   "cell_type": "markdown",
   "id": "4de62732",
   "metadata": {},
   "source": [
    "### How to use regular expression in Python"
   ]
  },
  {
   "cell_type": "code",
   "execution_count": 12,
   "id": "e69adb37",
   "metadata": {},
   "outputs": [
    {
     "name": "stdout",
     "output_type": "stream",
     "text": [
      "J\n",
      "8\n",
      "['8', '0', '0', '0']\n",
      "All tokens: ['Jessa', 'salary', 'is', '8000$']\n",
      "Jessa-salary-is-8000$\n"
     ]
    }
   ],
   "source": [
    "import re\n",
    "\n",
    "target_string = \"Jessa salary is 8000$\"\n",
    "\n",
    "# compile regex pattern , pattern to match any character\n",
    "str_pattern = r\"\\w\"\n",
    "pattern = re.compile(str_pattern)\n",
    "\n",
    "# match regex pattern at start of the string\n",
    "res = pattern.match(target_string)\n",
    "# match character\n",
    "print(res.group())  \n",
    "\n",
    "# search regex pattern anywhere inside string pattern to search any digit\n",
    "res = re.search(r\"\\d\", target_string)\n",
    "print(res.group())\n",
    "\n",
    "# pattern to find all digits\n",
    "res = re.findall(r\"\\d\", target_string)\n",
    "print(res)  \n",
    "\n",
    "# regex to split string on whitespaces\n",
    "res = re.split(r\"\\s\", target_string)\n",
    "print(\"All tokens:\", res)\n",
    "\n",
    "# regex for replacement, replace space with hyphen\n",
    "res = re.sub(r\"\\s\", \"-\", target_string)\n",
    "\n",
    "# string after replacement:\n",
    "print(res)"
   ]
  },
  {
   "cell_type": "markdown",
   "id": "4b5cc428",
   "metadata": {},
   "source": [
    "### The Match object methods\n",
    "\n",
    "|Method|\tMeaning|\n",
    "|:--|:--|\n",
    "|group()|\tReturn the string matched by the regex pattern. |\n",
    "|groups()|\tReturns a tuple containing the strings for all matched subgroups.|\n",
    "|start()\t|Return the start position of the match.|\n",
    "|end()\t|Return the end position of the match.|\n",
    "|span()\t|Return a tuple containing the (start, end) positions of the match.|"
   ]
  },
  {
   "cell_type": "markdown",
   "id": "7de7731a",
   "metadata": {},
   "source": [
    "### Regex Metacharacters\n",
    "\n",
    "|Metacharacter|\tDescription|\n",
    "|:--|:--|\n",
    "|. (DOT)|\tMatches any character except a newline.|\n",
    "|^ (Caret)|\tMatches pattern only at the start of the string.|\n",
    "|$ (Dollar)|\tMatches pattern at the end of the string.|\n",
    "|* (asterisk)|\tMatches 0 or more repetitions of the regex.|\n",
    "|+ (Plus)|\tMatch 1 or more repetitions of the regex.|\n",
    "|? (Question mark)|\tMatch 0 or 1 repetition of the regex.|\n",
    "|[] (Square brackets)|\tUsed to indicate a set of characters. Matches any single character in brackets. For example, [abc] will match either a, or, b, or c character.|\n",
    "|\\| (Pipe)|\tUsed to specify multiple patterns. For example, P1\\|P2, where P1 and P2 are two different regexes.|\n",
    "|\\ (backslash)|\tUse to escape special characters or signals a special sequence. For example, If you are searching for one of the special characters you can use a \\ to escape them.|\n",
    "|[^...]|\tMatches any single character not in brackets.|\n",
    "|(...)|\tMatches whatever regular expression is inside the parentheses. For example, (abc) will match to substring 'abc'|"
   ]
  },
  {
   "cell_type": "markdown",
   "id": "3fd2005e",
   "metadata": {},
   "source": [
    "### Regex special sequences (a.k.a. Character Classes)\n",
    "\n",
    "|Special Sequence|\tMeaning|\n",
    "|:--|:--|\n",
    "|\\A|\tMatches pattern only at the start of the string.|\n",
    "|\\Z|\tMatches pattern only at the end of the string.|\n",
    "|\\d|\tMatches to any digit. Short for character classes [0-9].|\n",
    "|\\D|\tMatches to any non-digit. short for [^0-9]|.\n",
    "|\\s|\tMatches any whitespace character. short for character class [ \\t\\n\\x0b\\r\\f].|\n",
    "|\\S|\tMatches any non-whitespace character. Short for [^ \\t\\n\\x0b\\r\\f].|\n",
    "|\\w\t|Matches any alphanumeric character. Short for character class [a-zA-Z_0-9].|\n",
    "|\\W|\tMatches any non-alphanumeric character. Short for [^a-zA-Z_0-9]|\n",
    "|\\b|\tMatches the empty string, but only at the beginning or end of a word. Matches a word boundary where a word character is [a-zA-Z0-9_]. For example, '\\bJessa\\b' matches 'Jessa', 'Jessa.', '(Jessa)', 'Jessa Emma Kelly' but not 'JessaKelly' or 'Jessa5'.|\n",
    "|\\B|\tOpposite of a \\b. Matches the empty string, but only when it is not at the beginning or end of a word|"
   ]
  },
  {
   "cell_type": "markdown",
   "id": "436ff14e",
   "metadata": {},
   "source": [
    "### Regex Quantifiers\n",
    "\n",
    "|Quantifier|\tMeaning|\n",
    "|:--|:--|\n",
    "|\\*|\tMatch 0 or more repetitions of the preceding regex. For example, a* matches any string that contains zero or more occurrences of 'a'.|\n",
    "|\\+\t|Match 1 or more repetitions of the preceding regex. For example, a+ matches any string that contains at least one a, i.e., a, aa, aaa, or any number of a's.|\n",
    "|?|Match 0 or 1 repetition of the preceding regex. For example, a? matches any string that contains zero or one occurrence of a.|\n",
    "|{2}|Matches only 2 copies of the preceding regex. For example, p{3} matches exactly three 'p' characters, but not four.|\n",
    "|{2, 4}|Match 2 to 4 repetitions of the preceding regex. For example, a{2,4} matches any string that contains 2, 3 to 4 'a' characters.|\n",
    "|{3,}|Matches minimum 3 copies of the preceding regex. It will try to match as many repetitions as possible. For example, p{3,} matches a minimum of three 'p' characters.|\n"
   ]
  },
  {
   "cell_type": "markdown",
   "id": "9a9cf5b8",
   "metadata": {},
   "source": [
    "### Regex flags\n",
    "|Flag|\tlong syntax\tMeaning|\n",
    "|:--|:--|\n",
    "|`re.A`\tre.ASCII|Perform ASCII-only matching instead of full Unicode matching.|\n",
    "|`re.I`  \tre.IGNORECASE|Perform case-insensitive matching.|\n",
    "|`re.M`\tre.MULTILINE|This flag is used with metacharacter ^ (caret) and \\\\$ (dollar). When this flag is specified, the metacharacter ^ matches the pattern at beginning of the string and each newline’s beginning (\\\\n). And the metacharacter \\$ matches pattern at the end of the string and the end of each new line (\\n)|\n",
    "|`re.S`\tre.DOTALL|Make the DOT (.) special character match any character at all, including a newline. Without this flag, DOT(.) will match anything except a newline.|\n",
    "|`re.X`\tre.VERBOSE|Allow comment in the regex. This flag is useful to make regex more readable by allowing comments in the regex.|\n",
    "|`re.L` re.LOCALE|Perform case-insensitive matching dependent on the current locale. Use only with bytes patterns.|\n",
    "\n",
    "- To specify more than one flag, use the | operator to connect them.\n",
    "\n",
    "```python\n",
    "re.findall(pattern, string, flags=re.I|re.M|re.X)\n",
    "```\n"
   ]
  },
  {
   "cell_type": "markdown",
   "id": "3aaa2819",
   "metadata": {},
   "source": [
    "# re.match()\n",
    "\n",
    "<img src='python-regex-match.jpg' style='width: 600px'>"
   ]
  },
  {
   "cell_type": "code",
   "execution_count": null,
   "id": "2b533839",
   "metadata": {},
   "outputs": [],
   "source": []
  },
  {
   "cell_type": "code",
   "execution_count": null,
   "id": "68eb4936",
   "metadata": {},
   "outputs": [],
   "source": []
  },
  {
   "cell_type": "code",
   "execution_count": null,
   "id": "8a523079",
   "metadata": {},
   "outputs": [],
   "source": []
  },
  {
   "cell_type": "code",
   "execution_count": null,
   "id": "1b6c3720",
   "metadata": {},
   "outputs": [],
   "source": []
  },
  {
   "cell_type": "code",
   "execution_count": null,
   "id": "fad67b99",
   "metadata": {},
   "outputs": [],
   "source": []
  },
  {
   "cell_type": "markdown",
   "id": "150ebf10",
   "metadata": {},
   "source": [
    "# re.compile()\n",
    "\n",
    "Python’s re.compile() method is used to compile a regular expression pattern provided as a string into a regex pattern object (re.Pattern). Later we can use this pattern object to search for a match inside different target strings using regex methods such as a re.match() or re.search().\n",
    "\n",
    "```python\n",
    "re.compile(pattern, flags=0)\n",
    "```\n",
    "\n",
    "<img src='python-regex-compile.jpg' style='width:600px'>"
   ]
  },
  {
   "cell_type": "markdown",
   "id": "43589df3",
   "metadata": {},
   "source": [
    "```python\n",
    "pattern= re.compile(\"str_pattern\")\n",
    "result = pattern.match(string)\n",
    "```\n",
    "\n",
    "above is equal to below\n",
    "\n",
    "```python\n",
    "result = re.match(\"str_pattern\", string)\n",
    "```\n",
    "\n",
    "#### Is it worth using Python’s re.compile()?\n",
    "**But compiling regex is useful for the following situations.**\n",
    "\n",
    "- It denotes that the compiled regular expressions will be used a lot and is not meant to be removed.\n",
    "- By compiling once and re-using the same regex multiple times, we reduce the possibility of typos.\n",
    "- When you are using lots of different regexes, you should keep your compiled expressions for those which are used multiple times, so they’re not flushed out of the regex cache when the cache is full."
   ]
  },
  {
   "cell_type": "markdown",
   "id": "22755e23",
   "metadata": {},
   "source": [
    "**Match regex pattern at the beginning of the string**"
   ]
  },
  {
   "cell_type": "code",
   "execution_count": null,
   "id": "9ecde39c",
   "metadata": {},
   "outputs": [],
   "source": [
    "import re\n",
    "\n",
    "target_string = \"Emma is a basketball player who was born on June 17\"\n",
    "result = re.match(r\"\\w{4}\", target_string) #\n",
    "\n",
    "print(\"Match object: \", result)\n",
    "\n",
    "#Extract match value\n",
    "print(\"Match value: \", result.group())y"
   ]
  },
  {
   "cell_type": "markdown",
   "id": "331716d4",
   "metadata": {},
   "source": [
    "**Match regex pattern anywhere in the string**"
   ]
  },
  {
   "cell_type": "code",
   "execution_count": 14,
   "id": "3e708056",
   "metadata": {},
   "outputs": [
    {
     "name": "stdout",
     "output_type": "stream",
     "text": [
      "None\n",
      "Python\n",
      "['Python', 'pandas']\n"
     ]
    }
   ],
   "source": [
    "target_string = \"Jessa loves Python and pandas\"\n",
    "\n",
    "# Match six-letter word\n",
    "pattern = r\"\\w{6}\"\n",
    "\n",
    "result = re.match(pattern, target_string)\n",
    "print(result)\n",
    "\n",
    "# search() method\n",
    "result = re.search(pattern, target_string)\n",
    "print(result.group()) \n",
    "\n",
    "# findall() method\n",
    "result = re.findall(pattern, target_string)\n",
    "print(result) \n"
   ]
  },
  {
   "cell_type": "markdown",
   "id": "d4497ac8",
   "metadata": {},
   "source": [
    "**Match regex at the end of the string**"
   ]
  },
  {
   "cell_type": "code",
   "execution_count": 15,
   "id": "69912a73",
   "metadata": {},
   "outputs": [
    {
     "name": "stdout",
     "output_type": "stream",
     "text": [
      "Matching number:  1993\n"
     ]
    }
   ],
   "source": [
    "target_string = \"Emma is a basketball player who was born on June 17, 1993\"\n",
    "\n",
    "# match at the end\n",
    "result = re.search(r\"\\d{4}$\", target_string)\n",
    "print(\"Matching number: \", result.group())  "
   ]
  },
  {
   "cell_type": "markdown",
   "id": "b2841229",
   "metadata": {},
   "source": [
    "**Match the exact word or string**"
   ]
  },
  {
   "cell_type": "code",
   "execution_count": 16,
   "id": "11c7a634",
   "metadata": {},
   "outputs": [
    {
     "name": "stdout",
     "output_type": "stream",
     "text": [
      "Matching string literal:  ['player']\n"
     ]
    }
   ],
   "source": [
    "target_string = \"Emma is a basketball player who was born on June 17\"\n",
    "\n",
    "result = re.findall(r\"player\", target_string)\n",
    "print(\"Matching string literal: \", result) "
   ]
  },
  {
   "cell_type": "markdown",
   "id": "43ba045e",
   "metadata": {},
   "source": [
    "**Understand the Match object**\n",
    "\n",
    "As you know, the `match()` and `search()` method returns a re.Match object if a match found. Let’s see the structure of a re.Match object.\n",
    "\n",
    "<img src='python-regex-match_object.jpg' style='width:600px'>\n"
   ]
  },
  {
   "cell_type": "code",
   "execution_count": 18,
   "id": "96a3ed3e",
   "metadata": {},
   "outputs": [
    {
     "name": "stdout",
     "output_type": "stream",
     "text": [
      "<re.Match object; span=(0, 5), match='Jessa'>\n",
      "Jessa\n",
      "0\n",
      "End index:  5\n",
      "(0, 5)\n",
      "Jessa\n"
     ]
    }
   ],
   "source": [
    "target_string = \"Jessa and Kelly\"\n",
    "\n",
    "# Match five-letter word\n",
    "res = re.match(r\"\\b\\w{5}\\b\", target_string)\n",
    "\n",
    "# printing entire match object\n",
    "print(res)\n",
    "\n",
    "# Extract Matching value\n",
    "print(res.group())\n",
    "\n",
    "# Start index of a match\n",
    "print(res.start())\n",
    "\n",
    "# End index of a match\n",
    "print(\"End index: \", res.end()) \n",
    "\n",
    "# Start and end index of a match\n",
    "pos = res.span()\n",
    "print(pos)\n",
    "\n",
    "# Use span to retrieve the matching string\n",
    "print(target_string[pos[0]:pos[1]])"
   ]
  },
  {
   "cell_type": "markdown",
   "id": "c255730b",
   "metadata": {},
   "source": [
    "**Match regex pattern that starts and ends with the given text**"
   ]
  },
  {
   "cell_type": "code",
   "execution_count": 19,
   "id": "d09f1190",
   "metadata": {},
   "outputs": [
    {
     "name": "stdout",
     "output_type": "stream",
     "text": [
      "PYnative is for Python developers\n",
      "None\n"
     ]
    }
   ],
   "source": [
    "import re\n",
    "\n",
    "# string starts with letter 'p' ends with letter 's'\n",
    "def starts_ends_with(str1):\n",
    "    res = re.match(r'^(P).*(s)$', str1)\n",
    "    if res:\n",
    "        print(res.group())\n",
    "    else:\n",
    "        print('None')\n",
    "\n",
    "str1 = \"PYnative is for Python developers\"\n",
    "starts_ends_with(str1)\n",
    "\n",
    "str2 = \"PYnative is for Python\"\n",
    "starts_ends_with(str2)"
   ]
  },
  {
   "cell_type": "markdown",
   "id": "1122c5b2",
   "metadata": {},
   "source": [
    "**More matching operations**"
   ]
  },
  {
   "cell_type": "code",
   "execution_count": 21,
   "id": "6e67850e",
   "metadata": {},
   "outputs": [
    {
     "name": "stdout",
     "output_type": "stream",
     "text": [
      "<re.Match object; span=(0, 1), match='E'>\n",
      "['1', '2', '2', '5']\n",
      "['12', '25']\n",
      "[' ', '#', '!', '@', '#', '$', '%']\n"
     ]
    }
   ],
   "source": [
    "str1 = \"Emma 12 25\"\n",
    "\n",
    "# Match any character\n",
    "print(re.match(r'.', str1))\n",
    "\n",
    "# Match all digits\n",
    "print(re.findall(r'\\d', str1))\n",
    "\n",
    "# Match all numbers\n",
    "# + indicate 1 or more occurence of \\d\n",
    "print(re.findall(r'\\d+', str1))\n",
    "\n",
    "# Match all special characters and symbols\n",
    "str2 = \"Hello #Jessa!@#$%\"\n",
    "print(re.findall(r'\\W', str2))"
   ]
  },
  {
   "cell_type": "markdown",
   "id": "37a2b2e8",
   "metadata": {},
   "source": [
    "**Regex Search vs. match**\n",
    "\n",
    "- The match() checks for a match only at the beginning of the string; otherwise, it will return None.\n",
    "- The search() checks for a match anywhere in the string."
   ]
  },
  {
   "cell_type": "code",
   "execution_count": 22,
   "id": "693e6430",
   "metadata": {},
   "outputs": [
    {
     "name": "stdout",
     "output_type": "stream",
     "text": [
      "None\n",
      "17\n"
     ]
    }
   ],
   "source": [
    "target_string = \"Emma is a baseball player who was born on June 17, 1993\"\n",
    "\n",
    "# Match 2-digit number\n",
    "# Using match()\n",
    "result = re.match(r'\\d{2}', target_string)\n",
    "print(result)\n",
    "\n",
    "# Using search()\n",
    "result = re.search(r'\\d{2}', target_string)\n",
    "print(result.group())"
   ]
  },
  {
   "cell_type": "markdown",
   "id": "4a273f71",
   "metadata": {},
   "source": [
    "**The behavior of search vs. match with a multiline string**\n",
    "\n",
    "- We use the re.M flag with caret (^) metacharacter to match each regex pattern at each newline’s start. But you must note that even in MULTILINE mode, match() will only match at the beginning of the string and not at the beginning of each line.\n",
    "\n",
    "- On the other hand, the search method scans the entire multi-line string to look for a pattern and returns only the first match"
   ]
  },
  {
   "cell_type": "code",
   "execution_count": 24,
   "id": "9823bf66",
   "metadata": {},
   "outputs": [
    {
     "name": "stdout",
     "output_type": "stream",
     "text": [
      "emma\n",
      "None\n",
      "love\n",
      "None\n",
      "Python\n"
     ]
    }
   ],
   "source": [
    "multi_line_string = \"\"\"emma \n",
    "love Python\"\"\"\n",
    "\n",
    "# Matches at the start\n",
    "print(re.match('emma', multi_line_string).group())\n",
    "\n",
    "# re.match doesn't match at the start of each newline\n",
    "# It only match at the start of the string\n",
    "# Won't match\n",
    "print(re.match('love', multi_line_string, re.MULTILINE))\n",
    "\n",
    "# found \"love\" at start of newline\n",
    "print(re.search('love', multi_line_string).group())\n",
    "\n",
    "pattern = re.compile('Python$', re.MULTILINE)\n",
    "# No Match\n",
    "print(pattern.match(multi_line_string))\n",
    "\n",
    "# found 'Python\" at the end\n",
    "print(pattern.search(multi_line_string).group())"
   ]
  },
  {
   "cell_type": "markdown",
   "id": "84133688",
   "metadata": {},
   "source": [
    "**re.fullmatch()**\n",
    "\n",
    "- The re.fullmatch method returns a match object if and only if the *entire target string from the first to the last character matches the regular expression pattern.*"
   ]
  },
  {
   "cell_type": "code",
   "execution_count": 25,
   "id": "ea68e7f3",
   "metadata": {},
   "outputs": [
    {
     "name": "stdout",
     "output_type": "stream",
     "text": [
      "str1 length:  42\n",
      "<re.Match object; span=(0, 42), match='My name is maximums and my salary is 1000$'>\n",
      "Match:  My name is maximums and my salary is 1000$\n"
     ]
    }
   ],
   "source": [
    "# string length of 42\n",
    "str1 = \"My name is maximums and my salary is 1000$\"\n",
    "print(\"str1 length: \", len(str1))\n",
    "\n",
    "result = re.fullmatch(r\".{42}\", str1)\n",
    "\n",
    "# print entire match object\n",
    "print(result)\n",
    "\n",
    "# print actual match value\n",
    "print(\"Match: \", result.group())"
   ]
  },
  {
   "cell_type": "markdown",
   "id": "2c55cf07",
   "metadata": {},
   "source": [
    "# re.search()\n",
    "\n",
    "<img src=\"python-regex-search.jpg\" style=\"width:600px;\"/>"
   ]
  },
  {
   "cell_type": "markdown",
   "id": "a6e859b9",
   "metadata": {},
   "source": [
    "The re.search() returns only the first match to the pattern from the target string. Use a re.search() to search pattern anywhere in the string."
   ]
  },
  {
   "cell_type": "code",
   "execution_count": 26,
   "id": "e0ba979b",
   "metadata": {},
   "outputs": [
    {
     "name": "stdout",
     "output_type": "stream",
     "text": [
      "Match Object <re.Match object; span=(10, 18), match='baseball'>\n",
      "Matching word:  baseball\n"
     ]
    }
   ],
   "source": [
    "# Target String\n",
    "target_string = \"Emma is a baseball player who was born on June 17\"\n",
    "\n",
    "# search() for eight-letter word\n",
    "result = re.search(r\"\\w{8}\", target_string)\n",
    "\n",
    "# Print match object\n",
    "print(\"Match Object\", result)\n",
    "\n",
    "# print the matching word using group() method\n",
    "print(\"Matching word: \", result.group()) "
   ]
  },
  {
   "cell_type": "markdown",
   "id": "857a2ee5",
   "metadata": {},
   "source": [
    "**Regex search example find exact substring or word**"
   ]
  },
  {
   "cell_type": "code",
   "execution_count": 27,
   "id": "778e33d6",
   "metadata": {},
   "outputs": [
    {
     "name": "stdout",
     "output_type": "stream",
     "text": [
      "ball\n",
      "player\n"
     ]
    }
   ],
   "source": [
    "# Target String\n",
    "target_string = \"Emma is a baseball player who was born on June 17, 1993.\"\n",
    "\n",
    "# find substring 'ball'\n",
    "result = re.search(r\"ball\", target_string)\n",
    "\n",
    "# Print matching substring\n",
    "print(result.group())\n",
    "\n",
    "# find exact word/substring surrounded by word boundary\n",
    "result = re.search(r\"\\bball\\b\", target_string)\n",
    "if result:\n",
    "    print(result)\n",
    "\n",
    "# find word 'player'\n",
    "result = re.search(r\"\\bplayer\\b\", target_string)\n",
    "print(result.group())"
   ]
  },
  {
   "cell_type": "markdown",
   "id": "c60de65c",
   "metadata": {},
   "source": [
    "**Regex search groups or multiple patterns**\n",
    "\n",
    "In this section, we will learn how to search for multiple distinct patterns inside the same target string. Let’s assume, we want to search the following two distinct patterns inside the target string at the same time.\n",
    "\n",
    "1. A ten-letter word\n",
    "2. Two consecutive digits\n",
    "\n",
    "Regex Pattern 1: `\\w{10}`\n",
    "\n",
    "Regex Pattern 2: `\\d{2}`\n",
    "\n",
    "Now each pattern will represent one group. Let’s add each group inside a parenthesis ( ). In our case` r\"(\\w{10}).+(\\d{2})\"`\n",
    "\n",
    "On a successful search, we can use `match.group(1)` to get the match value of a first group and `match.group(2)` to get the match value of a second group."
   ]
  },
  {
   "cell_type": "code",
   "execution_count": 34,
   "id": "d4b0a122",
   "metadata": {},
   "outputs": [
    {
     "name": "stdout",
     "output_type": "stream",
     "text": [
      "basketball\n",
      "17\n",
      "basketball player who was born on June 17\n"
     ]
    }
   ],
   "source": [
    "target_string = \"Emma is a basketball player who was born on June 17.\"\n",
    "\n",
    "# two group (two patterns) enclosed in separate ( and ) bracket\n",
    "result = re.search(r\"(\\w{10}).+(\\d{2})\", target_string)\n",
    "\n",
    "# Extract the matches using group()\n",
    "\n",
    "# print ten-letter word\n",
    "print(result.group(1))\n",
    "# Output basketball\n",
    "\n",
    "# print two digit number\n",
    "print(result.group(2))\n",
    "\n",
    "# print the whole matching group\n",
    "print(result.group())"
   ]
  },
  {
   "cell_type": "markdown",
   "id": "179b4d0a",
   "metadata": {},
   "source": [
    "**Search multiple words using regex**"
   ]
  },
  {
   "cell_type": "code",
   "execution_count": 35,
   "id": "37cc4734",
   "metadata": {},
   "outputs": [
    {
     "name": "stdout",
     "output_type": "stream",
     "text": [
      "['Emma', 'player', 'born']\n"
     ]
    }
   ],
   "source": [
    "import re\n",
    "\n",
    "str1 = \"Emma is a baseball player who was born on June 17, 1993.\"\n",
    "\n",
    "# search() for four-letter word surrounded by space\n",
    "# \\b is used to specify word boundary\n",
    "\n",
    "result = re.findall(r\"\\bEmma\\b|\\bplayer\\b|\\bborn\\b\", str1)\n",
    "print(result)"
   ]
  },
  {
   "cell_type": "markdown",
   "id": "37b3cbda",
   "metadata": {},
   "source": [
    "**Case insensitive regex search**"
   ]
  },
  {
   "cell_type": "code",
   "execution_count": 37,
   "id": "009b247f",
   "metadata": {},
   "outputs": [
    {
     "name": "stdout",
     "output_type": "stream",
     "text": [
      "Matching word: None\n",
      "case insensitive searching\n",
      "Matching word: Emma\n"
     ]
    }
   ],
   "source": [
    "# Target String\n",
    "target_string = \"Emma is a Baseball player who was born on June 17, 1993.\"\n",
    "\n",
    "# case sensitive searching\n",
    "result = re.search(r\"emma\", target_string)\n",
    "print(\"Matching word:\", result)\n",
    "\n",
    "print(\"case insensitive searching\")\n",
    "# using re.IGNORECASE\n",
    "result = re.search(r\"emma\", target_string, re.IGNORECASE)\n",
    "print(\"Matching word:\", result.group())"
   ]
  },
  {
   "cell_type": "markdown",
   "id": "530dbe3f",
   "metadata": {},
   "source": [
    "# re.findall() & re.finditer()\n",
    "\n",
    "<img src=\"python-regex-findall.jpg\" style=\"width:600px;\"/>\n",
    "\n",
    "<img src=\"python-regex-finditer.jpg\" style=\"width:600px;\"/>"
   ]
  },
  {
   "cell_type": "code",
   "execution_count": 38,
   "id": "d57fb5a4",
   "metadata": {},
   "outputs": [
    {
     "name": "stdout",
     "output_type": "stream",
     "text": [
      "Found following matches\n",
      "['17', '1993', '112', '26', '12', '51']\n"
     ]
    }
   ],
   "source": [
    "import re\n",
    "\n",
    "target_string = \"Emma is a basketball player who was born on June 17, 1993. She played 112 matches with scoring average 26.12 points per game. Her weight is 51 kg.\"\n",
    "result = re.findall(r\"\\d+\", target_string)\n",
    "\n",
    "# print all matches\n",
    "print(\"Found following matches\")\n",
    "print(result)"
   ]
  },
  {
   "cell_type": "code",
   "execution_count": 1,
   "id": "324c8958",
   "metadata": {},
   "outputs": [
    {
     "name": "stdout",
     "output_type": "stream",
     "text": [
      "<class 're.Pattern'>\n",
      "['251', '761', '231', '451']\n",
      "['111', '212', '415']\n"
     ]
    }
   ],
   "source": [
    "import re\n",
    "\n",
    "# Target String one\n",
    "str1 = \"Emma's luck numbers are 251 761 231 451\"\n",
    "\n",
    "# pattern to find three consecutive digits\n",
    "string_pattern = r\"\\d{3}\"\n",
    "\n",
    "# compile string pattern to re.Pattern object\n",
    "regex_pattern = re.compile(string_pattern)\n",
    "\n",
    "# print the type of compiled pattern\n",
    "print(type(regex_pattern))\n",
    "\n",
    "# find all the matches in string one\n",
    "result = regex_pattern.findall(str1)\n",
    "print(result)\n",
    "\n",
    "\n",
    "# Target String two\n",
    "str2 = \"Kelly's luck numbers are 111 212 415\"\n",
    "\n",
    "# find all the matches in second string by reusing the same pattern\n",
    "result = regex_pattern.findall(str2)\n",
    "print(result)"
   ]
  },
  {
   "cell_type": "code",
   "execution_count": 41,
   "id": "bdf1cb00",
   "metadata": {},
   "outputs": [
    {
     "name": "stdout",
     "output_type": "stream",
     "text": [
      "<re.Match object; span=(49, 51), match='17'>\n",
      "17\n",
      "<re.Match object; span=(53, 55), match='19'>\n",
      "19\n",
      "<re.Match object; span=(55, 57), match='93'>\n",
      "93\n",
      "<re.Match object; span=(70, 72), match='11'>\n",
      "11\n",
      "<re.Match object; span=(108, 110), match='26'>\n",
      "26\n",
      "<re.Match object; span=(111, 113), match='12'>\n",
      "12\n",
      "<re.Match object; span=(145, 147), match='51'>\n",
      "51\n"
     ]
    }
   ],
   "source": [
    "\n",
    "target_string = \"Emma is a basketball player who was born on June 17, 1993. She played 112 matches with a scoring average of 26.12 points per game. Her weight is 51 kg.\"\n",
    "\n",
    "# finditer() with regex pattern and target string\n",
    "# \\d{2} to match two consecutive digits \n",
    "result = re.finditer(r\"\\d{2}\", target_string)\n",
    "\n",
    "# print all match object\n",
    "for match_obj in result:\n",
    "    # print each re.Match object\n",
    "    print(match_obj)\n",
    "    \n",
    "    # extract each matching number\n",
    "    print(match_obj.group(0))"
   ]
  },
  {
   "cell_type": "markdown",
   "id": "3424836e",
   "metadata": {},
   "source": [
    "**Regex find all word starting with specific letters**"
   ]
  },
  {
   "cell_type": "code",
   "execution_count": 42,
   "id": "11f61970",
   "metadata": {},
   "outputs": [
    {
     "name": "stdout",
     "output_type": "stream",
     "text": [
      "['Python', 'Python', 'programming']\n",
      "['Python', 'Python']\n"
     ]
    }
   ],
   "source": [
    "target_string = \"Jessa is a Python developer. She also gives Python programming training\"\n",
    "\n",
    "# all word starts with letter 'p'\n",
    "print(re.findall(r'\\b[p]\\w+\\b', target_string, re.I))\n",
    "\n",
    "# all word starts with substring 'Py'\n",
    "print(re.findall(r'\\bpy\\w+\\b', target_string, re.I))"
   ]
  },
  {
   "cell_type": "markdown",
   "id": "68943cb4",
   "metadata": {},
   "source": [
    "**Regex to find all word that starts and ends with a specific letter**"
   ]
  },
  {
   "cell_type": "code",
   "execution_count": 45,
   "id": "d7f9190a",
   "metadata": {},
   "outputs": [
    {
     "name": "stdout",
     "output_type": "stream",
     "text": [
      "['programming']\n",
      "['programming', 'training']\n",
      "['mango']\n",
      "['banana', 'and', 'apple']\n"
     ]
    }
   ],
   "source": [
    "target_string = \"Jessa is a Python developer. She also gives Python programming training\"\n",
    "# all word starts with letter 'p' and ends with letter 'g'\n",
    "print(re.findall(r'\\b[p]\\w+[g]\\b', target_string, re.I))\n",
    "\n",
    "# all word starts with letter 'p' or 't' and ends with letter 'g'\n",
    "print(re.findall(r'\\b[pt]\\w+[g]\\b', target_string, re.I))\n",
    "\n",
    "target_string = \"Jessa loves mango and orange\"\n",
    "# all word starts with substring 'ma' and ends with substring 'go'\n",
    "print(re.findall(r'\\bma\\w+go\\b', target_string, re.I))\n",
    "\n",
    "target_string = \"Kelly loves banana and apple\"\n",
    "# all word starts or ends with letter 'a'\n",
    "print(re.findall(r'\\b[a]\\w+\\b|\\w+[a]\\b', target_string, re.I))"
   ]
  },
  {
   "cell_type": "markdown",
   "id": "6c274032",
   "metadata": {},
   "source": [
    "**egex to find all words containing a certain letter**"
   ]
  },
  {
   "cell_type": "code",
   "execution_count": 46,
   "id": "13f36f32",
   "metadata": {},
   "outputs": [
    {
     "name": "stdout",
     "output_type": "stream",
     "text": [
      "['is', 'testing', 'machine', 'learning']\n",
      "['testing', 'learning']\n"
     ]
    }
   ],
   "source": [
    "target_string = \"Jessa is a knows testing and machine learning\"\n",
    "# find all word that contain letter 'i'\n",
    "print(re.findall(r'\\b\\w*[i]\\w*\\b', target_string, re.I))\n",
    "\n",
    "# find all word which contain substring 'ing'\n",
    "print(re.findall(r'\\b\\w*ing\\w*\\b', target_string, re.I))"
   ]
  },
  {
   "cell_type": "markdown",
   "id": "ba7caf10",
   "metadata": {},
   "source": [
    "**Regex findall repeated characters**"
   ]
  },
  {
   "cell_type": "code",
   "execution_count": 48,
   "id": "61501473",
   "metadata": {},
   "outputs": [
    {
     "name": "stdout",
     "output_type": "stream",
     "text": [
      "J, e, ss, a, E, rr, ii, kkk, a, "
     ]
    }
   ],
   "source": [
    "target_string = \"Jessa Erriikkka\"\n",
    "\n",
    "# This '\\w' matches any single character\n",
    "# and then its repetitions (\\1*) if any.\n",
    "matcher = re.compile(r\"(\\w)\\1*\")\n",
    "\n",
    "for match in matcher.finditer(target_string):\n",
    "    print(match.group(), end=\", \")\n",
    "# output J, e, ss, a, E, rr, ii, k, a,"
   ]
  },
  {
   "cell_type": "markdown",
   "id": "1a997a61",
   "metadata": {},
   "source": [
    "# re.split()\n",
    "\n",
    "|Operation|\tDescription|\n",
    "|:--|:--|\n",
    "|re.split(pattern, str)|\tSplit the string by each occurrence of the pattern.|\n",
    "|re.split(pattern, str, maxsplit=2)|\tSplit the string by the occurrences of the pattern. Limit the number of splits to 2|\n",
    "|re.split(p1\\|p2, str)|\tSplit string by multiple delimiter patterns (p1 and p2).|"
   ]
  },
  {
   "cell_type": "code",
   "execution_count": 50,
   "id": "21b9729c",
   "metadata": {},
   "outputs": [
    {
     "name": "stdout",
     "output_type": "stream",
     "text": [
      "['My', 'name', 'is', 'maximums', 'and', 'my', 'luck', 'numbers', 'are', '12', '45', '78']\n"
     ]
    }
   ],
   "source": [
    "target_string = \"My name is maximums and my luck numbers are 12 45 78\"\n",
    "\n",
    "# split on white-space and return list of words separated by whitespace\n",
    "word_list = re.split(r\"\\s+\", target_string)\n",
    "print(word_list)"
   ]
  },
  {
   "cell_type": "markdown",
   "id": "9b4b34ea",
   "metadata": {},
   "source": [
    "**Limit the number of splits**"
   ]
  },
  {
   "cell_type": "code",
   "execution_count": 53,
   "id": "7aac561e",
   "metadata": {},
   "outputs": [
    {
     "name": "stdout",
     "output_type": "stream",
     "text": [
      "['12', '45-78']\n",
      "['12', '45', '78']\n"
     ]
    }
   ],
   "source": [
    "target_string = \"12-45-78\"\n",
    "\n",
    "# Split only on the first occurrence\n",
    "# maxsplit is 1\n",
    "result = re.split(r\"\\D\", target_string, maxsplit=1)\n",
    "print(result)\n",
    "\n",
    "# Split on the three occurrence\n",
    "# maxsplit is 3\n",
    "result = re.split(r\"\\D\", target_string, maxsplit=3)\n",
    "print(result)"
   ]
  },
  {
   "cell_type": "markdown",
   "id": "0eee36e5",
   "metadata": {},
   "source": [
    "**Regex to Split string with multiple delimiters**"
   ]
  },
  {
   "cell_type": "code",
   "execution_count": 60,
   "id": "fc92f688",
   "metadata": {},
   "outputs": [
    {
     "name": "stdout",
     "output_type": "stream",
     "text": [
      "['12', '45', '78', '85', '17', '89']\n",
      "['PYnative', 'dot', 'com', 'is', 'for', 'Python', 'developer']\n",
      "['PYnative', 'dot', 'com', 'is', 'for', 'Python', 'developer', '']\n",
      "['12', '', '45', '78', '85', '17', '89', '97']\n"
     ]
    }
   ],
   "source": [
    "target_string = \"12,45,78,85-17-89\"\n",
    "\n",
    "# 2 delimiter - and ,\n",
    "# use OR (|) operator to combine two pattern\n",
    "result = re.split(r\"-|,\", target_string)\n",
    "print(result)\n",
    "\n",
    "# Regex to split string on five delimiters\n",
    "target_string = \"PYnative   dot.com; is for, Python-developer\"\n",
    "# Pattern to split: [-;,.\\s]\\s*\n",
    "result = re.split(r\"[-;,.\\s]\\s*\", target_string)\n",
    "print(result)\n",
    "\n",
    "# Regex to split String into words with multiple word boundary delimiters\n",
    "target_string = \"PYnative! dot.com; is for, Python-developer?\"\n",
    "result = re.split(r\"[\\b\\W\\b]+\", target_string)\n",
    "print(result)\n",
    "\n",
    "# Split strings by delimiters and specific word\n",
    "text = \"12, and45,78and85-17and89-97\"\n",
    "# split by word 'and' space, and comma\n",
    "result = re.split(r\"and|[\\s,-]+\", text)\n",
    "print(result)\n",
    "# Output ['12', '', '45', '78', '85', '17', '89', '97']"
   ]
  },
  {
   "cell_type": "markdown",
   "id": "7027490b",
   "metadata": {},
   "source": [
    "**Regex split a string and keep the separators**\n",
    "\n",
    "If capturing parentheses are used in the pattern, then the text of all groups in the pattern are also returned as part of the resulting list.\n",
    "\n",
    "Note: You are capturing the group by writing pattern inside the (,).\n",
    "\n",
    "In simple terms, be careful while using the re.split() method when the regular expression pattern is enclosed in parentheses to capture groups. If capture groups are used, then the matched text is also included in the resulted list.\n",
    "\n",
    "It is helpful when you want to keep the separators/delimiter in the resulted list."
   ]
  },
  {
   "cell_type": "code",
   "execution_count": 62,
   "id": "dd98065c",
   "metadata": {},
   "outputs": [
    {
     "name": "stdout",
     "output_type": "stream",
     "text": [
      "['12', '45', '78', '']\n",
      "['12', '-', '45', '-', '78', '.', '']\n"
     ]
    }
   ],
   "source": [
    "target_string = \"12-45-78.\"\n",
    "\n",
    "# Split on non-digit\n",
    "result = re.split(r\"\\D+\", target_string)\n",
    "print(result)\n",
    "\n",
    "# Split on non-digit and keep the separators\n",
    "# pattern written in parenthese\n",
    "result = re.split(r\"(\\D+)\", target_string)\n",
    "print(result)"
   ]
  },
  {
   "cell_type": "markdown",
   "id": "15675ea3",
   "metadata": {},
   "source": [
    "**Regex split string by ignoring case**"
   ]
  },
  {
   "cell_type": "code",
   "execution_count": 63,
   "id": "a0851abb",
   "metadata": {},
   "outputs": [
    {
     "name": "stdout",
     "output_type": "stream",
     "text": [
      "['7J8', '7S', '3', '']\n",
      "['7', '8', '7', '3', '']\n",
      "['Emma knows Python.EMMA loves Data Science']\n",
      "['', ' knows Python.', ' loves Data Science']\n"
     ]
    }
   ],
   "source": [
    "# Without ignoring case\n",
    "print(re.split('[a-z]+', \"7J8e7Ss3a\"))\n",
    "\n",
    "# With ignoring case\n",
    "print(re.split('[a-z]+', \"7J8e7Ss3a\", flags=re.IGNORECASE))\n",
    "\n",
    "# Without ignoring case\n",
    "print(re.split(r\"emma\", \"Emma knows Python.EMMA loves Data Science\"))\n",
    "\n",
    "# With ignoring case\n",
    "print(re.split(r\"emma\", \"Emma knows Python.EMMA loves Data Science\", flags=re.IGNORECASE))"
   ]
  },
  {
   "cell_type": "markdown",
   "id": "ebb0d99b",
   "metadata": {},
   "source": [
    "**Split string by upper case words**\n",
    "\n",
    "- We used lookahead regex \\s(?=[A-Z]).\n",
    "- This regex will split at every space(\\s), followed by a string of upper-case letters([A-Z]) that end in a word-boundary(\\b)."
   ]
  },
  {
   "cell_type": "code",
   "execution_count": 64,
   "id": "4ad69ff6",
   "metadata": {},
   "outputs": [
    {
     "name": "stdout",
     "output_type": "stream",
     "text": [
      "['EMMA loves', 'PYTHON and', 'ML']\n"
     ]
    }
   ],
   "source": [
    "import re\n",
    "\n",
    "print(re.split(r\"\\s(?=[A-Z])\", \"EMMA loves PYTHON and ML\"))"
   ]
  },
  {
   "cell_type": "markdown",
   "id": "d7296a98",
   "metadata": {},
   "source": [
    "# re.sub()"
   ]
  },
  {
   "cell_type": "markdown",
   "id": "aa5855a1",
   "metadata": {},
   "source": [
    "|Operation|\tDescription|\n",
    "|:--|:--|\n",
    "|re.sub(pattern, replacement, string)|\tFind and replaces all occurrences of pattern with replacement|\n",
    "|re.sub(pattern, replacement, string, count=1)|\tFind and replaces only the first occurrences of pattern with replacement|\n",
    "|re.sub(pattern, replacement, string, count=n)|\tFind and replaces first n occurrences of pattern with the replacement|"
   ]
  },
  {
   "cell_type": "markdown",
   "id": "d355fb79",
   "metadata": {},
   "source": [
    "**Regex example to replace all whitespace with an underscore**"
   ]
  },
  {
   "cell_type": "code",
   "execution_count": 1,
   "id": "7fb717d0",
   "metadata": {},
   "outputs": [
    {
     "name": "stdout",
     "output_type": "stream",
     "text": [
      "Jessa_knows_testing_and_machine_learning\n"
     ]
    }
   ],
   "source": [
    "import re\n",
    "\n",
    "target_str = \"Jessa knows testing and machine learning\"\n",
    "res_str = re.sub(r\"\\s\", \"_\", target_str)\n",
    "# String after replacement\n",
    "print(res_str)\n",
    "# Output 'Jessa_knows_testing_and_machine_learning'"
   ]
  },
  {
   "cell_type": "markdown",
   "id": "4b1d47c5",
   "metadata": {},
   "source": [
    "**Regex to remove whitespaces from a string**"
   ]
  },
  {
   "cell_type": "code",
   "execution_count": 8,
   "id": "dbd91659",
   "metadata": {},
   "outputs": [
    {
     "name": "stdout",
     "output_type": "stream",
     "text": [
      "JessaKnowsTestingAndMachineLearning.\n",
      "Jessa Knows Testing And Machine Learning \t  .\n",
      "   Jessa Knows Testing And Machine Learning\n",
      "Jessa Knows Testing And Machine Learning\n",
      "Jessa Knows Testing And Machine Learning \n"
     ]
    }
   ],
   "source": [
    "# Remove all spaces\n",
    "target_str = \"   Jessa Knows Testing And Machine Learning \\t  .\"\n",
    "\n",
    "# \\s+ to remove all spaces\n",
    "# + indicate 1 or more occurrence of a space\n",
    "res_str = re.sub(r\"\\s+\", \"\", target_str)\n",
    "# String after replacement\n",
    "print(res_str)\n",
    "\n",
    "# Remove leading spaces\n",
    "target_str = \"   Jessa Knows Testing And Machine Learning \\t  .\"\n",
    "# ^\\s+ remove only leading spaces\n",
    "# caret (^) matches only at the start of the string\n",
    "res_str = re.sub(r\"^\\s+\", \"\", target_str)\n",
    "\n",
    "# String after replacement\n",
    "print(res_str)\n",
    "\n",
    "# Remove trailing spaces\n",
    "target_str = \"   Jessa Knows Testing And Machine Learning \\t\\n\"\n",
    "# ^\\s+$ remove only trailing spaces\n",
    "# dollar ($) matches spaces only at the end of the string\n",
    "res_str = re.sub(r\"\\s+$\", \"\", target_str)\n",
    "\n",
    "# String after replacement\n",
    "print(res_str)\n",
    "\n",
    "# Remove both leading and trailing spaces\n",
    "target_str = \"   Jessa Knows Testing And Machine Learning \\t\\n\"\n",
    "# ^\\s+ remove leading spaces\n",
    "# ^\\s+$ removes trailing spaces\n",
    "# | operator to combine both patterns\n",
    "res_str = re.sub(r\"^\\s+|\\s+$\", \"\", target_str)\n",
    "\n",
    "# String after replacement\n",
    "print(res_str)\n",
    "\n",
    "# Substitute multiple whitespaces with single whitespace using regex\n",
    "target_str = \"Jessa Knows Testing    And Machine     Learning \\t \\n\"\n",
    "\n",
    "# \\s+ to match all whitespaces\n",
    "# replace them using single space \" \"\n",
    "res_str = re.sub(r\"\\s+\", \" \", target_str)\n",
    "\n",
    "# string after replacement\n",
    "print(res_str)"
   ]
  },
  {
   "cell_type": "markdown",
   "id": "830386fb",
   "metadata": {},
   "source": [
    "**Limit the maximum number of pattern occurrences to be replaced**"
   ]
  },
  {
   "cell_type": "code",
   "execution_count": 9,
   "id": "551ba5e5",
   "metadata": {},
   "outputs": [
    {
     "name": "stdout",
     "output_type": "stream",
     "text": [
      "Jessa-knows testing and machine learning\n",
      "Jessa-knows-testing-and machine learning\n"
     ]
    }
   ],
   "source": [
    "# original string\n",
    "target_str = \"Jessa knows testing and machine learning\"\n",
    "# replace only first occurrence\n",
    "res_str = re.sub(r\"\\s\", \"-\", target_str, count=1)\n",
    "# String after replacement\n",
    "print(res_str)\n",
    "\n",
    "# replace three occurrence\n",
    "res_str = re.sub(r\"\\s\", \"-\", target_str, count=3)\n",
    "print(res_str)"
   ]
  },
  {
   "cell_type": "markdown",
   "id": "8258773c",
   "metadata": {},
   "source": [
    "**Regex replacement function**"
   ]
  },
  {
   "cell_type": "code",
   "execution_count": 11,
   "id": "3b851912",
   "metadata": {},
   "outputs": [
    {
     "name": "stdout",
     "output_type": "stream",
     "text": [
      "emma loves pineapple dessert and coconut ice cream\n"
     ]
    }
   ],
   "source": [
    "# replacement function to convert uppercase letter to lowercase\n",
    "def convert_to_lower(match_obj):\n",
    "    if match_obj.group() is not None:\n",
    "        return match_obj.group().lower()\n",
    "\n",
    "# Original String\n",
    "str_obj = \"Emma LOves PINEAPPLE DEssert and COCONUT Ice Cream\"\n",
    "\n",
    "# pass replacement function to re.sub()\n",
    "res_str = re.sub(r\"[A-Z]\", convert_to_lower, str_obj)\n",
    "# String after replacement\n",
    "print(res_str)"
   ]
  },
  {
   "cell_type": "markdown",
   "id": "2e930d4a",
   "metadata": {},
   "source": [
    "**Regex replace group/multiple regex patterns**"
   ]
  },
  {
   "cell_type": "code",
   "execution_count": 12,
   "id": "7cd4cd42",
   "metadata": {},
   "outputs": [
    {
     "name": "stdout",
     "output_type": "stream",
     "text": [
      "Emma,Kelly,Jessa,Joy,Scott,Joe,Jerry\n"
     ]
    }
   ],
   "source": [
    "# Original string\n",
    "student_names = \"Emma-Kelly Jessa Joy Scott-Joe Jerry\"\n",
    "\n",
    "# replace two pattern at the same time\n",
    "# use OR (|) to separate two pattern\n",
    "res = re.sub(r\"(\\s)|(-)\", \",\", student_names)\n",
    "print(res)"
   ]
  },
  {
   "cell_type": "markdown",
   "id": "ce20a661",
   "metadata": {},
   "source": [
    "**Replace multiple regex patterns with different replacement**"
   ]
  },
  {
   "cell_type": "code",
   "execution_count": 13,
   "id": "577ce51c",
   "metadata": {},
   "outputs": [
    {
     "name": "stdout",
     "output_type": "stream",
     "text": [
      "emma LOVES pineapple DESSERT AND coconut ICE cream\n"
     ]
    }
   ],
   "source": [
    "# replacement function to convert uppercase word to lowercase\n",
    "# and lowercase word to uppercase\n",
    "def convert_case(match_obj):\n",
    "    if match_obj.group(1) is not None:\n",
    "        return match_obj.group(1).lower()\n",
    "    if match_obj.group(2) is not None:\n",
    "        return match_obj.group(2).upper()\n",
    "\n",
    "# Original String\n",
    "str_obj = \"EMMA loves PINEAPPLE dessert and COCONUT ice CREAM\"\n",
    "\n",
    "# group 1 ([A-Z]+) capture and replace all uppercase word with a lowercase.\n",
    "# group 2 ([a-z]+) capture and replace all lowercase word with an uppercase\n",
    "# pass replacement function 'convert_case' to re.sub()\n",
    "res_str = re.sub(r\"([A-Z]+)|([a-z]+)\", convert_case, str_obj)\n",
    "\n",
    "# String after replacement\n",
    "print(res_str)\n",
    "# Output 'emma LOVES pineapple DESSERT AND coconut ICE cream'"
   ]
  },
  {
   "cell_type": "markdown",
   "id": "2e75ffb9",
   "metadata": {},
   "source": [
    "**RE’s subn() method**\n",
    "\n",
    "The re.subn() method returns a tuple of two elements.\n",
    "\n",
    "- The first element of the result is the new version of the target string after all the replacements have been made.\n",
    "- The second element is the number of replacements it has made"
   ]
  },
  {
   "cell_type": "code",
   "execution_count": 16,
   "id": "928cb3d6",
   "metadata": {},
   "outputs": [
    {
     "name": "stdout",
     "output_type": "stream",
     "text": [
      "('Emma loves MANGO, MANGO, MANGO ice cream', 3)\n",
      "('Emma loves MANGO, MANGO, BANANA ice cream', 2)\n"
     ]
    }
   ],
   "source": [
    "target_string = \"Emma loves PINEAPPLE, COCONUT, BANANA ice cream\"\n",
    "result = re.subn(r\"[A-Z]{2,}\", \"MANGO\", target_string)\n",
    "print(result)\n",
    "\n",
    "\n",
    "target_string = \"Emma loves PINEAPPLE, COCONUT, BANANA ice cream\"\n",
    "result = re.subn(r\"[A-Z]{2,}\", \"MANGO\", target_string, count=2)\n",
    "print(result)"
   ]
  },
  {
   "cell_type": "markdown",
   "id": "f202c98d",
   "metadata": {},
   "source": [
    "# Regex Capturing Groups\n",
    "\n",
    "For example, In the expression, ((\\w)(\\s\\d)), there are three such groups\n",
    "\n",
    "- ((\\w)(\\s\\d))\n",
    "- (\\w)\n",
    "- (\\s\\d)\n",
    "\n",
    "We can specify as many groups as we wish. Each sub-pattern inside a pair of parentheses will be captured as a group. Capturing groups are numbered by counting their opening parentheses from left to right."
   ]
  },
  {
   "cell_type": "code",
   "execution_count": 20,
   "id": "83ed4510",
   "metadata": {},
   "outputs": [
    {
     "name": "stdout",
     "output_type": "stream",
     "text": [
      "PINEAPPLE ice cream is 20\n",
      "('PINEAPPLE', '20')\n",
      "PINEAPPLE\n",
      "20\n"
     ]
    }
   ],
   "source": [
    "target_string = \"The price of PINEAPPLE ice cream is 20\"\n",
    "\n",
    "# two groups enclosed in separate ( and ) bracket\n",
    "result = re.search(r\"(\\b[A-Z]+\\b).+(\\b\\d+)\", target_string)\n",
    "\n",
    "# Extract matching the whole string\n",
    "print(result.group())\n",
    "\n",
    "# Extract matching values of all groups\n",
    "print(result.groups())\n",
    "\n",
    "# Extract match value of group 1\n",
    "print(result.group(1))\n",
    "\n",
    "# Extract match value of group 2\n",
    "print(result.group(2))"
   ]
  },
  {
   "cell_type": "code",
   "execution_count": 22,
   "id": "b19cea7e",
   "metadata": {},
   "outputs": [
    {
     "name": "stdout",
     "output_type": "stream",
     "text": [
      "PINEAPPLE ice cream is 20\n",
      "('PINEAPPLE ice cream is 20', 'PINEAPPLE', '20')\n",
      "PINEAPPLE ice cream is 20\n",
      "PINEAPPLE\n",
      "20\n"
     ]
    }
   ],
   "source": [
    "target_string = \"The price of PINEAPPLE ice cream is 20\"\n",
    "\n",
    "# two groups enclosed in separate ( and ) bracket\n",
    "result = re.search(r\"((\\b[A-Z]+\\b).+(\\b\\d+))\", target_string)\n",
    "\n",
    "# Extract matching the whole string\n",
    "print(result.group())\n",
    "\n",
    "# Extract matching values of all groups\n",
    "print(result.groups())\n",
    "\n",
    "# Extract match value of group 1\n",
    "print(result.group(1))\n",
    "\n",
    "# Extract match value of group 2\n",
    "print(result.group(2))\n",
    "\n",
    "# Extract match value of group 3\n",
    "print(result.group(3))"
   ]
  },
  {
   "cell_type": "markdown",
   "id": "9a57f5fc",
   "metadata": {},
   "source": [
    "**Regex Capture Group Multiple Times**"
   ]
  },
  {
   "cell_type": "code",
   "execution_count": 27,
   "id": "933edf59",
   "metadata": {},
   "outputs": [
    {
     "name": "stdout",
     "output_type": "stream",
     "text": [
      "[('PINEAPPLE', '20'), ('MANGO', '30'), ('CHOCOLATE', '40')]\n",
      "\n",
      "PINEAPPLE 20\n",
      "('PINEAPPLE', '20')\n",
      "PINEAPPLE 20\n",
      "PINEAPPLE\n",
      "20\n",
      "\n",
      "PINEAPPLE\n",
      "20\n",
      "MANGO\n",
      "30\n",
      "CHOCOLATE\n",
      "40\n"
     ]
    }
   ],
   "source": [
    "target_string = \"The price of ice-creams PINEAPPLE 20 MANGO 30 CHOCOLATE 40\"\n",
    "\n",
    "# two groups enclosed in separate ( and ) bracket\n",
    "# group 1: find all uppercase letter\n",
    "# group 2: find all numbers\n",
    "# you can compile a pattern or directly pass to the finditer() method\n",
    "pattern = re.compile(r\"(\\b[A-Z]+\\b).(\\b\\d+\\b)\")\n",
    "\n",
    "print(pattern.findall(target_string))\n",
    "print()\n",
    "\n",
    "matched=pattern.search(target_string) # just catch the first occurence of the match\n",
    "print(matched.group())\n",
    "print(matched.groups())\n",
    "print(matched.group(0))\n",
    "print(matched.group(1))\n",
    "print(matched.group(2))\n",
    "print()\n",
    "\n",
    "# find all matches to groups\n",
    "for match in pattern.finditer(target_string): # [('PINEAPPLE', '20'), ('MANGO', '30'), ('CHOCOLATE', '40')]\n",
    "    # extract words\n",
    "    print(match.group(1))\n",
    "    # extract numbers\n",
    "    print(match.group(2))"
   ]
  },
  {
   "cell_type": "markdown",
   "id": "ec064e93",
   "metadata": {},
   "source": [
    "**Extract Range of Groups Matches**"
   ]
  },
  {
   "cell_type": "code",
   "execution_count": 29,
   "id": "f57959e7",
   "metadata": {},
   "outputs": [
    {
     "name": "stdout",
     "output_type": "stream",
     "text": [
      "('PINEAPPLE', '20')\n",
      "The price of PINEAPPLE ice cream is 20\n"
     ]
    }
   ],
   "source": [
    "target_string = \"The price of PINEAPPLE ice cream is 20\"\n",
    "# two pattern enclosed in separate ( and ) bracket\n",
    "result = re.search(r\".+(\\b[A-Z]+\\b).+(\\b\\d+)\", target_string)\n",
    "\n",
    "print(result.group(1, 2))\n",
    "print(result.group())\n",
    "# Output ('PINEAPPLE', '20')"
   ]
  },
  {
   "cell_type": "code",
   "execution_count": 5,
   "id": "035765d3",
   "metadata": {
    "scrolled": true
   },
   "outputs": [
    {
     "name": "stdout",
     "output_type": "stream",
     "text": [
      "He'S An Engineer, Isn'T He?\n",
      "\n",
      "He's\n",
      "He's\n",
      "'s\n",
      "\n",
      "H\n",
      "e\n",
      "'\n",
      "s\n",
      "[\"'s\", '', '', \"'t\", '']\n"
     ]
    }
   ],
   "source": [
    "import re\n",
    "\n",
    "text = \"He's an engineer, isn't he?\"\n",
    "print(text.title())\n",
    "print()\n",
    "\n",
    "p=re.compile(r\"[A-Za-z]+('[a-z]+)?\")\n",
    "m=p.search(text)\n",
    "if m:\n",
    "    print(m.group())\n",
    "    print(m.group(0))\n",
    "    print(m.group(1))\n",
    "    print()\n",
    "    print(m.group()[0])\n",
    "    print(m.group()[1])\n",
    "    print(m.group()[2])\n",
    "    print(m.group()[3])\n",
    "    \n",
    "result=p.findall(text)\n",
    "print(result)"
   ]
  },
  {
   "cell_type": "code",
   "execution_count": 2,
   "id": "95e63236",
   "metadata": {},
   "outputs": [
    {
     "name": "stdout",
     "output_type": "stream",
     "text": [
      "He'S An Engineer, Isn'T He?\n",
      "\n",
      "He's An Engineer, Isn't He?\n"
     ]
    }
   ],
   "source": [
    "import re\n",
    "\n",
    "text = \"He's an engineer, isn't he?\"\n",
    "print(text.title())\n",
    "print()\n",
    "\n",
    "def titlecase():\n",
    "    p=re.compile(r\"[A-Za-z]+('[a-z]+)?\")\n",
    "    result=p.sub(lambda m:m.group(0)[0].upper()+m.group(0)[1:].lower(), text)\n",
    "    print(result)\n",
    "titlecase()"
   ]
  },
  {
   "cell_type": "markdown",
   "id": "567e23ae",
   "metadata": {},
   "source": [
    "# Metacharacters and Operators"
   ]
  },
  {
   "cell_type": "markdown",
   "id": "dc9093e2",
   "metadata": {},
   "source": [
    "|Metacharacter|\tDescription|\n",
    "|:--|:--|\n",
    "|. (DOT)|\tMatches any character except a newline|.\n",
    "|^ (Caret)|\tMatches pattern only at the start of the string.|\n",
    "|$ (Dollar)|\tMatches pattern at the end of the string|\n",
    "|* (asterisk)\t|Matches 0 or more repetitions of the regex.|\n",
    "|+ (Plus)|\tMatch 1 or more repetitions of the regex.|\n",
    "|? (Question mark)\t|Match 0 or 1 repetition of the regex.|\n",
    "|[] (Square brackets)\t|Used to indicate a set of characters. Matches any single character in brackets. For example, [abc] will match either a, or, b, or c character|\n",
    "|\\| (Pipe)|\tused to specify multiple patterns. For example, P1\\|P2, where P1 and P2 are two different regexes.|\n",
    "|\\ (backslash)|\tUse to escape special characters or signals a special sequence. For example, If you are searching for one of the special characters you can use a \\ to escape them|\n",
    "|[^...]|\tMatches any single character not in brackets.|\n",
    "|(...)|\tMatches whatever regular expression is inside the parentheses. For example, (abc) will match to substring 'abc'|"
   ]
  },
  {
   "cell_type": "markdown",
   "id": "0f9ce298",
   "metadata": {},
   "source": [
    "**Regex . dot metacharacter**"
   ]
  },
  {
   "cell_type": "code",
   "execution_count": 30,
   "id": "7e46d4b4",
   "metadata": {},
   "outputs": [
    {
     "name": "stdout",
     "output_type": "stream",
     "text": [
      "E\n",
      "Emma loves \n"
     ]
    }
   ],
   "source": [
    "import re\n",
    "\n",
    "target_string = \"Emma loves \\n Python\"\n",
    "# dot(.) metacharacter to match any character\n",
    "result = re.search(r'.', target_string)\n",
    "print(result.group())\n",
    "\n",
    "# .+ to match any string except newline\n",
    "result = re.search(r'.+', target_string)\n",
    "print(result.group())"
   ]
  },
  {
   "cell_type": "markdown",
   "id": "2b8f89bf",
   "metadata": {},
   "source": [
    "**DOT to match a newline character**"
   ]
  },
  {
   "cell_type": "code",
   "execution_count": 31,
   "id": "132d613e",
   "metadata": {},
   "outputs": [
    {
     "name": "stdout",
     "output_type": "stream",
     "text": [
      "Emma is a Python developer \n",
      " She also knows ML and AI\n"
     ]
    }
   ],
   "source": [
    "str1 = \"Emma is a Python developer \\n She also knows ML and AI\"\n",
    "\n",
    "# dot(.) characters to match newline\n",
    "result = re.search(r\".+\", str1, re.S)\n",
    "print(result.group())"
   ]
  },
  {
   "cell_type": "markdown",
   "id": "1b9bb9d0",
   "metadata": {},
   "source": [
    "**Regex ^ caret metacharacter**"
   ]
  },
  {
   "cell_type": "code",
   "execution_count": 32,
   "id": "f6201a2c",
   "metadata": {},
   "outputs": [
    {
     "name": "stdout",
     "output_type": "stream",
     "text": [
      "Emma\n"
     ]
    }
   ],
   "source": [
    "target_string = \"Emma is a Python developer \\n Emma also knows ML and AI\"\n",
    "\n",
    "# caret (^) matches at the beginning of a string\n",
    "result = re.search(r\"^\\w{4}\", target_string)\n",
    "print(result.group())"
   ]
  },
  {
   "cell_type": "markdown",
   "id": "3ce09e9e",
   "metadata": {},
   "source": [
    "**caret ( ^ ) to match a pattern at the beginning of each new line**"
   ]
  },
  {
   "cell_type": "code",
   "execution_count": 33,
   "id": "ffb87fbf",
   "metadata": {},
   "outputs": [
    {
     "name": "stdout",
     "output_type": "stream",
     "text": [
      "['Emma', 'Emma']\n"
     ]
    }
   ],
   "source": [
    "str1 = \"Emma is a Python developer and her salary is 5000$ \\nEmma also knows ML and AI\"\n",
    "\n",
    "# caret (^) matches at the beginning of each new line\n",
    "# Using re.M flag\n",
    "result = re.findall(r\"^\\w{4}\", str1, re.M)\n",
    "print(result)"
   ]
  },
  {
   "cell_type": "markdown",
   "id": "10583787",
   "metadata": {},
   "source": [
    "**Regex $ dollar metacharacter**"
   ]
  },
  {
   "cell_type": "code",
   "execution_count": 34,
   "id": "96fc2696",
   "metadata": {},
   "outputs": [
    {
     "name": "stdout",
     "output_type": "stream",
     "text": [
      "AI\n"
     ]
    }
   ],
   "source": [
    "str1 = \"Emma is a Python developer \\nEmma also knows ML and AI\"\n",
    "# dollar sign($) to match at the end of the string\n",
    "result = re.search(r\"\\w{2}$\", str1)\n",
    "print(result.group())"
   ]
  },
  {
   "cell_type": "markdown",
   "id": "8d19ad9e",
   "metadata": {},
   "source": [
    "**Regex * asterisk/star metacharacter**"
   ]
  },
  {
   "cell_type": "code",
   "execution_count": 35,
   "id": "f94089af",
   "metadata": {},
   "outputs": [
    {
     "name": "stdout",
     "output_type": "stream",
     "text": [
      "['8', '23', '886', '4567', '78453']\n"
     ]
    }
   ],
   "source": [
    "str1 = \"Numbers are 8,23, 886, 4567, 78453\"\n",
    "# asterisk sign(*) to match 0 or more repetitions\n",
    "\n",
    "result = re.findall(r\"\\d\\d*\", str1)\n",
    "print(result)"
   ]
  },
  {
   "cell_type": "markdown",
   "id": "b44543de",
   "metadata": {},
   "source": [
    "**Regex + Plus metacharacter**"
   ]
  },
  {
   "cell_type": "code",
   "execution_count": 36,
   "id": "3d02f86e",
   "metadata": {},
   "outputs": [
    {
     "name": "stdout",
     "output_type": "stream",
     "text": [
      "['23', '886', '4567', '78453']\n"
     ]
    }
   ],
   "source": [
    "str1 = \"Numbers are 8,23, 886, 4567, 78453\"\n",
    "# Plus sign(+) to match 1 or more repetitions\n",
    "result = re.findall(r\"\\d\\d+\", str1)\n",
    "print(result)"
   ]
  },
  {
   "cell_type": "markdown",
   "id": "e5be302a",
   "metadata": {},
   "source": [
    "**The ? question mark metacharacter**"
   ]
  },
  {
   "cell_type": "code",
   "execution_count": 37,
   "id": "90162ab3",
   "metadata": {},
   "outputs": [
    {
     "name": "stdout",
     "output_type": "stream",
     "text": [
      "['4567', '78453']\n"
     ]
    }
   ],
   "source": [
    "target_string = \"Numbers are 8,23, 886, 4567, 78453\"\n",
    "\n",
    "# Question mark sign(?) to match 0 or 1 repetitions\n",
    "result = re.findall(r\"\\d\\d\\d\\d\\d?\", target_string)\n",
    "print(result)"
   ]
  },
  {
   "cell_type": "markdown",
   "id": "d1fc161e",
   "metadata": {},
   "source": [
    "**The \\ backslash metacharacter**"
   ]
  },
  {
   "cell_type": "code",
   "execution_count": 38,
   "id": "f62314a2",
   "metadata": {},
   "outputs": [
    {
     "name": "stdout",
     "output_type": "stream",
     "text": [
      "['.', '.', '.']\n"
     ]
    }
   ],
   "source": [
    "str1 = \"Emma is a Python developer. Emma salary is 5000$. Emma also knows ML and AI.\"\n",
    "# escape dot\n",
    "res = re.findall(r\"\\.\", str1)\n",
    "print(res)"
   ]
  },
  {
   "cell_type": "markdown",
   "id": "e8cbffb0",
   "metadata": {},
   "source": [
    "**The [] square brackets metacharacter**"
   ]
  },
  {
   "cell_type": "code",
   "execution_count": 39,
   "id": "75a73620",
   "metadata": {},
   "outputs": [
    {
     "name": "stdout",
     "output_type": "stream",
     "text": [
      "['d', 'e', 'e', 'e', 'k', 'd']\n"
     ]
    }
   ],
   "source": [
    "str1 = \"Emma is a Python developer. Emma also knows ML and AI.\"\n",
    "res = re.findall(r\"[edk]\", str1)\n",
    "print(res)"
   ]
  },
  {
   "cell_type": "markdown",
   "id": "fbf7fffd",
   "metadata": {},
   "source": [
    "# Regex Special Sequences"
   ]
  },
  {
   "cell_type": "markdown",
   "id": "6c6d086a",
   "metadata": {},
   "source": [
    "|Special Sequence|\tMeaning|\n",
    "|:--|:--|\n",
    "|\\A|\tMatches pattern only at the start of the string|\n",
    "|\\Z|\tMatches pattern only at the end of the string|\n",
    "|\\d|\tMatches to any digit. Short for character classes [0-9]|\n",
    "|\\D|\tMatches to any non-digit. short for [^0-9]|\n",
    "|\\s|\tMatches any whitespace character. short for character class [ \\t\\n\\x0b\\r\\f]|\n",
    "|\\S|\tMatches any non-whitespace character. short for [^ \\t\\n\\x0b\\r\\f]|\n",
    "|\\w|\tMatches any alphanumeric character.short for character class [a-zA-Z_0-9]|\n",
    "|\\W|\tMatches any non-alphanumeric character. |short for [^a-zA-Z_0-9]|\n",
    "|\\b|\tMatches the empty string, but only at the beginning or end of a word. Matches a word boundary where a word character is [a-zA-Z0-9_]. For example, ‘\\bJessa\\b' matches ‘Jessa’, ‘Jessa.’, ‘(Jessa)’, ‘Jessa Emma Kelly’ but not ‘JessaKelly’ or ‘Jessa5’.|\n",
    "|\\B\t|Opposite of a \\b. Matches the empty string, but only when it is not at the beginning or end of a word|"
   ]
  },
  {
   "cell_type": "markdown",
   "id": "38767726",
   "metadata": {},
   "source": [
    "|Character Class|\tDescription|\n",
    "|:--|:--|\n",
    "|[abc]|\tMatch the letter a or b or c|\n",
    "|[abc][pq]|\tMatch letter a or b or c followed by either p or q.|\n",
    "|[^abc]|\tMatch any letter except a, b, or c (negation)|\n",
    "|[0-9]|\tMatch any digit from 0 to 9. inclusive (range)|\n",
    "|[a-z]|\tMatch any lowercase letters from a to z. inclusive (range)|\n",
    "|[A-Z]|\tMatch any UPPERCASE letters from A to Z. inclusive (range)|\n",
    "|[a-zA-z]|\tMatch any lowercase or UPPERCASE letter. inclusive (range)|\n",
    "|[m-p2-8]|\tRanges: matches a letter between m and p and digits from 2 to 8, but not p2|\n",
    "|[a-zA-Z0-9_]|\tMatch any alphanumeric character|"
   ]
  },
  {
   "cell_type": "markdown",
   "id": "84fd2d23",
   "metadata": {},
   "source": [
    "**Special Sequence \\A and \\Z**"
   ]
  },
  {
   "cell_type": "code",
   "execution_count": 42,
   "id": "b99d3659",
   "metadata": {},
   "outputs": [
    {
     "name": "stdout",
     "output_type": "stream",
     "text": [
      "Matching value ['Jessa']\n",
      "Matching value ['Jessa is a Python developer, and her salary is']\n",
      "Matching value ['8000']\n"
     ]
    }
   ],
   "source": [
    "import re\n",
    "\n",
    "target_str = \"Jessa is a Python developer, and her salary is 8000\"\n",
    "\n",
    "# \\A to match at the start of a string\n",
    "# match word starts with capital letter\n",
    "result = re.findall(r\"\\A([A-Z].*?)\\s\", target_str)\n",
    "print(\"Matching value\", result)\n",
    "\n",
    "result = re.findall(r\"\\A([A-Z].*)\\s\", target_str)\n",
    "print(\"Matching value\", result)\n",
    "\n",
    "# \\Z to match at the end of a string\n",
    "# match number at the end of the string\n",
    "result = re.findall(r\"\\d.*?\\Z\", target_str)\n",
    "print(\"Matching value\", result)\n"
   ]
  },
  {
   "cell_type": "markdown",
   "id": "3e565c01",
   "metadata": {},
   "source": [
    "**Special sequence \\d and \\D**"
   ]
  },
  {
   "cell_type": "code",
   "execution_count": 43,
   "id": "31638320",
   "metadata": {},
   "outputs": [
    {
     "name": "stdout",
     "output_type": "stream",
     "text": [
      "['8', '0', '0', '0']\n",
      "['8000']\n",
      "[' ', 'd', 'o', 'l', 'l', 'a', 'r']\n"
     ]
    }
   ],
   "source": [
    "target_str = \"8000 dollar\"\n",
    "\n",
    "# \\d to match all digits\n",
    "result = re.findall(r\"\\d\", target_str)\n",
    "print(result)\n",
    "\n",
    "# \\d to match all numbers\n",
    "result = re.findall(r\"\\d+\", target_str)\n",
    "print(result)\n",
    "\n",
    "# \\D to match non-digits\n",
    "result = re.findall(r\"\\D\", target_str)\n",
    "print(result)"
   ]
  },
  {
   "cell_type": "markdown",
   "id": "ba6db353",
   "metadata": {},
   "source": [
    "**Special Sequence \\w and \\W**"
   ]
  },
  {
   "cell_type": "code",
   "execution_count": 46,
   "id": "5c74bb3b",
   "metadata": {},
   "outputs": [
    {
     "name": "stdout",
     "output_type": "stream",
     "text": [
      "['J', 'e', 's', 's', 'a', 'a', 'n', 'd', 'K', 'e', 'l', 'l', 'y']\n",
      "['Jessa', 'Kelly']\n",
      "[' ', ' ', '!', '!']\n"
     ]
    }
   ],
   "source": [
    "target_str = \"Jessa and Kelly!!\"\n",
    "\n",
    "# \\w to match all alphanumeric characters\n",
    "result = re.findall(r\"\\w\", target_str)\n",
    "print(result)\n",
    "\n",
    "# \\w{5} to 5-letter word\n",
    "result = re.findall(r\"\\w{5}\", target_str)\n",
    "print(result)\n",
    "\n",
    "# \\W to match NON-alphanumeric\n",
    "result = re.findall(r\"\\W\", target_str)\n",
    "print(result)"
   ]
  },
  {
   "cell_type": "markdown",
   "id": "24db4e40",
   "metadata": {},
   "source": [
    "**Special Sequence \\s and \\S**\n",
    "\n",
    "The \\s matches any whitespace character inside the target string. Whitespace characters covered by this sequence are as follows\n",
    "\n",
    "* Common space generated by the space key from the keyboard. (\"  \")\n",
    "* Tab character (\\t)\n",
    "* Newline character (\\n)\n",
    "* Carriage return (\\r)\n",
    "* Form feed (\\f)\n",
    "* Vertical tab (\\v)"
   ]
  },
  {
   "cell_type": "code",
   "execution_count": 47,
   "id": "1078d093",
   "metadata": {},
   "outputs": [
    {
     "name": "stdout",
     "output_type": "stream",
     "text": [
      "[' ', '\\t', ' ', '\\n', ' ', ' ']\n",
      "['J', 'e', 's', 's', 'a']\n",
      "['Jessa', 'and', 'Kelly']\n",
      "Jessa and Kelly \n"
     ]
    }
   ],
   "source": [
    "target_str = \"Jessa \\t \\n  \"\n",
    "\n",
    "# \\s to match any whitespace\n",
    "result = re.findall(r\"\\s\", target_str)\n",
    "print(result)\n",
    "\n",
    "# \\S to match non-whitespace\n",
    "result = re.findall(r\"\\S\", target_str)\n",
    "print(result)\n",
    "\n",
    "# split on white-spaces\n",
    "result = re.split(r\"\\s+\", \"Jessa and Kelly\")\n",
    "print(result)\n",
    "\n",
    "# remove all multiple white-spaces with single space\n",
    "result = re.sub(r\"\\s+\", \" \", \"Jessa   and   \\t \\t Kelly  \")\n",
    "print(result)"
   ]
  },
  {
   "cell_type": "markdown",
   "id": "39575a4f",
   "metadata": {},
   "source": [
    "**Special Sequence \\b and \\B**"
   ]
  },
  {
   "cell_type": "code",
   "execution_count": 50,
   "id": "a3b85c08",
   "metadata": {},
   "outputs": [
    {
     "name": "stdout",
     "output_type": "stream",
     "text": [
      "['salary', 'Python']\n",
      "[]\n",
      "['thon']\n"
     ]
    }
   ],
   "source": [
    "target_str = \"  Jessa salary is 8000$ She is Python developer\"\n",
    "\n",
    "# \\b to word boundary, \\w{6} to match six-letter word\n",
    "result = re.findall(r\"\\b\\w{6}\\b\", target_str)\n",
    "print(result)\n",
    "\n",
    "# \\b need separate word not part of a word\n",
    "result = re.findall(r\"\\bthon\\b\", target_str)\n",
    "print(result)\n",
    "\n",
    "# \\B\n",
    "result = re.findall(r\"\\Bthon\", target_str)\n",
    "print(result)"
   ]
  },
  {
   "cell_type": "markdown",
   "id": "930fc421",
   "metadata": {},
   "source": [
    "### Create custom character classes"
   ]
  },
  {
   "cell_type": "markdown",
   "id": "6ffbd641",
   "metadata": {},
   "source": [
    "**Simple character classes**"
   ]
  },
  {
   "cell_type": "code",
   "execution_count": 52,
   "id": "30bffa78",
   "metadata": {},
   "outputs": [
    {
     "name": "stdout",
     "output_type": "stream",
     "text": [
      "['J', 'e', 'e', 'd', 'e']\n",
      "['8', '0', '0', '0']\n",
      "['th']\n"
     ]
    }
   ],
   "source": [
    "target_string = \"Jessa loves Python. and her salary is 8000$\"\n",
    "\n",
    "# simple character Class [jds], Match the letter J or d or e\n",
    "result = re.findall(r\"[Jde]\", target_string)\n",
    "print(result)\n",
    "\n",
    "# simple character Class [0-9], Match any digit\n",
    "result = re.findall(r\"[0-9]\", target_string)\n",
    "print(result)\n",
    "\n",
    "# character Class [abc][pq], Match Match p or y or t followed by either h or s.\n",
    "result = re.findall(r\"[Pyt][hs]\", target_string)\n",
    "print(result)"
   ]
  },
  {
   "cell_type": "markdown",
   "id": "e6520f65",
   "metadata": {},
   "source": [
    "**Use negation to construct character classess**"
   ]
  },
  {
   "cell_type": "code",
   "execution_count": 53,
   "id": "7e526d7d",
   "metadata": {},
   "outputs": [
    {
     "name": "stdout",
     "output_type": "stream",
     "text": [
      "['d', 'e', '2', '5']\n",
      "['a', 'b', 'c', 'd', 'e']\n"
     ]
    }
   ],
   "source": [
    "target_string = \"abcde25\"\n",
    "\n",
    "result = re.findall(r\"[^abc]\", target_string)\n",
    "print(result)\n",
    "\n",
    "# match any character except digits\n",
    "result = re.findall(r\"[^0-9]\", target_string)\n",
    "print(result)"
   ]
  },
  {
   "cell_type": "markdown",
   "id": "f01eded7",
   "metadata": {},
   "source": [
    "**Use ranges to construct character classes**"
   ]
  },
  {
   "cell_type": "code",
   "execution_count": 55,
   "id": "54bf90f9",
   "metadata": {},
   "outputs": [
    {
     "name": "stdout",
     "output_type": "stream",
     "text": [
      "['e', 'f', 'g']\n",
      "['A', 'B', 'C', 'D']\n",
      "['A', 'B', 'C', 'D', 'e', 'f', 'g']\n",
      "['2']\n",
      "['A', 'B', 'C', '2']\n"
     ]
    }
   ],
   "source": [
    "target_string = \"ABCDefg29\"\n",
    "\n",
    "print(re.findall(r\"[a-z]\", target_string))\n",
    "\n",
    "print(re.findall(r\"[A-Z]\", target_string))\n",
    "\n",
    "print(re.findall(r\"[a-zA-Z]\", target_string))\n",
    "\n",
    "print(re.findall(r\"[2-6]\", target_string))\n",
    "\n",
    "print(re.findall(r\"[A-C2-8]\", target_string))"
   ]
  },
  {
   "cell_type": "markdown",
   "id": "9667a0ad",
   "metadata": {},
   "source": [
    "# Regex Flags"
   ]
  },
  {
   "cell_type": "markdown",
   "id": "5adaf65b",
   "metadata": {},
   "source": [
    "|Flag|\tlong syntax|\tMeaning|\n",
    "|:--|:--|:--|\n",
    "|re.A\t|re.ASCII|\tPerform ASCII-only matching instead of full Unicode matching|\n",
    "|re.I\t|re.IGNORECASE|\tPerform case-insensitive matching|\n",
    "|re.M\t|re.MULTILINE|\tThis flag is used with metacharacter ^ (caret) and \\\\$ (dollar). When this flag is specified, the metacharacter ^ matches the pattern at beginning of the string and each newline’s beginning (\\n).And the metacharacter $ matches pattern at the end of the string and the end of each new line (\\n)|\n",
    "|re.S|\tre.DOTALL|\tMake the DOT (.) special character match any character at all, including a newline. Without this flag, DOT(.) will match anything except a newline|\n",
    "|re.X\t|re.VERBOSE\t|Allow comment in the regex. This flag is useful to make regex more readable by allowing comments in the regex.|\n",
    "|re.L|\tre.LOCALE|Perform case-insensitive matching dependent on the current locale. Use only with bytes patterns|"
   ]
  },
  {
   "cell_type": "markdown",
   "id": "b28fa998",
   "metadata": {},
   "source": [
    "**IGNORECASE flag**"
   ]
  },
  {
   "cell_type": "code",
   "execution_count": 56,
   "id": "b4c6cced",
   "metadata": {},
   "outputs": [
    {
     "name": "stdout",
     "output_type": "stream",
     "text": [
      "['kelly']\n",
      "['KELLy', 'kelly']\n",
      "['KELLy', 'kelly']\n"
     ]
    }
   ],
   "source": [
    "target_str = \"KELLy is a Python developer at a PYnative. kelly loves ML and AI\"\n",
    "\n",
    "# Without using re.I\n",
    "result = re.findall(r\"kelly\", target_str)\n",
    "print(result)\n",
    "\n",
    "# with re.I\n",
    "result = re.findall(r\"kelly\", target_str, re.I)\n",
    "print(result)\n",
    "\n",
    "# with re.IGNORECASE\n",
    "result = re.findall(r\"kelly\", target_str, re.IGNORECASE)\n",
    "print(result)"
   ]
  },
  {
   "cell_type": "markdown",
   "id": "5e13fce9",
   "metadata": {},
   "source": [
    "**DOTALL flag**"
   ]
  },
  {
   "cell_type": "code",
   "execution_count": 58,
   "id": "04a4d902",
   "metadata": {},
   "outputs": [
    {
     "name": "stdout",
     "output_type": "stream",
     "text": [
      "Without using re.S flag: ML\n",
      "\n",
      "With re.S flag: ML\n",
      "and AI\n",
      "\n",
      "With re.DOTALL flag: ML\n",
      "and AI\n"
     ]
    }
   ],
   "source": [
    "import re\n",
    "\n",
    "# string with newline character\n",
    "target_str = \"ML\\nand AI\"\n",
    "\n",
    "# Match any character\n",
    "result = re.search(r\".+\", target_str)\n",
    "print(\"Without using re.S flag:\", result.group())\n",
    "print()\n",
    "\n",
    "# With re.S flag\n",
    "result = re.search(r\".+\", target_str, re.S)\n",
    "print(\"With re.S flag:\", result.group())\n",
    "print()\n",
    "\n",
    "# With re.DOTALL flag\n",
    "result = re.search(r\".+\", target_str, re.DOTALL)\n",
    "print(\"With re.DOTALL flag:\", result.group())\n"
   ]
  },
  {
   "cell_type": "markdown",
   "id": "08bc8f26",
   "metadata": {},
   "source": [
    "**VERBOSE flag**"
   ]
  },
  {
   "cell_type": "code",
   "execution_count": 59,
   "id": "988c7836",
   "metadata": {},
   "outputs": [
    {
     "name": "stdout",
     "output_type": "stream",
     "text": [
      "Jessa\n",
      "8000\n"
     ]
    }
   ],
   "source": [
    "target_str = \"Jessa is a Python developer, and her salary is 8000\"\n",
    "\n",
    "# re.X to add indentation  and comment in regex\n",
    "result = re.search(r\"\"\"(^\\w{2,}) # match 5-letter word at the start\n",
    "                        .+(\\d{4}$) # match 4-digit number at the end \"\"\", target_str, re.X)\n",
    "# Fiver-letter word\n",
    "print(result.group(1))\n",
    "\n",
    "# 4-digit number\n",
    "print(result.group(2))"
   ]
  },
  {
   "cell_type": "markdown",
   "id": "d5fd9bfd",
   "metadata": {},
   "source": [
    "**MULTILINE flag**"
   ]
  },
  {
   "cell_type": "code",
   "execution_count": 60,
   "id": "50e1bdd4",
   "metadata": {},
   "outputs": [
    {
     "name": "stdout",
     "output_type": "stream",
     "text": [
      "['Joy']\n",
      "['25']\n",
      "['Joy', 'Tom']\n",
      "['75', '25']\n"
     ]
    }
   ],
   "source": [
    "target_str = \"Joy lucky number is 75\\nTom lucky number is 25\"\n",
    "\n",
    "# find 3-letter word at the start of each newline\n",
    "# Without re.M or re.MULTILINE flag\n",
    "result = re.findall(r\"^\\w{3}\", target_str)\n",
    "print(result)  \n",
    "\n",
    "# find 2-digit at the end of each newline\n",
    "# Without re.M or re.MULTILINE flag\n",
    "result = re.findall(r\"\\d{2}$\", target_str)\n",
    "print(result)\n",
    "\n",
    "# With re.M or re.MULTILINE\n",
    "# find 3-letter word at the start of each newline\n",
    "result = re.findall(r\"^\\w{3}\", target_str, re.MULTILINE)\n",
    "print(result)\n",
    "\n",
    "# With re.M\n",
    "# find 2-digit number at the end of each newline\n",
    "result = re.findall(r\"\\d{2}$\", target_str, re.M)\n",
    "print(result)"
   ]
  },
  {
   "cell_type": "markdown",
   "id": "1b821559",
   "metadata": {},
   "source": [
    "**ASCII flag**"
   ]
  },
  {
   "cell_type": "code",
   "execution_count": 61,
   "id": "5e5e63c6",
   "metadata": {},
   "outputs": [
    {
     "name": "stdout",
     "output_type": "stream",
     "text": [
      "['虎太郎', 'and', 'are']\n",
      "['and', 'are']\n"
     ]
    }
   ],
   "source": [
    "import re\n",
    "\n",
    "# string with ASCII and Unicode characters\n",
    "target_str = \"虎太郎 and Jessa are friends\"\n",
    "\n",
    "# Without re.A or re.ASCII, To match all 3-letter word\n",
    "result = re.findall(r\"\\b\\w{3}\\b\", target_str)\n",
    "print(result)\n",
    "\n",
    "# With re.A or re.ASCII, regex to match only 3-letter ASCII word\n",
    "result = re.findall(r\"\\b\\w{3}\\b\", target_str, re.A)\n",
    "print(result)"
   ]
  },
  {
   "cell_type": "code",
   "execution_count": null,
   "id": "a208b80a",
   "metadata": {},
   "outputs": [],
   "source": []
  },
  {
   "cell_type": "code",
   "execution_count": null,
   "id": "eb392415",
   "metadata": {},
   "outputs": [],
   "source": []
  },
  {
   "cell_type": "code",
   "execution_count": null,
   "id": "955ab03c",
   "metadata": {},
   "outputs": [],
   "source": []
  }
 ],
 "metadata": {
  "kernelspec": {
   "display_name": "Python 3",
   "language": "python",
   "name": "python3"
  },
  "language_info": {
   "codemirror_mode": {
    "name": "ipython",
    "version": 3
   },
   "file_extension": ".py",
   "mimetype": "text/x-python",
   "name": "python",
   "nbconvert_exporter": "python",
   "pygments_lexer": "ipython3",
   "version": "3.9.12"
  }
 },
 "nbformat": 4,
 "nbformat_minor": 5
}
