{
 "cells": [
  {
   "cell_type": "markdown",
   "id": "94bb68db",
   "metadata": {},
   "source": [
    "\n",
    "The following explanation is based on fit_transform of Imputer class, but the idea is the same for fit_transform of other scikit_learn classes like MinMaxScaler.\n",
    "\n",
    "transform replaces the missing values with a number. By default this number is the means of columns of some data that you choose. Consider the following example:\n",
    "\n",
    "<a href=\"https://datascience.stackexchange.com/questions/12321/whats-the-difference-between-fit-and-fit-transform-in-scikit-learn-models\">ref</a>"
   ]
  },
  {
   "cell_type": "code",
   "execution_count": 5,
   "id": "0a2fcd2f",
   "metadata": {},
   "outputs": [
    {
     "data": {
      "text/plain": [
       "SimpleImputer()"
      ]
     },
     "execution_count": 5,
     "metadata": {},
     "output_type": "execute_result"
    }
   ],
   "source": [
    "from sklearn.impute import SimpleImputer\n",
    "import numpy as np\n",
    "\n",
    "imp = SimpleImputer()\n",
    "\n",
    "# calculating the means\n",
    "imp.fit([\n",
    "         [1,      3], \n",
    "         [np.nan, 2], \n",
    "         [8,      5.5]\n",
    "        ])"
   ]
  },
  {
   "cell_type": "markdown",
   "id": "5aef6cef",
   "metadata": {},
   "source": [
    "**iF fit and transform can be applied to the same data then we can use <mark style='color:blue; background-color:white'>fit_transform</mark>**"
   ]
  },
  {
   "cell_type": "code",
   "execution_count": null,
   "id": "5b20e2ae",
   "metadata": {},
   "outputs": [],
   "source": [
    "\n",
    "# calculating the means\n",
    "imp.fit_transform([\n",
    "         [1,      3], \n",
    "         [np.nan, 2], \n",
    "         [8,      5.5]\n",
    "        ])"
   ]
  },
  {
   "cell_type": "markdown",
   "id": "c79af285",
   "metadata": {},
   "source": [
    "**if we apply this imput to another data set then we can use only <mark style='color:blue; background-color: white'>transform</mark>**"
   ]
  },
  {
   "cell_type": "code",
   "execution_count": 6,
   "id": "5712b181",
   "metadata": {},
   "outputs": [
    {
     "name": "stdout",
     "output_type": "stream",
     "text": [
      "[[ 4.5 11. ]\n",
      " [ 4.   3.5]\n",
      " [ 8.   2. ]\n",
      " [ 4.5  1. ]]\n"
     ]
    }
   ],
   "source": [
    "X = [[np.nan, 11], \n",
    "     [4,      np.nan], \n",
    "     [8,      2],\n",
    "     [np.nan, 1]]\n",
    "\n",
    "print(imp.transform(X))"
   ]
  },
  {
   "cell_type": "markdown",
   "id": "cad2ae76",
   "metadata": {},
   "source": [
    "- So by fit the imputer calculates the means of columns from some data, and *by transform it applies those means to some data* (which is just replacing missing values with the means). **If both these data are the same (i.e. the data for calculating the means and the data that means are applied to) you can use fit_transform** which is basically a fit followed by a transform.\n",
    "\n",
    "\n",
    "- The fit of an imputer has nothing to do with fit used in model fitting. So using imputer's fit on training data just calculates means of each column of training data. Using transform on test data then replaces missing values of test data with means that were calculated from training data."
   ]
  },
  {
   "cell_type": "code",
   "execution_count": null,
   "id": "393bca38",
   "metadata": {},
   "outputs": [],
   "source": []
  }
 ],
 "metadata": {
  "kernelspec": {
   "display_name": "Python 3",
   "language": "python",
   "name": "python3"
  },
  "language_info": {
   "codemirror_mode": {
    "name": "ipython",
    "version": 3
   },
   "file_extension": ".py",
   "mimetype": "text/x-python",
   "name": "python",
   "nbconvert_exporter": "python",
   "pygments_lexer": "ipython3",
   "version": "3.9.12"
  }
 },
 "nbformat": 4,
 "nbformat_minor": 5
}
