{
 "cells": [
  {
   "cell_type": "markdown",
   "id": "18aa60e7",
   "metadata": {},
   "source": [
    "# convert JSON into a Pandas DataFrame\n",
    "\n",
    "- Reading simple JSON from a local file\n",
    "- Reading simple JSON from a URL\n",
    "- Flattening nested list from JSON object\n",
    "- Flattening nested list and dict from JSON object\n",
    "- Extracting a value from deeply nested JSON"
   ]
  },
  {
   "cell_type": "markdown",
   "id": "5b2aeb01",
   "metadata": {},
   "source": [
    "**Reading simple JSON from a local file**"
   ]
  },
  {
   "cell_type": "code",
   "execution_count": 5,
   "id": "3720530e",
   "metadata": {},
   "outputs": [],
   "source": [
    "# %load command1.py\n",
    "import pandas as pd\n",
    "import numpy as np\n",
    "import seaborn as sns\n",
    "import matplotlib.pyplot as plt\n",
    "\n",
    "from IPython.core.interactiveshell import InteractiveShell\n",
    "InteractiveShell.ast_node_interactivity='all'\n",
    "\n",
    "%config InlineBackend.figure_format='svg'\n",
    "plt.rcParams['figure.dpi']=120\n",
    "\n",
    "pd.options.display.float_format='{:,.2f}'.format\n",
    "pd.set_option('display.max_colwidth', None)"
   ]
  },
  {
   "cell_type": "code",
   "execution_count": 6,
   "id": "155316ff",
   "metadata": {},
   "outputs": [
    {
     "data": {
      "text/plain": [
       "[{'id': 'A001', 'name': 'Tom', 'math': 60, 'physics': 66, 'chemistry': 61},\n",
       " {'id': 'A002', 'name': 'James', 'math': 89, 'physics': 76, 'chemistry': 51},\n",
       " {'id': 'A003', 'name': 'Jenny', 'math': 79, 'physics': 90, 'chemistry': 78}]"
      ]
     },
     "execution_count": 6,
     "metadata": {},
     "output_type": "execute_result"
    }
   ],
   "source": [
    "[\n",
    "  {\n",
    "    \"id\": \"A001\",\n",
    "    \"name\": \"Tom\",\n",
    "    \"math\": 60,\n",
    "    \"physics\": 66,\n",
    "    \"chemistry\": 61\n",
    "  },\n",
    "  {\n",
    "    \"id\": \"A002\",\n",
    "    \"name\": \"James\",\n",
    "    \"math\": 89,\n",
    "    \"physics\": 76,\n",
    "    \"chemistry\": 51\n",
    "  },\n",
    "  {\n",
    "    \"id\": \"A003\",\n",
    "    \"name\": \"Jenny\",\n",
    "    \"math\": 79,\n",
    "    \"physics\": 90,\n",
    "    \"chemistry\": 78\n",
    "  }\n",
    "]\n",
    "\n",
    "\n"
   ]
  },
  {
   "cell_type": "code",
   "execution_count": 11,
   "id": "f1aace43",
   "metadata": {},
   "outputs": [
    {
     "data": {
      "text/html": [
       "<div>\n",
       "<style scoped>\n",
       "    .dataframe tbody tr th:only-of-type {\n",
       "        vertical-align: middle;\n",
       "    }\n",
       "\n",
       "    .dataframe tbody tr th {\n",
       "        vertical-align: top;\n",
       "    }\n",
       "\n",
       "    .dataframe thead th {\n",
       "        text-align: right;\n",
       "    }\n",
       "</style>\n",
       "<table border=\"1\" class=\"dataframe\">\n",
       "  <thead>\n",
       "    <tr style=\"text-align: right;\">\n",
       "      <th></th>\n",
       "      <th>id</th>\n",
       "      <th>name</th>\n",
       "      <th>math</th>\n",
       "      <th>physics</th>\n",
       "      <th>chemistry</th>\n",
       "    </tr>\n",
       "  </thead>\n",
       "  <tbody>\n",
       "    <tr>\n",
       "      <th>0</th>\n",
       "      <td>A001</td>\n",
       "      <td>Tom</td>\n",
       "      <td>60</td>\n",
       "      <td>66</td>\n",
       "      <td>61</td>\n",
       "    </tr>\n",
       "    <tr>\n",
       "      <th>1</th>\n",
       "      <td>A002</td>\n",
       "      <td>James</td>\n",
       "      <td>89</td>\n",
       "      <td>76</td>\n",
       "      <td>51</td>\n",
       "    </tr>\n",
       "    <tr>\n",
       "      <th>2</th>\n",
       "      <td>A003</td>\n",
       "      <td>Jenny</td>\n",
       "      <td>79</td>\n",
       "      <td>90</td>\n",
       "      <td>78</td>\n",
       "    </tr>\n",
       "  </tbody>\n",
       "</table>\n",
       "</div>"
      ],
      "text/plain": [
       "     id   name  math  physics  chemistry\n",
       "0  A001    Tom    60       66         61\n",
       "1  A002  James    89       76         51\n",
       "2  A003  Jenny    79       90         78"
      ]
     },
     "execution_count": 11,
     "metadata": {},
     "output_type": "execute_result"
    },
    {
     "name": "stdout",
     "output_type": "stream",
     "text": [
      "\n",
      "<class 'pandas.core.frame.DataFrame'>\n",
      "RangeIndex: 3 entries, 0 to 2\n",
      "Data columns (total 5 columns):\n",
      " #   Column     Non-Null Count  Dtype \n",
      "---  ------     --------------  ----- \n",
      " 0   id         3 non-null      object\n",
      " 1   name       3 non-null      object\n",
      " 2   math       3 non-null      int64 \n",
      " 3   physics    3 non-null      int64 \n",
      " 4   chemistry  3 non-null      int64 \n",
      "dtypes: int64(3), object(2)\n",
      "memory usage: 248.0+ bytes\n"
     ]
    }
   ],
   "source": [
    "df=pd.read_json('./pandasData/simple.json')\n",
    "df\n",
    "print()\n",
    "df.info()"
   ]
  },
  {
   "cell_type": "markdown",
   "id": "6fd19911",
   "metadata": {},
   "source": [
    "**Reading simple JSON from a URL**"
   ]
  },
  {
   "cell_type": "code",
   "execution_count": 13,
   "id": "f99ed118",
   "metadata": {},
   "outputs": [
    {
     "data": {
      "text/html": [
       "<div>\n",
       "<style scoped>\n",
       "    .dataframe tbody tr th:only-of-type {\n",
       "        vertical-align: middle;\n",
       "    }\n",
       "\n",
       "    .dataframe tbody tr th {\n",
       "        vertical-align: top;\n",
       "    }\n",
       "\n",
       "    .dataframe thead th {\n",
       "        text-align: right;\n",
       "    }\n",
       "</style>\n",
       "<table border=\"1\" class=\"dataframe\">\n",
       "  <thead>\n",
       "    <tr style=\"text-align: right;\">\n",
       "      <th></th>\n",
       "      <th>id</th>\n",
       "      <th>name</th>\n",
       "      <th>math</th>\n",
       "      <th>physics</th>\n",
       "      <th>chemistry</th>\n",
       "    </tr>\n",
       "  </thead>\n",
       "  <tbody>\n",
       "    <tr>\n",
       "      <th>0</th>\n",
       "      <td>A001</td>\n",
       "      <td>Tom</td>\n",
       "      <td>60</td>\n",
       "      <td>66</td>\n",
       "      <td>61</td>\n",
       "    </tr>\n",
       "    <tr>\n",
       "      <th>1</th>\n",
       "      <td>A002</td>\n",
       "      <td>James</td>\n",
       "      <td>89</td>\n",
       "      <td>76</td>\n",
       "      <td>51</td>\n",
       "    </tr>\n",
       "    <tr>\n",
       "      <th>2</th>\n",
       "      <td>A003</td>\n",
       "      <td>Jenny</td>\n",
       "      <td>79</td>\n",
       "      <td>90</td>\n",
       "      <td>78</td>\n",
       "    </tr>\n",
       "  </tbody>\n",
       "</table>\n",
       "</div>"
      ],
      "text/plain": [
       "     id   name  math  physics  chemistry\n",
       "0  A001    Tom    60       66         61\n",
       "1  A002  James    89       76         51\n",
       "2  A003  Jenny    79       90         78"
      ]
     },
     "execution_count": 13,
     "metadata": {},
     "output_type": "execute_result"
    }
   ],
   "source": [
    "URL = 'http://raw.githubusercontent.com/BindiChen/machine-learning/master/data-analysis/027-pandas-convert-json/data/simple.json'\n",
    "df = pd.read_json(URL)\n",
    "df"
   ]
  },
  {
   "cell_type": "markdown",
   "id": "9b3480c4",
   "metadata": {},
   "source": [
    "**Flattening nested list from JSON object**"
   ]
  },
  {
   "cell_type": "code",
   "execution_count": 16,
   "id": "c7058aa5",
   "metadata": {},
   "outputs": [
    {
     "name": "stdout",
     "output_type": "stream",
     "text": [
      "Writing ./pandasData/nested_list.json\n"
     ]
    }
   ],
   "source": [
    "%%writefile ./pandasData/nested_list.json\n",
    "{\n",
    "    \"school_name\": \"ABC primary school\",\n",
    "    \"class\": \"Year 1\",\n",
    "    \"students\": [\n",
    "    {\n",
    "        \"id\": \"A001\",\n",
    "        \"name\": \"Tom\",\n",
    "        \"math\": 60,\n",
    "        \"physics\": 66,\n",
    "        \"chemistry\": 61\n",
    "    },\n",
    "    {\n",
    "        \"id\": \"A002\",\n",
    "        \"name\": \"James\",\n",
    "        \"math\": 89,\n",
    "        \"physics\": 76,\n",
    "        \"chemistry\": 51\n",
    "    },\n",
    "    {\n",
    "        \"id\": \"A003\",\n",
    "        \"name\": \"Jenny\",\n",
    "        \"math\": 79,\n",
    "        \"physics\": 90,\n",
    "        \"chemistry\": 78\n",
    "    }]\n",
    "}"
   ]
  },
  {
   "cell_type": "code",
   "execution_count": 17,
   "id": "e44f86b3",
   "metadata": {},
   "outputs": [
    {
     "data": {
      "text/html": [
       "<div>\n",
       "<style scoped>\n",
       "    .dataframe tbody tr th:only-of-type {\n",
       "        vertical-align: middle;\n",
       "    }\n",
       "\n",
       "    .dataframe tbody tr th {\n",
       "        vertical-align: top;\n",
       "    }\n",
       "\n",
       "    .dataframe thead th {\n",
       "        text-align: right;\n",
       "    }\n",
       "</style>\n",
       "<table border=\"1\" class=\"dataframe\">\n",
       "  <thead>\n",
       "    <tr style=\"text-align: right;\">\n",
       "      <th></th>\n",
       "      <th>school_name</th>\n",
       "      <th>class</th>\n",
       "      <th>students</th>\n",
       "    </tr>\n",
       "  </thead>\n",
       "  <tbody>\n",
       "    <tr>\n",
       "      <th>0</th>\n",
       "      <td>ABC primary school</td>\n",
       "      <td>Year 1</td>\n",
       "      <td>{'id': 'A001', 'name': 'Tom', 'math': 60, 'physics': 66, 'chemistry': 61}</td>\n",
       "    </tr>\n",
       "    <tr>\n",
       "      <th>1</th>\n",
       "      <td>ABC primary school</td>\n",
       "      <td>Year 1</td>\n",
       "      <td>{'id': 'A002', 'name': 'James', 'math': 89, 'physics': 76, 'chemistry': 51}</td>\n",
       "    </tr>\n",
       "    <tr>\n",
       "      <th>2</th>\n",
       "      <td>ABC primary school</td>\n",
       "      <td>Year 1</td>\n",
       "      <td>{'id': 'A003', 'name': 'Jenny', 'math': 79, 'physics': 90, 'chemistry': 78}</td>\n",
       "    </tr>\n",
       "  </tbody>\n",
       "</table>\n",
       "</div>"
      ],
      "text/plain": [
       "          school_name   class  \\\n",
       "0  ABC primary school  Year 1   \n",
       "1  ABC primary school  Year 1   \n",
       "2  ABC primary school  Year 1   \n",
       "\n",
       "                                                                      students  \n",
       "0    {'id': 'A001', 'name': 'Tom', 'math': 60, 'physics': 66, 'chemistry': 61}  \n",
       "1  {'id': 'A002', 'name': 'James', 'math': 89, 'physics': 76, 'chemistry': 51}  \n",
       "2  {'id': 'A003', 'name': 'Jenny', 'math': 79, 'physics': 90, 'chemistry': 78}  "
      ]
     },
     "execution_count": 17,
     "metadata": {},
     "output_type": "execute_result"
    }
   ],
   "source": [
    "df=pd.read_json('./pandasData/nested_list.json')\n",
    "df"
   ]
  },
  {
   "cell_type": "code",
   "execution_count": 20,
   "id": "2b22cc93",
   "metadata": {},
   "outputs": [
    {
     "data": {
      "text/html": [
       "<div>\n",
       "<style scoped>\n",
       "    .dataframe tbody tr th:only-of-type {\n",
       "        vertical-align: middle;\n",
       "    }\n",
       "\n",
       "    .dataframe tbody tr th {\n",
       "        vertical-align: top;\n",
       "    }\n",
       "\n",
       "    .dataframe thead th {\n",
       "        text-align: right;\n",
       "    }\n",
       "</style>\n",
       "<table border=\"1\" class=\"dataframe\">\n",
       "  <thead>\n",
       "    <tr style=\"text-align: right;\">\n",
       "      <th></th>\n",
       "      <th>id</th>\n",
       "      <th>name</th>\n",
       "      <th>math</th>\n",
       "      <th>physics</th>\n",
       "      <th>chemistry</th>\n",
       "    </tr>\n",
       "  </thead>\n",
       "  <tbody>\n",
       "    <tr>\n",
       "      <th>0</th>\n",
       "      <td>A001</td>\n",
       "      <td>Tom</td>\n",
       "      <td>60</td>\n",
       "      <td>66</td>\n",
       "      <td>61</td>\n",
       "    </tr>\n",
       "    <tr>\n",
       "      <th>1</th>\n",
       "      <td>A002</td>\n",
       "      <td>James</td>\n",
       "      <td>89</td>\n",
       "      <td>76</td>\n",
       "      <td>51</td>\n",
       "    </tr>\n",
       "    <tr>\n",
       "      <th>2</th>\n",
       "      <td>A003</td>\n",
       "      <td>Jenny</td>\n",
       "      <td>79</td>\n",
       "      <td>90</td>\n",
       "      <td>78</td>\n",
       "    </tr>\n",
       "  </tbody>\n",
       "</table>\n",
       "</div>"
      ],
      "text/plain": [
       "     id   name  math  physics  chemistry\n",
       "0  A001    Tom    60       66         61\n",
       "1  A002  James    89       76         51\n",
       "2  A003  Jenny    79       90         78"
      ]
     },
     "execution_count": 20,
     "metadata": {},
     "output_type": "execute_result"
    }
   ],
   "source": [
    "import json\n",
    "\n",
    "# load data using Python JSON module\n",
    "with open('./pandasData/nested_list.json','r') as f:\n",
    "    content=f.read()\n",
    "    data = json.loads(content)\n",
    "    \n",
    "# Flatten data\n",
    "df_nested_list = pd.json_normalize(data, record_path =['students'])\n",
    "df_nested_list"
   ]
  },
  {
   "cell_type": "code",
   "execution_count": 22,
   "id": "ace80ea6",
   "metadata": {},
   "outputs": [
    {
     "data": {
      "text/html": [
       "<div>\n",
       "<style scoped>\n",
       "    .dataframe tbody tr th:only-of-type {\n",
       "        vertical-align: middle;\n",
       "    }\n",
       "\n",
       "    .dataframe tbody tr th {\n",
       "        vertical-align: top;\n",
       "    }\n",
       "\n",
       "    .dataframe thead th {\n",
       "        text-align: right;\n",
       "    }\n",
       "</style>\n",
       "<table border=\"1\" class=\"dataframe\">\n",
       "  <thead>\n",
       "    <tr style=\"text-align: right;\">\n",
       "      <th></th>\n",
       "      <th>id</th>\n",
       "      <th>name</th>\n",
       "      <th>math</th>\n",
       "      <th>physics</th>\n",
       "      <th>chemistry</th>\n",
       "      <th>school_name</th>\n",
       "      <th>class</th>\n",
       "    </tr>\n",
       "  </thead>\n",
       "  <tbody>\n",
       "    <tr>\n",
       "      <th>0</th>\n",
       "      <td>A001</td>\n",
       "      <td>Tom</td>\n",
       "      <td>60</td>\n",
       "      <td>66</td>\n",
       "      <td>61</td>\n",
       "      <td>ABC primary school</td>\n",
       "      <td>Year 1</td>\n",
       "    </tr>\n",
       "    <tr>\n",
       "      <th>1</th>\n",
       "      <td>A002</td>\n",
       "      <td>James</td>\n",
       "      <td>89</td>\n",
       "      <td>76</td>\n",
       "      <td>51</td>\n",
       "      <td>ABC primary school</td>\n",
       "      <td>Year 1</td>\n",
       "    </tr>\n",
       "    <tr>\n",
       "      <th>2</th>\n",
       "      <td>A003</td>\n",
       "      <td>Jenny</td>\n",
       "      <td>79</td>\n",
       "      <td>90</td>\n",
       "      <td>78</td>\n",
       "      <td>ABC primary school</td>\n",
       "      <td>Year 1</td>\n",
       "    </tr>\n",
       "  </tbody>\n",
       "</table>\n",
       "</div>"
      ],
      "text/plain": [
       "     id   name  math  physics  chemistry         school_name   class\n",
       "0  A001    Tom    60       66         61  ABC primary school  Year 1\n",
       "1  A002  James    89       76         51  ABC primary school  Year 1\n",
       "2  A003  Jenny    79       90         78  ABC primary school  Year 1"
      ]
     },
     "execution_count": 22,
     "metadata": {},
     "output_type": "execute_result"
    }
   ],
   "source": [
    "# To include school_name and class\n",
    "\n",
    "df_nested_list = pd.json_normalize(\n",
    "    data, \n",
    "    record_path =['students'], \n",
    "    meta=['school_name', 'class']\n",
    ")\n",
    "\n",
    "df_nested_list"
   ]
  },
  {
   "cell_type": "markdown",
   "id": "4b231287",
   "metadata": {},
   "source": [
    "**Flattening nested list and dict from JSON object**"
   ]
  },
  {
   "cell_type": "code",
   "execution_count": 23,
   "id": "8871f787",
   "metadata": {},
   "outputs": [
    {
     "name": "stdout",
     "output_type": "stream",
     "text": [
      "Writing ./pandasData/nested_mix.json\n"
     ]
    }
   ],
   "source": [
    "%%writefile ./pandasData/nested_mix.json\n",
    "\n",
    "{\n",
    "    \"school_name\": \"local primary school\",\n",
    "    \"class\": \"Year 1\",\n",
    "    \"info\": {\n",
    "      \"president\": \"John Kasich\",\n",
    "      \"address\": \"ABC road, London, UK\",\n",
    "      \"contacts\": {\n",
    "        \"email\": \"admin@e.com\",\n",
    "        \"tel\": \"123456789\"\n",
    "      }\n",
    "    },\n",
    "    \"students\": [\n",
    "    {\n",
    "        \"id\": \"A001\",\n",
    "        \"name\": \"Tom\",\n",
    "        \"math\": 60,\n",
    "        \"physics\": 66,\n",
    "        \"chemistry\": 61\n",
    "    },\n",
    "    {\n",
    "        \"id\": \"A002\",\n",
    "        \"name\": \"James\",\n",
    "        \"math\": 89,\n",
    "        \"physics\": 76,\n",
    "        \"chemistry\": 51\n",
    "    },\n",
    "    {\n",
    "        \"id\": \"A003\",\n",
    "        \"name\": \"Jenny\",\n",
    "        \"math\": 79,\n",
    "        \"physics\": 90,\n",
    "        \"chemistry\": 78\n",
    "    }]\n",
    "}"
   ]
  },
  {
   "cell_type": "code",
   "execution_count": 25,
   "id": "b9b82a92",
   "metadata": {},
   "outputs": [
    {
     "data": {
      "text/html": [
       "<div>\n",
       "<style scoped>\n",
       "    .dataframe tbody tr th:only-of-type {\n",
       "        vertical-align: middle;\n",
       "    }\n",
       "\n",
       "    .dataframe tbody tr th {\n",
       "        vertical-align: top;\n",
       "    }\n",
       "\n",
       "    .dataframe thead th {\n",
       "        text-align: right;\n",
       "    }\n",
       "</style>\n",
       "<table border=\"1\" class=\"dataframe\">\n",
       "  <thead>\n",
       "    <tr style=\"text-align: right;\">\n",
       "      <th></th>\n",
       "      <th>id</th>\n",
       "      <th>name</th>\n",
       "      <th>math</th>\n",
       "      <th>physics</th>\n",
       "      <th>chemistry</th>\n",
       "    </tr>\n",
       "  </thead>\n",
       "  <tbody>\n",
       "    <tr>\n",
       "      <th>0</th>\n",
       "      <td>A001</td>\n",
       "      <td>Tom</td>\n",
       "      <td>60</td>\n",
       "      <td>66</td>\n",
       "      <td>61</td>\n",
       "    </tr>\n",
       "    <tr>\n",
       "      <th>1</th>\n",
       "      <td>A002</td>\n",
       "      <td>James</td>\n",
       "      <td>89</td>\n",
       "      <td>76</td>\n",
       "      <td>51</td>\n",
       "    </tr>\n",
       "    <tr>\n",
       "      <th>2</th>\n",
       "      <td>A003</td>\n",
       "      <td>Jenny</td>\n",
       "      <td>79</td>\n",
       "      <td>90</td>\n",
       "      <td>78</td>\n",
       "    </tr>\n",
       "  </tbody>\n",
       "</table>\n",
       "</div>"
      ],
      "text/plain": [
       "     id   name  math  physics  chemistry\n",
       "0  A001    Tom    60       66         61\n",
       "1  A002  James    89       76         51\n",
       "2  A003  Jenny    79       90         78"
      ]
     },
     "execution_count": 25,
     "metadata": {},
     "output_type": "execute_result"
    }
   ],
   "source": [
    "import json\n",
    "# load data using Python JSON module\n",
    "with open('./pandasData/nested_mix.json','r') as f:\n",
    "    data = json.loads(f.read())\n",
    "    \n",
    "# Normalizing data\n",
    "df = pd.json_normalize(data, record_path =['students'])\n",
    "df"
   ]
  },
  {
   "cell_type": "code",
   "execution_count": 27,
   "id": "3bab57df",
   "metadata": {},
   "outputs": [
    {
     "data": {
      "text/html": [
       "<div>\n",
       "<style scoped>\n",
       "    .dataframe tbody tr th:only-of-type {\n",
       "        vertical-align: middle;\n",
       "    }\n",
       "\n",
       "    .dataframe tbody tr th {\n",
       "        vertical-align: top;\n",
       "    }\n",
       "\n",
       "    .dataframe thead th {\n",
       "        text-align: right;\n",
       "    }\n",
       "</style>\n",
       "<table border=\"1\" class=\"dataframe\">\n",
       "  <thead>\n",
       "    <tr style=\"text-align: right;\">\n",
       "      <th></th>\n",
       "      <th>id</th>\n",
       "      <th>name</th>\n",
       "      <th>math</th>\n",
       "      <th>physics</th>\n",
       "      <th>chemistry</th>\n",
       "      <th>class</th>\n",
       "      <th>info.president</th>\n",
       "      <th>info.contacts.tel</th>\n",
       "    </tr>\n",
       "  </thead>\n",
       "  <tbody>\n",
       "    <tr>\n",
       "      <th>0</th>\n",
       "      <td>A001</td>\n",
       "      <td>Tom</td>\n",
       "      <td>60</td>\n",
       "      <td>66</td>\n",
       "      <td>61</td>\n",
       "      <td>Year 1</td>\n",
       "      <td>John Kasich</td>\n",
       "      <td>123456789</td>\n",
       "    </tr>\n",
       "    <tr>\n",
       "      <th>1</th>\n",
       "      <td>A002</td>\n",
       "      <td>James</td>\n",
       "      <td>89</td>\n",
       "      <td>76</td>\n",
       "      <td>51</td>\n",
       "      <td>Year 1</td>\n",
       "      <td>John Kasich</td>\n",
       "      <td>123456789</td>\n",
       "    </tr>\n",
       "    <tr>\n",
       "      <th>2</th>\n",
       "      <td>A003</td>\n",
       "      <td>Jenny</td>\n",
       "      <td>79</td>\n",
       "      <td>90</td>\n",
       "      <td>78</td>\n",
       "      <td>Year 1</td>\n",
       "      <td>John Kasich</td>\n",
       "      <td>123456789</td>\n",
       "    </tr>\n",
       "  </tbody>\n",
       "</table>\n",
       "</div>"
      ],
      "text/plain": [
       "     id   name  math  physics  chemistry   class info.president  \\\n",
       "0  A001    Tom    60       66         61  Year 1    John Kasich   \n",
       "1  A002  James    89       76         51  Year 1    John Kasich   \n",
       "2  A003  Jenny    79       90         78  Year 1    John Kasich   \n",
       "\n",
       "  info.contacts.tel  \n",
       "0         123456789  \n",
       "1         123456789  \n",
       "2         123456789  "
      ]
     },
     "execution_count": 27,
     "metadata": {},
     "output_type": "execute_result"
    }
   ],
   "source": [
    "# And to include class, president (a property of info), and tel (a property of contacts.info), \n",
    "# we can use the argument meta to specify the path to the property.\n",
    "\n",
    "df = pd.json_normalize(\n",
    "    data, \n",
    "    record_path =['students'], \n",
    "    meta=[\n",
    "        'class',\n",
    "        ['info', 'president'], \n",
    "        ['info', 'contacts', 'tel']\n",
    "    ]\n",
    ")\n",
    "\n",
    "df"
   ]
  },
  {
   "cell_type": "markdown",
   "id": "0f616985",
   "metadata": {},
   "source": [
    "**Extracting a single value from deeply nested JSON**\n",
    "\n",
    "- glom is a Python library that allows us to use . notation to access property from a deeply nested object."
   ]
  },
  {
   "cell_type": "code",
   "execution_count": 28,
   "id": "8f9a1335",
   "metadata": {},
   "outputs": [
    {
     "name": "stdout",
     "output_type": "stream",
     "text": [
      "Writing ./pandasData/nested_deep.json\n"
     ]
    }
   ],
   "source": [
    "%%writefile ./pandasData/nested_deep.json\n",
    "{\n",
    "    \"school_name\": \"local primary school\",\n",
    "    \"class\": \"Year 1\",\n",
    "    \"students\": [\n",
    "    {\n",
    "        \"id\": \"A001\",\n",
    "        \"name\": \"Tom\",\n",
    "        \"grade\": {\n",
    "            \"math\": 60,\n",
    "            \"physics\": 66,\n",
    "            \"chemistry\": 61\n",
    "        }\n",
    "  \n",
    "    },\n",
    "    {\n",
    "        \"id\": \"A002\",\n",
    "        \"name\": \"James\",\n",
    "        \"grade\": {\n",
    "            \"math\": 89,\n",
    "            \"physics\": 76,\n",
    "            \"chemistry\": 51\n",
    "        }\n",
    "        \n",
    "    },\n",
    "    {\n",
    "        \"id\": \"A003\",\n",
    "        \"name\": \"Jenny\",\n",
    "        \"grade\": {\n",
    "            \"math\": 79,\n",
    "            \"physics\": 90,\n",
    "            \"chemistry\": 78\n",
    "        }\n",
    "    }]\n",
    "}"
   ]
  },
  {
   "cell_type": "code",
   "execution_count": 32,
   "id": "31a122f0",
   "metadata": {},
   "outputs": [
    {
     "data": {
      "text/plain": [
       "0    60\n",
       "1    89\n",
       "2    79\n",
       "Name: students, dtype: int64"
      ]
     },
     "execution_count": 32,
     "metadata": {},
     "output_type": "execute_result"
    }
   ],
   "source": [
    "from glom import glom\n",
    "\n",
    "df=pd.read_json('./pandasData/nested_deep.json')\n",
    "df['students'].apply(lambda x:glom(x, 'grade.math'))"
   ]
  },
  {
   "cell_type": "code",
   "execution_count": null,
   "id": "c93d5e61",
   "metadata": {},
   "outputs": [],
   "source": []
  }
 ],
 "metadata": {
  "kernelspec": {
   "display_name": "Python 3",
   "language": "python",
   "name": "python3"
  },
  "language_info": {
   "codemirror_mode": {
    "name": "ipython",
    "version": 3
   },
   "file_extension": ".py",
   "mimetype": "text/x-python",
   "name": "python",
   "nbconvert_exporter": "python",
   "pygments_lexer": "ipython3",
   "version": "3.9.12"
  }
 },
 "nbformat": 4,
 "nbformat_minor": 5
}
