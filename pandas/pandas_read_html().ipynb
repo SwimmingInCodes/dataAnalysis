{
 "cells": [
  {
   "cell_type": "markdown",
   "id": "79e7d072",
   "metadata": {},
   "source": [
    "# craping data from HTML tables\n",
    "\n",
    "- Reading tables from a string\n",
    "- Reading tables from a URL\n",
    "- Reading tables from a file\n",
    "- Parsing date columns with parse_dates\n",
    "- Explicitly typecast with converters\n",
    "- MultiIndex, header, and index column\n",
    "- Matching a table with match\n",
    "- Filtering tables with attrs\n",
    "- Working with missing values\n",
    "\n",
    "[Pandas read_html](https://bindichen.medium.com/all-pandas-read-html-you-should-know-for-scraping-data-from-html-tables-a3cbb5ce8274)"
   ]
  },
  {
   "cell_type": "code",
   "execution_count": 5,
   "id": "c094efec",
   "metadata": {},
   "outputs": [],
   "source": [
    "# %load command1.py\n",
    "import pandas as pd\n",
    "import numpy as np\n",
    "import seaborn as sns\n",
    "import matplotlib.pyplot as plt\n",
    "\n",
    "from IPython.core.interactiveshell import InteractiveShell\n",
    "InteractiveShell.ast_node_interactivity='all'\n",
    "\n",
    "%config InlineBackend.figure_format='svg'\n",
    "plt.rcParams['figure.dpi']=120\n",
    "\n",
    "pd.options.display.float_format='{:,.2f}'.format\n",
    "pd.set_option('display.max_colwidth', None)\n"
   ]
  },
  {
   "cell_type": "markdown",
   "id": "52f29d48",
   "metadata": {},
   "source": [
    "**Read table from string**"
   ]
  },
  {
   "cell_type": "code",
   "execution_count": 17,
   "id": "3c317c7c",
   "metadata": {},
   "outputs": [],
   "source": [
    "html_string = \"\"\"\n",
    "<table>\n",
    "  <thead>\n",
    "    <tr>\n",
    "      <th>ID</th>\n",
    "      <th>date</th>\n",
    "      <th>name</th>\n",
    "      <th>year</th>\n",
    "      <th>cost</th>\n",
    "      <th>region</th>\n",
    "    </tr>\n",
    "  </thead>\n",
    "  <tbody>\n",
    "    <tr>\n",
    "      <td>001</td>\n",
    "      <td>2020-01-01</td>\n",
    "      <td>Jenny</td>\n",
    "      <td>1998</td>\n",
    "      <td>0.2</td>\n",
    "      <td>South</td>\n",
    "    </tr>\n",
    "    <tr>\n",
    "      <td>002</td>\n",
    "      <td>2020-01-02</td>\n",
    "      <td>Alice</td>\n",
    "      <td>1992</td>\n",
    "      <td>-1.34</td>\n",
    "      <td>East</td>\n",
    "    </tr>\n",
    "    <tr>\n",
    "      <td>003</td>\n",
    "      <td>2020-01-03</td>\n",
    "      <td>Tomas</td>\n",
    "      <td>1982</td>\n",
    "      <td>1.00023</td>\n",
    "      <td>South</td>\n",
    "    </tr>\n",
    "  </tbody>\n",
    "</table>\n",
    "\"\"\""
   ]
  },
  {
   "cell_type": "code",
   "execution_count": 8,
   "id": "35af0166",
   "metadata": {},
   "outputs": [
    {
     "data": {
      "text/plain": [
       "[         date   name  year  cost region\n",
       " 0  2020-01-01  Jenny  1998  0.20  South\n",
       " 1  2020-01-02  Alice  1992 -1.34   East\n",
       " 2  2020-01-03  Tomas  1982  1.00  South]"
      ]
     },
     "execution_count": 8,
     "metadata": {},
     "output_type": "execute_result"
    },
    {
     "name": "stdout",
     "output_type": "stream",
     "text": [
      "\n",
      "<class 'list'>\n"
     ]
    },
    {
     "data": {
      "text/html": [
       "<div>\n",
       "<style scoped>\n",
       "    .dataframe tbody tr th:only-of-type {\n",
       "        vertical-align: middle;\n",
       "    }\n",
       "\n",
       "    .dataframe tbody tr th {\n",
       "        vertical-align: top;\n",
       "    }\n",
       "\n",
       "    .dataframe thead th {\n",
       "        text-align: right;\n",
       "    }\n",
       "</style>\n",
       "<table border=\"1\" class=\"dataframe\">\n",
       "  <thead>\n",
       "    <tr style=\"text-align: right;\">\n",
       "      <th></th>\n",
       "      <th>date</th>\n",
       "      <th>name</th>\n",
       "      <th>year</th>\n",
       "      <th>cost</th>\n",
       "      <th>region</th>\n",
       "    </tr>\n",
       "  </thead>\n",
       "  <tbody>\n",
       "    <tr>\n",
       "      <th>0</th>\n",
       "      <td>2020-01-01</td>\n",
       "      <td>Jenny</td>\n",
       "      <td>1998</td>\n",
       "      <td>0.20</td>\n",
       "      <td>South</td>\n",
       "    </tr>\n",
       "    <tr>\n",
       "      <th>1</th>\n",
       "      <td>2020-01-02</td>\n",
       "      <td>Alice</td>\n",
       "      <td>1992</td>\n",
       "      <td>-1.34</td>\n",
       "      <td>East</td>\n",
       "    </tr>\n",
       "    <tr>\n",
       "      <th>2</th>\n",
       "      <td>2020-01-03</td>\n",
       "      <td>Tomas</td>\n",
       "      <td>1982</td>\n",
       "      <td>1.00</td>\n",
       "      <td>South</td>\n",
       "    </tr>\n",
       "  </tbody>\n",
       "</table>\n",
       "</div>"
      ],
      "text/plain": [
       "         date   name  year  cost region\n",
       "0  2020-01-01  Jenny  1998  0.20  South\n",
       "1  2020-01-02  Alice  1992 -1.34   East\n",
       "2  2020-01-03  Tomas  1982  1.00  South"
      ]
     },
     "execution_count": 8,
     "metadata": {},
     "output_type": "execute_result"
    }
   ],
   "source": [
    "dfs = pd.read_html(html_string)\n",
    "dfs\n",
    "print()\n",
    "print(type(dfs))\n",
    "dfs[0] # slicing the list"
   ]
  },
  {
   "cell_type": "code",
   "execution_count": 9,
   "id": "60d85495",
   "metadata": {},
   "outputs": [
    {
     "name": "stdout",
     "output_type": "stream",
     "text": [
      "<class 'pandas.core.frame.DataFrame'>\n",
      "RangeIndex: 3 entries, 0 to 2\n",
      "Data columns (total 5 columns):\n",
      " #   Column  Non-Null Count  Dtype  \n",
      "---  ------  --------------  -----  \n",
      " 0   date    3 non-null      object \n",
      " 1   name    3 non-null      object \n",
      " 2   year    3 non-null      int64  \n",
      " 3   cost    3 non-null      float64\n",
      " 4   region  3 non-null      object \n",
      "dtypes: float64(1), int64(1), object(3)\n",
      "memory usage: 248.0+ bytes\n"
     ]
    }
   ],
   "source": [
    "dfs[0].info()"
   ]
  },
  {
   "cell_type": "markdown",
   "id": "e22f22b0",
   "metadata": {},
   "source": [
    "**Reading tables from a URL**"
   ]
  },
  {
   "cell_type": "code",
   "execution_count": 12,
   "id": "23869158",
   "metadata": {},
   "outputs": [
    {
     "name": "stdout",
     "output_type": "stream",
     "text": [
      "Total tables: 31\n"
     ]
    }
   ],
   "source": [
    "URL = 'https://en.wikipedia.org/wiki/London'\n",
    "dfs = pd.read_html(URL)\n",
    "\n",
    "print(f'Total tables: {len(dfs)}')"
   ]
  },
  {
   "cell_type": "markdown",
   "id": "b77606ee",
   "metadata": {},
   "source": [
    "**Reading table from a file**"
   ]
  },
  {
   "cell_type": "code",
   "execution_count": 13,
   "id": "115cfa7b",
   "metadata": {},
   "outputs": [
    {
     "data": {
      "text/html": [
       "<div>\n",
       "<style scoped>\n",
       "    .dataframe tbody tr th:only-of-type {\n",
       "        vertical-align: middle;\n",
       "    }\n",
       "\n",
       "    .dataframe tbody tr th {\n",
       "        vertical-align: top;\n",
       "    }\n",
       "\n",
       "    .dataframe thead th {\n",
       "        text-align: right;\n",
       "    }\n",
       "</style>\n",
       "<table border=\"1\" class=\"dataframe\">\n",
       "  <thead>\n",
       "    <tr style=\"text-align: right;\">\n",
       "      <th></th>\n",
       "      <th>date</th>\n",
       "      <th>name</th>\n",
       "      <th>year</th>\n",
       "      <th>cost</th>\n",
       "      <th>region</th>\n",
       "    </tr>\n",
       "  </thead>\n",
       "  <tbody>\n",
       "    <tr>\n",
       "      <th>0</th>\n",
       "      <td>2020-01-01</td>\n",
       "      <td>Jenny</td>\n",
       "      <td>1998</td>\n",
       "      <td>0.20</td>\n",
       "      <td>South</td>\n",
       "    </tr>\n",
       "    <tr>\n",
       "      <th>1</th>\n",
       "      <td>2020-01-02</td>\n",
       "      <td>Alice</td>\n",
       "      <td>1992</td>\n",
       "      <td>-1.34</td>\n",
       "      <td>East</td>\n",
       "    </tr>\n",
       "    <tr>\n",
       "      <th>2</th>\n",
       "      <td>2020-01-03</td>\n",
       "      <td>Tomas</td>\n",
       "      <td>1982</td>\n",
       "      <td>1.00</td>\n",
       "      <td>South</td>\n",
       "    </tr>\n",
       "  </tbody>\n",
       "</table>\n",
       "</div>"
      ],
      "text/plain": [
       "         date   name  year  cost region\n",
       "0  2020-01-01  Jenny  1998  0.20  South\n",
       "1  2020-01-02  Alice  1992 -1.34   East\n",
       "2  2020-01-03  Tomas  1982  1.00  South"
      ]
     },
     "execution_count": 13,
     "metadata": {},
     "output_type": "execute_result"
    }
   ],
   "source": [
    "file_path = './pandasData/html_string.txt'\n",
    "with open(file_path, 'r') as f:\n",
    "    dfs = pd.read_html(f.read())\n",
    "dfs[0]"
   ]
  },
  {
   "cell_type": "markdown",
   "id": "e202532e",
   "metadata": {},
   "source": [
    "**Parsing date columns with parse_dates**"
   ]
  },
  {
   "cell_type": "code",
   "execution_count": 14,
   "id": "0d0578b2",
   "metadata": {},
   "outputs": [
    {
     "name": "stdout",
     "output_type": "stream",
     "text": [
      "<class 'pandas.core.frame.DataFrame'>\n",
      "RangeIndex: 3 entries, 0 to 2\n",
      "Data columns (total 5 columns):\n",
      " #   Column  Non-Null Count  Dtype         \n",
      "---  ------  --------------  -----         \n",
      " 0   date    3 non-null      datetime64[ns]\n",
      " 1   name    3 non-null      object        \n",
      " 2   year    3 non-null      int64         \n",
      " 3   cost    3 non-null      float64       \n",
      " 4   region  3 non-null      object        \n",
      "dtypes: datetime64[ns](1), float64(1), int64(1), object(2)\n",
      "memory usage: 248.0+ bytes\n"
     ]
    }
   ],
   "source": [
    "dfs = pd.read_html(html_string, parse_dates=['date'])\n",
    "dfs[0].info()"
   ]
  },
  {
   "cell_type": "markdown",
   "id": "1038d942",
   "metadata": {},
   "source": [
    "**Explicitly typecast with converters**"
   ]
  },
  {
   "cell_type": "code",
   "execution_count": 18,
   "id": "8405e158",
   "metadata": {},
   "outputs": [
    {
     "data": {
      "text/html": [
       "<div>\n",
       "<style scoped>\n",
       "    .dataframe tbody tr th:only-of-type {\n",
       "        vertical-align: middle;\n",
       "    }\n",
       "\n",
       "    .dataframe tbody tr th {\n",
       "        vertical-align: top;\n",
       "    }\n",
       "\n",
       "    .dataframe thead th {\n",
       "        text-align: right;\n",
       "    }\n",
       "</style>\n",
       "<table border=\"1\" class=\"dataframe\">\n",
       "  <thead>\n",
       "    <tr style=\"text-align: right;\">\n",
       "      <th></th>\n",
       "      <th>ID</th>\n",
       "      <th>date</th>\n",
       "      <th>name</th>\n",
       "      <th>year</th>\n",
       "      <th>cost</th>\n",
       "      <th>region</th>\n",
       "    </tr>\n",
       "  </thead>\n",
       "  <tbody>\n",
       "    <tr>\n",
       "      <th>0</th>\n",
       "      <td>001</td>\n",
       "      <td>2020-01-01</td>\n",
       "      <td>Jenny</td>\n",
       "      <td>1998</td>\n",
       "      <td>0.20</td>\n",
       "      <td>South</td>\n",
       "    </tr>\n",
       "    <tr>\n",
       "      <th>1</th>\n",
       "      <td>002</td>\n",
       "      <td>2020-01-02</td>\n",
       "      <td>Alice</td>\n",
       "      <td>1992</td>\n",
       "      <td>-1.34</td>\n",
       "      <td>East</td>\n",
       "    </tr>\n",
       "    <tr>\n",
       "      <th>2</th>\n",
       "      <td>003</td>\n",
       "      <td>2020-01-03</td>\n",
       "      <td>Tomas</td>\n",
       "      <td>1982</td>\n",
       "      <td>1.00</td>\n",
       "      <td>South</td>\n",
       "    </tr>\n",
       "  </tbody>\n",
       "</table>\n",
       "</div>"
      ],
      "text/plain": [
       "    ID        date   name  year  cost region\n",
       "0  001  2020-01-01  Jenny  1998  0.20  South\n",
       "1  002  2020-01-02  Alice  1992 -1.34   East\n",
       "2  003  2020-01-03  Tomas  1982  1.00  South"
      ]
     },
     "execution_count": 18,
     "metadata": {},
     "output_type": "execute_result"
    }
   ],
   "source": [
    "dfs = pd.read_html(html_string, converters={\n",
    "    'ID': str,\n",
    "    'year': int,\n",
    "    'cost': float,\n",
    "})\n",
    "dfs[0]"
   ]
  },
  {
   "cell_type": "markdown",
   "id": "60386b88",
   "metadata": {},
   "source": [
    "**MultiIndex, header, and index column**"
   ]
  },
  {
   "cell_type": "code",
   "execution_count": 19,
   "id": "877efc22",
   "metadata": {},
   "outputs": [],
   "source": [
    "html_string = \"\"\"\n",
    "<table>\n",
    "  <thead>\n",
    "    <tr>\n",
    "      <th colspan=\"5\">Year 2020</th>\n",
    "    </tr>\n",
    "    <tr>\n",
    "      <th>date</th>\n",
    "      <th>name</th>\n",
    "      <th>year</th>\n",
    "      <th>cost</th>\n",
    "      <th>region</th>\n",
    "    </tr>\n",
    "  </thead>\n",
    "  <tbody>\n",
    "    <tr>\n",
    "      <td>2020-01-01</td>\n",
    "      <td>Jenny</td>\n",
    "      <td>1998</td>\n",
    "      <td>1.2</td>\n",
    "      <td>South</td>\n",
    "    </tr>\n",
    "    <tr>\n",
    "      <td>2020-01-02</td>\n",
    "      <td>Alice</td>\n",
    "      <td>1992</td>\n",
    "      <td>-1.34</td>\n",
    "      <td>East</td>\n",
    "    </tr>\n",
    "  </tbody>\n",
    "</table>\n",
    "\"\"\""
   ]
  },
  {
   "cell_type": "code",
   "execution_count": 20,
   "id": "9aea162b",
   "metadata": {},
   "outputs": [
    {
     "data": {
      "text/html": [
       "<div>\n",
       "<style scoped>\n",
       "    .dataframe tbody tr th:only-of-type {\n",
       "        vertical-align: middle;\n",
       "    }\n",
       "\n",
       "    .dataframe tbody tr th {\n",
       "        vertical-align: top;\n",
       "    }\n",
       "\n",
       "    .dataframe thead tr th {\n",
       "        text-align: left;\n",
       "    }\n",
       "</style>\n",
       "<table border=\"1\" class=\"dataframe\">\n",
       "  <thead>\n",
       "    <tr>\n",
       "      <th></th>\n",
       "      <th colspan=\"5\" halign=\"left\">Year 2020</th>\n",
       "    </tr>\n",
       "    <tr>\n",
       "      <th></th>\n",
       "      <th>date</th>\n",
       "      <th>name</th>\n",
       "      <th>year</th>\n",
       "      <th>cost</th>\n",
       "      <th>region</th>\n",
       "    </tr>\n",
       "  </thead>\n",
       "  <tbody>\n",
       "    <tr>\n",
       "      <th>0</th>\n",
       "      <td>2020-01-01</td>\n",
       "      <td>Jenny</td>\n",
       "      <td>1998</td>\n",
       "      <td>1.20</td>\n",
       "      <td>South</td>\n",
       "    </tr>\n",
       "    <tr>\n",
       "      <th>1</th>\n",
       "      <td>2020-01-02</td>\n",
       "      <td>Alice</td>\n",
       "      <td>1992</td>\n",
       "      <td>-1.34</td>\n",
       "      <td>East</td>\n",
       "    </tr>\n",
       "  </tbody>\n",
       "</table>\n",
       "</div>"
      ],
      "text/plain": [
       "    Year 2020                          \n",
       "         date   name  year  cost region\n",
       "0  2020-01-01  Jenny  1998  1.20  South\n",
       "1  2020-01-02  Alice  1992 -1.34   East"
      ]
     },
     "execution_count": 20,
     "metadata": {},
     "output_type": "execute_result"
    }
   ],
   "source": [
    "dfs = pd.read_html(html_string)\n",
    "dfs[0]"
   ]
  },
  {
   "cell_type": "code",
   "execution_count": 21,
   "id": "31aff881",
   "metadata": {},
   "outputs": [
    {
     "data": {
      "text/html": [
       "<div>\n",
       "<style scoped>\n",
       "    .dataframe tbody tr th:only-of-type {\n",
       "        vertical-align: middle;\n",
       "    }\n",
       "\n",
       "    .dataframe tbody tr th {\n",
       "        vertical-align: top;\n",
       "    }\n",
       "\n",
       "    .dataframe thead th {\n",
       "        text-align: right;\n",
       "    }\n",
       "</style>\n",
       "<table border=\"1\" class=\"dataframe\">\n",
       "  <thead>\n",
       "    <tr style=\"text-align: right;\">\n",
       "      <th></th>\n",
       "      <th>date</th>\n",
       "      <th>name</th>\n",
       "      <th>year</th>\n",
       "      <th>cost</th>\n",
       "      <th>region</th>\n",
       "    </tr>\n",
       "  </thead>\n",
       "  <tbody>\n",
       "    <tr>\n",
       "      <th>0</th>\n",
       "      <td>2020-01-01</td>\n",
       "      <td>Jenny</td>\n",
       "      <td>1998</td>\n",
       "      <td>1.20</td>\n",
       "      <td>South</td>\n",
       "    </tr>\n",
       "    <tr>\n",
       "      <th>1</th>\n",
       "      <td>2020-01-02</td>\n",
       "      <td>Alice</td>\n",
       "      <td>1992</td>\n",
       "      <td>-1.34</td>\n",
       "      <td>East</td>\n",
       "    </tr>\n",
       "  </tbody>\n",
       "</table>\n",
       "</div>"
      ],
      "text/plain": [
       "         date   name  year  cost region\n",
       "0  2020-01-01  Jenny  1998  1.20  South\n",
       "1  2020-01-02  Alice  1992 -1.34   East"
      ]
     },
     "execution_count": 21,
     "metadata": {},
     "output_type": "execute_result"
    }
   ],
   "source": [
    "# specify header row\n",
    "dfs = pd.read_html(html_string, header=1)\n",
    "dfs[0]"
   ]
  },
  {
   "cell_type": "code",
   "execution_count": 22,
   "id": "6a37764a",
   "metadata": {},
   "outputs": [
    {
     "data": {
      "text/html": [
       "<div>\n",
       "<style scoped>\n",
       "    .dataframe tbody tr th:only-of-type {\n",
       "        vertical-align: middle;\n",
       "    }\n",
       "\n",
       "    .dataframe tbody tr th {\n",
       "        vertical-align: top;\n",
       "    }\n",
       "\n",
       "    .dataframe thead th {\n",
       "        text-align: right;\n",
       "    }\n",
       "</style>\n",
       "<table border=\"1\" class=\"dataframe\">\n",
       "  <thead>\n",
       "    <tr style=\"text-align: right;\">\n",
       "      <th></th>\n",
       "      <th>name</th>\n",
       "      <th>year</th>\n",
       "      <th>cost</th>\n",
       "      <th>region</th>\n",
       "    </tr>\n",
       "    <tr>\n",
       "      <th>date</th>\n",
       "      <th></th>\n",
       "      <th></th>\n",
       "      <th></th>\n",
       "      <th></th>\n",
       "    </tr>\n",
       "  </thead>\n",
       "  <tbody>\n",
       "    <tr>\n",
       "      <th>2020-01-01</th>\n",
       "      <td>Jenny</td>\n",
       "      <td>1998</td>\n",
       "      <td>1.20</td>\n",
       "      <td>South</td>\n",
       "    </tr>\n",
       "    <tr>\n",
       "      <th>2020-01-02</th>\n",
       "      <td>Alice</td>\n",
       "      <td>1992</td>\n",
       "      <td>-1.34</td>\n",
       "      <td>East</td>\n",
       "    </tr>\n",
       "  </tbody>\n",
       "</table>\n",
       "</div>"
      ],
      "text/plain": [
       "             name  year  cost region\n",
       "date                                \n",
       "2020-01-01  Jenny  1998  1.20  South\n",
       "2020-01-02  Alice  1992 -1.34   East"
      ]
     },
     "execution_count": 22,
     "metadata": {},
     "output_type": "execute_result"
    }
   ],
   "source": [
    "# specify an index column\n",
    "dfs = pd.read_html(html_string, header=1, index_col=0)\n",
    "dfs[0]"
   ]
  },
  {
   "cell_type": "markdown",
   "id": "fdba6e34",
   "metadata": {},
   "source": [
    "**Matching a table with match**"
   ]
  },
  {
   "cell_type": "code",
   "execution_count": 23,
   "id": "ca469aa0",
   "metadata": {},
   "outputs": [],
   "source": [
    "html_string = \"\"\"\n",
    "<table id=\"report\">\n",
    "  <caption>2020 report</caption>\n",
    "  <thead>\n",
    "    <tr>\n",
    "      <th>date</th>\n",
    "      <th>name</th>\n",
    "    </tr>\n",
    "  </thead>\n",
    "  <tbody>\n",
    "    <tr>\n",
    "      <td>2020-01-01</td>\n",
    "      <td>Jenny</td>\n",
    "    </tr>\n",
    "    <tr>\n",
    "      <td>2020-01-02</td>\n",
    "      <td>Alice</td>\n",
    "    </tr>\n",
    "  </tbody>\n",
    "</table>\n",
    "\n",
    "\n",
    "<table>\n",
    "  <caption>Average income</caption>\n",
    "  <thead>\n",
    "    <tr>\n",
    "      <th>name</th>\n",
    "      <th>income</th>\n",
    "    </tr>\n",
    "  </thead>\n",
    "  <tbody>\n",
    "    <tr>\n",
    "      <td>Tom</td>\n",
    "      <td>200</td>\n",
    "    </tr>\n",
    "    <tr>\n",
    "      <td>James</td>\n",
    "      <td>300</td>\n",
    "    </tr>\n",
    "  </tbody>\n",
    "</table>\n",
    "\"\"\""
   ]
  },
  {
   "cell_type": "code",
   "execution_count": 26,
   "id": "79498b9c",
   "metadata": {},
   "outputs": [
    {
     "data": {
      "text/html": [
       "<div>\n",
       "<style scoped>\n",
       "    .dataframe tbody tr th:only-of-type {\n",
       "        vertical-align: middle;\n",
       "    }\n",
       "\n",
       "    .dataframe tbody tr th {\n",
       "        vertical-align: top;\n",
       "    }\n",
       "\n",
       "    .dataframe thead th {\n",
       "        text-align: right;\n",
       "    }\n",
       "</style>\n",
       "<table border=\"1\" class=\"dataframe\">\n",
       "  <thead>\n",
       "    <tr style=\"text-align: right;\">\n",
       "      <th></th>\n",
       "      <th>date</th>\n",
       "      <th>name</th>\n",
       "    </tr>\n",
       "  </thead>\n",
       "  <tbody>\n",
       "    <tr>\n",
       "      <th>0</th>\n",
       "      <td>2020-01-01</td>\n",
       "      <td>Jenny</td>\n",
       "    </tr>\n",
       "    <tr>\n",
       "      <th>1</th>\n",
       "      <td>2020-01-02</td>\n",
       "      <td>Alice</td>\n",
       "    </tr>\n",
       "  </tbody>\n",
       "</table>\n",
       "</div>"
      ],
      "text/plain": [
       "         date   name\n",
       "0  2020-01-01  Jenny\n",
       "1  2020-01-02  Alice"
      ]
     },
     "execution_count": 26,
     "metadata": {},
     "output_type": "execute_result"
    },
    {
     "data": {
      "text/html": [
       "<div>\n",
       "<style scoped>\n",
       "    .dataframe tbody tr th:only-of-type {\n",
       "        vertical-align: middle;\n",
       "    }\n",
       "\n",
       "    .dataframe tbody tr th {\n",
       "        vertical-align: top;\n",
       "    }\n",
       "\n",
       "    .dataframe thead th {\n",
       "        text-align: right;\n",
       "    }\n",
       "</style>\n",
       "<table border=\"1\" class=\"dataframe\">\n",
       "  <thead>\n",
       "    <tr style=\"text-align: right;\">\n",
       "      <th></th>\n",
       "      <th>name</th>\n",
       "      <th>income</th>\n",
       "    </tr>\n",
       "  </thead>\n",
       "  <tbody>\n",
       "    <tr>\n",
       "      <th>0</th>\n",
       "      <td>Tom</td>\n",
       "      <td>200</td>\n",
       "    </tr>\n",
       "    <tr>\n",
       "      <th>1</th>\n",
       "      <td>James</td>\n",
       "      <td>300</td>\n",
       "    </tr>\n",
       "  </tbody>\n",
       "</table>\n",
       "</div>"
      ],
      "text/plain": [
       "    name  income\n",
       "0    Tom     200\n",
       "1  James     300"
      ]
     },
     "execution_count": 26,
     "metadata": {},
     "output_type": "execute_result"
    },
    {
     "data": {
      "text/html": [
       "<div>\n",
       "<style scoped>\n",
       "    .dataframe tbody tr th:only-of-type {\n",
       "        vertical-align: middle;\n",
       "    }\n",
       "\n",
       "    .dataframe tbody tr th {\n",
       "        vertical-align: top;\n",
       "    }\n",
       "\n",
       "    .dataframe thead th {\n",
       "        text-align: right;\n",
       "    }\n",
       "</style>\n",
       "<table border=\"1\" class=\"dataframe\">\n",
       "  <thead>\n",
       "    <tr style=\"text-align: right;\">\n",
       "      <th></th>\n",
       "      <th>name</th>\n",
       "      <th>income</th>\n",
       "    </tr>\n",
       "  </thead>\n",
       "  <tbody>\n",
       "    <tr>\n",
       "      <th>0</th>\n",
       "      <td>Tom</td>\n",
       "      <td>200</td>\n",
       "    </tr>\n",
       "    <tr>\n",
       "      <th>1</th>\n",
       "      <td>James</td>\n",
       "      <td>300</td>\n",
       "    </tr>\n",
       "  </tbody>\n",
       "</table>\n",
       "</div>"
      ],
      "text/plain": [
       "    name  income\n",
       "0    Tom     200\n",
       "1  James     300"
      ]
     },
     "execution_count": 26,
     "metadata": {},
     "output_type": "execute_result"
    }
   ],
   "source": [
    "# text in caption\n",
    "dfs = pd.read_html(html_string, match='2020 report')\n",
    "dfs[0]\n",
    "\n",
    "# text in table cell\n",
    "dfs = pd.read_html(html_string, match='James')\n",
    "dfs[0]\n",
    "\n",
    "# text in caption\n",
    "dfs = pd.read_html(html_string, match='Average income')\n",
    "dfs[0]"
   ]
  },
  {
   "cell_type": "markdown",
   "id": "2a278d28",
   "metadata": {},
   "source": [
    "**Filtering tables with attrs**"
   ]
  },
  {
   "cell_type": "code",
   "execution_count": 28,
   "id": "be759da0",
   "metadata": {},
   "outputs": [
    {
     "data": {
      "text/html": [
       "<div>\n",
       "<style scoped>\n",
       "    .dataframe tbody tr th:only-of-type {\n",
       "        vertical-align: middle;\n",
       "    }\n",
       "\n",
       "    .dataframe tbody tr th {\n",
       "        vertical-align: top;\n",
       "    }\n",
       "\n",
       "    .dataframe thead th {\n",
       "        text-align: right;\n",
       "    }\n",
       "</style>\n",
       "<table border=\"1\" class=\"dataframe\">\n",
       "  <thead>\n",
       "    <tr style=\"text-align: right;\">\n",
       "      <th></th>\n",
       "      <th>date</th>\n",
       "      <th>name</th>\n",
       "    </tr>\n",
       "  </thead>\n",
       "  <tbody>\n",
       "    <tr>\n",
       "      <th>0</th>\n",
       "      <td>2020-01-01</td>\n",
       "      <td>Jenny</td>\n",
       "    </tr>\n",
       "    <tr>\n",
       "      <th>1</th>\n",
       "      <td>2020-01-02</td>\n",
       "      <td>Alice</td>\n",
       "    </tr>\n",
       "  </tbody>\n",
       "</table>\n",
       "</div>"
      ],
      "text/plain": [
       "         date   name\n",
       "0  2020-01-01  Jenny\n",
       "1  2020-01-02  Alice"
      ]
     },
     "execution_count": 28,
     "metadata": {},
     "output_type": "execute_result"
    }
   ],
   "source": [
    "dfs=pd.read_html(html_string, attrs={'id': 'report'})\n",
    "dfs[0]"
   ]
  },
  {
   "cell_type": "markdown",
   "id": "ffef1a9f",
   "metadata": {},
   "source": [
    "**Working with missing values**"
   ]
  },
  {
   "cell_type": "code",
   "execution_count": 29,
   "id": "aa486151",
   "metadata": {},
   "outputs": [],
   "source": [
    "html_string = \"\"\"\n",
    "<table>\n",
    "  <tr>\n",
    "    <th>date</th>\n",
    "    <th>name</th>\n",
    "    <th>year</th>\n",
    "    <th>cost</th>\n",
    "    <th>region</th>\n",
    "  </tr>\n",
    "  <tr>\n",
    "    <td>2020-01-01</td>\n",
    "    <td>Jenny</td>\n",
    "    <td>1998</td>\n",
    "    <td>1.2</td>\n",
    "    <td>South</td>\n",
    "  </tr>\n",
    "  <tr>\n",
    "    <td>2020-01-02</td>\n",
    "    <td>Alice</td>\n",
    "    <td>1992</td>\n",
    "    <td></td>\n",
    "    <td>East</td>\n",
    "  </tr>\n",
    "  <tr>\n",
    "    <td>2020-01-03</td>\n",
    "    <td>Tomas</td>\n",
    "    <td>1982</td>\n",
    "    <td></td>\n",
    "    <td>South</td>\n",
    "  </tr>\n",
    "</table>\n",
    "\"\"\""
   ]
  },
  {
   "cell_type": "code",
   "execution_count": 30,
   "id": "567f11f8",
   "metadata": {
    "scrolled": true
   },
   "outputs": [
    {
     "data": {
      "text/html": [
       "<div>\n",
       "<style scoped>\n",
       "    .dataframe tbody tr th:only-of-type {\n",
       "        vertical-align: middle;\n",
       "    }\n",
       "\n",
       "    .dataframe tbody tr th {\n",
       "        vertical-align: top;\n",
       "    }\n",
       "\n",
       "    .dataframe thead th {\n",
       "        text-align: right;\n",
       "    }\n",
       "</style>\n",
       "<table border=\"1\" class=\"dataframe\">\n",
       "  <thead>\n",
       "    <tr style=\"text-align: right;\">\n",
       "      <th></th>\n",
       "      <th>date</th>\n",
       "      <th>name</th>\n",
       "      <th>year</th>\n",
       "      <th>cost</th>\n",
       "      <th>region</th>\n",
       "    </tr>\n",
       "  </thead>\n",
       "  <tbody>\n",
       "    <tr>\n",
       "      <th>0</th>\n",
       "      <td>2020-01-01</td>\n",
       "      <td>Jenny</td>\n",
       "      <td>1998</td>\n",
       "      <td>1.20</td>\n",
       "      <td>South</td>\n",
       "    </tr>\n",
       "    <tr>\n",
       "      <th>1</th>\n",
       "      <td>2020-01-02</td>\n",
       "      <td>Alice</td>\n",
       "      <td>1992</td>\n",
       "      <td>NaN</td>\n",
       "      <td>East</td>\n",
       "    </tr>\n",
       "    <tr>\n",
       "      <th>2</th>\n",
       "      <td>2020-01-03</td>\n",
       "      <td>Tomas</td>\n",
       "      <td>1982</td>\n",
       "      <td>NaN</td>\n",
       "      <td>South</td>\n",
       "    </tr>\n",
       "  </tbody>\n",
       "</table>\n",
       "</div>"
      ],
      "text/plain": [
       "         date   name  year  cost region\n",
       "0  2020-01-01  Jenny  1998  1.20  South\n",
       "1  2020-01-02  Alice  1992   NaN   East\n",
       "2  2020-01-03  Tomas  1982   NaN  South"
      ]
     },
     "execution_count": 30,
     "metadata": {},
     "output_type": "execute_result"
    }
   ],
   "source": [
    "dfs = pd.read_html(html_string)\n",
    "dfs[0]"
   ]
  },
  {
   "cell_type": "code",
   "execution_count": 31,
   "id": "febfad90",
   "metadata": {},
   "outputs": [
    {
     "data": {
      "text/html": [
       "<div>\n",
       "<style scoped>\n",
       "    .dataframe tbody tr th:only-of-type {\n",
       "        vertical-align: middle;\n",
       "    }\n",
       "\n",
       "    .dataframe tbody tr th {\n",
       "        vertical-align: top;\n",
       "    }\n",
       "\n",
       "    .dataframe thead th {\n",
       "        text-align: right;\n",
       "    }\n",
       "</style>\n",
       "<table border=\"1\" class=\"dataframe\">\n",
       "  <thead>\n",
       "    <tr style=\"text-align: right;\">\n",
       "      <th></th>\n",
       "      <th>date</th>\n",
       "      <th>name</th>\n",
       "      <th>year</th>\n",
       "      <th>cost</th>\n",
       "      <th>region</th>\n",
       "    </tr>\n",
       "  </thead>\n",
       "  <tbody>\n",
       "    <tr>\n",
       "      <th>0</th>\n",
       "      <td>2020-01-01</td>\n",
       "      <td>Jenny</td>\n",
       "      <td>1998</td>\n",
       "      <td>1.2</td>\n",
       "      <td>South</td>\n",
       "    </tr>\n",
       "    <tr>\n",
       "      <th>1</th>\n",
       "      <td>2020-01-02</td>\n",
       "      <td>Alice</td>\n",
       "      <td>1992</td>\n",
       "      <td></td>\n",
       "      <td>East</td>\n",
       "    </tr>\n",
       "    <tr>\n",
       "      <th>2</th>\n",
       "      <td>2020-01-03</td>\n",
       "      <td>Tomas</td>\n",
       "      <td>1982</td>\n",
       "      <td></td>\n",
       "      <td>South</td>\n",
       "    </tr>\n",
       "  </tbody>\n",
       "</table>\n",
       "</div>"
      ],
      "text/plain": [
       "         date   name  year cost region\n",
       "0  2020-01-01  Jenny  1998  1.2  South\n",
       "1  2020-01-02  Alice  1992        East\n",
       "2  2020-01-03  Tomas  1982       South"
      ]
     },
     "execution_count": 31,
     "metadata": {},
     "output_type": "execute_result"
    }
   ],
   "source": [
    "# To keep these empty strings, we can set the argument keep_default_na to False\n",
    "\n",
    "dfs = pd.read_html(html_string, keep_default_na=False)\n",
    "dfs[0]"
   ]
  },
  {
   "cell_type": "code",
   "execution_count": 32,
   "id": "c3deb8cb",
   "metadata": {},
   "outputs": [
    {
     "data": {
      "text/html": [
       "<div>\n",
       "<style scoped>\n",
       "    .dataframe tbody tr th:only-of-type {\n",
       "        vertical-align: middle;\n",
       "    }\n",
       "\n",
       "    .dataframe tbody tr th {\n",
       "        vertical-align: top;\n",
       "    }\n",
       "\n",
       "    .dataframe thead th {\n",
       "        text-align: right;\n",
       "    }\n",
       "</style>\n",
       "<table border=\"1\" class=\"dataframe\">\n",
       "  <thead>\n",
       "    <tr style=\"text-align: right;\">\n",
       "      <th></th>\n",
       "      <th>date</th>\n",
       "      <th>name</th>\n",
       "      <th>year</th>\n",
       "      <th>cost</th>\n",
       "      <th>region</th>\n",
       "    </tr>\n",
       "  </thead>\n",
       "  <tbody>\n",
       "    <tr>\n",
       "      <th>0</th>\n",
       "      <td>2020-01-01</td>\n",
       "      <td>Jenny</td>\n",
       "      <td>1998</td>\n",
       "      <td>1.20</td>\n",
       "      <td>South</td>\n",
       "    </tr>\n",
       "    <tr>\n",
       "      <th>1</th>\n",
       "      <td>2020-01-02</td>\n",
       "      <td>Alice</td>\n",
       "      <td>1992</td>\n",
       "      <td>NaN</td>\n",
       "      <td>East</td>\n",
       "    </tr>\n",
       "    <tr>\n",
       "      <th>2</th>\n",
       "      <td>2020-01-03</td>\n",
       "      <td>Tomas</td>\n",
       "      <td>1982</td>\n",
       "      <td>NaN</td>\n",
       "      <td>South</td>\n",
       "    </tr>\n",
       "  </tbody>\n",
       "</table>\n",
       "</div>"
      ],
      "text/plain": [
       "         date   name  year  cost region\n",
       "0  2020-01-01  Jenny  1998  1.20  South\n",
       "1  2020-01-02  Alice  1992   NaN   East\n",
       "2  2020-01-03  Tomas  1982   NaN  South"
      ]
     },
     "execution_count": 32,
     "metadata": {},
     "output_type": "execute_result"
    }
   ],
   "source": [
    "# Sometimes, you may have other character representations for missing values. If we know what kind of characters used as missing values in the table, \n",
    "# we can handle them using na_values parameter:\n",
    "\n",
    "dfs = pd.read_html(html_string, na_values=['?', '&'])\n",
    "dfs[0]"
   ]
  },
  {
   "cell_type": "code",
   "execution_count": 33,
   "id": "b0b6f256",
   "metadata": {},
   "outputs": [
    {
     "data": {
      "text/html": [
       "<div>\n",
       "<style scoped>\n",
       "    .dataframe tbody tr th:only-of-type {\n",
       "        vertical-align: middle;\n",
       "    }\n",
       "\n",
       "    .dataframe tbody tr th {\n",
       "        vertical-align: top;\n",
       "    }\n",
       "\n",
       "    .dataframe thead th {\n",
       "        text-align: right;\n",
       "    }\n",
       "</style>\n",
       "<table border=\"1\" class=\"dataframe\">\n",
       "  <thead>\n",
       "    <tr style=\"text-align: right;\">\n",
       "      <th></th>\n",
       "      <th>date</th>\n",
       "      <th>name</th>\n",
       "      <th>year</th>\n",
       "      <th>cost</th>\n",
       "      <th>region</th>\n",
       "    </tr>\n",
       "  </thead>\n",
       "  <tbody>\n",
       "    <tr>\n",
       "      <th>0</th>\n",
       "      <td>2020-01-01</td>\n",
       "      <td>Jenny</td>\n",
       "      <td>1998</td>\n",
       "      <td>1.20</td>\n",
       "      <td>South</td>\n",
       "    </tr>\n",
       "    <tr>\n",
       "      <th>1</th>\n",
       "      <td>2020-01-02</td>\n",
       "      <td>Alice</td>\n",
       "      <td>1992</td>\n",
       "      <td>NaN</td>\n",
       "      <td>East</td>\n",
       "    </tr>\n",
       "    <tr>\n",
       "      <th>2</th>\n",
       "      <td>2020-01-03</td>\n",
       "      <td>Tomas</td>\n",
       "      <td>1982</td>\n",
       "      <td>NaN</td>\n",
       "      <td>South</td>\n",
       "    </tr>\n",
       "  </tbody>\n",
       "</table>\n",
       "</div>"
      ],
      "text/plain": [
       "         date   name  year  cost region\n",
       "0  2020-01-01  Jenny  1998  1.20  South\n",
       "1  2020-01-02  Alice  1992   NaN   East\n",
       "2  2020-01-03  Tomas  1982   NaN  South"
      ]
     },
     "execution_count": 33,
     "metadata": {},
     "output_type": "execute_result"
    }
   ],
   "source": [
    "# When the DataFrame is already created, we can use pandas replace() function to handle these values:\n",
    "df_clean = dfs[0].replace({ \"?\": np.nan, \"&\": np.nan })\n",
    "df_clean"
   ]
  }
 ],
 "metadata": {
  "kernelspec": {
   "display_name": "Python 3",
   "language": "python",
   "name": "python3"
  },
  "language_info": {
   "codemirror_mode": {
    "name": "ipython",
    "version": 3
   },
   "file_extension": ".py",
   "mimetype": "text/x-python",
   "name": "python",
   "nbconvert_exporter": "python",
   "pygments_lexer": "ipython3",
   "version": "3.9.12"
  }
 },
 "nbformat": 4,
 "nbformat_minor": 5
}
