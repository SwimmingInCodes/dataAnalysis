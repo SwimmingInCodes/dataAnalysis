{
 "cells": [
  {
   "cell_type": "code",
   "execution_count": null,
   "id": "e22c1e17",
   "metadata": {},
   "outputs": [],
   "source": [
    "\n",
    "import pandas as pd\n",
    "import numpy as np\n",
    "import seaborn as sns\n",
    "import matplotlib.pyplot as plt\n",
    "from datetime import datetime, date, time\n",
    "# import pandas_profiling\n",
    "\n",
    "from IPython.core.interactiveshell import InteractiveShell\n",
    "InteractiveShell.ast_node_interactivity='all'\n",
    "\n",
    "%config InlineBackend.figure_format='svg'\n",
    "plt.rcParams['figure.dpi']=120\n",
    "\n",
    "pd.options.display.float_format='{:,.2f}'.format\n",
    "pd.set_option('display.max_colwidth', None)\n"
   ]
  },
  {
   "cell_type": "code",
   "execution_count": null,
   "id": "ecd5abe6",
   "metadata": {},
   "outputs": [],
   "source": [
    "df=pd.read_csv('./pandasData/house_price1.csv')\n",
    "df.columns"
   ]
  },
  {
   "cell_type": "markdown",
   "id": "108174b1",
   "metadata": {},
   "source": [
    "<h3 style='color:blue'>1. Filter columns</h3>\n",
    "\n",
    "- Only need a couple of columns from the dataset? Use `usecols`"
   ]
  },
  {
   "cell_type": "code",
   "execution_count": null,
   "id": "2676a135",
   "metadata": {
    "scrolled": true
   },
   "outputs": [],
   "source": [
    "pd.read_csv(\"./pandasData/TESLA.csv\", usecols=[\"Date\", \"Open\", \"High\", \"Low\"])"
   ]
  },
  {
   "cell_type": "markdown",
   "id": "e1462a24",
   "metadata": {},
   "source": [
    "<h3 style='color:blue'>2. Parse dates on read</h3>\n",
    "\n",
    "- No need to do `pd.to_datetime` anymore, parse it on read!"
   ]
  },
  {
   "cell_type": "code",
   "execution_count": null,
   "id": "75cb7c80",
   "metadata": {},
   "outputs": [],
   "source": [
    "ts=pd.read_csv(\"./pandasData/TESLA.csv\", parse_dates=[\"Date\"])\n",
    "ts.info()"
   ]
  },
  {
   "cell_type": "markdown",
   "id": "c37bdba8",
   "metadata": {},
   "source": [
    "<h3 style='color:blue'>3. Specify Data Types</h3>\n",
    "\n",
    "- **Setting category data types at read can save a ton of memory for data frames!**"
   ]
  },
  {
   "cell_type": "code",
   "execution_count": null,
   "id": "12991f0b",
   "metadata": {},
   "outputs": [],
   "source": [
    "hp=pd.read_csv(\"./pandasData/house_price1.csv\", dtype={\"HouseStyle\": \"category\"})\n",
    "\n",
    "\n",
    "hp.HouseStyle.value_counts(normalize=True)"
   ]
  },
  {
   "cell_type": "markdown",
   "id": "3e8dbf99",
   "metadata": {},
   "source": [
    "<h3 style='color:blue'>4. Set index</h3>\n",
    "\n",
    "- Setting indexes are especially useful for time series data."
   ]
  },
  {
   "cell_type": "code",
   "execution_count": null,
   "id": "893ad0d2",
   "metadata": {},
   "outputs": [],
   "source": [
    "pd.read_csv(\"./pandasData/TESLA.csv\", index_col=\"Date\")"
   ]
  },
  {
   "cell_type": "markdown",
   "id": "6acbc922",
   "metadata": {},
   "source": [
    "<h3 style='color:blue'>5. No. of rows to read</h3>\n",
    "\n",
    "- Don’t want to read in a dataset with millions of `rows` before having a peek at it? Use nrows!"
   ]
  },
  {
   "cell_type": "code",
   "execution_count": null,
   "id": "fe413956",
   "metadata": {},
   "outputs": [],
   "source": [
    "pd.read_csv(\"./pandasData/TESLA.csv\", nrows=100)"
   ]
  },
  {
   "cell_type": "markdown",
   "id": "ba273ba3",
   "metadata": {},
   "source": [
    "<h3 style='color:blue'>6. Skip rows</h3>\n",
    "\n",
    "- Does your data set have rows with faulty data? Skip them!"
   ]
  },
  {
   "cell_type": "code",
   "execution_count": null,
   "id": "3885df92",
   "metadata": {},
   "outputs": [],
   "source": [
    "pd.read_csv(\"./pandasData/house_price1.csv\", skiprows=[1, 5])  # skips line 1 and 5\n",
    "pd.read_csv(\"./pandasData/house_price1.csv\", skiprows=100)  # skips the first 100 lines\n",
    "pd.read_csv(\"./pandasData/house_price1.csv\", skiprows=lambda x: x > 0 and np.random.rand() > 0.1) # skip 90% of the rows"
   ]
  },
  {
   "cell_type": "markdown",
   "id": "81f6b95f",
   "metadata": {},
   "source": [
    "<h3 style='color:blue'>7. Specify NA values</h3>\n",
    "\n",
    "- If your data has values that are supposed to be NA, i.e. values such as ? set it at read so you won’t have to convert it later."
   ]
  },
  {
   "cell_type": "code",
   "execution_count": null,
   "id": "21213fab",
   "metadata": {},
   "outputs": [],
   "source": [
    "pd.read_csv(\"./pandasData/house_price1.csv\", na_values=[\"?\"])"
   ]
  },
  {
   "cell_type": "markdown",
   "id": "20c9cd09",
   "metadata": {},
   "source": [
    "<h3 style='color:blue'>8. Setting boolean values</h3>\n",
    "\n",
    "- Have a boolean column that’s in the form of Yes and No? Tell pandas about it!"
   ]
  },
  {
   "cell_type": "code",
   "execution_count": null,
   "id": "f403cde3",
   "metadata": {},
   "outputs": [],
   "source": [
    "pd.read_csv(\"./pandasData/house_price1.csv\", true_values=[\"yes\"], false_values=[\"no\"])"
   ]
  },
  {
   "cell_type": "markdown",
   "id": "512e64ed",
   "metadata": {},
   "source": [
    "<h3 style='color:blue'>10. Copy and Paste into Data Frames</h3>\n",
    "\n",
    "- Looking at some data on Excel but don’t want to download it? Copy it! Pandas can read from your clipboard."
   ]
  },
  {
   "cell_type": "code",
   "execution_count": null,
   "id": "68c2862b",
   "metadata": {},
   "outputs": [],
   "source": [
    "df = pd.read_clipboard() "
   ]
  },
  {
   "cell_type": "markdown",
   "id": "71a47109",
   "metadata": {},
   "source": [
    "<h3 style='color:blue'>11. Read tables from PDF files</h3>"
   ]
  },
  {
   "cell_type": "code",
   "execution_count": null,
   "id": "32ff4ca1",
   "metadata": {},
   "outputs": [],
   "source": [
    "# %pip install tabula-py\n",
    "\n",
    "from tabula import read_pdf\n",
    "# Read pdf into list of DataFrame\n",
    "df = read_pdf('test.pdf', pages='all')"
   ]
  },
  {
   "cell_type": "markdown",
   "id": "828654ef",
   "metadata": {},
   "source": [
    "<h2 style='color:blue'>Exploratory Data Analysis (EDA)</h2>"
   ]
  },
  {
   "cell_type": "markdown",
   "id": "e5385c9d",
   "metadata": {},
   "source": [
    "<h3 style='color:blue'>12. EDA cheat</h3>\n",
    "\n",
    "- Want to visualize your dataset but don’t want to write code for plots? With pandas-profiling, you can do it with just one line of code.\n"
   ]
  },
  {
   "cell_type": "code",
   "execution_count": null,
   "id": "81c4cda3",
   "metadata": {
    "scrolled": true
   },
   "outputs": [],
   "source": [
    "# %pip install pandas-profiling\n",
    "\n",
    "import pandas_profiling\n",
    "\n",
    "df = pd.read_csv(\"./pandasData/house_price1.csv\")\n",
    "profile = df.profile_report(title=\"Pandas Profiling Report\")\n",
    "profile.to_file(output_file=\"output.html\")"
   ]
  },
  {
   "cell_type": "markdown",
   "id": "5cfc59cf",
   "metadata": {},
   "source": [
    "# <h3 style='color:blue'>Data Types (dtypes)</h3>"
   ]
  },
  {
   "cell_type": "code",
   "execution_count": null,
   "id": "73fa6b5a",
   "metadata": {},
   "outputs": [],
   "source": [
    "# selecting\n",
    "df.select_dtypes(include=\"number\")\n",
    "df.select_dtypes(include=[\"category\", \"datetime\"])\n",
    "\n",
    "# exluding\n",
    "df.select_dtypes(exclude=\"object\")\n",
    "\n"
   ]
  },
  {
   "cell_type": "markdown",
   "id": "b2a27d58",
   "metadata": {},
   "source": [
    "<h3 style='color:blue'>15. Downcastings</h3>\n",
    "\n",
    "- Pandas’ `to_numeric` has a nifty feature to downcast the type, allowing you to reduce the data frame’s size."
   ]
  },
  {
   "cell_type": "code",
   "execution_count": null,
   "id": "73c9fb87",
   "metadata": {},
   "outputs": [],
   "source": [
    "pd.to_numeric(df.numeric_col, downcast=\"integer\") # smallest signed int dtype\n",
    "pd.to_numeric(df.numeric_col, downcast=\"float\")  # smallest float dtype"
   ]
  },
  {
   "cell_type": "markdown",
   "id": "3c4e3036",
   "metadata": {},
   "source": [
    "<h3 style='color:blue'>16. Manual conversions</h3>\n",
    "\n",
    "- If there are NaN values in the data, errors=\"coerce\" can help prevent those nasty errors. At the same time, you can fill those NA values with reasonable values using .fillna"
   ]
  },
  {
   "cell_type": "code",
   "execution_count": null,
   "id": "58dd4e0a",
   "metadata": {},
   "outputs": [],
   "source": [
    "# apply to whole data frame\n",
    "df = df.apply(pd.to_numeric, errors=\"coerce\")\n",
    "\n",
    "# apply to specific columns\n",
    "pd.to_numeric(df.numeric_column, errors=\"coerce\")\n",
    "\n",
    "# filling NA values with zero\n",
    "pd.to_numeric(df.numeric_column, errors=\"coerce\").fillna(0)"
   ]
  },
  {
   "cell_type": "markdown",
   "id": "a46d286c",
   "metadata": {},
   "source": [
    "<h3 style='color:blue'>17. Convert all at once</h3>"
   ]
  },
  {
   "cell_type": "code",
   "execution_count": null,
   "id": "ca9caba3",
   "metadata": {},
   "outputs": [],
   "source": [
    "df = df.astype(\n",
    "    {\n",
    "        \"date\": \"datetime64[ns]\",\n",
    "        \"price\": \"int\",\n",
    "        \"is_weekend\": \"bool\",\n",
    "        \"status\": \"category\",\n",
    "    }\n",
    ")"
   ]
  },
  {
   "cell_type": "code",
   "execution_count": null,
   "id": "cb664656",
   "metadata": {},
   "outputs": [],
   "source": []
  },
  {
   "cell_type": "markdown",
   "id": "861de86b",
   "metadata": {},
   "source": [
    "<h2 style='color:blue'>Column operations</h2>"
   ]
  },
  {
   "cell_type": "markdown",
   "id": "8ebf3f27",
   "metadata": {},
   "source": [
    "<h3 style='color:blue'>18. Renaming columns</h3>"
   ]
  },
  {
   "cell_type": "code",
   "execution_count": null,
   "id": "58589f63",
   "metadata": {},
   "outputs": [],
   "source": [
    "df = df.rename({\"PRICE\": \"price\", \"Date (mm/dd/yyyy)\": \"date\"}, axis=1)"
   ]
  },
  {
   "cell_type": "markdown",
   "id": "37e01286",
   "metadata": {},
   "source": [
    "<h3 style='color:blue'>19. Add suffix and prefix</h3>"
   ]
  },
  {
   "cell_type": "code",
   "execution_count": null,
   "id": "c3bfec19",
   "metadata": {},
   "outputs": [],
   "source": [
    "df.add_prefix(\"pre_\")\n",
    "df.add_suffix(\"_suf\")"
   ]
  },
  {
   "cell_type": "markdown",
   "id": "c1218fe3",
   "metadata": {},
   "source": [
    "<h3 style='color:blue'>21. Insert columns at specific positions\n",
    "</h3>"
   ]
  },
  {
   "cell_type": "code",
   "execution_count": null,
   "id": "f7771854",
   "metadata": {},
   "outputs": [],
   "source": [
    "random_col = np.random.randint(10, size=len(df))\n",
    "df.insert(3, 'random_col', random_col) # inserts at third column"
   ]
  },
  {
   "cell_type": "markdown",
   "id": "8aadd22d",
   "metadata": {},
   "source": [
    "<h3 style='color:blue'>22. if-then-else</h3>"
   ]
  },
  {
   "cell_type": "code",
   "execution_count": null,
   "id": "6b7c75ed",
   "metadata": {},
   "outputs": [],
   "source": [
    "df[\"logic\"] = np.where(df[\"price\"] > 5, \"high\", \"low\")"
   ]
  },
  {
   "cell_type": "markdown",
   "id": "234fa26f",
   "metadata": {},
   "source": [
    "<h3 style='color:blue'>23. Dropping columns</h3>"
   ]
  },
  {
   "cell_type": "code",
   "execution_count": null,
   "id": "78421e45",
   "metadata": {},
   "outputs": [],
   "source": [
    "df.drop('col1', axis=1, inplace=True)\n",
    "df = df.drop(['col1','col2'], axis=1)\n",
    "s = df.pop('col')\n",
    "del df['col']\n",
    "df.drop(df.columns[0], inplace=True)"
   ]
  },
  {
   "cell_type": "markdown",
   "id": "357f787d",
   "metadata": {},
   "source": [
    "<h2 style='color:blue'>String operations</h2>"
   ]
  },
  {
   "cell_type": "markdown",
   "id": "fa4f286e",
   "metadata": {},
   "source": [
    "<h3 style='color:blue'>24. Column names</h3>"
   ]
  },
  {
   "cell_type": "code",
   "execution_count": null,
   "id": "ce5dc3f8",
   "metadata": {},
   "outputs": [],
   "source": [
    "# on column names\n",
    "df.columns = df.columns.str.lower()\n",
    "df.columns = df.columns.str.replace(' ', '_')"
   ]
  },
  {
   "cell_type": "markdown",
   "id": "8ddac99d",
   "metadata": {},
   "source": [
    "<h3 style='color:blue'>24. Contains</h3>"
   ]
  },
  {
   "cell_type": "code",
   "execution_count": null,
   "id": "9d6896d6",
   "metadata": {},
   "outputs": [],
   "source": [
    "df['name'].str.contains(\"John\")\n",
    "\n",
    "df['phone_num'].str.contains('...-...-....', regex=True)  # regex\n",
    "\n",
    "df['email'].str.contains('gmail')"
   ]
  },
  {
   "cell_type": "markdown",
   "id": "4d56cf48",
   "metadata": {},
   "source": [
    "<h3 style='color:blue'>25. findall</h3>"
   ]
  },
  {
   "cell_type": "code",
   "execution_count": null,
   "id": "25f7e66f",
   "metadata": {},
   "outputs": [],
   "source": [
    "pattern = '([A-Z0-9._%+-]+)@([A-Z0-9.-]+)\\\\.([A-Z]{2,4})'\n",
    "\n",
    "df['email'].str.findall(pattern, flags=re.IGNORECASE)"
   ]
  },
  {
   "cell_type": "markdown",
   "id": "ddf738c8",
   "metadata": {},
   "source": [
    "<h2 style='color:blue'>Missing values</h2>"
   ]
  },
  {
   "cell_type": "markdown",
   "id": "b7e51dca",
   "metadata": {},
   "source": [
    "<h3 style='color:blue'>26. Checking</h3>"
   ]
  },
  {
   "cell_type": "code",
   "execution_count": null,
   "id": "39cec140",
   "metadata": {},
   "outputs": [],
   "source": [
    "def missing_vals(df):\n",
    "    \"\"\"prints out columns with perc of missing values\"\"\"\n",
    "    missing = [\n",
    "        (df.columns[idx], perc)\n",
    "        for idx, perc in enumerate(df.isna().mean() * 100)\n",
    "        if perc > 0\n",
    "    ]\n",
    "\n",
    "    if len(missing) == 0:\n",
    "        return \"no missing values\"\n",
    "        \n",
    "\n",
    "    # sort desc by perc\n",
    "    missing.sort(key=lambda x: x[1], reverse=True)\n",
    "\n",
    "    print(f\"There are a total of {len(missing)} variables with missing values\\n\")\n",
    "\n",
    "    for tup in missing:\n",
    "        print(str.ljust(f\"{tup[0]:<20} => {round(tup[1], 3)}%\", 1))\n",
    "\n",
    "\n",
    "missing_vals(df)"
   ]
  },
  {
   "cell_type": "markdown",
   "id": "a68ad32f",
   "metadata": {},
   "source": [
    "<h3 style='color:blue'>27. Dealing with missing values</h3>"
   ]
  },
  {
   "cell_type": "code",
   "execution_count": null,
   "id": "7383e58a",
   "metadata": {},
   "outputs": [],
   "source": [
    "# drop \n",
    "df.dropna(axis=0)\n",
    "df.dropna(axis=1)\n",
    "\n",
    "# impute\n",
    "df.fillna(0)\n",
    "df.fillna(method=\"ffill\")\n",
    "df.fillna(method='bfill')\n",
    "\n",
    "# replace\n",
    "df.replace( -999, np.nan)\n",
    "df.replace(\"?\", np.nan)\n",
    "\n",
    "# interpolate\n",
    "ts.interpolate() # time series\n",
    "df.interpolate() # fill all consecutive values forward\n",
    "df.interpolate(limit=1) # fill one consecutive value forward\n",
    "df.interpolate(limit=1, limit_direction=\"backward\")\n",
    "df.interpolate(limit_direction=\"both\")"
   ]
  },
  {
   "cell_type": "markdown",
   "id": "8a07d5b3",
   "metadata": {},
   "source": [
    "<h3 style='color:blue'>Date operations</h3>"
   ]
  },
  {
   "cell_type": "code",
   "execution_count": null,
   "id": "b3edd850",
   "metadata": {},
   "outputs": [],
   "source": [
    "df = pd.read_csv(\"TESLA.csv\", usecols=[\"Date\", \"Open\", \"Close\", \"Volume\"], parse_dates=['Date'])\n",
    "# https://www.kaggle.com/datasets/rpaguirre/tesla-stock-price\n",
    "\n",
    "df.head()"
   ]
  },
  {
   "cell_type": "code",
   "execution_count": null,
   "id": "71e0d661",
   "metadata": {},
   "outputs": [],
   "source": [
    "# from today\n",
    "date.today() + datetime.timedelta(hours=30)\n",
    "date.today() + datetime.timedelta(days=30)\n",
    "date.today() + datetime.timedelta(weeks=30)\n",
    "\n",
    "# ago\n",
    "date.today() - datetime.timedelta(days=365)"
   ]
  },
  {
   "cell_type": "markdown",
   "id": "d2fb3f3f",
   "metadata": {},
   "source": [
    "<h3 style='color:blue'>29. Filter between two dates</h3>"
   ]
  },
  {
   "cell_type": "code",
   "execution_count": null,
   "id": "a6159a2b",
   "metadata": {},
   "outputs": [],
   "source": [
    "df[(df[\"Date\"] > \"2015-01-01\") & (df[\"Date\"] < \"2017-01-01\")]"
   ]
  },
  {
   "cell_type": "markdown",
   "id": "df9ee023",
   "metadata": {},
   "source": [
    "<h3 style='color:blue'>30. Filter by day/month/year</h3>"
   ]
  },
  {
   "cell_type": "code",
   "execution_count": null,
   "id": "bd57b97f",
   "metadata": {},
   "outputs": [],
   "source": [
    "# filter by single day\n",
    "df[df[\"Date\"].dt.strftime(\"%Y-%m-%d\") == \"2017-03-01\"]\n",
    "\n",
    "# filter by single month\n",
    "df[df[\"Date\"].dt.strftime(\"%m\") == \"12\"]\n",
    "\n",
    "# filter by single year\n",
    "df[df[\"Date\"].dt.strftime(\"%Y\") == \"2017\"]"
   ]
  },
  {
   "cell_type": "markdown",
   "id": "fcf84af3",
   "metadata": {},
   "source": [
    "<h2 style='color:blue'>Styling data frames</h2>\n",
    "\n",
    "<a href=\"https://pandas.pydata.org/pandas-docs/stable/user_guide/style.html\"> Source</a>"
   ]
  },
  {
   "cell_type": "markdown",
   "id": "a587e345",
   "metadata": {},
   "source": [
    "<h3 style='color:blue'>31. Number format</h3>"
   ]
  },
  {
   "cell_type": "code",
   "execution_count": null,
   "id": "4272dbf3",
   "metadata": {
    "scrolled": true
   },
   "outputs": [],
   "source": [
    "format_dict = {\n",
    "    \"Date\": \"{:%d/%m/%y}\",\n",
    "    \"Open\": \"${:.2f}\",\n",
    "    \"Close\": \"${:.2f}\",\n",
    "    \"Volume\": \"{:,}\",\n",
    "}\n",
    "\n",
    "df.style.format(format_dict)"
   ]
  },
  {
   "cell_type": "markdown",
   "id": "6a90257c",
   "metadata": {},
   "source": [
    "<h3 style='color:blue'>32. Let there be colors</h3>"
   ]
  },
  {
   "cell_type": "code",
   "execution_count": null,
   "id": "00cb1f32",
   "metadata": {
    "scrolled": true
   },
   "outputs": [],
   "source": [
    "(\n",
    "    df.style.format(format_dict)\n",
    "    .hide(axis='index')\n",
    "    .highlight_min([\"Open\"], color=\"red\")\n",
    "    .highlight_max([\"Open\"], color=\"green\")\n",
    "    .background_gradient(subset=\"Close\", cmap=\"Blues\")\n",
    "    .bar('Volume', color='lightblue', align='zero')\n",
    "    .set_caption('Tesla Stock Prices in 2017')\n",
    ")"
   ]
  },
  {
   "cell_type": "markdown",
   "id": "2390839c",
   "metadata": {},
   "source": [
    "<h2 style='color:blue'>Misc</h2>"
   ]
  },
  {
   "cell_type": "markdown",
   "id": "9ee582e9",
   "metadata": {},
   "source": [
    "<h3 style='color:blue'>33. Get the id of max and min in a column</h3>"
   ]
  },
  {
   "cell_type": "code",
   "execution_count": null,
   "id": "e49cd70f",
   "metadata": {},
   "outputs": [],
   "source": [
    "df['Open'].idxmin()\n",
    "df['Close'].idxmax()"
   ]
  },
  {
   "cell_type": "markdown",
   "id": "77edae17",
   "metadata": {},
   "source": [
    "<h3 style='color:blue'>34. Apply function to data frames</h3>"
   ]
  },
  {
   "cell_type": "code",
   "execution_count": null,
   "id": "330a22fb",
   "metadata": {},
   "outputs": [],
   "source": [
    "df.applymap(lambda x: np.log(x))"
   ]
  },
  {
   "cell_type": "markdown",
   "id": "a5d16f34",
   "metadata": {},
   "source": [
    "<h3 style='color:blue'>35. Randomly shuffle data</h3>"
   ]
  },
  {
   "cell_type": "code",
   "execution_count": null,
   "id": "06fd1259",
   "metadata": {
    "scrolled": true
   },
   "outputs": [],
   "source": [
    "df.sample(frac=1, random_state=7).reset_index(drop=True)"
   ]
  },
  {
   "cell_type": "markdown",
   "id": "5bc7c053",
   "metadata": {},
   "source": [
    "<h3 style='color:blue'>36. Percent change</h3>\n",
    "\n",
    "- Useful for time series data\n",
    "\n",
    "ex: price of BTC over 3 days [30000, 33000, 31000] -> [NaN, 0.1, -0.06]\n",
    "\n"
   ]
  },
  {
   "cell_type": "code",
   "execution_count": null,
   "id": "6e6e5e96",
   "metadata": {},
   "outputs": [],
   "source": [
    "df['col_name'].pct_change()"
   ]
  },
  {
   "cell_type": "markdown",
   "id": "c73a1d95",
   "metadata": {},
   "source": [
    "<h3 style='color:blue'>37. Assign rank</h3>"
   ]
  },
  {
   "cell_type": "code",
   "execution_count": null,
   "id": "6d1e9ef7",
   "metadata": {},
   "outputs": [],
   "source": [
    "df['rank'] = df['column_to_rank'].rank()"
   ]
  },
  {
   "cell_type": "markdown",
   "id": "31d3dc00",
   "metadata": {},
   "source": [
    "<h3 style='color:blue'>38. Check memory usage of data frame</h3>"
   ]
  },
  {
   "cell_type": "code",
   "execution_count": null,
   "id": "a066e4a9",
   "metadata": {},
   "outputs": [],
   "source": [
    "df.memory_usage().sum() / (1024**2) #converting to MB"
   ]
  },
  {
   "cell_type": "markdown",
   "id": "3359d88f",
   "metadata": {},
   "source": [
    "<h3 style='color:blue'>39. Explode list values to multiple rows</h3>"
   ]
  },
  {
   "cell_type": "code",
   "execution_count": null,
   "id": "aea7ad84",
   "metadata": {},
   "outputs": [],
   "source": [
    "df.explode(\"col_name\").reset_index(drop=True)"
   ]
  },
  {
   "cell_type": "markdown",
   "id": "48cac6d5",
   "metadata": {},
   "source": [
    "<h3 style='color:blue'>40. Convert smaller categories to “Others”</h3>"
   ]
  },
  {
   "cell_type": "code",
   "execution_count": null,
   "id": "6ff03cc1",
   "metadata": {},
   "outputs": [],
   "source": [
    "df = pd.read_csv(\"house_price.csv\", nrows=100)\n",
    "\n",
    "df.columns"
   ]
  },
  {
   "cell_type": "code",
   "execution_count": null,
   "id": "0b9150ef",
   "metadata": {},
   "outputs": [],
   "source": [
    "subclass = df.MSSubClass\n",
    "subclass.value_counts()"
   ]
  },
  {
   "cell_type": "code",
   "execution_count": null,
   "id": "8c06d8a4",
   "metadata": {},
   "outputs": [],
   "source": [
    "top_five = subclass.value_counts().nlargest(5).index\n",
    "top_five\n",
    "mssubclass_new = subclass.where(subclass.isin(top_five), other=\"Other\")\n",
    "mssubclass_new.value_counts()\n"
   ]
  }
 ],
 "metadata": {
  "kernelspec": {
   "display_name": "Python 3",
   "language": "python",
   "name": "python3"
  },
  "language_info": {
   "codemirror_mode": {
    "name": "ipython",
    "version": 3
   },
   "file_extension": ".py",
   "mimetype": "text/x-python",
   "name": "python",
   "nbconvert_exporter": "python",
   "pygments_lexer": "ipython3",
   "version": "3.9.12"
  }
 },
 "nbformat": 4,
 "nbformat_minor": 5
}
