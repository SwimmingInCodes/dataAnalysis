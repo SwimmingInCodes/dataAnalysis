{
 "cells": [
  {
   "cell_type": "markdown",
   "id": "d4078bd4",
   "metadata": {},
   "source": [
    "<h1>Grouper and Agg functions </h1>\n",
    "\n",
    "1. Grouper is useful for the type of summary analysis\n",
    "2. agg function is another very useful and intuitive tool for summarizing data"
   ]
  },
  {
   "cell_type": "markdown",
   "id": "062391bb",
   "metadata": {},
   "source": [
    "<h1>Grouping Time Series Data </h1>"
   ]
  },
  {
   "cell_type": "code",
   "execution_count": 1,
   "id": "b3b9fc8a",
   "metadata": {},
   "outputs": [],
   "source": [
    "# %load libs.py\n",
    "import pandas as pd\n",
    "import numpy as np\n",
    "import seaborn as sns\n",
    "import matplotlib.pyplot as plt\n",
    "from datetime import datetime, date, time\n",
    "\n",
    "from IPython.core.interactiveshell import InteractiveShell\n",
    "InteractiveShell.ast_node_interactivity='all'\n",
    "\n",
    "%config InlineBackend.figure_format='svg'\n",
    "# plt.rcParams['figure.dpi']=120\n",
    "\n",
    "pd.options.display.float_format='{:,.2f}'.format\n",
    "pd.set_option('display.max_colwidth', None)\n"
   ]
  },
  {
   "cell_type": "code",
   "execution_count": 2,
   "id": "fca9a92f",
   "metadata": {},
   "outputs": [
    {
     "data": {
      "text/html": [
       "<div>\n",
       "<style scoped>\n",
       "    .dataframe tbody tr th:only-of-type {\n",
       "        vertical-align: middle;\n",
       "    }\n",
       "\n",
       "    .dataframe tbody tr th {\n",
       "        vertical-align: top;\n",
       "    }\n",
       "\n",
       "    .dataframe thead th {\n",
       "        text-align: right;\n",
       "    }\n",
       "</style>\n",
       "<table border=\"1\" class=\"dataframe\">\n",
       "  <thead>\n",
       "    <tr style=\"text-align: right;\">\n",
       "      <th></th>\n",
       "      <th>account number</th>\n",
       "      <th>name</th>\n",
       "      <th>sku</th>\n",
       "      <th>quantity</th>\n",
       "      <th>unit price</th>\n",
       "      <th>ext price</th>\n",
       "      <th>date</th>\n",
       "    </tr>\n",
       "  </thead>\n",
       "  <tbody>\n",
       "    <tr>\n",
       "      <th>0</th>\n",
       "      <td>740150</td>\n",
       "      <td>Barton LLC</td>\n",
       "      <td>B1-20000</td>\n",
       "      <td>39</td>\n",
       "      <td>86.69</td>\n",
       "      <td>3,380.91</td>\n",
       "      <td>2014-01-01 07:21:51</td>\n",
       "    </tr>\n",
       "    <tr>\n",
       "      <th>1</th>\n",
       "      <td>714466</td>\n",
       "      <td>Trantow-Barrows</td>\n",
       "      <td>S2-77896</td>\n",
       "      <td>-1</td>\n",
       "      <td>63.16</td>\n",
       "      <td>-63.16</td>\n",
       "      <td>2014-01-01 10:00:47</td>\n",
       "    </tr>\n",
       "    <tr>\n",
       "      <th>2</th>\n",
       "      <td>218895</td>\n",
       "      <td>Kulas Inc</td>\n",
       "      <td>B1-69924</td>\n",
       "      <td>23</td>\n",
       "      <td>90.70</td>\n",
       "      <td>2,086.10</td>\n",
       "      <td>2014-01-01 13:24:58</td>\n",
       "    </tr>\n",
       "    <tr>\n",
       "      <th>3</th>\n",
       "      <td>307599</td>\n",
       "      <td>Kassulke, Ondricka and Metz</td>\n",
       "      <td>S1-65481</td>\n",
       "      <td>41</td>\n",
       "      <td>21.05</td>\n",
       "      <td>863.05</td>\n",
       "      <td>2014-01-01 15:05:22</td>\n",
       "    </tr>\n",
       "    <tr>\n",
       "      <th>4</th>\n",
       "      <td>412290</td>\n",
       "      <td>Jerde-Hilpert</td>\n",
       "      <td>S2-34077</td>\n",
       "      <td>6</td>\n",
       "      <td>83.21</td>\n",
       "      <td>499.26</td>\n",
       "      <td>2014-01-01 23:26:55</td>\n",
       "    </tr>\n",
       "  </tbody>\n",
       "</table>\n",
       "</div>"
      ],
      "text/plain": [
       "   account number                         name       sku  quantity  \\\n",
       "0          740150                   Barton LLC  B1-20000        39   \n",
       "1          714466              Trantow-Barrows  S2-77896        -1   \n",
       "2          218895                    Kulas Inc  B1-69924        23   \n",
       "3          307599  Kassulke, Ondricka and Metz  S1-65481        41   \n",
       "4          412290                Jerde-Hilpert  S2-34077         6   \n",
       "\n",
       "   unit price  ext price                 date  \n",
       "0       86.69   3,380.91  2014-01-01 07:21:51  \n",
       "1       63.16     -63.16  2014-01-01 10:00:47  \n",
       "2       90.70   2,086.10  2014-01-01 13:24:58  \n",
       "3       21.05     863.05  2014-01-01 15:05:22  \n",
       "4       83.21     499.26  2014-01-01 23:26:55  "
      ]
     },
     "execution_count": 2,
     "metadata": {},
     "output_type": "execute_result"
    },
    {
     "data": {
      "text/plain": [
       "(1500, 7)"
      ]
     },
     "execution_count": 2,
     "metadata": {},
     "output_type": "execute_result"
    }
   ],
   "source": [
    "import pandas as pd\n",
    "df = pd.read_excel(\"https://github.com/chris1610/pbpython/blob/master/data/sample-salesv3.xlsx?raw=True\")\n",
    "df.head()\n",
    "df.shape"
   ]
  },
  {
   "cell_type": "code",
   "execution_count": 3,
   "id": "eafc2547",
   "metadata": {},
   "outputs": [
    {
     "name": "stdout",
     "output_type": "stream",
     "text": [
      "<class 'pandas.core.frame.DataFrame'>\n",
      "RangeIndex: 1500 entries, 0 to 1499\n",
      "Data columns (total 7 columns):\n",
      " #   Column          Non-Null Count  Dtype  \n",
      "---  ------          --------------  -----  \n",
      " 0   account number  1500 non-null   int64  \n",
      " 1   name            1500 non-null   object \n",
      " 2   sku             1500 non-null   object \n",
      " 3   quantity        1500 non-null   int64  \n",
      " 4   unit price      1500 non-null   float64\n",
      " 5   ext price       1500 non-null   float64\n",
      " 6   date            1500 non-null   object \n",
      "dtypes: float64(2), int64(2), object(3)\n",
      "memory usage: 82.2+ KB\n"
     ]
    }
   ],
   "source": [
    "df.info()"
   ]
  },
  {
   "cell_type": "code",
   "execution_count": 4,
   "id": "528b34ce",
   "metadata": {},
   "outputs": [
    {
     "data": {
      "text/html": [
       "<div>\n",
       "<style scoped>\n",
       "    .dataframe tbody tr th:only-of-type {\n",
       "        vertical-align: middle;\n",
       "    }\n",
       "\n",
       "    .dataframe tbody tr th {\n",
       "        vertical-align: top;\n",
       "    }\n",
       "\n",
       "    .dataframe thead th {\n",
       "        text-align: right;\n",
       "    }\n",
       "</style>\n",
       "<table border=\"1\" class=\"dataframe\">\n",
       "  <thead>\n",
       "    <tr style=\"text-align: right;\">\n",
       "      <th></th>\n",
       "      <th>account number</th>\n",
       "      <th>name</th>\n",
       "      <th>sku</th>\n",
       "      <th>quantity</th>\n",
       "      <th>unit price</th>\n",
       "      <th>ext price</th>\n",
       "      <th>date</th>\n",
       "    </tr>\n",
       "  </thead>\n",
       "  <tbody>\n",
       "    <tr>\n",
       "      <th>0</th>\n",
       "      <td>740150</td>\n",
       "      <td>Barton LLC</td>\n",
       "      <td>B1-20000</td>\n",
       "      <td>39</td>\n",
       "      <td>86.69</td>\n",
       "      <td>3,380.91</td>\n",
       "      <td>2014-01-01 07:21:51</td>\n",
       "    </tr>\n",
       "    <tr>\n",
       "      <th>1</th>\n",
       "      <td>714466</td>\n",
       "      <td>Trantow-Barrows</td>\n",
       "      <td>S2-77896</td>\n",
       "      <td>-1</td>\n",
       "      <td>63.16</td>\n",
       "      <td>-63.16</td>\n",
       "      <td>2014-01-01 10:00:47</td>\n",
       "    </tr>\n",
       "    <tr>\n",
       "      <th>2</th>\n",
       "      <td>218895</td>\n",
       "      <td>Kulas Inc</td>\n",
       "      <td>B1-69924</td>\n",
       "      <td>23</td>\n",
       "      <td>90.70</td>\n",
       "      <td>2,086.10</td>\n",
       "      <td>2014-01-01 13:24:58</td>\n",
       "    </tr>\n",
       "    <tr>\n",
       "      <th>3</th>\n",
       "      <td>307599</td>\n",
       "      <td>Kassulke, Ondricka and Metz</td>\n",
       "      <td>S1-65481</td>\n",
       "      <td>41</td>\n",
       "      <td>21.05</td>\n",
       "      <td>863.05</td>\n",
       "      <td>2014-01-01 15:05:22</td>\n",
       "    </tr>\n",
       "    <tr>\n",
       "      <th>4</th>\n",
       "      <td>412290</td>\n",
       "      <td>Jerde-Hilpert</td>\n",
       "      <td>S2-34077</td>\n",
       "      <td>6</td>\n",
       "      <td>83.21</td>\n",
       "      <td>499.26</td>\n",
       "      <td>2014-01-01 23:26:55</td>\n",
       "    </tr>\n",
       "  </tbody>\n",
       "</table>\n",
       "</div>"
      ],
      "text/plain": [
       "   account number                         name       sku  quantity  \\\n",
       "0          740150                   Barton LLC  B1-20000        39   \n",
       "1          714466              Trantow-Barrows  S2-77896        -1   \n",
       "2          218895                    Kulas Inc  B1-69924        23   \n",
       "3          307599  Kassulke, Ondricka and Metz  S1-65481        41   \n",
       "4          412290                Jerde-Hilpert  S2-34077         6   \n",
       "\n",
       "   unit price  ext price                date  \n",
       "0       86.69   3,380.91 2014-01-01 07:21:51  \n",
       "1       63.16     -63.16 2014-01-01 10:00:47  \n",
       "2       90.70   2,086.10 2014-01-01 13:24:58  \n",
       "3       21.05     863.05 2014-01-01 15:05:22  \n",
       "4       83.21     499.26 2014-01-01 23:26:55  "
      ]
     },
     "execution_count": 4,
     "metadata": {},
     "output_type": "execute_result"
    },
    {
     "name": "stdout",
     "output_type": "stream",
     "text": [
      "<class 'pandas.core.frame.DataFrame'>\n",
      "RangeIndex: 1500 entries, 0 to 1499\n",
      "Data columns (total 7 columns):\n",
      " #   Column          Non-Null Count  Dtype         \n",
      "---  ------          --------------  -----         \n",
      " 0   account number  1500 non-null   int64         \n",
      " 1   name            1500 non-null   object        \n",
      " 2   sku             1500 non-null   object        \n",
      " 3   quantity        1500 non-null   int64         \n",
      " 4   unit price      1500 non-null   float64       \n",
      " 5   ext price       1500 non-null   float64       \n",
      " 6   date            1500 non-null   datetime64[ns]\n",
      "dtypes: datetime64[ns](1), float64(2), int64(2), object(2)\n",
      "memory usage: 82.2+ KB\n"
     ]
    }
   ],
   "source": [
    "# change the date column to datetime data type\n",
    "\n",
    "df[\"date\"] = pd.to_datetime(df['date'])\n",
    "df.head()\n",
    "\n",
    "df.info()"
   ]
  },
  {
   "cell_type": "markdown",
   "id": "b43980d3",
   "metadata": {},
   "source": [
    "For summarizing all of the sales by month, resample function is available. However, <b>it only operates on an index.</b>. To use the resample function, use set_index to make the date column an index and then resample."
   ]
  },
  {
   "cell_type": "code",
   "execution_count": 5,
   "id": "08c4f08a",
   "metadata": {
    "scrolled": true
   },
   "outputs": [
    {
     "data": {
      "text/plain": [
       "date\n",
       "2014-01-31   185,361.66\n",
       "2014-02-28   146,211.62\n",
       "2014-03-31   203,921.38\n",
       "2014-04-30   174,574.11\n",
       "2014-05-31   165,418.55\n",
       "2014-06-30   174,089.33\n",
       "2014-07-31   191,662.11\n",
       "2014-08-31   153,778.59\n",
       "2014-09-30   168,443.17\n",
       "2014-10-31   171,495.32\n",
       "2014-11-30   119,961.22\n",
       "2014-12-31   163,867.26\n",
       "Freq: M, Name: ext price, dtype: float64"
      ]
     },
     "execution_count": 5,
     "metadata": {},
     "output_type": "execute_result"
    }
   ],
   "source": [
    "df.set_index('date').resample('M')['ext price'].sum()"
   ]
  },
  {
   "cell_type": "markdown",
   "id": "ab7a0a7b",
   "metadata": {},
   "source": [
    "To summarize the data by grouping, which is a little challenging"
   ]
  },
  {
   "cell_type": "code",
   "execution_count": 6,
   "id": "4c2bc7a6",
   "metadata": {
    "scrolled": true
   },
   "outputs": [
    {
     "data": {
      "text/plain": [
       "name        date      \n",
       "Barton LLC  2014-01-31    6,177.57\n",
       "            2014-02-28   12,218.03\n",
       "            2014-03-31    3,513.53\n",
       "            2014-04-30   11,474.20\n",
       "            2014-05-31   10,220.17\n",
       "                            ...   \n",
       "Will LLC    2014-08-31    1,439.82\n",
       "            2014-09-30    4,345.99\n",
       "            2014-10-31    7,085.33\n",
       "            2014-11-30    3,210.44\n",
       "            2014-12-31   12,561.21\n",
       "Name: ext price, Length: 240, dtype: float64"
      ]
     },
     "execution_count": 6,
     "metadata": {},
     "output_type": "execute_result"
    }
   ],
   "source": [
    "df.set_index('date').groupby('name')['ext price'].resample('M').sum()"
   ]
  },
  {
   "cell_type": "markdown",
   "id": "efb3fa7e",
   "metadata": {},
   "source": [
    "Using `Grouper` to make this process streamlined"
   ]
  },
  {
   "cell_type": "code",
   "execution_count": 7,
   "id": "cac636a7",
   "metadata": {},
   "outputs": [
    {
     "data": {
      "text/plain": [
       "date\n",
       "2014-01-31   185,361.66\n",
       "2014-02-28   146,211.62\n",
       "2014-03-31   203,921.38\n",
       "2014-04-30   174,574.11\n",
       "2014-05-31   165,418.55\n",
       "2014-06-30   174,089.33\n",
       "2014-07-31   191,662.11\n",
       "2014-08-31   153,778.59\n",
       "2014-09-30   168,443.17\n",
       "2014-10-31   171,495.32\n",
       "2014-11-30   119,961.22\n",
       "2014-12-31   163,867.26\n",
       "Freq: M, Name: ext price, dtype: float64"
      ]
     },
     "execution_count": 7,
     "metadata": {},
     "output_type": "execute_result"
    }
   ],
   "source": [
    "df.groupby(pd.Grouper(key='date', freq='M'))['ext price'].sum()"
   ]
  },
  {
   "cell_type": "markdown",
   "id": "cb5b5379",
   "metadata": {},
   "source": [
    "Benefit of Grouper is that data can be summarized in a different time frame by changing of the freq parameter to one of the valid offset aliases. For instance, an annual summary using December as the last month would look like this:"
   ]
  },
  {
   "cell_type": "code",
   "execution_count": 8,
   "id": "92ac5298",
   "metadata": {},
   "outputs": [
    {
     "data": {
      "text/plain": [
       "name                             date      \n",
       "Barton LLC                       2014-12-31   109,438.50\n",
       "Cronin, Oberbrunner and Spencer  2014-12-31    89,734.55\n",
       "Frami, Hills and Schmidt         2014-12-31   103,569.59\n",
       "Fritsch, Russel and Anderson     2014-12-31   112,214.71\n",
       "Halvorson, Crona and Champlin    2014-12-31    70,004.36\n",
       "Herman LLC                       2014-12-31    82,865.00\n",
       "Jerde-Hilpert                    2014-12-31   112,591.43\n",
       "Kassulke, Ondricka and Metz      2014-12-31    86,451.07\n",
       "Keeling LLC                      2014-12-31   100,934.30\n",
       "Kiehn-Spinka                     2014-12-31    99,608.77\n",
       "Koepp Ltd                        2014-12-31   103,660.54\n",
       "Kuhn-Gusikowski                  2014-12-31    91,094.28\n",
       "Kulas Inc                        2014-12-31   137,351.96\n",
       "Pollich LLC                      2014-12-31    87,347.18\n",
       "Purdy-Kunde                      2014-12-31    77,898.21\n",
       "Sanford and Sons                 2014-12-31    98,822.98\n",
       "Stokes LLC                       2014-12-31    91,535.92\n",
       "Trantow-Barrows                  2014-12-31   123,381.38\n",
       "White-Trantow                    2014-12-31   135,841.99\n",
       "Will LLC                         2014-12-31   104,437.60\n",
       "Name: ext price, dtype: float64"
      ]
     },
     "execution_count": 8,
     "metadata": {},
     "output_type": "execute_result"
    }
   ],
   "source": [
    "df.groupby(['name', pd.Grouper(key='date', freq='A-DEC')])['ext price'].sum()"
   ]
  },
  {
   "cell_type": "markdown",
   "id": "943fe788",
   "metadata": {},
   "source": [
    "<h1> agg function </h1>"
   ]
  },
  {
   "cell_type": "code",
   "execution_count": 9,
   "id": "0d5a0cc9",
   "metadata": {},
   "outputs": [
    {
     "data": {
      "text/plain": [
       "ext price   2,018,784.32\n",
       "quantity       36,463.00\n",
       "dtype: float64"
      ]
     },
     "execution_count": 9,
     "metadata": {},
     "output_type": "execute_result"
    }
   ],
   "source": [
    "df[[\"ext price\", \"quantity\"]].sum()"
   ]
  },
  {
   "cell_type": "code",
   "execution_count": 10,
   "id": "c3de6119",
   "metadata": {},
   "outputs": [
    {
     "data": {
      "text/plain": [
       "55.00752666666659"
      ]
     },
     "execution_count": 10,
     "metadata": {},
     "output_type": "execute_result"
    }
   ],
   "source": [
    "df[\"unit price\"].mean()"
   ]
  },
  {
   "cell_type": "markdown",
   "id": "fbccf550",
   "metadata": {},
   "source": [
    "agg makes the above simpler:"
   ]
  },
  {
   "cell_type": "code",
   "execution_count": 11,
   "id": "cc8901c0",
   "metadata": {},
   "outputs": [
    {
     "data": {
      "text/html": [
       "<div>\n",
       "<style scoped>\n",
       "    .dataframe tbody tr th:only-of-type {\n",
       "        vertical-align: middle;\n",
       "    }\n",
       "\n",
       "    .dataframe tbody tr th {\n",
       "        vertical-align: top;\n",
       "    }\n",
       "\n",
       "    .dataframe thead th {\n",
       "        text-align: right;\n",
       "    }\n",
       "</style>\n",
       "<table border=\"1\" class=\"dataframe\">\n",
       "  <thead>\n",
       "    <tr style=\"text-align: right;\">\n",
       "      <th></th>\n",
       "      <th>ext price</th>\n",
       "      <th>quantity</th>\n",
       "      <th>unit price</th>\n",
       "    </tr>\n",
       "  </thead>\n",
       "  <tbody>\n",
       "    <tr>\n",
       "      <th>sum</th>\n",
       "      <td>2,018,784.32</td>\n",
       "      <td>36,463.00</td>\n",
       "      <td>82,511.29</td>\n",
       "    </tr>\n",
       "    <tr>\n",
       "      <th>mean</th>\n",
       "      <td>1,345.86</td>\n",
       "      <td>24.31</td>\n",
       "      <td>55.01</td>\n",
       "    </tr>\n",
       "  </tbody>\n",
       "</table>\n",
       "</div>"
      ],
      "text/plain": [
       "        ext price  quantity  unit price\n",
       "sum  2,018,784.32 36,463.00   82,511.29\n",
       "mean     1,345.86     24.31       55.01"
      ]
     },
     "execution_count": 11,
     "metadata": {},
     "output_type": "execute_result"
    }
   ],
   "source": [
    "df[['ext price', 'quantity', 'unit price']].agg(['sum', 'mean'])"
   ]
  },
  {
   "cell_type": "markdown",
   "id": "ce710584",
   "metadata": {},
   "source": [
    "We can pass a dictionary to agg and specify what operations to apply to each column."
   ]
  },
  {
   "cell_type": "code",
   "execution_count": 12,
   "id": "bdd60cd3",
   "metadata": {},
   "outputs": [
    {
     "data": {
      "text/html": [
       "<div>\n",
       "<style scoped>\n",
       "    .dataframe tbody tr th:only-of-type {\n",
       "        vertical-align: middle;\n",
       "    }\n",
       "\n",
       "    .dataframe tbody tr th {\n",
       "        vertical-align: top;\n",
       "    }\n",
       "\n",
       "    .dataframe thead th {\n",
       "        text-align: right;\n",
       "    }\n",
       "</style>\n",
       "<table border=\"1\" class=\"dataframe\">\n",
       "  <thead>\n",
       "    <tr style=\"text-align: right;\">\n",
       "      <th></th>\n",
       "      <th>ext price</th>\n",
       "      <th>quantity</th>\n",
       "      <th>unit price</th>\n",
       "    </tr>\n",
       "  </thead>\n",
       "  <tbody>\n",
       "    <tr>\n",
       "      <th>sum</th>\n",
       "      <td>2,018,784.32</td>\n",
       "      <td>36,463.00</td>\n",
       "      <td>NaN</td>\n",
       "    </tr>\n",
       "    <tr>\n",
       "      <th>mean</th>\n",
       "      <td>1,345.86</td>\n",
       "      <td>24.31</td>\n",
       "      <td>55.01</td>\n",
       "    </tr>\n",
       "  </tbody>\n",
       "</table>\n",
       "</div>"
      ],
      "text/plain": [
       "        ext price  quantity  unit price\n",
       "sum  2,018,784.32 36,463.00         NaN\n",
       "mean     1,345.86     24.31       55.01"
      ]
     },
     "execution_count": 12,
     "metadata": {},
     "output_type": "execute_result"
    }
   ],
   "source": [
    "df.agg({'ext price':['sum', 'mean'], 'quantity':['sum', 'mean'], 'unit price':['mean']})"
   ]
  },
  {
   "cell_type": "markdown",
   "id": "d068cde1",
   "metadata": {},
   "source": [
    "Define our own function and pass it to agg"
   ]
  },
  {
   "cell_type": "code",
   "execution_count": 13,
   "id": "71a8122e",
   "metadata": {},
   "outputs": [],
   "source": [
    "get_max=lambda x:x.value_counts().index[0]\n",
    "\n",
    "get_max.__name__='mode'"
   ]
  },
  {
   "cell_type": "code",
   "execution_count": 14,
   "id": "5387b6f8",
   "metadata": {},
   "outputs": [
    {
     "data": {
      "text/html": [
       "<div>\n",
       "<style scoped>\n",
       "    .dataframe tbody tr th:only-of-type {\n",
       "        vertical-align: middle;\n",
       "    }\n",
       "\n",
       "    .dataframe tbody tr th {\n",
       "        vertical-align: top;\n",
       "    }\n",
       "\n",
       "    .dataframe thead th {\n",
       "        text-align: right;\n",
       "    }\n",
       "</style>\n",
       "<table border=\"1\" class=\"dataframe\">\n",
       "  <thead>\n",
       "    <tr style=\"text-align: right;\">\n",
       "      <th></th>\n",
       "      <th>ext price</th>\n",
       "      <th>quantity</th>\n",
       "      <th>unit price</th>\n",
       "      <th>sku</th>\n",
       "    </tr>\n",
       "  </thead>\n",
       "  <tbody>\n",
       "    <tr>\n",
       "      <th>sum</th>\n",
       "      <td>2,018,784.32</td>\n",
       "      <td>36,463.00</td>\n",
       "      <td>NaN</td>\n",
       "      <td>NaN</td>\n",
       "    </tr>\n",
       "    <tr>\n",
       "      <th>mean</th>\n",
       "      <td>1,345.86</td>\n",
       "      <td>24.31</td>\n",
       "      <td>55.01</td>\n",
       "      <td>NaN</td>\n",
       "    </tr>\n",
       "    <tr>\n",
       "      <th>mode</th>\n",
       "      <td>NaN</td>\n",
       "      <td>NaN</td>\n",
       "      <td>NaN</td>\n",
       "      <td>S2-77896</td>\n",
       "    </tr>\n",
       "  </tbody>\n",
       "</table>\n",
       "</div>"
      ],
      "text/plain": [
       "        ext price  quantity  unit price       sku\n",
       "sum  2,018,784.32 36,463.00         NaN       NaN\n",
       "mean     1,345.86     24.31       55.01       NaN\n",
       "mode          NaN       NaN         NaN  S2-77896"
      ]
     },
     "execution_count": 14,
     "metadata": {},
     "output_type": "execute_result"
    }
   ],
   "source": [
    "df.agg({'ext price':['sum', 'mean'], 'quantity':['sum', 'mean'], 'unit price':['mean'], 'sku':get_max})"
   ]
  },
  {
   "cell_type": "code",
   "execution_count": 15,
   "id": "24b7eede",
   "metadata": {},
   "outputs": [
    {
     "data": {
      "text/plain": [
       "S2-77896    73\n",
       "S1-82801    60\n",
       "S2-10342    59\n",
       "S1-47412    58\n",
       "S1-93683    57\n",
       "B1-38851    56\n",
       "S2-82423    56\n",
       "S1-30248    55\n",
       "S1-50961    55\n",
       "S1-06532    53\n",
       "S1-27722    53\n",
       "B1-53636    53\n",
       "B1-20000    53\n",
       "S2-83881    51\n",
       "S2-34077    51\n",
       "B1-53102    49\n",
       "B1-05914    49\n",
       "S2-16558    49\n",
       "B1-33364    49\n",
       "B1-04202    48\n",
       "B1-65551    47\n",
       "S2-78676    46\n",
       "B1-69924    44\n",
       "S2-11481    44\n",
       "B1-33087    44\n",
       "S2-23246    41\n",
       "B1-50809    39\n",
       "S2-00301    39\n",
       "B1-86481    35\n",
       "S1-65481    34\n",
       "Name: sku, dtype: int64"
      ]
     },
     "execution_count": 15,
     "metadata": {},
     "output_type": "execute_result"
    }
   ],
   "source": [
    "df['sku'].value_counts() # vakye counts returns index and values"
   ]
  },
  {
   "cell_type": "code",
   "execution_count": 16,
   "id": "02ea2a20",
   "metadata": {},
   "outputs": [
    {
     "data": {
      "text/plain": [
       "73"
      ]
     },
     "execution_count": 16,
     "metadata": {},
     "output_type": "execute_result"
    },
    {
     "data": {
      "text/plain": [
       "73"
      ]
     },
     "execution_count": 16,
     "metadata": {},
     "output_type": "execute_result"
    },
    {
     "name": "stdout",
     "output_type": "stream",
     "text": [
      "\n"
     ]
    },
    {
     "data": {
      "text/plain": [
       "'S2-77896'"
      ]
     },
     "execution_count": 16,
     "metadata": {},
     "output_type": "execute_result"
    }
   ],
   "source": [
    "df['sku'].value_counts()[:1][0]\n",
    "df['sku'].value_counts()[:1].iloc[0]\n",
    "print()\n",
    "df['sku'].value_counts().index[0]"
   ]
  },
  {
   "cell_type": "markdown",
   "id": "c6db2bdc",
   "metadata": {},
   "source": [
    " We can make sure that columns are in a specific order using an OrderedDict"
   ]
  },
  {
   "cell_type": "code",
   "execution_count": 17,
   "id": "4603f53c",
   "metadata": {},
   "outputs": [
    {
     "data": {
      "text/html": [
       "<div>\n",
       "<style scoped>\n",
       "    .dataframe tbody tr th:only-of-type {\n",
       "        vertical-align: middle;\n",
       "    }\n",
       "\n",
       "    .dataframe tbody tr th {\n",
       "        vertical-align: top;\n",
       "    }\n",
       "\n",
       "    .dataframe thead th {\n",
       "        text-align: right;\n",
       "    }\n",
       "</style>\n",
       "<table border=\"1\" class=\"dataframe\">\n",
       "  <thead>\n",
       "    <tr style=\"text-align: right;\">\n",
       "      <th></th>\n",
       "      <th>ext price</th>\n",
       "      <th>quantity</th>\n",
       "      <th>sku</th>\n",
       "    </tr>\n",
       "  </thead>\n",
       "  <tbody>\n",
       "    <tr>\n",
       "      <th>sum</th>\n",
       "      <td>2,018,784.32</td>\n",
       "      <td>36,463.00</td>\n",
       "      <td>NaN</td>\n",
       "    </tr>\n",
       "    <tr>\n",
       "      <th>mean</th>\n",
       "      <td>1,345.86</td>\n",
       "      <td>24.31</td>\n",
       "      <td>NaN</td>\n",
       "    </tr>\n",
       "    <tr>\n",
       "      <th>mode</th>\n",
       "      <td>NaN</td>\n",
       "      <td>NaN</td>\n",
       "      <td>S2-77896</td>\n",
       "    </tr>\n",
       "  </tbody>\n",
       "</table>\n",
       "</div>"
      ],
      "text/plain": [
       "        ext price  quantity       sku\n",
       "sum  2,018,784.32 36,463.00       NaN\n",
       "mean     1,345.86     24.31       NaN\n",
       "mode          NaN       NaN  S2-77896"
      ]
     },
     "execution_count": 17,
     "metadata": {},
     "output_type": "execute_result"
    }
   ],
   "source": [
    "import collections\n",
    "\n",
    "f=collections.OrderedDict([('ext price', ['sum', 'mean']), ('quantity', ['sum', 'mean']), ('sku', [get_max])])\n",
    "\n",
    "df.agg(f)"
   ]
  }
 ],
 "metadata": {
  "kernelspec": {
   "display_name": "Python 3",
   "language": "python",
   "name": "python3"
  },
  "language_info": {
   "codemirror_mode": {
    "name": "ipython",
    "version": 3
   },
   "file_extension": ".py",
   "mimetype": "text/x-python",
   "name": "python",
   "nbconvert_exporter": "python",
   "pygments_lexer": "ipython3",
   "version": "3.9.12"
  }
 },
 "nbformat": 4,
 "nbformat_minor": 5
}
