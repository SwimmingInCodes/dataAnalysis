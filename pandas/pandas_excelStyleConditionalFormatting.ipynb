{
 "cells": [
  {
   "cell_type": "markdown",
   "id": "46dbbf8b",
   "metadata": {},
   "source": [
    "# Excel Style Conditional Formatting\n",
    "\n",
    "<a href='https://medium.com/python-in-plain-english/excel-style-conditional-formatting-in-pandas-1238277ed70a'>Source</a>"
   ]
  },
  {
   "cell_type": "code",
   "execution_count": 1,
   "id": "df5a5015",
   "metadata": {},
   "outputs": [],
   "source": [
    "# %load command1.py\n",
    "import pandas as pd\n",
    "import numpy as np\n",
    "import seaborn as sns\n",
    "import matplotlib.pyplot as plt\n",
    "from datetime import datetime, date, time\n",
    "\n",
    "from IPython.core.interactiveshell import InteractiveShell\n",
    "InteractiveShell.ast_node_interactivity='all'\n",
    "\n",
    "%config InlineBackend.figure_format='svg'\n",
    "plt.rcParams['figure.dpi']=120\n",
    "\n",
    "pd.options.display.float_format='{:,.2f}'.format\n",
    "pd.set_option('display.max_colwidth', None)\n"
   ]
  },
  {
   "cell_type": "code",
   "execution_count": 2,
   "id": "ff454d94",
   "metadata": {},
   "outputs": [
    {
     "data": {
      "text/html": [
       "<div>\n",
       "<style scoped>\n",
       "    .dataframe tbody tr th:only-of-type {\n",
       "        vertical-align: middle;\n",
       "    }\n",
       "\n",
       "    .dataframe tbody tr th {\n",
       "        vertical-align: top;\n",
       "    }\n",
       "\n",
       "    .dataframe thead th {\n",
       "        text-align: right;\n",
       "    }\n",
       "</style>\n",
       "<table border=\"1\" class=\"dataframe\">\n",
       "  <thead>\n",
       "    <tr style=\"text-align: right;\">\n",
       "      <th></th>\n",
       "      <th>A</th>\n",
       "      <th>B</th>\n",
       "      <th>C</th>\n",
       "    </tr>\n",
       "  </thead>\n",
       "  <tbody>\n",
       "    <tr>\n",
       "      <th>0</th>\n",
       "      <td>-1.00</td>\n",
       "      <td>2.30</td>\n",
       "      <td>2.00</td>\n",
       "    </tr>\n",
       "    <tr>\n",
       "      <th>1</th>\n",
       "      <td>-1.25</td>\n",
       "      <td>0.00</td>\n",
       "      <td>-1.50</td>\n",
       "    </tr>\n",
       "    <tr>\n",
       "      <th>2</th>\n",
       "      <td>1.80</td>\n",
       "      <td>-2.60</td>\n",
       "      <td>1.30</td>\n",
       "    </tr>\n",
       "    <tr>\n",
       "      <th>3</th>\n",
       "      <td>0.50</td>\n",
       "      <td>2.10</td>\n",
       "      <td>-7.00</td>\n",
       "    </tr>\n",
       "  </tbody>\n",
       "</table>\n",
       "</div>"
      ],
      "text/plain": [
       "      A     B     C\n",
       "0 -1.00  2.30  2.00\n",
       "1 -1.25  0.00 -1.50\n",
       "2  1.80 -2.60  1.30\n",
       "3  0.50  2.10 -7.00"
      ]
     },
     "execution_count": 2,
     "metadata": {},
     "output_type": "execute_result"
    }
   ],
   "source": [
    "df = pd.DataFrame([[-1, 2.3, 2],\n",
    "                   [-1.25, 0, -1.5],\n",
    "                   [1.8, -2.6, 1.3],\n",
    "                   [0.5, 2.1, -7]], columns=['A','B', 'C'])\n",
    "\n",
    "df"
   ]
  },
  {
   "cell_type": "markdown",
   "id": "8db21240",
   "metadata": {},
   "source": [
    "**The Pandas Styler Object**\n",
    "\n",
    "- Any Pandas DataFrame contains a Styler object which can be accessed by calling .style on it."
   ]
  },
  {
   "cell_type": "code",
   "execution_count": 3,
   "id": "11794495",
   "metadata": {
    "scrolled": true
   },
   "outputs": [
    {
     "data": {
      "text/html": [
       "<style type=\"text/css\">\n",
       "</style>\n",
       "<table id=\"T_90e2f\">\n",
       "  <thead>\n",
       "    <tr>\n",
       "      <th class=\"blank level0\" >&nbsp;</th>\n",
       "      <th id=\"T_90e2f_level0_col0\" class=\"col_heading level0 col0\" >A</th>\n",
       "      <th id=\"T_90e2f_level0_col1\" class=\"col_heading level0 col1\" >B</th>\n",
       "      <th id=\"T_90e2f_level0_col2\" class=\"col_heading level0 col2\" >C</th>\n",
       "    </tr>\n",
       "  </thead>\n",
       "  <tbody>\n",
       "    <tr>\n",
       "      <th id=\"T_90e2f_level0_row0\" class=\"row_heading level0 row0\" >0</th>\n",
       "      <td id=\"T_90e2f_row0_col0\" class=\"data row0 col0\" >-1.000000</td>\n",
       "      <td id=\"T_90e2f_row0_col1\" class=\"data row0 col1\" >2.300000</td>\n",
       "      <td id=\"T_90e2f_row0_col2\" class=\"data row0 col2\" >2.000000</td>\n",
       "    </tr>\n",
       "    <tr>\n",
       "      <th id=\"T_90e2f_level0_row1\" class=\"row_heading level0 row1\" >1</th>\n",
       "      <td id=\"T_90e2f_row1_col0\" class=\"data row1 col0\" >-1.250000</td>\n",
       "      <td id=\"T_90e2f_row1_col1\" class=\"data row1 col1\" >0.000000</td>\n",
       "      <td id=\"T_90e2f_row1_col2\" class=\"data row1 col2\" >-1.500000</td>\n",
       "    </tr>\n",
       "    <tr>\n",
       "      <th id=\"T_90e2f_level0_row2\" class=\"row_heading level0 row2\" >2</th>\n",
       "      <td id=\"T_90e2f_row2_col0\" class=\"data row2 col0\" >1.800000</td>\n",
       "      <td id=\"T_90e2f_row2_col1\" class=\"data row2 col1\" >-2.600000</td>\n",
       "      <td id=\"T_90e2f_row2_col2\" class=\"data row2 col2\" >1.300000</td>\n",
       "    </tr>\n",
       "    <tr>\n",
       "      <th id=\"T_90e2f_level0_row3\" class=\"row_heading level0 row3\" >3</th>\n",
       "      <td id=\"T_90e2f_row3_col0\" class=\"data row3 col0\" >0.500000</td>\n",
       "      <td id=\"T_90e2f_row3_col1\" class=\"data row3 col1\" >2.100000</td>\n",
       "      <td id=\"T_90e2f_row3_col2\" class=\"data row3 col2\" >-7.000000</td>\n",
       "    </tr>\n",
       "  </tbody>\n",
       "</table>\n"
      ],
      "text/plain": [
       "<pandas.io.formats.style.Styler at 0x164d59d5610>"
      ]
     },
     "execution_count": 3,
     "metadata": {},
     "output_type": "execute_result"
    }
   ],
   "source": [
    "df.style"
   ]
  },
  {
   "cell_type": "markdown",
   "id": "d448131d",
   "metadata": {},
   "source": [
    "**Altering Appearances using .apply() and .applymap()**"
   ]
  },
  {
   "cell_type": "code",
   "execution_count": 4,
   "id": "5677d3f5",
   "metadata": {},
   "outputs": [
    {
     "data": {
      "text/html": [
       "<style type=\"text/css\">\n",
       "#T_32a7e_row0_col0, #T_32a7e_row1_col0, #T_32a7e_row1_col2, #T_32a7e_row2_col1, #T_32a7e_row3_col2 {\n",
       "  color: red;\n",
       "  font-weight: bold;\n",
       "}\n",
       "#T_32a7e_row0_col1, #T_32a7e_row0_col2, #T_32a7e_row2_col0, #T_32a7e_row2_col2, #T_32a7e_row3_col0, #T_32a7e_row3_col1 {\n",
       "  color: green;\n",
       "  font-weight: bold;\n",
       "}\n",
       "</style>\n",
       "<table id=\"T_32a7e\">\n",
       "  <thead>\n",
       "    <tr>\n",
       "      <th class=\"blank level0\" >&nbsp;</th>\n",
       "      <th id=\"T_32a7e_level0_col0\" class=\"col_heading level0 col0\" >A</th>\n",
       "      <th id=\"T_32a7e_level0_col1\" class=\"col_heading level0 col1\" >B</th>\n",
       "      <th id=\"T_32a7e_level0_col2\" class=\"col_heading level0 col2\" >C</th>\n",
       "    </tr>\n",
       "  </thead>\n",
       "  <tbody>\n",
       "    <tr>\n",
       "      <th id=\"T_32a7e_level0_row0\" class=\"row_heading level0 row0\" >0</th>\n",
       "      <td id=\"T_32a7e_row0_col0\" class=\"data row0 col0\" >-1.000000</td>\n",
       "      <td id=\"T_32a7e_row0_col1\" class=\"data row0 col1\" >2.300000</td>\n",
       "      <td id=\"T_32a7e_row0_col2\" class=\"data row0 col2\" >2.000000</td>\n",
       "    </tr>\n",
       "    <tr>\n",
       "      <th id=\"T_32a7e_level0_row1\" class=\"row_heading level0 row1\" >1</th>\n",
       "      <td id=\"T_32a7e_row1_col0\" class=\"data row1 col0\" >-1.250000</td>\n",
       "      <td id=\"T_32a7e_row1_col1\" class=\"data row1 col1\" >0.000000</td>\n",
       "      <td id=\"T_32a7e_row1_col2\" class=\"data row1 col2\" >-1.500000</td>\n",
       "    </tr>\n",
       "    <tr>\n",
       "      <th id=\"T_32a7e_level0_row2\" class=\"row_heading level0 row2\" >2</th>\n",
       "      <td id=\"T_32a7e_row2_col0\" class=\"data row2 col0\" >1.800000</td>\n",
       "      <td id=\"T_32a7e_row2_col1\" class=\"data row2 col1\" >-2.600000</td>\n",
       "      <td id=\"T_32a7e_row2_col2\" class=\"data row2 col2\" >1.300000</td>\n",
       "    </tr>\n",
       "    <tr>\n",
       "      <th id=\"T_32a7e_level0_row3\" class=\"row_heading level0 row3\" >3</th>\n",
       "      <td id=\"T_32a7e_row3_col0\" class=\"data row3 col0\" >0.500000</td>\n",
       "      <td id=\"T_32a7e_row3_col1\" class=\"data row3 col1\" >2.100000</td>\n",
       "      <td id=\"T_32a7e_row3_col2\" class=\"data row3 col2\" >-7.000000</td>\n",
       "    </tr>\n",
       "  </tbody>\n",
       "</table>\n"
      ],
      "text/plain": [
       "<pandas.io.formats.style.Styler at 0x164dac45b80>"
      ]
     },
     "execution_count": 4,
     "metadata": {},
     "output_type": "execute_result"
    }
   ],
   "source": [
    "def green_red(value):\n",
    "    if value < 0:\n",
    "        return 'color: red; font-weight: bold'\n",
    "    elif value == 0:\n",
    "        return None\n",
    "    else:\n",
    "        return 'color: green; font-weight: bold'\n",
    "    \n",
    "df.style.applymap(green_red)"
   ]
  },
  {
   "cell_type": "code",
   "execution_count": 6,
   "id": "249ca730",
   "metadata": {},
   "outputs": [
    {
     "data": {
      "text/html": [
       "<style type=\"text/css\">\n",
       "#T_dc9eb_row0_col0, #T_dc9eb_row1_col1, #T_dc9eb_row1_col2, #T_dc9eb_row2_col2, #T_dc9eb_row3_col0, #T_dc9eb_row3_col1 {\n",
       "  font-weight: bold;\n",
       "}\n",
       "#T_dc9eb_row0_col1, #T_dc9eb_row0_col2, #T_dc9eb_row2_col0 {\n",
       "  font-weight: bold;\n",
       "  background-color: lightgreen;\n",
       "}\n",
       "#T_dc9eb_row1_col0, #T_dc9eb_row2_col1, #T_dc9eb_row3_col2 {\n",
       "  font-weight: bold;\n",
       "  background-color: lightcoral;\n",
       "}\n",
       "</style>\n",
       "<table id=\"T_dc9eb\">\n",
       "  <thead>\n",
       "    <tr>\n",
       "      <th class=\"blank level0\" >&nbsp;</th>\n",
       "      <th id=\"T_dc9eb_level0_col0\" class=\"col_heading level0 col0\" >A</th>\n",
       "      <th id=\"T_dc9eb_level0_col1\" class=\"col_heading level0 col1\" >B</th>\n",
       "      <th id=\"T_dc9eb_level0_col2\" class=\"col_heading level0 col2\" >C</th>\n",
       "    </tr>\n",
       "  </thead>\n",
       "  <tbody>\n",
       "    <tr>\n",
       "      <th id=\"T_dc9eb_level0_row0\" class=\"row_heading level0 row0\" >0</th>\n",
       "      <td id=\"T_dc9eb_row0_col0\" class=\"data row0 col0\" >-1.000000</td>\n",
       "      <td id=\"T_dc9eb_row0_col1\" class=\"data row0 col1\" >2.300000</td>\n",
       "      <td id=\"T_dc9eb_row0_col2\" class=\"data row0 col2\" >2.000000</td>\n",
       "    </tr>\n",
       "    <tr>\n",
       "      <th id=\"T_dc9eb_level0_row1\" class=\"row_heading level0 row1\" >1</th>\n",
       "      <td id=\"T_dc9eb_row1_col0\" class=\"data row1 col0\" >-1.250000</td>\n",
       "      <td id=\"T_dc9eb_row1_col1\" class=\"data row1 col1\" >0.000000</td>\n",
       "      <td id=\"T_dc9eb_row1_col2\" class=\"data row1 col2\" >-1.500000</td>\n",
       "    </tr>\n",
       "    <tr>\n",
       "      <th id=\"T_dc9eb_level0_row2\" class=\"row_heading level0 row2\" >2</th>\n",
       "      <td id=\"T_dc9eb_row2_col0\" class=\"data row2 col0\" >1.800000</td>\n",
       "      <td id=\"T_dc9eb_row2_col1\" class=\"data row2 col1\" >-2.600000</td>\n",
       "      <td id=\"T_dc9eb_row2_col2\" class=\"data row2 col2\" >1.300000</td>\n",
       "    </tr>\n",
       "    <tr>\n",
       "      <th id=\"T_dc9eb_level0_row3\" class=\"row_heading level0 row3\" >3</th>\n",
       "      <td id=\"T_dc9eb_row3_col0\" class=\"data row3 col0\" >0.500000</td>\n",
       "      <td id=\"T_dc9eb_row3_col1\" class=\"data row3 col1\" >2.100000</td>\n",
       "      <td id=\"T_dc9eb_row3_col2\" class=\"data row3 col2\" >-7.000000</td>\n",
       "    </tr>\n",
       "  </tbody>\n",
       "</table>\n"
      ],
      "text/plain": [
       "<pandas.io.formats.style.Styler at 0x164d59d5a90>"
      ]
     },
     "execution_count": 6,
     "metadata": {},
     "output_type": "execute_result"
    },
    {
     "data": {
      "text/html": [
       "<style type=\"text/css\">\n",
       "#T_b6c75_row0_col0, #T_b6c75_row1_col2, #T_b6c75_row2_col1, #T_b6c75_row3_col2 {\n",
       "  font-weight: bold;\n",
       "  background-color: lightcoral;\n",
       "}\n",
       "#T_b6c75_row0_col1, #T_b6c75_row1_col1, #T_b6c75_row2_col0, #T_b6c75_row3_col1 {\n",
       "  font-weight: bold;\n",
       "  background-color: lightgreen;\n",
       "}\n",
       "#T_b6c75_row0_col2, #T_b6c75_row1_col0, #T_b6c75_row2_col2, #T_b6c75_row3_col0 {\n",
       "  font-weight: bold;\n",
       "}\n",
       "</style>\n",
       "<table id=\"T_b6c75\">\n",
       "  <thead>\n",
       "    <tr>\n",
       "      <th class=\"blank level0\" >&nbsp;</th>\n",
       "      <th id=\"T_b6c75_level0_col0\" class=\"col_heading level0 col0\" >A</th>\n",
       "      <th id=\"T_b6c75_level0_col1\" class=\"col_heading level0 col1\" >B</th>\n",
       "      <th id=\"T_b6c75_level0_col2\" class=\"col_heading level0 col2\" >C</th>\n",
       "    </tr>\n",
       "  </thead>\n",
       "  <tbody>\n",
       "    <tr>\n",
       "      <th id=\"T_b6c75_level0_row0\" class=\"row_heading level0 row0\" >0</th>\n",
       "      <td id=\"T_b6c75_row0_col0\" class=\"data row0 col0\" >-1.000000</td>\n",
       "      <td id=\"T_b6c75_row0_col1\" class=\"data row0 col1\" >2.300000</td>\n",
       "      <td id=\"T_b6c75_row0_col2\" class=\"data row0 col2\" >2.000000</td>\n",
       "    </tr>\n",
       "    <tr>\n",
       "      <th id=\"T_b6c75_level0_row1\" class=\"row_heading level0 row1\" >1</th>\n",
       "      <td id=\"T_b6c75_row1_col0\" class=\"data row1 col0\" >-1.250000</td>\n",
       "      <td id=\"T_b6c75_row1_col1\" class=\"data row1 col1\" >0.000000</td>\n",
       "      <td id=\"T_b6c75_row1_col2\" class=\"data row1 col2\" >-1.500000</td>\n",
       "    </tr>\n",
       "    <tr>\n",
       "      <th id=\"T_b6c75_level0_row2\" class=\"row_heading level0 row2\" >2</th>\n",
       "      <td id=\"T_b6c75_row2_col0\" class=\"data row2 col0\" >1.800000</td>\n",
       "      <td id=\"T_b6c75_row2_col1\" class=\"data row2 col1\" >-2.600000</td>\n",
       "      <td id=\"T_b6c75_row2_col2\" class=\"data row2 col2\" >1.300000</td>\n",
       "    </tr>\n",
       "    <tr>\n",
       "      <th id=\"T_b6c75_level0_row3\" class=\"row_heading level0 row3\" >3</th>\n",
       "      <td id=\"T_b6c75_row3_col0\" class=\"data row3 col0\" >0.500000</td>\n",
       "      <td id=\"T_b6c75_row3_col1\" class=\"data row3 col1\" >2.100000</td>\n",
       "      <td id=\"T_b6c75_row3_col2\" class=\"data row3 col2\" >-7.000000</td>\n",
       "    </tr>\n",
       "  </tbody>\n",
       "</table>\n"
      ],
      "text/plain": [
       "<pandas.io.formats.style.Styler at 0x164d59d5310>"
      ]
     },
     "execution_count": 6,
     "metadata": {},
     "output_type": "execute_result"
    }
   ],
   "source": [
    "def min_max(col):\n",
    "    \n",
    "   \n",
    "    props = ['font-weight: bold;'] * len(col)\n",
    "    \n",
    "    for idx, value in enumerate(col):\n",
    "       \n",
    "        if value == max(col):\n",
    "            props[idx] += 'background-color: lightgreen;'\n",
    "        \n",
    "        if value == min(col):\n",
    "            props[idx] += 'background-color: lightcoral'\n",
    "        \n",
    "    return props\n",
    "\n",
    "df.style.apply(min_max, axis=0) # compare values row-wise (default)\n",
    "\n",
    "df.style.apply(min_max, axis=1) # compare values column-wise"
   ]
  },
  {
   "cell_type": "markdown",
   "id": "0038737d",
   "metadata": {},
   "source": [
    "**Altering Appearances Using .pipe()**"
   ]
  },
  {
   "cell_type": "code",
   "execution_count": 8,
   "id": "0bfb3cd3",
   "metadata": {},
   "outputs": [
    {
     "data": {
      "text/html": [
       "<style type=\"text/css\">\n",
       "#T_45f17_row0_col0 {\n",
       "  background-color: #cc2627;\n",
       "  color: #f1f1f1;\n",
       "}\n",
       "#T_45f17_row0_col1, #T_45f17_row0_col2, #T_45f17_row2_col0 {\n",
       "  background-color: #006837;\n",
       "  color: #f1f1f1;\n",
       "}\n",
       "#T_45f17_row1_col0, #T_45f17_row2_col1, #T_45f17_row3_col2 {\n",
       "  background-color: #a50026;\n",
       "  color: #f1f1f1;\n",
       "}\n",
       "#T_45f17_row1_col1 {\n",
       "  background-color: #f4fab0;\n",
       "  color: #000000;\n",
       "}\n",
       "#T_45f17_row1_col2 {\n",
       "  background-color: #d3ec87;\n",
       "  color: #000000;\n",
       "}\n",
       "#T_45f17_row2_col2 {\n",
       "  background-color: #138c4a;\n",
       "  color: #f1f1f1;\n",
       "}\n",
       "#T_45f17_row3_col0 {\n",
       "  background-color: #e3f399;\n",
       "  color: #000000;\n",
       "}\n",
       "#T_45f17_row3_col1 {\n",
       "  background-color: #0a7b41;\n",
       "  color: #f1f1f1;\n",
       "}\n",
       "</style>\n",
       "<table id=\"T_45f17\">\n",
       "  <caption>Table</caption>\n",
       "  <thead>\n",
       "    <tr>\n",
       "      <th class=\"blank level0\" >&nbsp;</th>\n",
       "      <th id=\"T_45f17_level0_col0\" class=\"col_heading level0 col0\" >A</th>\n",
       "      <th id=\"T_45f17_level0_col1\" class=\"col_heading level0 col1\" >B</th>\n",
       "      <th id=\"T_45f17_level0_col2\" class=\"col_heading level0 col2\" >C</th>\n",
       "    </tr>\n",
       "  </thead>\n",
       "  <tbody>\n",
       "    <tr>\n",
       "      <th id=\"T_45f17_level0_row0\" class=\"row_heading level0 row0\" >0</th>\n",
       "      <td id=\"T_45f17_row0_col0\" class=\"data row0 col0\" >-1.00</td>\n",
       "      <td id=\"T_45f17_row0_col1\" class=\"data row0 col1\" >2.30</td>\n",
       "      <td id=\"T_45f17_row0_col2\" class=\"data row0 col2\" >2.00</td>\n",
       "    </tr>\n",
       "    <tr>\n",
       "      <th id=\"T_45f17_level0_row1\" class=\"row_heading level0 row1\" >1</th>\n",
       "      <td id=\"T_45f17_row1_col0\" class=\"data row1 col0\" >-1.25</td>\n",
       "      <td id=\"T_45f17_row1_col1\" class=\"data row1 col1\" >0.00</td>\n",
       "      <td id=\"T_45f17_row1_col2\" class=\"data row1 col2\" >-1.50</td>\n",
       "    </tr>\n",
       "    <tr>\n",
       "      <th id=\"T_45f17_level0_row2\" class=\"row_heading level0 row2\" >2</th>\n",
       "      <td id=\"T_45f17_row2_col0\" class=\"data row2 col0\" >1.80</td>\n",
       "      <td id=\"T_45f17_row2_col1\" class=\"data row2 col1\" >-2.60</td>\n",
       "      <td id=\"T_45f17_row2_col2\" class=\"data row2 col2\" >1.30</td>\n",
       "    </tr>\n",
       "    <tr>\n",
       "      <th id=\"T_45f17_level0_row3\" class=\"row_heading level0 row3\" >3</th>\n",
       "      <td id=\"T_45f17_row3_col0\" class=\"data row3 col0\" >0.50</td>\n",
       "      <td id=\"T_45f17_row3_col1\" class=\"data row3 col1\" >2.10</td>\n",
       "      <td id=\"T_45f17_row3_col2\" class=\"data row3 col2\" >-7.00</td>\n",
       "    </tr>\n",
       "  </tbody>\n",
       "</table>\n"
      ],
      "text/plain": [
       "<pandas.io.formats.style.Styler at 0x164d7b20340>"
      ]
     },
     "execution_count": 8,
     "metadata": {},
     "output_type": "execute_result"
    }
   ],
   "source": [
    "def color_scales(styler):\n",
    "    \n",
    "    styler.set_caption(\"Table\")\n",
    "    styler.background_gradient(axis=0, cmap=\"RdYlGn\")\n",
    "    styler.format(precision=2)\n",
    "    \n",
    "    return styler\n",
    "\n",
    "df.style.pipe(color_scales)"
   ]
  },
  {
   "cell_type": "code",
   "execution_count": null,
   "id": "e3febed4",
   "metadata": {},
   "outputs": [],
   "source": []
  },
  {
   "cell_type": "code",
   "execution_count": null,
   "id": "faf99432",
   "metadata": {},
   "outputs": [],
   "source": []
  },
  {
   "cell_type": "code",
   "execution_count": null,
   "id": "f889e729",
   "metadata": {},
   "outputs": [],
   "source": []
  }
 ],
 "metadata": {
  "kernelspec": {
   "display_name": "Python 3",
   "language": "python",
   "name": "python3"
  },
  "language_info": {
   "codemirror_mode": {
    "name": "ipython",
    "version": 3
   },
   "file_extension": ".py",
   "mimetype": "text/x-python",
   "name": "python",
   "nbconvert_exporter": "python",
   "pygments_lexer": "ipython3",
   "version": "3.9.12"
  }
 },
 "nbformat": 4,
 "nbformat_minor": 5
}
